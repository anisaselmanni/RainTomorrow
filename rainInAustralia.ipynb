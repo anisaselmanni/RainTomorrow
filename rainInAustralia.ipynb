{
 "cells": [
  {
   "metadata": {},
   "cell_type": "markdown",
   "source": "# Weather in Albury, Australia",
   "id": "b482bf60d883c7d6"
  },
  {
   "metadata": {},
   "cell_type": "markdown",
   "source": " This dataset contains comprehensive weather observations collected in Albury, Australia, spanning a 10-year period from 2008 to 2017. It includes daily weather measurements that are valuable for climate analysis, weather prediction modeling, and data science projects related to environmental conditions.",
   "id": "10ace6e47345b4b6"
  },
  {
   "metadata": {},
   "cell_type": "markdown",
   "source": [
    "### Dataset Columns:\n",
    "Date: The observation date (format: dd/mm/yyyy).\n",
    "\n",
    "Location: The weather station location in Australia.\n",
    "\n",
    "MinTemp: Minimum temperature (°C) recorded that day.\n",
    "\n",
    "MaxTemp: Maximum temperature (°C) recorded that day.\n",
    "\n",
    "Rainfall: Amount of rainfall (mm) in the 24 hours to 9 a.m. the next day.\n",
    "\n",
    "Evaporation: The amount of water (mm) that evaporated (measured via pan evaporation) in the 24 hours to 9 a.m. (may contain missing values).\n",
    "\n",
    "Sunshine: Number of hours of bright sunshine during the day (may contain missing values).\n",
    "\n",
    "WindGustDir: Direction of the strongest wind gust during the day.\n",
    "\n",
    "WindGustSpeed: Speed (km/h) of the strongest wind gust during the day.\n",
    "\n",
    "WindDir9am: Wind direction at 9 a.m.\n",
    "\n",
    "WindDir3pm: Wind direction at 3 p.m.\n",
    "\n",
    "WindSpeed9am: Wind speed (km/h) at 9 a.m.\n",
    "\n",
    "WindSpeed3pm: Wind speed (km/h) at 3 p.m.\n",
    "\n",
    "Humidity9am: Relative humidity (%) at 9 a.m.\n",
    "\n",
    "Humidity3pm: Relative humidity (%) at 3 p.m.\n",
    "\n",
    "Pressure9am: Atmospheric pressure (hPa) at 9 a.m.\n",
    "\n",
    "Pressure3pm: Atmospheric pressure (hPa) at 3 p.m.\n",
    "\n",
    "Cloud9am: Cloud cover at 9 a.m. (scale: 0–8, where 8 means full cloud cover).\n",
    "\n",
    "Cloud3pm: Cloud cover at 3 p.m. (same scale as above).\n",
    "\n",
    "Temp9am: Temperature (°C) at 9 a.m.\n",
    "\n",
    "Temp3pm: Temperature (°C) at 3 p.m.\n",
    "\n",
    "RainToday: Whether it rained today (Yes/No — based on if Rainfall > 1 mm).\n",
    "\n",
    "RainTomorrow: The target variable — whether it will rain the next day (Yes/No)."
   ],
   "id": "13dc0aca5c755cd0"
  },
  {
   "metadata": {},
   "cell_type": "markdown",
   "source": "The **`RainTomorrow`** column is the target variable in this dataset. It indicates whether it will rain the next day — represented as **\"Yes\"** or **\"No\"**.",
   "id": "1683dbb27e368f65"
  },
  {
   "metadata": {},
   "cell_type": "markdown",
   "source": "## Imports",
   "id": "98652ee23ed190d8"
  },
  {
   "metadata": {
    "ExecuteTime": {
     "end_time": "2025-06-15T17:27:56.981685Z",
     "start_time": "2025-06-15T17:27:56.954970Z"
    }
   },
   "cell_type": "code",
   "source": [
    "import numpy as np\n",
    "import pandas as pd\n",
    "import matplotlib.pyplot as plt\n",
    "import seaborn as sns\n",
    "import plotly.express as px"
   ],
   "id": "3e04aeafeb35cbe3",
   "outputs": [],
   "execution_count": 78
  },
  {
   "metadata": {},
   "cell_type": "markdown",
   "source": "## Data Loading",
   "id": "1e28804d159e3b"
  },
  {
   "metadata": {
    "ExecuteTime": {
     "end_time": "2025-06-15T17:27:57.096795Z",
     "start_time": "2025-06-15T17:27:56.997233Z"
    }
   },
   "cell_type": "code",
   "source": "df = pd.read_csv('rainInAustralia.csv')",
   "id": "35e9c7e52cdfac6f",
   "outputs": [],
   "execution_count": 79
  },
  {
   "metadata": {
    "ExecuteTime": {
     "end_time": "2025-06-15T17:27:57.191782Z",
     "start_time": "2025-06-15T17:27:57.158591Z"
    }
   },
   "cell_type": "code",
   "source": "df.head()",
   "id": "22ce45181763ba8b",
   "outputs": [
    {
     "data": {
      "text/plain": [
       "         Date Location  MinTemp  MaxTemp  Rainfall  Evaporation  Sunshine  \\\n",
       "0  01/12/2008   Albury     13.4     22.9       0.6          NaN       NaN   \n",
       "1  02/12/2008   Albury      7.4     25.1       0.0          NaN       NaN   \n",
       "2  03/12/2008   Albury     12.9     25.7       0.0          NaN       NaN   \n",
       "3  04/12/2008   Albury      9.2     28.0       0.0          NaN       NaN   \n",
       "4  05/12/2008   Albury     17.5     32.3       1.0          NaN       NaN   \n",
       "\n",
       "  WindGustDir  WindGustSpeed WindDir9am  ... Humidity9am  Humidity3pm  \\\n",
       "0           W           44.0          W  ...        71.0         22.0   \n",
       "1         WNW           44.0        NNW  ...        44.0         25.0   \n",
       "2         WSW           46.0          W  ...        38.0         30.0   \n",
       "3          NE           24.0         SE  ...        45.0         16.0   \n",
       "4           W           41.0        ENE  ...        82.0         33.0   \n",
       "\n",
       "   Pressure9am  Pressure3pm  Cloud9am  Cloud3pm  Temp9am  Temp3pm  RainToday  \\\n",
       "0       1007.7       1007.1       8.0       NaN     16.9     21.8         No   \n",
       "1       1010.6       1007.8       NaN       NaN     17.2     24.3         No   \n",
       "2       1007.6       1008.7       NaN       2.0     21.0     23.2         No   \n",
       "3       1017.6       1012.8       NaN       NaN     18.1     26.5         No   \n",
       "4       1010.8       1006.0       7.0       8.0     17.8     29.7         No   \n",
       "\n",
       "   RainTomorrow  \n",
       "0            No  \n",
       "1            No  \n",
       "2            No  \n",
       "3            No  \n",
       "4            No  \n",
       "\n",
       "[5 rows x 23 columns]"
      ],
      "text/html": [
       "<div>\n",
       "<style scoped>\n",
       "    .dataframe tbody tr th:only-of-type {\n",
       "        vertical-align: middle;\n",
       "    }\n",
       "\n",
       "    .dataframe tbody tr th {\n",
       "        vertical-align: top;\n",
       "    }\n",
       "\n",
       "    .dataframe thead th {\n",
       "        text-align: right;\n",
       "    }\n",
       "</style>\n",
       "<table border=\"1\" class=\"dataframe\">\n",
       "  <thead>\n",
       "    <tr style=\"text-align: right;\">\n",
       "      <th></th>\n",
       "      <th>Date</th>\n",
       "      <th>Location</th>\n",
       "      <th>MinTemp</th>\n",
       "      <th>MaxTemp</th>\n",
       "      <th>Rainfall</th>\n",
       "      <th>Evaporation</th>\n",
       "      <th>Sunshine</th>\n",
       "      <th>WindGustDir</th>\n",
       "      <th>WindGustSpeed</th>\n",
       "      <th>WindDir9am</th>\n",
       "      <th>...</th>\n",
       "      <th>Humidity9am</th>\n",
       "      <th>Humidity3pm</th>\n",
       "      <th>Pressure9am</th>\n",
       "      <th>Pressure3pm</th>\n",
       "      <th>Cloud9am</th>\n",
       "      <th>Cloud3pm</th>\n",
       "      <th>Temp9am</th>\n",
       "      <th>Temp3pm</th>\n",
       "      <th>RainToday</th>\n",
       "      <th>RainTomorrow</th>\n",
       "    </tr>\n",
       "  </thead>\n",
       "  <tbody>\n",
       "    <tr>\n",
       "      <th>0</th>\n",
       "      <td>01/12/2008</td>\n",
       "      <td>Albury</td>\n",
       "      <td>13.4</td>\n",
       "      <td>22.9</td>\n",
       "      <td>0.6</td>\n",
       "      <td>NaN</td>\n",
       "      <td>NaN</td>\n",
       "      <td>W</td>\n",
       "      <td>44.0</td>\n",
       "      <td>W</td>\n",
       "      <td>...</td>\n",
       "      <td>71.0</td>\n",
       "      <td>22.0</td>\n",
       "      <td>1007.7</td>\n",
       "      <td>1007.1</td>\n",
       "      <td>8.0</td>\n",
       "      <td>NaN</td>\n",
       "      <td>16.9</td>\n",
       "      <td>21.8</td>\n",
       "      <td>No</td>\n",
       "      <td>No</td>\n",
       "    </tr>\n",
       "    <tr>\n",
       "      <th>1</th>\n",
       "      <td>02/12/2008</td>\n",
       "      <td>Albury</td>\n",
       "      <td>7.4</td>\n",
       "      <td>25.1</td>\n",
       "      <td>0.0</td>\n",
       "      <td>NaN</td>\n",
       "      <td>NaN</td>\n",
       "      <td>WNW</td>\n",
       "      <td>44.0</td>\n",
       "      <td>NNW</td>\n",
       "      <td>...</td>\n",
       "      <td>44.0</td>\n",
       "      <td>25.0</td>\n",
       "      <td>1010.6</td>\n",
       "      <td>1007.8</td>\n",
       "      <td>NaN</td>\n",
       "      <td>NaN</td>\n",
       "      <td>17.2</td>\n",
       "      <td>24.3</td>\n",
       "      <td>No</td>\n",
       "      <td>No</td>\n",
       "    </tr>\n",
       "    <tr>\n",
       "      <th>2</th>\n",
       "      <td>03/12/2008</td>\n",
       "      <td>Albury</td>\n",
       "      <td>12.9</td>\n",
       "      <td>25.7</td>\n",
       "      <td>0.0</td>\n",
       "      <td>NaN</td>\n",
       "      <td>NaN</td>\n",
       "      <td>WSW</td>\n",
       "      <td>46.0</td>\n",
       "      <td>W</td>\n",
       "      <td>...</td>\n",
       "      <td>38.0</td>\n",
       "      <td>30.0</td>\n",
       "      <td>1007.6</td>\n",
       "      <td>1008.7</td>\n",
       "      <td>NaN</td>\n",
       "      <td>2.0</td>\n",
       "      <td>21.0</td>\n",
       "      <td>23.2</td>\n",
       "      <td>No</td>\n",
       "      <td>No</td>\n",
       "    </tr>\n",
       "    <tr>\n",
       "      <th>3</th>\n",
       "      <td>04/12/2008</td>\n",
       "      <td>Albury</td>\n",
       "      <td>9.2</td>\n",
       "      <td>28.0</td>\n",
       "      <td>0.0</td>\n",
       "      <td>NaN</td>\n",
       "      <td>NaN</td>\n",
       "      <td>NE</td>\n",
       "      <td>24.0</td>\n",
       "      <td>SE</td>\n",
       "      <td>...</td>\n",
       "      <td>45.0</td>\n",
       "      <td>16.0</td>\n",
       "      <td>1017.6</td>\n",
       "      <td>1012.8</td>\n",
       "      <td>NaN</td>\n",
       "      <td>NaN</td>\n",
       "      <td>18.1</td>\n",
       "      <td>26.5</td>\n",
       "      <td>No</td>\n",
       "      <td>No</td>\n",
       "    </tr>\n",
       "    <tr>\n",
       "      <th>4</th>\n",
       "      <td>05/12/2008</td>\n",
       "      <td>Albury</td>\n",
       "      <td>17.5</td>\n",
       "      <td>32.3</td>\n",
       "      <td>1.0</td>\n",
       "      <td>NaN</td>\n",
       "      <td>NaN</td>\n",
       "      <td>W</td>\n",
       "      <td>41.0</td>\n",
       "      <td>ENE</td>\n",
       "      <td>...</td>\n",
       "      <td>82.0</td>\n",
       "      <td>33.0</td>\n",
       "      <td>1010.8</td>\n",
       "      <td>1006.0</td>\n",
       "      <td>7.0</td>\n",
       "      <td>8.0</td>\n",
       "      <td>17.8</td>\n",
       "      <td>29.7</td>\n",
       "      <td>No</td>\n",
       "      <td>No</td>\n",
       "    </tr>\n",
       "  </tbody>\n",
       "</table>\n",
       "<p>5 rows × 23 columns</p>\n",
       "</div>"
      ]
     },
     "execution_count": 80,
     "metadata": {},
     "output_type": "execute_result"
    }
   ],
   "execution_count": 80
  },
  {
   "metadata": {},
   "cell_type": "markdown",
   "source": "## Exploratory Data Analysis (EDA)",
   "id": "c4a6fe63ca2296c9"
  },
  {
   "metadata": {},
   "cell_type": "markdown",
   "source": "### *Data Cleaning*\n",
   "id": "ebae95312a3c8026"
  },
  {
   "metadata": {
    "ExecuteTime": {
     "end_time": "2025-06-15T17:27:57.358441Z",
     "start_time": "2025-06-15T17:27:57.331414Z"
    }
   },
   "cell_type": "code",
   "source": "df.isnull().sum()",
   "id": "e8aeb4796b2de354",
   "outputs": [
    {
     "data": {
      "text/plain": [
       "Date                0\n",
       "Location            0\n",
       "MinTemp            11\n",
       "MaxTemp            11\n",
       "Rainfall           29\n",
       "Evaporation      3040\n",
       "Sunshine         3040\n",
       "WindGustDir        32\n",
       "WindGustSpeed      32\n",
       "WindDir9am        525\n",
       "WindDir3pm         46\n",
       "WindSpeed9am        9\n",
       "WindSpeed3pm       11\n",
       "Humidity9am         9\n",
       "Humidity3pm         8\n",
       "Pressure9am         5\n",
       "Pressure3pm         8\n",
       "Cloud9am         1751\n",
       "Cloud3pm         1613\n",
       "Temp9am             9\n",
       "Temp3pm             8\n",
       "RainToday          29\n",
       "RainTomorrow       29\n",
       "dtype: int64"
      ]
     },
     "execution_count": 81,
     "metadata": {},
     "output_type": "execute_result"
    }
   ],
   "execution_count": 81
  },
  {
   "metadata": {
    "ExecuteTime": {
     "end_time": "2025-06-15T17:27:57.854625Z",
     "start_time": "2025-06-15T17:27:57.823294Z"
    }
   },
   "cell_type": "code",
   "source": "df.dropna(axis=1,thresh = np.floor(len(df.columns)*0.5),inplace=True)",
   "id": "8d5ceabc14df2f89",
   "outputs": [],
   "execution_count": 82
  },
  {
   "metadata": {
    "ExecuteTime": {
     "end_time": "2025-06-15T17:27:58.626671Z",
     "start_time": "2025-06-15T17:27:58.488736Z"
    }
   },
   "cell_type": "code",
   "source": "df.isnull().sum()",
   "id": "a5ad1fc2f8b1d9e",
   "outputs": [
    {
     "data": {
      "text/plain": [
       "Date                0\n",
       "Location            0\n",
       "MinTemp            11\n",
       "MaxTemp            11\n",
       "Rainfall           29\n",
       "WindGustDir        32\n",
       "WindGustSpeed      32\n",
       "WindDir9am        525\n",
       "WindDir3pm         46\n",
       "WindSpeed9am        9\n",
       "WindSpeed3pm       11\n",
       "Humidity9am         9\n",
       "Humidity3pm         8\n",
       "Pressure9am         5\n",
       "Pressure3pm         8\n",
       "Cloud9am         1751\n",
       "Cloud3pm         1613\n",
       "Temp9am             9\n",
       "Temp3pm             8\n",
       "RainToday          29\n",
       "RainTomorrow       29\n",
       "dtype: int64"
      ]
     },
     "execution_count": 83,
     "metadata": {},
     "output_type": "execute_result"
    }
   ],
   "execution_count": 83
  },
  {
   "metadata": {
    "ExecuteTime": {
     "end_time": "2025-06-15T17:27:58.887474Z",
     "start_time": "2025-06-15T17:27:58.822841Z"
    }
   },
   "cell_type": "code",
   "source": "df.fillna(df.mean(numeric_only=True),inplace=True)",
   "id": "60516e52dd4c4d91",
   "outputs": [],
   "execution_count": 84
  },
  {
   "metadata": {
    "ExecuteTime": {
     "end_time": "2025-06-15T17:27:59.051763Z",
     "start_time": "2025-06-15T17:27:59.033221Z"
    }
   },
   "cell_type": "code",
   "source": "df.isnull().sum()",
   "id": "523707e2d4d7769e",
   "outputs": [
    {
     "data": {
      "text/plain": [
       "Date               0\n",
       "Location           0\n",
       "MinTemp            0\n",
       "MaxTemp            0\n",
       "Rainfall           0\n",
       "WindGustDir       32\n",
       "WindGustSpeed      0\n",
       "WindDir9am       525\n",
       "WindDir3pm        46\n",
       "WindSpeed9am       0\n",
       "WindSpeed3pm       0\n",
       "Humidity9am        0\n",
       "Humidity3pm        0\n",
       "Pressure9am        0\n",
       "Pressure3pm        0\n",
       "Cloud9am           0\n",
       "Cloud3pm           0\n",
       "Temp9am            0\n",
       "Temp3pm            0\n",
       "RainToday         29\n",
       "RainTomorrow      29\n",
       "dtype: int64"
      ]
     },
     "execution_count": 85,
     "metadata": {},
     "output_type": "execute_result"
    }
   ],
   "execution_count": 85
  },
  {
   "metadata": {
    "ExecuteTime": {
     "end_time": "2025-06-15T17:27:59.305616Z",
     "start_time": "2025-06-15T17:27:59.239503Z"
    }
   },
   "cell_type": "code",
   "source": "df['Date'] = pd.to_datetime(df['Date'], format=\"%d/%m/%Y\")",
   "id": "9ffb1c27b4d468db",
   "outputs": [],
   "execution_count": 86
  },
  {
   "metadata": {
    "ExecuteTime": {
     "end_time": "2025-06-15T17:27:59.483464Z",
     "start_time": "2025-06-15T17:27:59.443118Z"
    }
   },
   "cell_type": "code",
   "source": "df['Month'] = df['Date'].dt.month",
   "id": "27114388063adb8",
   "outputs": [],
   "execution_count": 87
  },
  {
   "metadata": {
    "ExecuteTime": {
     "end_time": "2025-06-15T17:27:59.558544Z",
     "start_time": "2025-06-15T17:27:59.540586Z"
    }
   },
   "cell_type": "code",
   "source": "df.drop(['Location'],inplace=True,axis=1)",
   "id": "e8c6d693db04f4c0",
   "outputs": [],
   "execution_count": 88
  },
  {
   "metadata": {
    "ExecuteTime": {
     "end_time": "2025-06-15T17:27:59.717903Z",
     "start_time": "2025-06-15T17:27:59.697024Z"
    }
   },
   "cell_type": "code",
   "source": "df['WindGustDir'] = df['WindGustDir'].fillna(df['WindGustDir'].mode()[0])",
   "id": "52af89de4f566912",
   "outputs": [],
   "execution_count": 89
  },
  {
   "metadata": {
    "ExecuteTime": {
     "end_time": "2025-06-15T17:27:59.818840Z",
     "start_time": "2025-06-15T17:27:59.806826Z"
    }
   },
   "cell_type": "code",
   "source": "df['WindDir9am'] = df['WindDir9am'].fillna(df['WindDir9am'].mode()[0])",
   "id": "bdc34d6ade751ed5",
   "outputs": [],
   "execution_count": 90
  },
  {
   "metadata": {
    "ExecuteTime": {
     "end_time": "2025-06-15T17:27:59.843531Z",
     "start_time": "2025-06-15T17:27:59.832408Z"
    }
   },
   "cell_type": "code",
   "source": "df['WindDir3pm'] = df['WindDir3pm'].fillna(df['WindDir3pm'].mode()[0])",
   "id": "708eb49dfae2b664",
   "outputs": [],
   "execution_count": 91
  },
  {
   "metadata": {
    "ExecuteTime": {
     "end_time": "2025-06-15T17:27:59.890702Z",
     "start_time": "2025-06-15T17:27:59.880868Z"
    }
   },
   "cell_type": "code",
   "source": "df['RainToday'] = df['RainToday'].fillna(df['RainToday'].mode()[0])",
   "id": "a0414274d5ac4513",
   "outputs": [],
   "execution_count": 92
  },
  {
   "metadata": {
    "ExecuteTime": {
     "end_time": "2025-06-15T17:27:59.938417Z",
     "start_time": "2025-06-15T17:27:59.930160Z"
    }
   },
   "cell_type": "code",
   "source": "df['RainTomorrow'] = df['RainTomorrow'].fillna(df['RainTomorrow'].mode()[0])",
   "id": "4ad57ccbbe3c798",
   "outputs": [],
   "execution_count": 93
  },
  {
   "metadata": {
    "ExecuteTime": {
     "end_time": "2025-06-15T17:27:59.989615Z",
     "start_time": "2025-06-15T17:27:59.975882Z"
    }
   },
   "cell_type": "code",
   "source": "df.isnull().sum()",
   "id": "c1385bf9a8bec062",
   "outputs": [
    {
     "data": {
      "text/plain": [
       "Date             0\n",
       "MinTemp          0\n",
       "MaxTemp          0\n",
       "Rainfall         0\n",
       "WindGustDir      0\n",
       "WindGustSpeed    0\n",
       "WindDir9am       0\n",
       "WindDir3pm       0\n",
       "WindSpeed9am     0\n",
       "WindSpeed3pm     0\n",
       "Humidity9am      0\n",
       "Humidity3pm      0\n",
       "Pressure9am      0\n",
       "Pressure3pm      0\n",
       "Cloud9am         0\n",
       "Cloud3pm         0\n",
       "Temp9am          0\n",
       "Temp3pm          0\n",
       "RainToday        0\n",
       "RainTomorrow     0\n",
       "Month            0\n",
       "dtype: int64"
      ]
     },
     "execution_count": 94,
     "metadata": {},
     "output_type": "execute_result"
    }
   ],
   "execution_count": 94
  },
  {
   "metadata": {},
   "cell_type": "markdown",
   "source": "### *Descriptive Statistics*",
   "id": "5ad4a443db52ebdc"
  },
  {
   "metadata": {
    "ExecuteTime": {
     "end_time": "2025-06-15T17:28:00.166658Z",
     "start_time": "2025-06-15T17:28:00.148760Z"
    }
   },
   "cell_type": "code",
   "source": [
    "# mean of each column\n",
    "df.mean(numeric_only=True)"
   ],
   "id": "b5f0855524b1e256",
   "outputs": [
    {
     "data": {
      "text/plain": [
       "MinTemp             9.530604\n",
       "MaxTemp            22.640872\n",
       "Rainfall            1.914115\n",
       "WindGustSpeed      32.977394\n",
       "WindSpeed9am        8.211151\n",
       "WindSpeed3pm       14.382965\n",
       "Humidity9am        74.070604\n",
       "Humidity3pm        47.869393\n",
       "Pressure9am      1018.369621\n",
       "Pressure3pm      1015.760752\n",
       "Cloud9am            6.391001\n",
       "Cloud3pm            5.406447\n",
       "Temp9am            14.361135\n",
       "Temp3pm            21.373780\n",
       "Month               6.410855\n",
       "dtype: float64"
      ]
     },
     "execution_count": 95,
     "metadata": {},
     "output_type": "execute_result"
    }
   ],
   "execution_count": 95
  },
  {
   "metadata": {
    "ExecuteTime": {
     "end_time": "2025-06-15T17:28:00.403730Z",
     "start_time": "2025-06-15T17:28:00.359911Z"
    }
   },
   "cell_type": "code",
   "source": [
    "# median of each column\n",
    "df.median(numeric_only=True)"
   ],
   "id": "f8fd4d03cb562c16",
   "outputs": [
    {
     "data": {
      "text/plain": [
       "MinTemp             9.100000\n",
       "MaxTemp            22.000000\n",
       "Rainfall            0.000000\n",
       "WindGustSpeed      31.000000\n",
       "WindSpeed9am        7.000000\n",
       "WindSpeed3pm       13.000000\n",
       "Humidity9am        76.000000\n",
       "Humidity3pm        47.000000\n",
       "Pressure9am      1018.400000\n",
       "Pressure3pm      1015.600000\n",
       "Cloud9am            6.391001\n",
       "Cloud3pm            5.406447\n",
       "Temp9am            14.100000\n",
       "Temp3pm            20.600000\n",
       "Month               6.000000\n",
       "dtype: float64"
      ]
     },
     "execution_count": 96,
     "metadata": {},
     "output_type": "execute_result"
    }
   ],
   "execution_count": 96
  },
  {
   "metadata": {
    "ExecuteTime": {
     "end_time": "2025-06-15T17:28:00.799158Z",
     "start_time": "2025-06-15T17:28:00.665558Z"
    }
   },
   "cell_type": "code",
   "source": [
    "# mode of each column\n",
    "df.mode(numeric_only=True)"
   ],
   "id": "f1c1c414e85dc395",
   "outputs": [
    {
     "data": {
      "text/plain": [
       "   MinTemp  MaxTemp  Rainfall  WindGustSpeed  WindSpeed9am  WindSpeed3pm  \\\n",
       "0     10.0     14.9       0.0           28.0           0.0          11.0   \n",
       "1      NaN      NaN       NaN            NaN           NaN           NaN   \n",
       "2      NaN      NaN       NaN            NaN           NaN           NaN   \n",
       "\n",
       "   Humidity9am  Humidity3pm  Pressure9am  Pressure3pm  Cloud9am  Cloud3pm  \\\n",
       "0        100.0         47.0       1018.6       1015.6  6.391001  5.406447   \n",
       "1          NaN          NaN          NaN          NaN       NaN       NaN   \n",
       "2          NaN          NaN          NaN          NaN       NaN       NaN   \n",
       "\n",
       "   Temp9am  Temp3pm  Month  \n",
       "0      7.6     14.0      1  \n",
       "1      9.7      NaN      3  \n",
       "2     10.0      NaN      5  "
      ],
      "text/html": [
       "<div>\n",
       "<style scoped>\n",
       "    .dataframe tbody tr th:only-of-type {\n",
       "        vertical-align: middle;\n",
       "    }\n",
       "\n",
       "    .dataframe tbody tr th {\n",
       "        vertical-align: top;\n",
       "    }\n",
       "\n",
       "    .dataframe thead th {\n",
       "        text-align: right;\n",
       "    }\n",
       "</style>\n",
       "<table border=\"1\" class=\"dataframe\">\n",
       "  <thead>\n",
       "    <tr style=\"text-align: right;\">\n",
       "      <th></th>\n",
       "      <th>MinTemp</th>\n",
       "      <th>MaxTemp</th>\n",
       "      <th>Rainfall</th>\n",
       "      <th>WindGustSpeed</th>\n",
       "      <th>WindSpeed9am</th>\n",
       "      <th>WindSpeed3pm</th>\n",
       "      <th>Humidity9am</th>\n",
       "      <th>Humidity3pm</th>\n",
       "      <th>Pressure9am</th>\n",
       "      <th>Pressure3pm</th>\n",
       "      <th>Cloud9am</th>\n",
       "      <th>Cloud3pm</th>\n",
       "      <th>Temp9am</th>\n",
       "      <th>Temp3pm</th>\n",
       "      <th>Month</th>\n",
       "    </tr>\n",
       "  </thead>\n",
       "  <tbody>\n",
       "    <tr>\n",
       "      <th>0</th>\n",
       "      <td>10.0</td>\n",
       "      <td>14.9</td>\n",
       "      <td>0.0</td>\n",
       "      <td>28.0</td>\n",
       "      <td>0.0</td>\n",
       "      <td>11.0</td>\n",
       "      <td>100.0</td>\n",
       "      <td>47.0</td>\n",
       "      <td>1018.6</td>\n",
       "      <td>1015.6</td>\n",
       "      <td>6.391001</td>\n",
       "      <td>5.406447</td>\n",
       "      <td>7.6</td>\n",
       "      <td>14.0</td>\n",
       "      <td>1</td>\n",
       "    </tr>\n",
       "    <tr>\n",
       "      <th>1</th>\n",
       "      <td>NaN</td>\n",
       "      <td>NaN</td>\n",
       "      <td>NaN</td>\n",
       "      <td>NaN</td>\n",
       "      <td>NaN</td>\n",
       "      <td>NaN</td>\n",
       "      <td>NaN</td>\n",
       "      <td>NaN</td>\n",
       "      <td>NaN</td>\n",
       "      <td>NaN</td>\n",
       "      <td>NaN</td>\n",
       "      <td>NaN</td>\n",
       "      <td>9.7</td>\n",
       "      <td>NaN</td>\n",
       "      <td>3</td>\n",
       "    </tr>\n",
       "    <tr>\n",
       "      <th>2</th>\n",
       "      <td>NaN</td>\n",
       "      <td>NaN</td>\n",
       "      <td>NaN</td>\n",
       "      <td>NaN</td>\n",
       "      <td>NaN</td>\n",
       "      <td>NaN</td>\n",
       "      <td>NaN</td>\n",
       "      <td>NaN</td>\n",
       "      <td>NaN</td>\n",
       "      <td>NaN</td>\n",
       "      <td>NaN</td>\n",
       "      <td>NaN</td>\n",
       "      <td>10.0</td>\n",
       "      <td>NaN</td>\n",
       "      <td>5</td>\n",
       "    </tr>\n",
       "  </tbody>\n",
       "</table>\n",
       "</div>"
      ]
     },
     "execution_count": 97,
     "metadata": {},
     "output_type": "execute_result"
    }
   ],
   "execution_count": 97
  },
  {
   "metadata": {
    "ExecuteTime": {
     "end_time": "2025-06-15T17:28:01.018316Z",
     "start_time": "2025-06-15T17:28:00.984741Z"
    }
   },
   "cell_type": "code",
   "source": [
    "# standard deviation of each column\n",
    "df.std(numeric_only=True)"
   ],
   "id": "37ce61e34b8e0cb7",
   "outputs": [
    {
     "data": {
      "text/plain": [
       "MinTemp           6.058490\n",
       "MaxTemp           7.780804\n",
       "Rainfall          6.200217\n",
       "WindGustSpeed    13.307566\n",
       "WindSpeed9am      6.723341\n",
       "WindSpeed3pm      7.189481\n",
       "Humidity9am      17.409937\n",
       "Humidity3pm      19.791296\n",
       "Pressure9am       7.355815\n",
       "Pressure3pm       7.103994\n",
       "Cloud9am          1.554424\n",
       "Cloud3pm          1.940058\n",
       "Temp9am           6.360354\n",
       "Temp3pm           7.509495\n",
       "Month             3.447717\n",
       "dtype: float64"
      ]
     },
     "execution_count": 98,
     "metadata": {},
     "output_type": "execute_result"
    }
   ],
   "execution_count": 98
  },
  {
   "metadata": {
    "ExecuteTime": {
     "end_time": "2025-06-15T17:28:02.067086Z",
     "start_time": "2025-06-15T17:28:01.272904Z"
    }
   },
   "cell_type": "code",
   "source": [
    "# correlation heatmap\n",
    "sns.heatmap(df.corr(numeric_only=True),cmap='coolwarm')"
   ],
   "id": "1fe9a845bca5702d",
   "outputs": [
    {
     "data": {
      "text/plain": [
       "<Axes: >"
      ]
     },
     "execution_count": 99,
     "metadata": {},
     "output_type": "execute_result"
    },
    {
     "data": {
      "text/plain": [
       "<Figure size 1200x800 with 2 Axes>"
      ],
      "image/png": "[encoded data removed]"
     },
     "metadata": {},
     "output_type": "display_data"
    }
   ],
   "execution_count": 99
  },
  {
   "metadata": {},
   "cell_type": "markdown",
   "source": "### *Univariate and Bivariate Analysis*",
   "id": "356de1a96e8f04b5"
  },
  {
   "metadata": {},
   "cell_type": "markdown",
   "source": "Rainfall Distribution – Histogram showing how rainfall is spread out (mostly low, with some extreme days).",
   "id": "a79f72c9042c1b35"
  },
  {
   "metadata": {
    "ExecuteTime": {
     "end_time": "2025-06-15T17:28:02.451996Z",
     "start_time": "2025-06-15T17:28:02.131992Z"
    }
   },
   "cell_type": "code",
   "source": "px.histogram(df,x='Rainfall')",
   "id": "5da436930252be3a",
   "outputs": [
    {
     "data": {
      "application/vnd.plotly.v1+json": {
       "data": [
        {
         "bingroup": "x",
         "hovertemplate": "Rainfall=%{x}<br>count=%{y}<extra></extra>",
         "legendgroup": "",
         "marker": {
          "color": "#636efa",
          "pattern": {
           "shape": ""
          }
         },
         "name": "",
         "orientation": "v",
         "showlegend": false,
         "x": {
          "dtype": "f8",
          "bdata": "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"
         },
         "xaxis": "x",
         "yaxis": "y",
         "type": "histogram"
        }
       ],
       "layout": {
        "template": {
         "data": {
          "histogram2dcontour": [
           {
            "type": "histogram2dcontour",
            "colorbar": {
             "outlinewidth": 0,
             "ticks": ""
            },
            "colorscale": [
             [
              0.0,
              "#0d0887"
             ],
             [
              0.1111111111111111,
              "#46039f"
             ],
             [
              0.2222222222222222,
              "#7201a8"
             ],
             [
              0.3333333333333333,
              "#9c179e"
             ],
             [
              0.4444444444444444,
              "#bd3786"
             ],
             [
              0.5555555555555556,
              "#d8576b"
             ],
             [
              0.6666666666666666,
              "#ed7953"
             ],
             [
              0.7777777777777778,
              "#fb9f3a"
             ],
             [
              0.8888888888888888,
              "#fdca26"
             ],
             [
              1.0,
              "#f0f921"
             ]
            ]
           }
          ],
          "choropleth": [
           {
            "type": "choropleth",
            "colorbar": {
             "outlinewidth": 0,
             "ticks": ""
            }
           }
          ],
          "histogram2d": [
           {
            "type": "histogram2d",
            "colorbar": {
             "outlinewidth": 0,
             "ticks": ""
            },
            "colorscale": [
             [
              0.0,
              "#0d0887"
             ],
             [
              0.1111111111111111,
              "#46039f"
             ],
             [
              0.2222222222222222,
              "#7201a8"
             ],
             [
              0.3333333333333333,
              "#9c179e"
             ],
             [
              0.4444444444444444,
              "#bd3786"
             ],
             [
              0.5555555555555556,
              "#d8576b"
             ],
             [
              0.6666666666666666,
              "#ed7953"
             ],
             [
              0.7777777777777778,
              "#fb9f3a"
             ],
             [
              0.8888888888888888,
              "#fdca26"
             ],
             [
              1.0,
              "#f0f921"
             ]
            ]
           }
          ],
          "heatmap": [
           {
            "type": "heatmap",
            "colorbar": {
             "outlinewidth": 0,
             "ticks": ""
            },
            "colorscale": [
             [
              0.0,
              "#0d0887"
             ],
             [
              0.1111111111111111,
              "#46039f"
             ],
             [
              0.2222222222222222,
              "#7201a8"
             ],
             [
              0.3333333333333333,
              "#9c179e"
             ],
             [
              0.4444444444444444,
              "#bd3786"
             ],
             [
              0.5555555555555556,
              "#d8576b"
             ],
             [
              0.6666666666666666,
              "#ed7953"
             ],
             [
              0.7777777777777778,
              "#fb9f3a"
             ],
             [
              0.8888888888888888,
              "#fdca26"
             ],
             [
              1.0,
              "#f0f921"
             ]
            ]
           }
          ],
          "contourcarpet": [
           {
            "type": "contourcarpet",
            "colorbar": {
             "outlinewidth": 0,
             "ticks": ""
            }
           }
          ],
          "contour": [
           {
            "type": "contour",
            "colorbar": {
             "outlinewidth": 0,
             "ticks": ""
            },
            "colorscale": [
             [
              0.0,
              "#0d0887"
             ],
             [
              0.1111111111111111,
              "#46039f"
             ],
             [
              0.2222222222222222,
              "#7201a8"
             ],
             [
              0.3333333333333333,
              "#9c179e"
             ],
             [
              0.4444444444444444,
              "#bd3786"
             ],
             [
              0.5555555555555556,
              "#d8576b"
             ],
             [
              0.6666666666666666,
              "#ed7953"
             ],
             [
              0.7777777777777778,
              "#fb9f3a"
             ],
             [
              0.8888888888888888,
              "#fdca26"
             ],
             [
              1.0,
              "#f0f921"
             ]
            ]
           }
          ],
          "surface": [
           {
            "type": "surface",
            "colorbar": {
             "outlinewidth": 0,
             "ticks": ""
            },
            "colorscale": [
             [
              0.0,
              "#0d0887"
             ],
             [
              0.1111111111111111,
              "#46039f"
             ],
             [
              0.2222222222222222,
              "#7201a8"
             ],
             [
              0.3333333333333333,
              "#9c179e"
             ],
             [
              0.4444444444444444,
              "#bd3786"
             ],
             [
              0.5555555555555556,
              "#d8576b"
             ],
             [
              0.6666666666666666,
              "#ed7953"
             ],
             [
              0.7777777777777778,
              "#fb9f3a"
             ],
             [
              0.8888888888888888,
              "#fdca26"
             ],
             [
              1.0,
              "#f0f921"
             ]
            ]
           }
          ],
          "mesh3d": [
           {
            "type": "mesh3d",
            "colorbar": {
             "outlinewidth": 0,
             "ticks": ""
            }
           }
          ],
          "scatter": [
           {
            "fillpattern": {
             "fillmode": "overlay",
             "size": 10,
             "solidity": 0.2
            },
            "type": "scatter"
           }
          ],
          "parcoords": [
           {
            "type": "parcoords",
            "line": {
             "colorbar": {
              "outlinewidth": 0,
              "ticks": ""
             }
            }
           }
          ],
          "scatterpolargl": [
           {
            "type": "scatterpolargl",
            "marker": {
             "colorbar": {
              "outlinewidth": 0,
              "ticks": ""
             }
            }
           }
          ],
          "bar": [
           {
            "error_x": {
             "color": "#2a3f5f"
            },
            "error_y": {
             "color": "#2a3f5f"
            },
            "marker": {
             "line": {
              "color": "#E5ECF6",
              "width": 0.5
             },
             "pattern": {
              "fillmode": "overlay",
              "size": 10,
              "solidity": 0.2
             }
            },
            "type": "bar"
           }
          ],
          "scattergeo": [
           {
            "type": "scattergeo",
            "marker": {
             "colorbar": {
              "outlinewidth": 0,
              "ticks": ""
             }
            }
           }
          ],
          "scatterpolar": [
           {
            "type": "scatterpolar",
            "marker": {
             "colorbar": {
              "outlinewidth": 0,
              "ticks": ""
             }
            }
           }
          ],
          "histogram": [
           {
            "marker": {
             "pattern": {
              "fillmode": "overlay",
              "size": 10,
              "solidity": 0.2
             }
            },
            "type": "histogram"
           }
          ],
          "scattergl": [
           {
            "type": "scattergl",
            "marker": {
             "colorbar": {
              "outlinewidth": 0,
              "ticks": ""
             }
            }
           }
          ],
          "scatter3d": [
           {
            "type": "scatter3d",
            "line": {
             "colorbar": {
              "outlinewidth": 0,
              "ticks": ""
             }
            },
            "marker": {
             "colorbar": {
              "outlinewidth": 0,
              "ticks": ""
             }
            }
           }
          ],
          "scattermap": [
           {
            "type": "scattermap",
            "marker": {
             "colorbar": {
              "outlinewidth": 0,
              "ticks": ""
             }
            }
           }
          ],
          "scattermapbox": [
           {
            "type": "scattermapbox",
            "marker": {
             "colorbar": {
              "outlinewidth": 0,
              "ticks": ""
             }
            }
           }
          ],
          "scatterternary": [
           {
            "type": "scatterternary",
            "marker": {
             "colorbar": {
              "outlinewidth": 0,
              "ticks": ""
             }
            }
           }
          ],
          "scattercarpet": [
           {
            "type": "scattercarpet",
            "marker": {
             "colorbar": {
              "outlinewidth": 0,
              "ticks": ""
             }
            }
           }
          ],
          "carpet": [
           {
            "aaxis": {
             "endlinecolor": "#2a3f5f",
             "gridcolor": "white",
             "linecolor": "white",
             "minorgridcolor": "white",
             "startlinecolor": "#2a3f5f"
            },
            "baxis": {
             "endlinecolor": "#2a3f5f",
             "gridcolor": "white",
             "linecolor": "white",
             "minorgridcolor": "white",
             "startlinecolor": "#2a3f5f"
            },
            "type": "carpet"
           }
          ],
          "table": [
           {
            "cells": {
             "fill": {
              "color": "#EBF0F8"
             },
             "line": {
              "color": "white"
             }
            },
            "header": {
             "fill": {
              "color": "#C8D4E3"
             },
             "line": {
              "color": "white"
             }
            },
            "type": "table"
           }
          ],
          "barpolar": [
           {
            "marker": {
             "line": {
              "color": "#E5ECF6",
              "width": 0.5
             },
             "pattern": {
              "fillmode": "overlay",
              "size": 10,
              "solidity": 0.2
             }
            },
            "type": "barpolar"
           }
          ],
          "pie": [
           {
            "automargin": true,
            "type": "pie"
           }
          ]
         },
         "layout": {
          "autotypenumbers": "strict",
          "colorway": [
           "#636efa",
           "#EF553B",
           "#00cc96",
           "#ab63fa",
           "#FFA15A",
           "#19d3f3",
           "#FF6692",
           "#B6E880",
           "#FF97FF",
           "#FECB52"
          ],
          "font": {
           "color": "#2a3f5f"
          },
          "hovermode": "closest",
          "hoverlabel": {
           "align": "left"
          },
          "paper_bgcolor": "white",
          "plot_bgcolor": "#E5ECF6",
          "polar": {
           "bgcolor": "#E5ECF6",
           "angularaxis": {
            "gridcolor": "white",
            "linecolor": "white",
            "ticks": ""
           },
           "radialaxis": {
            "gridcolor": "white",
            "linecolor": "white",
            "ticks": ""
           }
          },
          "ternary": {
           "bgcolor": "#E5ECF6",
           "aaxis": {
            "gridcolor": "white",
            "linecolor": "white",
            "ticks": ""
           },
           "baxis": {
            "gridcolor": "white",
            "linecolor": "white",
            "ticks": ""
           },
           "caxis": {
            "gridcolor": "white",
            "linecolor": "white",
            "ticks": ""
           }
          },
          "coloraxis": {
           "colorbar": {
            "outlinewidth": 0,
            "ticks": ""
           }
          },
          "colorscale": {
           "sequential": [
            [
             0.0,
             "#0d0887"
            ],
            [
             0.1111111111111111,
             "#46039f"
            ],
            [
             0.2222222222222222,
             "#7201a8"
            ],
            [
             0.3333333333333333,
             "#9c179e"
            ],
            [
             0.4444444444444444,
             "#bd3786"
            ],
            [
             0.5555555555555556,
             "#d8576b"
            ],
            [
             0.6666666666666666,
             "#ed7953"
            ],
            [
             0.7777777777777778,
             "#fb9f3a"
            ],
            [
             0.8888888888888888,
             "#fdca26"
            ],
            [
             1.0,
             "#f0f921"
            ]
           ],
           "sequentialminus": [
            [
             0.0,
             "#0d0887"
            ],
            [
             0.1111111111111111,
             "#46039f"
            ],
            [
             0.2222222222222222,
             "#7201a8"
            ],
            [
             0.3333333333333333,
             "#9c179e"
            ],
            [
             0.4444444444444444,
             "#bd3786"
            ],
            [
             0.5555555555555556,
             "#d8576b"
            ],
            [
             0.6666666666666666,
             "#ed7953"
            ],
            [
             0.7777777777777778,
             "#fb9f3a"
            ],
            [
             0.8888888888888888,
             "#fdca26"
            ],
            [
             1.0,
             "#f0f921"
            ]
           ],
           "diverging": [
            [
             0,
             "#8e0152"
            ],
            [
             0.1,
             "#c51b7d"
            ],
            [
             0.2,
             "#de77ae"
            ],
            [
             0.3,
             "#f1b6da"
            ],
            [
             0.4,
             "#fde0ef"
            ],
            [
             0.5,
             "#f7f7f7"
            ],
            [
             0.6,
             "#e6f5d0"
            ],
            [
             0.7,
             "#b8e186"
            ],
            [
             0.8,
             "#7fbc41"
            ],
            [
             0.9,
             "#4d9221"
            ],
            [
             1,
             "#276419"
            ]
           ]
          },
          "xaxis": {
           "gridcolor": "white",
           "linecolor": "white",
           "ticks": "",
           "title": {
            "standoff": 15
           },
           "zerolinecolor": "white",
           "automargin": true,
           "zerolinewidth": 2
          },
          "yaxis": {
           "gridcolor": "white",
           "linecolor": "white",
           "ticks": "",
           "title": {
            "standoff": 15
           },
           "zerolinecolor": "white",
           "automargin": true,
           "zerolinewidth": 2
          },
          "scene": {
           "xaxis": {
            "backgroundcolor": "#E5ECF6",
            "gridcolor": "white",
            "linecolor": "white",
            "showbackground": true,
            "ticks": "",
            "zerolinecolor": "white",
            "gridwidth": 2
           },
           "yaxis": {
            "backgroundcolor": "#E5ECF6",
            "gridcolor": "white",
            "linecolor": "white",
            "showbackground": true,
            "ticks": "",
            "zerolinecolor": "white",
            "gridwidth": 2
           },
           "zaxis": {
            "backgroundcolor": "#E5ECF6",
            "gridcolor": "white",
            "linecolor": "white",
            "showbackground": true,
            "ticks": "",
            "zerolinecolor": "white",
            "gridwidth": 2
           }
          },
          "shapedefaults": {
           "line": {
            "color": "#2a3f5f"
           }
          },
          "annotationdefaults": {
           "arrowcolor": "#2a3f5f",
           "arrowhead": 0,
           "arrowwidth": 1
          },
          "geo": {
           "bgcolor": "white",
           "landcolor": "#E5ECF6",
           "subunitcolor": "white",
           "showland": true,
           "showlakes": true,
           "lakecolor": "white"
          },
          "title": {
           "x": 0.05
          },
          "mapbox": {
           "style": "light"
          }
         }
        },
        "xaxis": {
         "anchor": "y",
         "domain": [
          0.0,
          1.0
         ],
         "title": {
          "text": "Rainfall"
         }
        },
        "yaxis": {
         "anchor": "x",
         "domain": [
          0.0,
          1.0
         ],
         "title": {
          "text": "count"
         }
        },
        "legend": {
         "tracegroupgap": 0
        },
        "margin": {
         "t": 60
        },
        "barmode": "relative"
       },
       "config": {
        "plotlyServerURL": "https://plot.ly"
       }
      }
     },
     "metadata": {},
     "output_type": "display_data"
    }
   ],
   "execution_count": 100
  },
  {
   "metadata": {},
   "cell_type": "markdown",
   "source": "Monthly Rainfall Trends – Boxplot showing seasonal rainfall patterns across months.",
   "id": "52efa03de09cfa86"
  },
  {
   "metadata": {
    "ExecuteTime": {
     "end_time": "2025-06-15T17:28:02.919265Z",
     "start_time": "2025-06-15T17:28:02.581984Z"
    }
   },
   "cell_type": "code",
   "source": "px.box(df,x='Month',y='Rainfall')",
   "id": "2d3eff889f83c41f",
   "outputs": [
    {
     "data": {
      "application/vnd.plotly.v1+json": {
       "data": [
        {
         "alignmentgroup": "True",
         "hovertemplate": "Month=%{x}<br>Rainfall=%{y}<extra></extra>",
         "legendgroup": "",
         "marker": {
          "color": "#636efa"
         },
         "name": "",
         "notched": false,
         "offsetgroup": "",
         "orientation": "v",
         "showlegend": false,
         "x": {
          "dtype": "i4",
          "bdata": "DAAAAAwAAAAMAAAADAAAAAwAAAAMAAAADAAAAAwAAAAMAAAADAAAAAwAAAAMAAAADAAAAAwAAAAMAAAADAAAAAwAAAAMAAAADAAAAAwAAAAMAAAADAAAAAwAAAAMAAAADAAAAAwAAAAMAAAADAAAAAwAAAAMAAAADAAAAAEAAAABAAAAAQAAAAEAAAABAAAAAQAAAAEAAAABAAAAAQAAAAEAAAABAAAAAQAAAAEAAAABAAAAAQAAAAEAAAABAAAAAQAAAAEAAAABAAAAAQAAAAEAAAABAAAAAQAAAAEAAAABAAAAAQAAAAEAAAABAAAAAQAAAAEAAAACAAAAAgAAAAIAAAACAAAAAgAAAAIAAAACAAAAAgAAAAIAAAACAAAAAgAAAAIAAAACAAAAAgAAAAIAAAACAAAAAgAAAAIAAAACAAAAAgAAAAIAAAACAAAAAgAAAAIAAAACAAAAAgAAAAIAAAACAAAAAwAAAAMAAAADAAAAAwAAAAMAAAADAAAAAwAAAAMAAAADAAAAAwAAAAMAAAADAAAAAwAAAAMAAAADAAAAAwAAAAMAAAADAAAAAwAAAAMAAAADAAAAAwAAAAMAAAADAAAAAwAAAAMAAAADAAAAAwAAAAMAAAADAAAAAwAAAAQAAAAEAAAABAAAAAQAAAAEAAAABAAAAAQAAAAEAAAABAAAAAQAAAAEAAAABAAAAAQAAAAEAAAABAAAAAQAAAAEAAAABAAAAAQAAAAEAAAABAAAAAQAAAAEAAAABAAAAAQAAAAEAAAABAAAAAQAAAAEAAAABAAAAAUAAAAFAAAABQAAAAUAAAAFAAAABQAAAAUAAAAFAAAABQAAAAUAAAAFAAAABQAAAAUAAAAFAAAABQAAAAUAAAAFAAAABQAAAAUAAAAFAAAABQAAAAUAAAAFAAAABQAAAAUAAAAFAAAABQAAAAUAAAAFAAAABQAAAAUAAAAGAAAABgAAAAYAAAAGAAAABgAAAAYAAAAGAAAABgAAAAYAAAAGAAAABgAAAAYAAAAGAAAABgAAAAYAAAAGAAAABgAAAAYAAAAGAAAABgAAAAYAAAAGAAAABgAAAAYAAAAGAAAABgAAAAYAAAAGAAAABgAAAAYAAAAHAAAABwAAAAcAAAAHAAAABwAAAAcAAAAHAAAABwAAAAcAAAAHAAAABwAAAAcAAAAHAAAABwAAAAcAAAAHAAAABwAAAAcAAAAHAAAABwAAAAcAAAAHAAAABwAAAAcAAAAHAAAABwAAAAcAAAAHAAAABwAAAAcAAAAHAAAACAAAAAgAAAAIAAAACAAAAAgAAAAIAAAACAAAAAgAAAAIAAAACAAAAAgAAAAIAAAACAAAAAgAAAAIAAAACAAAAAgAAAAIAAAACAAAAAgAAAAIAAAACAAAAAgAAAAIAAAACAAAAAgAAAAIAAAACAAAAAgAAAAIAAAACAAAAAkAAAAJAAAACQAAAAkAAAAJAAAACQAAAAkAAAAJAAAACQAAAAkAAAAJAAAACQAAAAkAAAAJAAAACQAAAAkAAAAJAAAACQAAAAkAAAAJAAAACQAAAAkAAAAJAAAACQAAAAkAAAAJAAAACQAAAAkAAAAJAAAACQAAAAoAAAAKAAAACgAAAAoAAAAKAAAACgAAAAoAAAAKAAAACgAAAAoAAAAKAAAACgAAAAoAAAAKAAAACgAAAAoAAAAKAAAACgAAAAoAAAAKAAAACgAAAAoAAAAKAAAACgAAAAoAAAAKAAAACgAAAAoAAAAKAAAACgAAAAoAAAALAAAACwAAAAsAAAALAAAACwAAAAsAAAALAAAACwAAAAsAAAALAAAACwAAAAsAAAALAAAACwAAAAsAAAALAAAACwAAAAsAAAALAAAACwAAAAsAAAALAAAACwAAAAsAAAALAAAACwAAAAsAAAALAAAACwAAAAsAAAAMAAAADAAAAAwAAAAMAAAADAAAAAwAAAAMAAAADAAAAAwAAAAMAAAADAAAAAwAAAAMAAAADAAAAAwAAAAMAAAADAAAAAwAAAAMAAAADAAAAAwAAAAMAAAADAAAAAwAAAAMAAAADAAAAAwAAAAMAAAADAAAAAwAAAAMAAAAAQAAAAEAAAABAAAAAQAAAAEAAAABAAAAAQAAAAEAAAABAAAAAQAAAAEAAAABAAAAAQAAAAEAAAABAAAAAQAAAAEAAAABAAAAAQAAAAEAAAABAAAAAQAAAAEAAAABAAAAAQAAAAEAAAABAAAAAQAAAAEAAAABAAAAAQAAAAIAAAACAAAAAgAAAAIAAAACAAAAAgAAAAIAAAACAAAAAgAAAAIAAAACAAAAAgAAAAIAAAACAAAAAgAAAAIAAAACAAAAAgAAAAIAAAACAAAAAgAAAAIAAAACAAAAAgAAAAIAAAACAAAAAgAAAAIAAAADAAAAAwAAAAMAAAADAAAAAwAAAAMAAAADAAAAAwAAAAMAAAADAAAAAwAAAAMAAAADAAAAAwAAAAMAAAADAAAAAwAAAAMAAAADAAAAAwAAAAMAAAADAAAAAwAAAAMAAAADAAAAAwAAAAMAAAADAAAAAwAAAAMAAAADAAAABAAAAAQAAAAEAAAABAAAAAQAAAAEAAAABAAAAAQAAAAEAAAABAAAAAQAAAAEAAAABAAAAAQAAAAEAAAABAAAAAQAAAAEAAAABAAAAAQAAAAEAAAABAAAAAQAAAAEAAAABAAAAAQAAAAEAAAABAAAAAQAAAAEAAAABQAAAAUAAAAFAAAABQAAAAUAAAAFAAAABQAAAAUAAAAFAAAABQAAAAUAAAAFAAAABQAAAAUAAAAFAAAABQAAAAUAAAAFAAAABQAAAAUAAAAFAAAABQAAAAUAAAAFAAAABQAAAAUAAAAFAAAABQAAAAUAAAAFAAAABQAAAAYAAAAGAAAABgAAAAYAAAAGAAAABgAAAAYAAAAGAAAABgAAAAYAAAAGAAAABgAAAAYAAAAGAAAABgAAAAYAAAAGAAAABgAAAAYAAAAGAAAABgAAAAYAAAAGAAAABgAAAAYAAAAGAAAABgAAAAYAAAAGAAAABgAAAAcAAAAHAAAABwAAAAcAAAAHAAAABwAAAAcAAAAHAAAABwAAAAcAAAAHAAAABwAAAAcAAAAHAAAABwAAAAcAAAAHAAAABwAAAAcAAAAHAAAABwAAAAcAAAAHAAAABwAAAAcAAAAHAAAABwAAAAcAAAAHAAAABwAAAAcAAAAIAAAACAAAAAgAAAAIAAAACAAAAAgAAAAIAAAACAAAAAgAAAAIAAAACAAAAAgAAAAIAAAACAAAAAgAAAAIAAAACAAAAAgAAAAIAAAACAAAAAgAAAAIAAAACAAAAAgAAAAIAAAACAAAAAgAAAAIAAAACAAAAAgAAAAIAAAACQAAAAkAAAAJAAAACQAAAAkAAAAJAAAACQAAAAkAAAAJAAAACQAAAAkAAAAJAAAACQAAAAkAAAAJAAAACQAAAAkAAAAJAAAACQAAAAkAAAAJAAAACQAAAAkAAAAJAAAACQAAAAkAAAAJAAAACQAAAAkAAAAJAAAACgAAAAoAAAAKAAAACgAAAAoAAAAKAAAACgAAAAoAAAAKAAAACgAAAAoAAAAKAAAACgAAAAoAAAAKAAAACgAAAAoAAAAKAAAACgAAAAoAAAAKAAAACgAAAAoAAAAKAAAACgAAAAoAAAAKAAAACgAAAAoAAAAKAAAACgAAAAsAAAALAAAACwAAAAsAAAALAAAACwAAAAsAAAALAAAACwAAAAsAAAALAAAACwAAAAsAAAALAAAACwAAAAsAAAALAAAACwAAAAsAAAALAAAACwAAAAsAAAALAAAACwAAAAsAAAALAAAACwAAAAsAAAALAAAACwAAAAwAAAAMAAAADAAAAAwAAAAMAAAADAAAAAwAAAAMAAAADAAAAAwAAAAMAAAADAAAAAwAAAAMAAAADAAAAAwAAAAMAAAADAAAAAwAAAAMAAAADAAAAAwAAAAMAAAADAAAAAwAAAAMAAAADAAAAAwAAAAMAAAADAAAAAwAAAABAAAAAQAAAAEAAAABAAAAAQAAAAEAAAABAAAAAQAAAAEAAAABAAAAAQAAAAEAAAABAAAAAQAAAAEAAAABAAAAAQAAAAEAAAABAAAAAQAAAAEAAAABAAAAAQAAAAEAAAABAAAAAQAAAAEAAAABAAAAAQAAAAEAAAABAAAAAgAAAAIAAAACAAAAAgAAAAIAAAACAAAAAgAAAAIAAAACAAAAAgAAAAIAAAACAAAAAgAAAAIAAAACAAAAAgAAAAIAAAACAAAAAgAAAAIAAAACAAAAAgAAAAIAAAACAAAAAgAAAAIAAAACAAAAAgAAAAMAAAADAAAAAwAAAAMAAAADAAAAAwAAAAMAAAADAAAAAwAAAAMAAAADAAAAAwAAAAMAAAADAAAAAwAAAAMAAAADAAAAAwAAAAMAAAADAAAAAwAAAAMAAAADAAAAAwAAAAMAAAADAAAAAwAAAAMAAAADAAAAAwAAAAMAAAAFAAAABQAAAAUAAAAFAAAABQAAAAUAAAAFAAAABQAAAAUAAAAFAAAABQAAAAUAAAAFAAAABQAAAAUAAAAFAAAABQAAAAUAAAAFAAAABQAAAAUAAAAFAAAABQAAAAUAAAAFAAAABQAAAAUAAAAFAAAABQAAAAUAAAAFAAAABgAAAAYAAAAGAAAABgAAAAYAAAAGAAAABgAAAAYAAAAGAAAABgAAAAYAAAAGAAAABgAAAAYAAAAGAAAABgAAAAYAAAAGAAAABgAAAAYAAAAGAAAABgAAAAYAAAAGAAAABgAAAAYAAAAGAAAABgAAAAYAAAAGAAAABwAAAAcAAAAHAAAABwAAAAcAAAAHAAAABwAAAAcAAAAHAAAABwAAAAcAAAAHAAAABwAAAAcAAAAHAAAABwAAAAcAAAAHAAAABwAAAAcAAAAHAAAABwAAAAcAAAAHAAAABwAAAAcAAAAHAAAABwAAAAcAAAAHAAAABwAAAAgAAAAIAAAACAAAAAgAAAAIAAAACAAAAAgAAAAIAAAACAAAAAgAAAAIAAAACAAAAAgAAAAIAAAACAAAAAgAAAAIAAAACAAAAAgAAAAIAAAACAAAAAgAAAAIAAAACAAAAAgAAAAIAAAACAAAAAgAAAAIAAAACAAAAAgAAAAJAAAACQAAAAkAAAAJAAAACQAAAAkAAAAJAAAACQAAAAkAAAAJAAAACQAAAAkAAAAJAAAACQAAAAkAAAAJAAAACQAAAAkAAAAJAAAACQAAAAkAAAAJAAAACQAAAAkAAAAJAAAACQAAAAkAAAAJAAAACQAAAAkAAAAKAAAACgAAAAoAAAAKAAAACgAAAAoAAAAKAAAACgAAAAoAAAAKAAAACgAAAAoAAAAKAAAACgAAAAoAAAAKAAAACgAAAAoAAAAKAAAACgAAAAoAAAAKAAAACgAAAAoAAAAKAAAACgAAAAoAAAAKAAAACgAAAAoAAAAKAAAACwAAAAsAAAALAAAACwAAAAsAAAALAAAACwAAAAsAAAALAAAACwAAAAsAAAALAAAACwAAAAsAAAALAAAACwAAAAsAAAALAAAACwAAAAsAAAALAAAACwAAAAsAAAALAAAACwAAAAsAAAALAAAACwAAAAsAAAALAAAADAAAAAwAAAAMAAAADAAAAAwAAAAMAAAADAAAAAwAAAAMAAAADAAAAAwAAAAMAAAADAAAAAwAAAAMAAAADAAAAAwAAAAMAAAADAAAAAwAAAAMAAAADAAAAAwAAAAMAAAADAAAAAwAAAAMAAAADAAAAAwAAAAMAAAADAAAAAEAAAABAAAAAQAAAAEAAAABAAAAAQAAAAEAAAABAAAAAQAAAAEAAAABAAAAAQAAAAEAAAABAAAAAQAAAAEAAAABAAAAAQAAAAEAAAABAAAAAQAAAAEAAAABAAAAAQAAAAEAAAABAAAAAQAAAAEAAAABAAAAAQAAAAEAAAACAAAAAgAAAAIAAAACAAAAAgAAAAIAAAACAAAAAgAAAAIAAAACAAAAAgAAAAIAAAACAAAAAgAAAAIAAAACAAAAAgAAAAIAAAACAAAAAgAAAAIAAAACAAAAAgAAAAIAAAACAAAAAgAAAAIAAAACAAAAAgAAAAMAAAADAAAAAwAAAAMAAAADAAAAAwAAAAMAAAADAAAAAwAAAAMAAAADAAAAAwAAAAMAAAADAAAAAwAAAAMAAAADAAAAAwAAAAMAAAADAAAAAwAAAAMAAAADAAAAAwAAAAMAAAADAAAAAwAAAAMAAAADAAAAAwAAAAMAAAAEAAAABAAAAAQAAAAEAAAABAAAAAQAAAAEAAAABAAAAAQAAAAEAAAABAAAAAQAAAAEAAAABAAAAAQAAAAEAAAABAAAAAQAAAAEAAAABAAAAAQAAAAEAAAABAAAAAQAAAAEAAAABAAAAAQAAAAEAAAABAAAAAQAAAAFAAAABQAAAAUAAAAFAAAABQAAAAUAAAAFAAAABQAAAAUAAAAFAAAABQAAAAUAAAAFAAAABQAAAAUAAAAFAAAABQAAAAUAAAAFAAAABQAAAAUAAAAFAAAABQAAAAUAAAAFAAAABQAAAAUAAAAFAAAABQAAAAUAAAAFAAAABgAAAAYAAAAGAAAABgAAAAYAAAAGAAAABgAAAAYAAAAGAAAABgAAAAYAAAAGAAAABgAAAAYAAAAGAAAABgAAAAYAAAAGAAAABgAAAAYAAAAGAAAABgAAAAYAAAAGAAAABgAAAAYAAAAGAAAABgAAAAYAAAAGAAAABwAAAAcAAAAHAAAABwAAAAcAAAAHAAAABwAAAAcAAAAHAAAABwAAAAcAAAAHAAAABwAAAAcAAAAHAAAABwAAAAcAAAAHAAAABwAAAAcAAAAHAAAABwAAAAcAAAAHAAAABwAAAAcAAAAHAAAABwAAAAcAAAAHAAAABwAAAAgAAAAIAAAACAAAAAgAAAAIAAAACAAAAAgAAAAIAAAACAAAAAgAAAAIAAAACAAAAAgAAAAIAAAACAAAAAgAAAAIAAAACAAAAAgAAAAIAAAACAAAAAgAAAAIAAAACAAAAAgAAAAIAAAACAAAAAgAAAAIAAAACAAAAAgAAAAJAAAACQAAAAkAAAAJAAAACQAAAAkAAAAJAAAACQAAAAkAAAAJAAAACQAAAAkAAAAJAAAACQAAAAkAAAAJAAAACQAAAAkAAAAJAAAACQAAAAkAAAAJAAAACQAAAAkAAAAJAAAACQAAAAkAAAAJAAAACQAAAAkAAAAKAAAACgAAAAoAAAAKAAAACgAAAAoAAAAKAAAACgAAAAoAAAAKAAAACgAAAAoAAAAKAAAACgAAAAoAAAAKAAAACgAAAAoAAAAKAAAACgAAAAoAAAAKAAAACgAAAAoAAAAKAAAACgAAAAoAAAAKAAAACgAAAAoAAAAKAAAACwAAAAsAAAALAAAACwAAAAsAAAALAAAACwAAAAsAAAALAAAACwAAAAsAAAALAAAACwAAAAsAAAALAAAACwAAAAsAAAALAAAACwAAAAsAAAALAAAACwAAAAsAAAALAAAACwAAAAsAAAALAAAACwAAAAsAAAALAAAAAQAAAAEAAAABAAAAAQAAAAEAAAABAAAAAQAAAAEAAAABAAAAAQAAAAEAAAABAAAAAQAAAAEAAAABAAAAAQAAAAEAAAABAAAAAQAAAAEAAAABAAAAAQAAAAEAAAABAAAAAQAAAAEAAAABAAAAAQAAAAEAAAABAAAAAQAAAAMAAAADAAAAAwAAAAMAAAADAAAAAwAAAAMAAAADAAAAAwAAAAMAAAADAAAAAwAAAAMAAAADAAAAAwAAAAMAAAADAAAAAwAAAAMAAAADAAAAAwAAAAMAAAADAAAAAwAAAAMAAAADAAAAAwAAAAMAAAADAAAAAwAAAAMAAAAEAAAABAAAAAQAAAAEAAAABAAAAAQAAAAEAAAABAAAAAQAAAAEAAAABAAAAAQAAAAEAAAABAAAAAQAAAAEAAAABAAAAAQAAAAEAAAABAAAAAQAAAAEAAAABAAAAAQAAAAEAAAABAAAAAQAAAAEAAAABAAAAAQAAAAFAAAABQAAAAUAAAAFAAAABQAAAAUAAAAFAAAABQAAAAUAAAAFAAAABQAAAAUAAAAFAAAABQAAAAUAAAAFAAAABQAAAAUAAAAFAAAABQAAAAUAAAAFAAAABQAAAAUAAAAFAAAABQAAAAUAAAAFAAAABQAAAAUAAAAFAAAABgAAAAYAAAAGAAAABgAAAAYAAAAGAAAABgAAAAYAAAAGAAAABgAAAAYAAAAGAAAABgAAAAYAAAAGAAAABgAAAAYAAAAGAAAABgAAAAYAAAAGAAAABgAAAAYAAAAGAAAABgAAAAYAAAAGAAAABgAAAAYAAAAGAAAABwAAAAcAAAAHAAAABwAAAAcAAAAHAAAABwAAAAcAAAAHAAAABwAAAAcAAAAHAAAABwAAAAcAAAAHAAAABwAAAAcAAAAHAAAABwAAAAcAAAAHAAAABwAAAAcAAAAHAAAABwAAAAcAAAAHAAAABwAAAAcAAAAHAAAABwAAAAgAAAAIAAAACAAAAAgAAAAIAAAACAAAAAgAAAAIAAAACAAAAAgAAAAIAAAACAAAAAgAAAAIAAAACAAAAAgAAAAIAAAACAAAAAgAAAAIAAAACAAAAAgAAAAIAAAACAAAAAgAAAAIAAAACAAAAAgAAAAIAAAACAAAAAgAAAAJAAAACQAAAAkAAAAJAAAACQAAAAkAAAAJAAAACQAAAAkAAAAJAAAACQAAAAkAAAAJAAAACQAAAAkAAAAJAAAACQAAAAkAAAAJAAAACQAAAAkAAAAJAAAACQAAAAkAAAAJAAAACQAAAAkAAAAJAAAACQAAAAkAAAAKAAAACgAAAAoAAAAKAAAACgAAAAoAAAAKAAAACgAAAAoAAAAKAAAACgAAAAoAAAAKAAAACgAAAAoAAAAKAAAACgAAAAoAAAAKAAAACgAAAAoAAAAKAAAACgAAAAoAAAAKAAAACgAAAAoAAAAKAAAACgAAAAoAAAAKAAAACwAAAAsAAAALAAAACwAAAAsAAAALAAAACwAAAAsAAAALAAAACwAAAAsAAAALAAAACwAAAAsAAAALAAAACwAAAAsAAAALAAAACwAAAAsAAAALAAAACwAAAAsAAAALAAAACwAAAAsAAAALAAAACwAAAAsAAAALAAAADAAAAAwAAAAMAAAADAAAAAwAAAAMAAAADAAAAAwAAAAMAAAADAAAAAwAAAAMAAAADAAAAAwAAAAMAAAADAAAAAwAAAAMAAAADAAAAAwAAAAMAAAADAAAAAwAAAAMAAAADAAAAAwAAAAMAAAADAAAAAwAAAAMAAAADAAAAAEAAAABAAAAAQAAAAEAAAABAAAAAQAAAAEAAAABAAAAAQAAAAEAAAABAAAAAQAAAAEAAAABAAAAAQAAAAEAAAABAAAAAQAAAAEAAAABAAAAAQAAAAEAAAABAAAAAQAAAAEAAAABAAAAAQAAAAEAAAABAAAAAQAAAAEAAAACAAAAAgAAAAIAAAACAAAAAgAAAAIAAAACAAAAAgAAAAIAAAACAAAAAgAAAAIAAAACAAAAAgAAAAIAAAACAAAAAgAAAAIAAAACAAAAAgAAAAIAAAACAAAAAgAAAAIAAAACAAAAAgAAAAIAAAACAAAAAwAAAAMAAAADAAAAAwAAAAMAAAADAAAAAwAAAAMAAAADAAAAAwAAAAMAAAADAAAAAwAAAAMAAAADAAAAAwAAAAMAAAADAAAAAwAAAAMAAAADAAAAAwAAAAMAAAADAAAAAwAAAAMAAAADAAAAAwAAAAMAAAADAAAAAwAAAAQAAAAEAAAABAAAAAQAAAAEAAAABAAAAAQAAAAEAAAABAAAAAQAAAAEAAAABAAAAAQAAAAEAAAABAAAAAQAAAAEAAAABAAAAAQAAAAEAAAABAAAAAQAAAAEAAAABAAAAAQAAAAEAAAABAAAAAQAAAAEAAAABAAAAAUAAAAFAAAABQAAAAUAAAAFAAAABQAAAAUAAAAFAAAABQAAAAUAAAAFAAAABQAAAAUAAAAFAAAABQAAAAUAAAAFAAAABQAAAAUAAAAFAAAABQAAAAUAAAAFAAAABQAAAAUAAAAFAAAABQAAAAUAAAAFAAAABQAAAAUAAAAGAAAABgAAAAYAAAAGAAAABgAAAAYAAAAGAAAABgAAAAYAAAAGAAAABgAAAAYAAAAGAAAABgAAAAYAAAAGAAAABgAAAAYAAAAGAAAABgAAAAYAAAAGAAAABgAAAAYAAAAGAAAABgAAAAYAAAAGAAAABgAAAAYAAAAHAAAABwAAAAcAAAAHAAAABwAAAAcAAAAHAAAABwAAAAcAAAAHAAAABwAAAAcAAAAHAAAABwAAAAcAAAAHAAAABwAAAAcAAAAHAAAABwAAAAcAAAAHAAAABwAAAAcAAAAHAAAABwAAAAcAAAAHAAAABwAAAAcAAAAHAAAACAAAAAgAAAAIAAAACAAAAAgAAAAIAAAACAAAAAgAAAAIAAAACAAAAAgAAAAIAAAACAAAAAgAAAAIAAAACAAAAAgAAAAIAAAACAAAAAgAAAAIAAAACAAAAAgAAAAIAAAACAAAAAgAAAAIAAAACAAAAAgAAAAIAAAACAAAAAkAAAAJAAAACQAAAAkAAAAJAAAACQAAAAkAAAAJAAAACQAAAAkAAAAJAAAACQAAAAkAAAAJAAAACQAAAAkAAAAJAAAACQAAAAkAAAAJAAAACQAAAAkAAAAJAAAACQAAAAkAAAAJAAAACQAAAAkAAAAJAAAACQAAAAoAAAAKAAAACgAAAAoAAAAKAAAACgAAAAoAAAAKAAAACgAAAAoAAAAKAAAACgAAAAoAAAAKAAAACgAAAAoAAAAKAAAACgAAAAoAAAAKAAAACgAAAAoAAAAKAAAACgAAAAoAAAAKAAAACgAAAAoAAAAKAAAACgAAAAoAAAALAAAACwAAAAsAAAALAAAACwAAAAsAAAALAAAACwAAAAsAAAALAAAACwAAAAsAAAALAAAACwAAAAsAAAALAAAACwAAAAsAAAALAAAACwAAAAsAAAALAAAACwAAAAsAAAALAAAACwAAAAsAAAALAAAACwAAAAsAAAAMAAAADAAAAAwAAAAMAAAADAAAAAwAAAAMAAAADAAAAAwAAAAMAAAADAAAAAwAAAAMAAAADAAAAAwAAAAMAAAADAAAAAwAAAAMAAAADAAAAAwAAAAMAAAADAAAAAwAAAAMAAAADAAAAAwAAAAMAAAADAAAAAwAAAAMAAAAAQAAAAEAAAABAAAAAQAAAAEAAAABAAAAAQAAAAEAAAABAAAAAQAAAAEAAAABAAAAAQAAAAEAAAABAAAAAQAAAAEAAAABAAAAAQAAAAEAAAABAAAAAQAAAAEAAAABAAAAAQAAAAEAAAABAAAAAQAAAAEAAAABAAAAAQAAAAIAAAACAAAAAgAAAAIAAAACAAAAAgAAAAIAAAACAAAAAgAAAAIAAAACAAAAAgAAAAIAAAACAAAAAgAAAAIAAAACAAAAAgAAAAIAAAACAAAAAgAAAAIAAAACAAAAAgAAAAIAAAACAAAAAgAAAAIAAAADAAAAAwAAAAMAAAADAAAAAwAAAAMAAAADAAAAAwAAAAMAAAADAAAAAwAAAAMAAAADAAAAAwAAAAMAAAADAAAAAwAAAAMAAAADAAAAAwAAAAMAAAADAAAAAwAAAAMAAAADAAAAAwAAAAMAAAADAAAAAwAAAAMAAAADAAAABAAAAAQAAAAEAAAABAAAAAQAAAAEAAAABAAAAAQAAAAEAAAABAAAAAQAAAAEAAAABAAAAAQAAAAEAAAABAAAAAQAAAAEAAAABAAAAAQAAAAEAAAABAAAAAQAAAAEAAAABAAAAAQAAAAEAAAABAAAAAQAAAAEAAAABQAAAAUAAAAFAAAABQAAAAUAAAAFAAAABQAAAAUAAAAFAAAABQAAAAUAAAAFAAAABQAAAAUAAAAFAAAABQAAAAUAAAAFAAAABQAAAAUAAAAFAAAABQAAAAUAAAAFAAAABQAAAAUAAAAFAAAABQAAAAUAAAAFAAAABQAAAAYAAAAGAAAABgAAAAYAAAAGAAAABgAAAAYAAAAGAAAABgAAAAYAAAAGAAAABgAAAAYAAAAGAAAABgAAAAYAAAAGAAAABgAAAAYAAAAGAAAABgAAAAYAAAAGAAAABgAAAAYAAAAGAAAABgAAAAYAAAAGAAAABgAAAAcAAAAHAAAABwAAAAcAAAAHAAAABwAAAAcAAAAHAAAABwAAAAcAAAAHAAAABwAAAAcAAAAHAAAABwAAAAcAAAAHAAAABwAAAAcAAAAHAAAABwAAAAcAAAAHAAAABwAAAAcAAAAHAAAABwAAAAcAAAAHAAAABwAAAAcAAAAIAAAACAAAAAgAAAAIAAAACAAAAAgAAAAIAAAACAAAAAgAAAAIAAAACAAAAAgAAAAIAAAACAAAAAgAAAAIAAAACAAAAAgAAAAIAAAACAAAAAgAAAAIAAAACAAAAAgAAAAIAAAACAAAAAgAAAAIAAAACAAAAAgAAAAIAAAACQAAAAkAAAAJAAAACQAAAAkAAAAJAAAACQAAAAkAAAAJAAAACQAAAAkAAAAJAAAACQAAAAkAAAAJAAAACQAAAAkAAAAJAAAACQAAAAkAAAAJAAAACQAAAAkAAAAJAAAACQAAAAkAAAAJAAAACQAAAAkAAAAJAAAACgAAAAoAAAAKAAAACgAAAAoAAAAKAAAACgAAAAoAAAAKAAAACgAAAAoAAAAKAAAACgAAAAoAAAAKAAAACgAAAAoAAAAKAAAACgAAAAoAAAAKAAAACgAAAAoAAAAKAAAACgAAAAoAAAAKAAAACgAAAAoAAAAKAAAACgAAAAsAAAALAAAACwAAAAsAAAALAAAACwAAAAsAAAALAAAACwAAAAsAAAALAAAACwAAAAsAAAALAAAACwAAAAsAAAALAAAACwAAAAsAAAALAAAACwAAAAsAAAALAAAACwAAAAsAAAALAAAACwAAAAsAAAALAAAACwAAAAwAAAAMAAAADAAAAAwAAAAMAAAADAAAAAwAAAAMAAAADAAAAAwAAAAMAAAADAAAAAwAAAAMAAAADAAAAAwAAAAMAAAADAAAAAwAAAAMAAAADAAAAAwAAAAMAAAADAAAAAwAAAAMAAAADAAAAAwAAAAMAAAADAAAAAwAAAABAAAAAQAAAAEAAAABAAAAAQAAAAEAAAABAAAAAQAAAAEAAAABAAAAAQAAAAEAAAABAAAAAQAAAAEAAAABAAAAAQAAAAEAAAABAAAAAQAAAAEAAAABAAAAAQAAAAEAAAABAAAAAQAAAAEAAAABAAAAAQAAAAEAAAABAAAAAgAAAAIAAAACAAAAAgAAAAIAAAACAAAAAgAAAAIAAAACAAAAAgAAAAIAAAACAAAAAgAAAAIAAAACAAAAAgAAAAIAAAACAAAAAgAAAAIAAAACAAAAAgAAAAIAAAACAAAAAgAAAAIAAAACAAAAAgAAAAIAAAADAAAAAwAAAAMAAAADAAAAAwAAAAMAAAADAAAAAwAAAAMAAAADAAAAAwAAAAMAAAADAAAAAwAAAAMAAAADAAAAAwAAAAMAAAADAAAAAwAAAAMAAAADAAAAAwAAAAMAAAADAAAAAwAAAAMAAAADAAAAAwAAAAMAAAADAAAABAAAAAQAAAAEAAAABAAAAAQAAAAEAAAABAAAAAQAAAAEAAAABAAAAAQAAAAEAAAABAAAAAQAAAAEAAAABAAAAAQAAAAEAAAABAAAAAQAAAAEAAAABAAAAAQAAAAEAAAABAAAAAQAAAAEAAAABAAAAAQAAAAEAAAABQAAAAUAAAAFAAAABQAAAAUAAAAFAAAABQAAAAUAAAAFAAAABQAAAAUAAAAFAAAABQAAAAUAAAAFAAAABQAAAAUAAAAFAAAABQAAAAUAAAAFAAAABQAAAAUAAAAFAAAABQAAAAUAAAAFAAAABQAAAAUAAAAFAAAABQAAAAYAAAAGAAAABgAAAAYAAAAGAAAABgAAAAYAAAAGAAAABgAAAAYAAAAGAAAABgAAAAYAAAAGAAAABgAAAAYAAAAGAAAABgAAAAYAAAAGAAAABgAAAAYAAAAGAAAABgAAAAYAAAAGAAAABgAAAAYAAAAGAAAABgAAAAcAAAAHAAAABwAAAAcAAAAHAAAABwAAAAcAAAAHAAAABwAAAAcAAAAHAAAABwAAAAcAAAAHAAAABwAAAAcAAAAHAAAABwAAAAcAAAAHAAAABwAAAAcAAAAHAAAABwAAAAcAAAAHAAAABwAAAAcAAAAHAAAABwAAAAcAAAAIAAAACAAAAAgAAAAIAAAACAAAAAgAAAAIAAAACAAAAAgAAAAIAAAACAAAAAgAAAAIAAAACAAAAAgAAAAIAAAACAAAAAgAAAAIAAAACAAAAAgAAAAIAAAACAAAAAgAAAAIAAAACAAAAAgAAAAIAAAACAAAAAgAAAAIAAAACQAAAAkAAAAJAAAACQAAAAkAAAAJAAAACQAAAAkAAAAJAAAACQAAAAkAAAAJAAAACQAAAAkAAAAJAAAACQAAAAkAAAAJAAAACQAAAAkAAAAJAAAACQAAAAkAAAAJAAAACQAAAAkAAAAJAAAACQAAAAkAAAAJAAAACgAAAAoAAAAKAAAACgAAAAoAAAAKAAAACgAAAAoAAAAKAAAACgAAAAoAAAAKAAAACgAAAAoAAAAKAAAACgAAAAoAAAAKAAAACgAAAAoAAAAKAAAACgAAAAoAAAAKAAAACgAAAAoAAAAKAAAACgAAAAoAAAAKAAAACgAAAAsAAAALAAAACwAAAAsAAAALAAAACwAAAAsAAAALAAAACwAAAAsAAAALAAAACwAAAAsAAAALAAAACwAAAAsAAAALAAAACwAAAAsAAAALAAAACwAAAAsAAAALAAAACwAAAAsAAAALAAAACwAAAAsAAAALAAAACwAAAAwAAAAMAAAADAAAAAwAAAAMAAAADAAAAAwAAAAMAAAADAAAAAwAAAAMAAAADAAAAAwAAAAMAAAADAAAAAwAAAAMAAAADAAAAAwAAAAMAAAADAAAAAwAAAAMAAAADAAAAAwAAAAMAAAADAAAAAwAAAAMAAAADAAAAAwAAAABAAAAAQAAAAEAAAABAAAAAQAAAAEAAAABAAAAAQAAAAEAAAABAAAAAQAAAAEAAAABAAAAAQAAAAEAAAABAAAAAQAAAAEAAAABAAAAAQAAAAEAAAABAAAAAQAAAAEAAAABAAAAAQAAAAEAAAABAAAAAQAAAAEAAAABAAAAAgAAAAIAAAACAAAAAgAAAAIAAAACAAAAAgAAAAIAAAACAAAAAgAAAAIAAAACAAAAAgAAAAIAAAACAAAAAgAAAAIAAAACAAAAAgAAAAIAAAACAAAAAgAAAAIAAAACAAAAAgAAAAIAAAACAAAAAgAAAAMAAAADAAAAAwAAAAMAAAADAAAAAwAAAAMAAAADAAAAAwAAAAMAAAADAAAAAwAAAAMAAAADAAAAAwAAAAMAAAADAAAAAwAAAAMAAAADAAAAAwAAAAMAAAADAAAAAwAAAAMAAAADAAAAAwAAAAMAAAADAAAAAwAAAAMAAAAEAAAABAAAAAQAAAAEAAAABAAAAAQAAAAEAAAABAAAAAQAAAAEAAAABAAAAAQAAAAEAAAABAAAAAQAAAAEAAAABAAAAAQAAAAEAAAABAAAAAQAAAAEAAAABAAAAAQAAAAEAAAABAAAAAQAAAAEAAAABAAAAAQAAAAFAAAABQAAAAUAAAAFAAAABQAAAAUAAAAFAAAABQAAAAUAAAAFAAAABQAAAAUAAAAFAAAABQAAAAUAAAAFAAAABQAAAAUAAAAFAAAABQAAAAUAAAAFAAAABQAAAAUAAAAFAAAABQAAAAUAAAAFAAAABQAAAAUAAAAFAAAABgAAAAYAAAAGAAAABgAAAAYAAAAGAAAABgAAAAYAAAAGAAAABgAAAAYAAAAGAAAABgAAAAYAAAAGAAAABgAAAAYAAAAGAAAABgAAAAYAAAAGAAAABgAAAAYAAAAGAAAABgAAAA=="
         },
         "x0": " ",
         "xaxis": "x",
         "y": {
          "dtype": "f8",
          "bdata": "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"
         },
         "y0": " ",
         "yaxis": "y",
         "type": "box"
        }
       ],
       "layout": {
        "template": {
         "data": {
          "histogram2dcontour": [
           {
            "type": "histogram2dcontour",
            "colorbar": {
             "outlinewidth": 0,
             "ticks": ""
            },
            "colorscale": [
             [
              0.0,
              "#0d0887"
             ],
             [
              0.1111111111111111,
              "#46039f"
             ],
             [
              0.2222222222222222,
              "#7201a8"
             ],
             [
              0.3333333333333333,
              "#9c179e"
             ],
             [
              0.4444444444444444,
              "#bd3786"
             ],
             [
              0.5555555555555556,
              "#d8576b"
             ],
             [
              0.6666666666666666,
              "#ed7953"
             ],
             [
              0.7777777777777778,
              "#fb9f3a"
             ],
             [
              0.8888888888888888,
              "#fdca26"
             ],
             [
              1.0,
              "#f0f921"
             ]
            ]
           }
          ],
          "choropleth": [
           {
            "type": "choropleth",
            "colorbar": {
             "outlinewidth": 0,
             "ticks": ""
            }
           }
          ],
          "histogram2d": [
           {
            "type": "histogram2d",
            "colorbar": {
             "outlinewidth": 0,
             "ticks": ""
            },
            "colorscale": [
             [
              0.0,
              "#0d0887"
             ],
             [
              0.1111111111111111,
              "#46039f"
             ],
             [
              0.2222222222222222,
              "#7201a8"
             ],
             [
              0.3333333333333333,
              "#9c179e"
             ],
             [
              0.4444444444444444,
              "#bd3786"
             ],
             [
              0.5555555555555556,
              "#d8576b"
             ],
             [
              0.6666666666666666,
              "#ed7953"
             ],
             [
              0.7777777777777778,
              "#fb9f3a"
             ],
             [
              0.8888888888888888,
              "#fdca26"
             ],
             [
              1.0,
              "#f0f921"
             ]
            ]
           }
          ],
          "heatmap": [
           {
            "type": "heatmap",
            "colorbar": {
             "outlinewidth": 0,
             "ticks": ""
            },
            "colorscale": [
             [
              0.0,
              "#0d0887"
             ],
             [
              0.1111111111111111,
              "#46039f"
             ],
             [
              0.2222222222222222,
              "#7201a8"
             ],
             [
              0.3333333333333333,
              "#9c179e"
             ],
             [
              0.4444444444444444,
              "#bd3786"
             ],
             [
              0.5555555555555556,
              "#d8576b"
             ],
             [
              0.6666666666666666,
              "#ed7953"
             ],
             [
              0.7777777777777778,
              "#fb9f3a"
             ],
             [
              0.8888888888888888,
              "#fdca26"
             ],
             [
              1.0,
              "#f0f921"
             ]
            ]
           }
          ],
          "contourcarpet": [
           {
            "type": "contourcarpet",
            "colorbar": {
             "outlinewidth": 0,
             "ticks": ""
            }
           }
          ],
          "contour": [
           {
            "type": "contour",
            "colorbar": {
             "outlinewidth": 0,
             "ticks": ""
            },
            "colorscale": [
             [
              0.0,
              "#0d0887"
             ],
             [
              0.1111111111111111,
              "#46039f"
             ],
             [
              0.2222222222222222,
              "#7201a8"
             ],
             [
              0.3333333333333333,
              "#9c179e"
             ],
             [
              0.4444444444444444,
              "#bd3786"
             ],
             [
              0.5555555555555556,
              "#d8576b"
             ],
             [
              0.6666666666666666,
              "#ed7953"
             ],
             [
              0.7777777777777778,
              "#fb9f3a"
             ],
             [
              0.8888888888888888,
              "#fdca26"
             ],
             [
              1.0,
              "#f0f921"
             ]
            ]
           }
          ],
          "surface": [
           {
            "type": "surface",
            "colorbar": {
             "outlinewidth": 0,
             "ticks": ""
            },
            "colorscale": [
             [
              0.0,
              "#0d0887"
             ],
             [
              0.1111111111111111,
              "#46039f"
             ],
             [
              0.2222222222222222,
              "#7201a8"
             ],
             [
              0.3333333333333333,
              "#9c179e"
             ],
             [
              0.4444444444444444,
              "#bd3786"
             ],
             [
              0.5555555555555556,
              "#d8576b"
             ],
             [
              0.6666666666666666,
              "#ed7953"
             ],
             [
              0.7777777777777778,
              "#fb9f3a"
             ],
             [
              0.8888888888888888,
              "#fdca26"
             ],
             [
              1.0,
              "#f0f921"
             ]
            ]
           }
          ],
          "mesh3d": [
           {
            "type": "mesh3d",
            "colorbar": {
             "outlinewidth": 0,
             "ticks": ""
            }
           }
          ],
          "scatter": [
           {
            "fillpattern": {
             "fillmode": "overlay",
             "size": 10,
             "solidity": 0.2
            },
            "type": "scatter"
           }
          ],
          "parcoords": [
           {
            "type": "parcoords",
            "line": {
             "colorbar": {
              "outlinewidth": 0,
              "ticks": ""
             }
            }
           }
          ],
          "scatterpolargl": [
           {
            "type": "scatterpolargl",
            "marker": {
             "colorbar": {
              "outlinewidth": 0,
              "ticks": ""
             }
            }
           }
          ],
          "bar": [
           {
            "error_x": {
             "color": "#2a3f5f"
            },
            "error_y": {
             "color": "#2a3f5f"
            },
            "marker": {
             "line": {
              "color": "#E5ECF6",
              "width": 0.5
             },
             "pattern": {
              "fillmode": "overlay",
              "size": 10,
              "solidity": 0.2
             }
            },
            "type": "bar"
           }
          ],
          "scattergeo": [
           {
            "type": "scattergeo",
            "marker": {
             "colorbar": {
              "outlinewidth": 0,
              "ticks": ""
             }
            }
           }
          ],
          "scatterpolar": [
           {
            "type": "scatterpolar",
            "marker": {
             "colorbar": {
              "outlinewidth": 0,
              "ticks": ""
             }
            }
           }
          ],
          "histogram": [
           {
            "marker": {
             "pattern": {
              "fillmode": "overlay",
              "size": 10,
              "solidity": 0.2
             }
            },
            "type": "histogram"
           }
          ],
          "scattergl": [
           {
            "type": "scattergl",
            "marker": {
             "colorbar": {
              "outlinewidth": 0,
              "ticks": ""
             }
            }
           }
          ],
          "scatter3d": [
           {
            "type": "scatter3d",
            "line": {
             "colorbar": {
              "outlinewidth": 0,
              "ticks": ""
             }
            },
            "marker": {
             "colorbar": {
              "outlinewidth": 0,
              "ticks": ""
             }
            }
           }
          ],
          "scattermap": [
           {
            "type": "scattermap",
            "marker": {
             "colorbar": {
              "outlinewidth": 0,
              "ticks": ""
             }
            }
           }
          ],
          "scattermapbox": [
           {
            "type": "scattermapbox",
            "marker": {
             "colorbar": {
              "outlinewidth": 0,
              "ticks": ""
             }
            }
           }
          ],
          "scatterternary": [
           {
            "type": "scatterternary",
            "marker": {
             "colorbar": {
              "outlinewidth": 0,
              "ticks": ""
             }
            }
           }
          ],
          "scattercarpet": [
           {
            "type": "scattercarpet",
            "marker": {
             "colorbar": {
              "outlinewidth": 0,
              "ticks": ""
             }
            }
           }
          ],
          "carpet": [
           {
            "aaxis": {
             "endlinecolor": "#2a3f5f",
             "gridcolor": "white",
             "linecolor": "white",
             "minorgridcolor": "white",
             "startlinecolor": "#2a3f5f"
            },
            "baxis": {
             "endlinecolor": "#2a3f5f",
             "gridcolor": "white",
             "linecolor": "white",
             "minorgridcolor": "white",
             "startlinecolor": "#2a3f5f"
            },
            "type": "carpet"
           }
          ],
          "table": [
           {
            "cells": {
             "fill": {
              "color": "#EBF0F8"
             },
             "line": {
              "color": "white"
             }
            },
            "header": {
             "fill": {
              "color": "#C8D4E3"
             },
             "line": {
              "color": "white"
             }
            },
            "type": "table"
           }
          ],
          "barpolar": [
           {
            "marker": {
             "line": {
              "color": "#E5ECF6",
              "width": 0.5
             },
             "pattern": {
              "fillmode": "overlay",
              "size": 10,
              "solidity": 0.2
             }
            },
            "type": "barpolar"
           }
          ],
          "pie": [
           {
            "automargin": true,
            "type": "pie"
           }
          ]
         },
         "layout": {
          "autotypenumbers": "strict",
          "colorway": [
           "#636efa",
           "#EF553B",
           "#00cc96",
           "#ab63fa",
           "#FFA15A",
           "#19d3f3",
           "#FF6692",
           "#B6E880",
           "#FF97FF",
           "#FECB52"
          ],
          "font": {
           "color": "#2a3f5f"
          },
          "hovermode": "closest",
          "hoverlabel": {
           "align": "left"
          },
          "paper_bgcolor": "white",
          "plot_bgcolor": "#E5ECF6",
          "polar": {
           "bgcolor": "#E5ECF6",
           "angularaxis": {
            "gridcolor": "white",
            "linecolor": "white",
            "ticks": ""
           },
           "radialaxis": {
            "gridcolor": "white",
            "linecolor": "white",
            "ticks": ""
           }
          },
          "ternary": {
           "bgcolor": "#E5ECF6",
           "aaxis": {
            "gridcolor": "white",
            "linecolor": "white",
            "ticks": ""
           },
           "baxis": {
            "gridcolor": "white",
            "linecolor": "white",
            "ticks": ""
           },
           "caxis": {
            "gridcolor": "white",
            "linecolor": "white",
            "ticks": ""
           }
          },
          "coloraxis": {
           "colorbar": {
            "outlinewidth": 0,
            "ticks": ""
           }
          },
          "colorscale": {
           "sequential": [
            [
             0.0,
             "#0d0887"
            ],
            [
             0.1111111111111111,
             "#46039f"
            ],
            [
             0.2222222222222222,
             "#7201a8"
            ],
            [
             0.3333333333333333,
             "#9c179e"
            ],
            [
             0.4444444444444444,
             "#bd3786"
            ],
            [
             0.5555555555555556,
             "#d8576b"
            ],
            [
             0.6666666666666666,
             "#ed7953"
            ],
            [
             0.7777777777777778,
             "#fb9f3a"
            ],
            [
             0.8888888888888888,
             "#fdca26"
            ],
            [
             1.0,
             "#f0f921"
            ]
           ],
           "sequentialminus": [
            [
             0.0,
             "#0d0887"
            ],
            [
             0.1111111111111111,
             "#46039f"
            ],
            [
             0.2222222222222222,
             "#7201a8"
            ],
            [
             0.3333333333333333,
             "#9c179e"
            ],
            [
             0.4444444444444444,
             "#bd3786"
            ],
            [
             0.5555555555555556,
             "#d8576b"
            ],
            [
             0.6666666666666666,
             "#ed7953"
            ],
            [
             0.7777777777777778,
             "#fb9f3a"
            ],
            [
             0.8888888888888888,
             "#fdca26"
            ],
            [
             1.0,
             "#f0f921"
            ]
           ],
           "diverging": [
            [
             0,
             "#8e0152"
            ],
            [
             0.1,
             "#c51b7d"
            ],
            [
             0.2,
             "#de77ae"
            ],
            [
             0.3,
             "#f1b6da"
            ],
            [
             0.4,
             "#fde0ef"
            ],
            [
             0.5,
             "#f7f7f7"
            ],
            [
             0.6,
             "#e6f5d0"
            ],
            [
             0.7,
             "#b8e186"
            ],
            [
             0.8,
             "#7fbc41"
            ],
            [
             0.9,
             "#4d9221"
            ],
            [
             1,
             "#276419"
            ]
           ]
          },
          "xaxis": {
           "gridcolor": "white",
           "linecolor": "white",
           "ticks": "",
           "title": {
            "standoff": 15
           },
           "zerolinecolor": "white",
           "automargin": true,
           "zerolinewidth": 2
          },
          "yaxis": {
           "gridcolor": "white",
           "linecolor": "white",
           "ticks": "",
           "title": {
            "standoff": 15
           },
           "zerolinecolor": "white",
           "automargin": true,
           "zerolinewidth": 2
          },
          "scene": {
           "xaxis": {
            "backgroundcolor": "#E5ECF6",
            "gridcolor": "white",
            "linecolor": "white",
            "showbackground": true,
            "ticks": "",
            "zerolinecolor": "white",
            "gridwidth": 2
           },
           "yaxis": {
            "backgroundcolor": "#E5ECF6",
            "gridcolor": "white",
            "linecolor": "white",
            "showbackground": true,
            "ticks": "",
            "zerolinecolor": "white",
            "gridwidth": 2
           },
           "zaxis": {
            "backgroundcolor": "#E5ECF6",
            "gridcolor": "white",
            "linecolor": "white",
            "showbackground": true,
            "ticks": "",
            "zerolinecolor": "white",
            "gridwidth": 2
           }
          },
          "shapedefaults": {
           "line": {
            "color": "#2a3f5f"
           }
          },
          "annotationdefaults": {
           "arrowcolor": "#2a3f5f",
           "arrowhead": 0,
           "arrowwidth": 1
          },
          "geo": {
           "bgcolor": "white",
           "landcolor": "#E5ECF6",
           "subunitcolor": "white",
           "showland": true,
           "showlakes": true,
           "lakecolor": "white"
          },
          "title": {
           "x": 0.05
          },
          "mapbox": {
           "style": "light"
          }
         }
        },
        "xaxis": {
         "anchor": "y",
         "domain": [
          0.0,
          1.0
         ],
         "title": {
          "text": "Month"
         }
        },
        "yaxis": {
         "anchor": "x",
         "domain": [
          0.0,
          1.0
         ],
         "title": {
          "text": "Rainfall"
         }
        },
        "legend": {
         "tracegroupgap": 0
        },
        "margin": {
         "t": 60
        },
        "boxmode": "group"
       },
       "config": {
        "plotlyServerURL": "https://plot.ly"
       }
      }
     },
     "metadata": {},
     "output_type": "display_data"
    }
   ],
   "execution_count": 101
  },
  {
   "metadata": {},
   "cell_type": "markdown",
   "source": "Max Temperature vs Rainfall (by RainTomorrow) – Scatterplot showing relationship and rain likelihood.",
   "id": "5742602e30b4a0bb"
  },
  {
   "metadata": {
    "ExecuteTime": {
     "end_time": "2025-06-15T17:28:03.187437Z",
     "start_time": "2025-06-15T17:28:02.951245Z"
    }
   },
   "cell_type": "code",
   "source": "px.scatter(df,x='MaxTemp',y='Rainfall',color='RainTomorrow')",
   "id": "e8d29106dcebacc",
   "outputs": [
    {
     "data": {
      "application/vnd.plotly.v1+json": {
       "data": [
        {
         "hovertemplate": "RainTomorrow=No<br>MaxTemp=%{x}<br>Rainfall=%{y}<extra></extra>",
         "legendgroup": "No",
         "marker": {
          "color": "#636efa",
          "symbol": "circle"
         },
         "mode": "markers",
         "name": "No",
         "showlegend": true,
         "x": {
          "dtype": "f8",
          "bdata": "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"
         },
         "xaxis": "x",
         "y": {
          "dtype": "f8",
          "bdata": "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"
         },
         "yaxis": "y",
         "type": "scattergl"
        },
        {
         "hovertemplate": "RainTomorrow=Yes<br>MaxTemp=%{x}<br>Rainfall=%{y}<extra></extra>",
         "legendgroup": "Yes",
         "marker": {
          "color": "#EF553B",
          "symbol": "circle"
         },
         "mode": "markers",
         "name": "Yes",
         "showlegend": true,
         "x": {
          "dtype": "f8",
          "bdata": "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"
         },
         "xaxis": "x",
         "y": {
          "dtype": "f8",
          "bdata": "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"
         },
         "yaxis": "y",
         "type": "scattergl"
        }
       ],
       "layout": {
        "template": {
         "data": {
          "histogram2dcontour": [
           {
            "type": "histogram2dcontour",
            "colorbar": {
             "outlinewidth": 0,
             "ticks": ""
            },
            "colorscale": [
             [
              0.0,
              "#0d0887"
             ],
             [
              0.1111111111111111,
              "#46039f"
             ],
             [
              0.2222222222222222,
              "#7201a8"
             ],
             [
              0.3333333333333333,
              "#9c179e"
             ],
             [
              0.4444444444444444,
              "#bd3786"
             ],
             [
              0.5555555555555556,
              "#d8576b"
             ],
             [
              0.6666666666666666,
              "#ed7953"
             ],
             [
              0.7777777777777778,
              "#fb9f3a"
             ],
             [
              0.8888888888888888,
              "#fdca26"
             ],
             [
              1.0,
              "#f0f921"
             ]
            ]
           }
          ],
          "choropleth": [
           {
            "type": "choropleth",
            "colorbar": {
             "outlinewidth": 0,
             "ticks": ""
            }
           }
          ],
          "histogram2d": [
           {
            "type": "histogram2d",
            "colorbar": {
             "outlinewidth": 0,
             "ticks": ""
            },
            "colorscale": [
             [
              0.0,
              "#0d0887"
             ],
             [
              0.1111111111111111,
              "#46039f"
             ],
             [
              0.2222222222222222,
              "#7201a8"
             ],
             [
              0.3333333333333333,
              "#9c179e"
             ],
             [
              0.4444444444444444,
              "#bd3786"
             ],
             [
              0.5555555555555556,
              "#d8576b"
             ],
             [
              0.6666666666666666,
              "#ed7953"
             ],
             [
              0.7777777777777778,
              "#fb9f3a"
             ],
             [
              0.8888888888888888,
              "#fdca26"
             ],
             [
              1.0,
              "#f0f921"
             ]
            ]
           }
          ],
          "heatmap": [
           {
            "type": "heatmap",
            "colorbar": {
             "outlinewidth": 0,
             "ticks": ""
            },
            "colorscale": [
             [
              0.0,
              "#0d0887"
             ],
             [
              0.1111111111111111,
              "#46039f"
             ],
             [
              0.2222222222222222,
              "#7201a8"
             ],
             [
              0.3333333333333333,
              "#9c179e"
             ],
             [
              0.4444444444444444,
              "#bd3786"
             ],
             [
              0.5555555555555556,
              "#d8576b"
             ],
             [
              0.6666666666666666,
              "#ed7953"
             ],
             [
              0.7777777777777778,
              "#fb9f3a"
             ],
             [
              0.8888888888888888,
              "#fdca26"
             ],
             [
              1.0,
              "#f0f921"
             ]
            ]
           }
          ],
          "contourcarpet": [
           {
            "type": "contourcarpet",
            "colorbar": {
             "outlinewidth": 0,
             "ticks": ""
            }
           }
          ],
          "contour": [
           {
            "type": "contour",
            "colorbar": {
             "outlinewidth": 0,
             "ticks": ""
            },
            "colorscale": [
             [
              0.0,
              "#0d0887"
             ],
             [
              0.1111111111111111,
              "#46039f"
             ],
             [
              0.2222222222222222,
              "#7201a8"
             ],
             [
              0.3333333333333333,
              "#9c179e"
             ],
             [
              0.4444444444444444,
              "#bd3786"
             ],
             [
              0.5555555555555556,
              "#d8576b"
             ],
             [
              0.6666666666666666,
              "#ed7953"
             ],
             [
              0.7777777777777778,
              "#fb9f3a"
             ],
             [
              0.8888888888888888,
              "#fdca26"
             ],
             [
              1.0,
              "#f0f921"
             ]
            ]
           }
          ],
          "surface": [
           {
            "type": "surface",
            "colorbar": {
             "outlinewidth": 0,
             "ticks": ""
            },
            "colorscale": [
             [
              0.0,
              "#0d0887"
             ],
             [
              0.1111111111111111,
              "#46039f"
             ],
             [
              0.2222222222222222,
              "#7201a8"
             ],
             [
              0.3333333333333333,
              "#9c179e"
             ],
             [
              0.4444444444444444,
              "#bd3786"
             ],
             [
              0.5555555555555556,
              "#d8576b"
             ],
             [
              0.6666666666666666,
              "#ed7953"
             ],
             [
              0.7777777777777778,
              "#fb9f3a"
             ],
             [
              0.8888888888888888,
              "#fdca26"
             ],
             [
              1.0,
              "#f0f921"
             ]
            ]
           }
          ],
          "mesh3d": [
           {
            "type": "mesh3d",
            "colorbar": {
             "outlinewidth": 0,
             "ticks": ""
            }
           }
          ],
          "scatter": [
           {
            "fillpattern": {
             "fillmode": "overlay",
             "size": 10,
             "solidity": 0.2
            },
            "type": "scatter"
           }
          ],
          "parcoords": [
           {
            "type": "parcoords",
            "line": {
             "colorbar": {
              "outlinewidth": 0,
              "ticks": ""
             }
            }
           }
          ],
          "scatterpolargl": [
           {
            "type": "scatterpolargl",
            "marker": {
             "colorbar": {
              "outlinewidth": 0,
              "ticks": ""
             }
            }
           }
          ],
          "bar": [
           {
            "error_x": {
             "color": "#2a3f5f"
            },
            "error_y": {
             "color": "#2a3f5f"
            },
            "marker": {
             "line": {
              "color": "#E5ECF6",
              "width": 0.5
             },
             "pattern": {
              "fillmode": "overlay",
              "size": 10,
              "solidity": 0.2
             }
            },
            "type": "bar"
           }
          ],
          "scattergeo": [
           {
            "type": "scattergeo",
            "marker": {
             "colorbar": {
              "outlinewidth": 0,
              "ticks": ""
             }
            }
           }
          ],
          "scatterpolar": [
           {
            "type": "scatterpolar",
            "marker": {
             "colorbar": {
              "outlinewidth": 0,
              "ticks": ""
             }
            }
           }
          ],
          "histogram": [
           {
            "marker": {
             "pattern": {
              "fillmode": "overlay",
              "size": 10,
              "solidity": 0.2
             }
            },
            "type": "histogram"
           }
          ],
          "scattergl": [
           {
            "type": "scattergl",
            "marker": {
             "colorbar": {
              "outlinewidth": 0,
              "ticks": ""
             }
            }
           }
          ],
          "scatter3d": [
           {
            "type": "scatter3d",
            "line": {
             "colorbar": {
              "outlinewidth": 0,
              "ticks": ""
             }
            },
            "marker": {
             "colorbar": {
              "outlinewidth": 0,
              "ticks": ""
             }
            }
           }
          ],
          "scattermap": [
           {
            "type": "scattermap",
            "marker": {
             "colorbar": {
              "outlinewidth": 0,
              "ticks": ""
             }
            }
           }
          ],
          "scattermapbox": [
           {
            "type": "scattermapbox",
            "marker": {
             "colorbar": {
              "outlinewidth": 0,
              "ticks": ""
             }
            }
           }
          ],
          "scatterternary": [
           {
            "type": "scatterternary",
            "marker": {
             "colorbar": {
              "outlinewidth": 0,
              "ticks": ""
             }
            }
           }
          ],
          "scattercarpet": [
           {
            "type": "scattercarpet",
            "marker": {
             "colorbar": {
              "outlinewidth": 0,
              "ticks": ""
             }
            }
           }
          ],
          "carpet": [
           {
            "aaxis": {
             "endlinecolor": "#2a3f5f",
             "gridcolor": "white",
             "linecolor": "white",
             "minorgridcolor": "white",
             "startlinecolor": "#2a3f5f"
            },
            "baxis": {
             "endlinecolor": "#2a3f5f",
             "gridcolor": "white",
             "linecolor": "white",
             "minorgridcolor": "white",
             "startlinecolor": "#2a3f5f"
            },
            "type": "carpet"
           }
          ],
          "table": [
           {
            "cells": {
             "fill": {
              "color": "#EBF0F8"
             },
             "line": {
              "color": "white"
             }
            },
            "header": {
             "fill": {
              "color": "#C8D4E3"
             },
             "line": {
              "color": "white"
             }
            },
            "type": "table"
           }
          ],
          "barpolar": [
           {
            "marker": {
             "line": {
              "color": "#E5ECF6",
              "width": 0.5
             },
             "pattern": {
              "fillmode": "overlay",
              "size": 10,
              "solidity": 0.2
             }
            },
            "type": "barpolar"
           }
          ],
          "pie": [
           {
            "automargin": true,
            "type": "pie"
           }
          ]
         },
         "layout": {
          "autotypenumbers": "strict",
          "colorway": [
           "#636efa",
           "#EF553B",
           "#00cc96",
           "#ab63fa",
           "#FFA15A",
           "#19d3f3",
           "#FF6692",
           "#B6E880",
           "#FF97FF",
           "#FECB52"
          ],
          "font": {
           "color": "#2a3f5f"
          },
          "hovermode": "closest",
          "hoverlabel": {
           "align": "left"
          },
          "paper_bgcolor": "white",
          "plot_bgcolor": "#E5ECF6",
          "polar": {
           "bgcolor": "#E5ECF6",
           "angularaxis": {
            "gridcolor": "white",
            "linecolor": "white",
            "ticks": ""
           },
           "radialaxis": {
            "gridcolor": "white",
            "linecolor": "white",
            "ticks": ""
           }
          },
          "ternary": {
           "bgcolor": "#E5ECF6",
           "aaxis": {
            "gridcolor": "white",
            "linecolor": "white",
            "ticks": ""
           },
           "baxis": {
            "gridcolor": "white",
            "linecolor": "white",
            "ticks": ""
           },
           "caxis": {
            "gridcolor": "white",
            "linecolor": "white",
            "ticks": ""
           }
          },
          "coloraxis": {
           "colorbar": {
            "outlinewidth": 0,
            "ticks": ""
           }
          },
          "colorscale": {
           "sequential": [
            [
             0.0,
             "#0d0887"
            ],
            [
             0.1111111111111111,
             "#46039f"
            ],
            [
             0.2222222222222222,
             "#7201a8"
            ],
            [
             0.3333333333333333,
             "#9c179e"
            ],
            [
             0.4444444444444444,
             "#bd3786"
            ],
            [
             0.5555555555555556,
             "#d8576b"
            ],
            [
             0.6666666666666666,
             "#ed7953"
            ],
            [
             0.7777777777777778,
             "#fb9f3a"
            ],
            [
             0.8888888888888888,
             "#fdca26"
            ],
            [
             1.0,
             "#f0f921"
            ]
           ],
           "sequentialminus": [
            [
             0.0,
             "#0d0887"
            ],
            [
             0.1111111111111111,
             "#46039f"
            ],
            [
             0.2222222222222222,
             "#7201a8"
            ],
            [
             0.3333333333333333,
             "#9c179e"
            ],
            [
             0.4444444444444444,
             "#bd3786"
            ],
            [
             0.5555555555555556,
             "#d8576b"
            ],
            [
             0.6666666666666666,
             "#ed7953"
            ],
            [
             0.7777777777777778,
             "#fb9f3a"
            ],
            [
             0.8888888888888888,
             "#fdca26"
            ],
            [
             1.0,
             "#f0f921"
            ]
           ],
           "diverging": [
            [
             0,
             "#8e0152"
            ],
            [
             0.1,
             "#c51b7d"
            ],
            [
             0.2,
             "#de77ae"
            ],
            [
             0.3,
             "#f1b6da"
            ],
            [
             0.4,
             "#fde0ef"
            ],
            [
             0.5,
             "#f7f7f7"
            ],
            [
             0.6,
             "#e6f5d0"
            ],
            [
             0.7,
             "#b8e186"
            ],
            [
             0.8,
             "#7fbc41"
            ],
            [
             0.9,
             "#4d9221"
            ],
            [
             1,
             "#276419"
            ]
           ]
          },
          "xaxis": {
           "gridcolor": "white",
           "linecolor": "white",
           "ticks": "",
           "title": {
            "standoff": 15
           },
           "zerolinecolor": "white",
           "automargin": true,
           "zerolinewidth": 2
          },
          "yaxis": {
           "gridcolor": "white",
           "linecolor": "white",
           "ticks": "",
           "title": {
            "standoff": 15
           },
           "zerolinecolor": "white",
           "automargin": true,
           "zerolinewidth": 2
          },
          "scene": {
           "xaxis": {
            "backgroundcolor": "#E5ECF6",
            "gridcolor": "white",
            "linecolor": "white",
            "showbackground": true,
            "ticks": "",
            "zerolinecolor": "white",
            "gridwidth": 2
           },
           "yaxis": {
            "backgroundcolor": "#E5ECF6",
            "gridcolor": "white",
            "linecolor": "white",
            "showbackground": true,
            "ticks": "",
            "zerolinecolor": "white",
            "gridwidth": 2
           },
           "zaxis": {
            "backgroundcolor": "#E5ECF6",
            "gridcolor": "white",
            "linecolor": "white",
            "showbackground": true,
            "ticks": "",
            "zerolinecolor": "white",
            "gridwidth": 2
           }
          },
          "shapedefaults": {
           "line": {
            "color": "#2a3f5f"
           }
          },
          "annotationdefaults": {
           "arrowcolor": "#2a3f5f",
           "arrowhead": 0,
           "arrowwidth": 1
          },
          "geo": {
           "bgcolor": "white",
           "landcolor": "#E5ECF6",
           "subunitcolor": "white",
           "showland": true,
           "showlakes": true,
           "lakecolor": "white"
          },
          "title": {
           "x": 0.05
          },
          "mapbox": {
           "style": "light"
          }
         }
        },
        "xaxis": {
         "anchor": "y",
         "domain": [
          0.0,
          1.0
         ],
         "title": {
          "text": "MaxTemp"
         }
        },
        "yaxis": {
         "anchor": "x",
         "domain": [
          0.0,
          1.0
         ],
         "title": {
          "text": "Rainfall"
         }
        },
        "legend": {
         "title": {
          "text": "RainTomorrow"
         },
         "tracegroupgap": 0
        },
        "margin": {
         "t": 60
        }
       },
       "config": {
        "plotlyServerURL": "https://plot.ly"
       }
      }
     },
     "metadata": {},
     "output_type": "display_data"
    }
   ],
   "execution_count": 102
  },
  {
   "metadata": {},
   "cell_type": "markdown",
   "source": "Wind Gust Speed Distribution – Histogram indicating typical and extreme wind gusts.",
   "id": "5a74a84eccd070ba"
  },
  {
   "metadata": {
    "ExecuteTime": {
     "end_time": "2025-06-15T17:28:05.152724Z",
     "start_time": "2025-06-15T17:28:03.245384Z"
    }
   },
   "cell_type": "code",
   "source": "px.histogram(df,x='WindGustSpeed')",
   "id": "899c585f4ccf8604",
   "outputs": [
    {
     "data": {
      "application/vnd.plotly.v1+json": {
       "data": [
        {
         "bingroup": "x",
         "hovertemplate": "WindGustSpeed=%{x}<br>count=%{y}<extra></extra>",
         "legendgroup": "",
         "marker": {
          "color": "#636efa",
          "pattern": {
           "shape": ""
          }
         },
         "name": "",
         "orientation": "v",
         "showlegend": false,
         "x": {
          "dtype": "f8",
          "bdata": "AAAAAAAARkAAAAAAAABGQAAAAAAAAEdAAAAAAAAAOEAAAAAAAIBEQAAAAAAAAExAAAAAAAAASUAAAAAAAIBBQAAAAAAAAFRAAAAAAAAAPEAAAAAAAAA+QAAAAAAAAD9AAAAAAACATkAAAAAAAABGQHg26jsbfUBAAAAAAAAASUAAAAAAAAA2QAAAAAAAgE9AAAAAAACARUAAAAAAAAA6QAAAAAAAADhAAAAAAACARUAAAAAAAIBEQAAAAAAAgEBAAAAAAACARUAAAAAAAIBBQAAAAAAAgExAAAAAAAAASEAAAAAAAABHQAAAAAAAAElAAAAAAACAQ0AAAAAAAABMQAAAAAAAgERAAAAAAAAAOkAAAAAAAIBCQAAAAAAAgERAAAAAAAAASkAAAAAAAIBMQAAAAAAAAEhAAAAAAACAQkAAAAAAAIBCQAAAAAAAAD9AAAAAAACAQUAAAAAAAIBBQAAAAAAAgENAAAAAAAAARkAAAAAAAABMQAAAAAAAgEBAAAAAAAAAPEAAAAAAAIBDQAAAAAAAgE5AAAAAAACATkAAAAAAAIBYQAAAAAAAAEpAAAAAAAAAS0AAAAAAAAA4QAAAAAAAgEBAAAAAAAAAP0AAAAAAAIBCQAAAAAAAADhAAAAAAAAAPEAAAAAAAABIQAAAAAAAwFRAAAAAAAAATEB4Nuo7G31AQHg26jsbfUBAAAAAAACAQUAAAAAAAIBCQAAAAAAAgE1AAAAAAAAASkAAAAAAAIBCQAAAAAAAgERAAAAAAAAAR0AAAAAAAABHQAAAAAAAgERAAAAAAACAQ0AAAAAAAIBEQAAAAAAAgEFAAAAAAAAAP0AAAAAAAAA/QAAAAAAAAEhAAAAAAACAREAAAAAAAAA8QAAAAAAAAD9AAAAAAACAUUAAAAAAAABHQAAAAAAAgEVAAAAAAAAAOkAAAAAAAAA4QAAAAAAAAEZAAAAAAAAAPkAAAAAAAIBBQAAAAAAAAEpAAAAAAACATEAAAAAAAABJQAAAAAAAAD5AAAAAAACAQkAAAAAAAAA4QAAAAAAAADhAAAAAAAAASUAAAAAAAABGQAAAAAAAgEJAAAAAAAAAP0AAAAAAAEBRQAAAAAAAgENAAAAAAACAQ0AAAAAAAIBBQAAAAAAAAEpAAAAAAAAAOEAAAAAAAAA2QAAAAAAAADxAAAAAAACAQkAAAAAAAIBCQAAAAAAAAEhAAAAAAAAAPkAAAAAAAIBAQAAAAAAAgEVAAAAAAAAAOEAAAAAAAAA2QAAAAAAAADZAAAAAAAAAOkAAAAAAAAA2QAAAAAAAADxAAAAAAACAWEAAAAAAAIBFQAAAAAAAAD9AAAAAAACAQUAAAAAAAAA8QAAAAAAAADFAAAAAAAAANkAAAAAAAABIQAAAAAAAAEdAAAAAAAAANEAAAAAAAAAzQAAAAAAAAD5AAAAAAACAT0AAAAAAAAA/QAAAAAAAADpAAAAAAAAAOEAAAAAAAAA/QAAAAAAAADxAAAAAAAAAMUAAAAAAAAAxQAAAAAAAgEBAAAAAAACAQ0AAAAAAAIBRQAAAAAAAgE9AAAAAAAAAOkAAAAAAAIBBQAAAAAAAADNAAAAAAAAAM0AAAAAAAAAzQAAAAAAAADZAAAAAAAAALkAAAAAAAAAzQAAAAAAAAC5AAAAAAAAANEAAAAAAAAA0QAAAAAAAAC5AAAAAAAAAMUAAAAAAAAAxQAAAAAAAAC5AAAAAAAAAOkAAAAAAAAA8QAAAAAAAgEFAAAAAAAAAS0AAAAAAAABKQAAAAAAAADRAAAAAAAAAKkAAAAAAAAAzQAAAAAAAACpAAAAAAAAANEAAAAAAAAA4QAAAAAAAAD5AAAAAAAAANEAAAAAAAAA/QAAAAAAAADNAAAAAAAAANEAAAAAAAAAqQAAAAAAAgEBAAAAAAAAAOkAAAAAAAABGQAAAAAAAACpAAAAAAAAAKkAAAAAAAAAqQAAAAAAAACpAAAAAAAAANEAAAAAAAAAmQAAAAAAAAD5AAAAAAACAQEAAAAAAAIBFQAAAAAAAgEJAAAAAAAAAKkAAAAAAAAAuQAAAAAAAADxAAAAAAAAAOEAAAAAAAAAqQAAAAAAAADFAAAAAAAAAKkAAAAAAAAAmQAAAAAAAACpAAAAAAAAAPEAAAAAAAABHQAAAAAAAADNAAAAAAACAQUAAAAAAAIBEQAAAAAAAADhAAAAAAAAAR0AAAAAAAAA2QAAAAAAAADZAAAAAAAAAOkAAAAAAAABSQAAAAAAAAEpAAAAAAAAAS0AAAAAAAIBOQAAAAAAAgENAAAAAAAAAP0AAAAAAAAAzQAAAAAAAADNAAAAAAAAAMUAAAAAAAAAqQAAAAAAAACpAAAAAAAAAOEAAAAAAAIBAQAAAAAAAgERAAAAAAAAAPkAAAAAAAAA2QAAAAAAAADhAAAAAAAAAMUAAAAAAAAA0QAAAAAAAADhAAAAAAACAQ0AAAAAAAIBFQAAAAAAAAEZAAAAAAAAAOkAAAAAAAAA2QAAAAAAAADRAAAAAAAAAKkAAAAAAAAA0QAAAAAAAAD9AAAAAAAAAOEAAAAAAAAA2QAAAAAAAgEFAAAAAAAAAPkAAAAAAAAA+QAAAAAAAgEJAAAAAAAAAMUAAAAAAAAAzQAAAAAAAgEFAAAAAAACATEAAAAAAAAA4QAAAAAAAAC5AAAAAAAAANEAAAAAAAIBFQAAAAAAAADhAAAAAAAAANkAAAAAAAAA2QAAAAAAAADhAAAAAAACAQ0AAAAAAAIBCQAAAAAAAAC5AAAAAAAAAMUAAAAAAAAA2QAAAAAAAgE1AAAAAAAAAOkAAAAAAAAA6QAAAAAAAgE9AAAAAAABAVUAAAAAAAIBFQAAAAAAAAD5AAAAAAAAAOEAAAAAAAIBNQAAAAAAAAExAAAAAAACAQ0AAAAAAAAA4QAAAAAAAADhAAAAAAACARUAAAAAAAIBBQAAAAAAAAD5AAAAAAACAQkAAAAAAAIBEQAAAAAAAAEdAAAAAAACAQUB4Nuo7G31AQAAAAAAAAD9AAAAAAACAQ0AAAAAAAIBBQAAAAAAAADhAAAAAAAAANEAAAAAAAAAxQAAAAAAAADhAAAAAAAAAR0AAAAAAAAA2QAAAAAAAgEBAAAAAAACARUAAAAAAAABJQAAAAAAAAExAAAAAAACAREAAAAAAAABGQAAAAAAAAExAAAAAAACATkAAAAAAAIBFQAAAAAAAADNAAAAAAACAQUAAAAAAAAA8QAAAAAAAAD5AAAAAAAAAP0AAAAAAAAA0QAAAAAAAgEFAAAAAAACAQkAAAAAAAIBBQAAAAAAAgENAAAAAAACAQEAAAAAAAAA2QAAAAAAAAEhAAAAAAACATUAAAAAAAABJQAAAAAAAQFBAAAAAAAAASUAAAAAAAIBDQAAAAAAAADxAAAAAAAAAOEAAAAAAAAAzQAAAAAAAAD5AAAAAAAAANEAAAAAAAAA4QAAAAAAAgEFAAAAAAAAAPkAAAAAAAIBPQAAAAAAAgEFAAAAAAAAAOkAAAAAAAAAzQAAAAAAAAD9AAAAAAAAANkAAAAAAAAA0QAAAAAAAgEBAAAAAAAAANEAAAAAAAABHQAAAAAAAgENAAAAAAAAARkAAAAAAAAA8QAAAAAAAADZAAAAAAAAAPEAAAAAAAIBCQAAAAAAAgEBAAAAAAAAAOkAAAAAAAIBFQAAAAAAAAD9AAAAAAAAAR0AAAAAAAIBBQAAAAAAAAEtAAAAAAAAAPkAAAAAAAAA4QAAAAAAAgEJAAAAAAACAU0AAAAAAAIBCQAAAAAAAgE5AAAAAAAAAOEAAAAAAAAA+QAAAAAAAADhAAAAAAACAU0AAAAAAAAA4QAAAAAAAAEpAAAAAAAAAR0AAAAAAAABJQAAAAAAAgEJAAAAAAACAQ0AAAAAAAABJQAAAAAAAAEZAAAAAAACAQkAAAAAAAAA8QAAAAAAAgENAAAAAAAAAS0AAAAAAAAA+QAAAAAAAAEpAAAAAAACAREAAAAAAAIBDQAAAAAAAgEVAAAAAAAAAPEAAAAAAAAA8QAAAAAAAgENAAAAAAADAWkAAAAAAAIBEQAAAAAAAgEJAAAAAAAAAP0AAAAAAAIBDQAAAAAAAgENAAAAAAACAQkAAAAAAAIBPQAAAAAAAAD9AAAAAAACAQEAAAAAAAAA4QAAAAAAAgEBAAAAAAAAAP0AAAAAAAIBAQAAAAAAAAEZAAAAAAACAQ0AAAAAAAABMQAAAAAAAAD5AAAAAAAAAPkAAAAAAAABHQAAAAAAAgERAAAAAAAAAPEAAAAAAAAA+QAAAAAAAgERAAAAAAACAREAAAAAAAAA+QAAAAAAAgFJAAAAAAAAARkAAAAAAAIBBQAAAAAAAgEBAAAAAAAAAR0AAAAAAAIBMQAAAAAAAAEpAAAAAAAAASUAAAAAAAABIQAAAAAAAAExAAAAAAABAUUAAAAAAAIBFQAAAAAAAADxAAAAAAACAQUAAAAAAAIBDQAAAAAAAgEVAAAAAAACAQUAAAAAAAIBBQAAAAAAAAEdAAAAAAAAARkAAAAAAAMBQQAAAAAAAgENAAAAAAACATEAAAAAAAABGQAAAAAAAgEBAAAAAAACARUAAAAAAAIBCQAAAAAAAgEJAeDbqOxt9QEAAAAAAAABHQHg26jsbfUBAAAAAAAAAOEAAAAAAAAA4QAAAAAAAgERAAAAAAAAASkAAAAAAAAA/QHg26jsbfUBAAAAAAAAAP0AAAAAAAAA6QAAAAAAAgExAAAAAAACATUAAAAAAAABHQAAAAAAAAD9AAAAAAAAAOEAAAAAAAAA2QHg26jsbfUBAAAAAAAAAOkAAAAAAAIBDQHg26jsbfUBAAAAAAAAAPEAAAAAAAAAzQHg26jsbfUBAAAAAAACAQkAAAAAAAIBDQAAAAAAAgENAAAAAAAAATEAAAAAAAABHQHg26jsbfUBAAAAAAAAAPEAAAAAAAAA0QAAAAAAAADhAAAAAAAAAOEAAAAAAAAA2QAAAAAAAAEdAAAAAAAAAM0AAAAAAAABIQAAAAAAAgEBAAAAAAACAQUAAAAAAAABGQAAAAAAAAD5AAAAAAAAAP0AAAAAAAAA2QAAAAAAAADhAAAAAAAAAOEAAAAAAAAA0QAAAAAAAgENAAAAAAAAAOkAAAAAAAAA8QAAAAAAAADxAAAAAAAAAOkAAAAAAAAA0QAAAAAAAADpAAAAAAAAANEAAAAAAAAAxQAAAAAAAgEBAAAAAAAAAPkAAAAAAAABHQAAAAAAAADZAAAAAAAAANkAAAAAAAIBMQAAAAAAAgERAAAAAAAAAM0AAAAAAAAAzQAAAAAAAADFAAAAAAAAAM0AAAAAAAAAxQAAAAAAAADFAAAAAAAAAMUAAAAAAAAA6QAAAAAAAADRAAAAAAAAAMUAAAAAAAIBBQAAAAAAAAEdAAAAAAACAQkAAAAAAAAAuQAAAAAAAADFAAAAAAAAAPkAAAAAAAAA8QAAAAAAAACpAAAAAAAAANkAAAAAAAAAuQAAAAAAAAD5AAAAAAACATkAAAAAAAIBDQAAAAAAAgEFAAAAAAAAANEAAAAAAAAAqQAAAAAAAADFAAAAAAAAAMUAAAAAAAIBFQAAAAAAAADxAAAAAAAAAPkAAAAAAAAAuQAAAAAAAACpAAAAAAAAAKkAAAAAAAABIQAAAAAAAADFAAAAAAAAAPEAAAAAAAAAqQAAAAAAAAC5AAAAAAAAANkAAAAAAAAA4QAAAAAAAADRAAAAAAAAAOkAAAAAAAAA+QAAAAAAAACZAAAAAAAAANkAAAAAAAAA6QAAAAAAAAEdAAAAAAAAASEAAAAAAAAAqQAAAAAAAACpAAAAAAAAAMUAAAAAAAAAzQAAAAAAAADFAAAAAAAAAKkAAAAAAAAAxQAAAAAAAADNAAAAAAACAQkAAAAAAAABGQAAAAAAAADxAAAAAAAAANkAAAAAAAAAmQAAAAAAAADFAAAAAAAAAJkAAAAAAAABKQAAAAAAAgFdAAAAAAAAAOEAAAAAAAIBBQAAAAAAAgENAAAAAAAAAMUAAAAAAAAAuQAAAAAAAADRAAAAAAAAAOEAAAAAAAAA/QAAAAAAAgEFAAAAAAAAANkAAAAAAAABKQAAAAAAAADRAAAAAAAAAOEAAAAAAAAAqQAAAAAAAADNAAAAAAAAAJkAAAAAAAAAqQAAAAAAAADZAAAAAAACAQUAAAAAAAABJQAAAAAAAACpAAAAAAAAALkAAAAAAAABHQAAAAAAAADxAAAAAAAAAKkAAAAAAAIBNQAAAAAAAgExAAAAAAACARUAAAAAAAABIQAAAAAAAAC5AAAAAAAAAOEAAAAAAAAA0QAAAAAAAADNAAAAAAAAAMUAAAAAAAAAzQAAAAAAAADFAAAAAAAAANkAAAAAAAAA0QAAAAAAAADNAAAAAAAAALkAAAAAAAAAuQAAAAAAAADRAAAAAAAAAPkAAAAAAAAA+QAAAAAAAgERAAAAAAACAQ0AAAAAAAAA8QHg26jsbfUBAAAAAAAAAPEAAAAAAAAA2QAAAAAAAAC5AAAAAAAAALkAAAAAAAAA/QAAAAAAAgERAAAAAAACAQEAAAAAAAABJQAAAAAAAADRAAAAAAACAREAAAAAAAABHQAAAAAAAAExAAAAAAAAALkAAAAAAAAA/QAAAAAAAgExAAAAAAAAAR0AAAAAAAIBDQAAAAAAAADpAAAAAAAAAMUAAAAAAAMBQQAAAAAAAQFBAAAAAAAAASUAAAAAAAIBFQAAAAAAAADZAAAAAAAAALkAAAAAAAAA0QAAAAAAAADRAAAAAAAAAMUAAAAAAAIBAQAAAAAAAADpAAAAAAACAUUAAAAAAAABSQAAAAAAAAElAAAAAAAAASkAAAAAAAAA4QAAAAAAAgENAAAAAAAAASUAAAAAAAIBBQAAAAAAAADZAAAAAAAAAP0AAAAAAAABHQAAAAAAAgEVAAAAAAAAAS0AAAAAAAIBDQAAAAAAAAD9AAAAAAAAAPkAAAAAAAAA4QAAAAAAAADhAAAAAAAAAOkAAAAAAAAA8QAAAAAAAgEBAAAAAAAAAPEAAAAAAAAA4QAAAAAAAgEVAAAAAAACAQ0AAAAAAAIBDQAAAAAAAADxAAAAAAAAANEAAAAAAAIBCQAAAAAAAgEFAAAAAAACAQUAAAAAAAAA4QAAAAAAAQFFAAAAAAAAAR0AAAAAAAAA+QAAAAAAAADFAAAAAAACAQ0AAAAAAAIBCQAAAAAAAAD9AAAAAAAAAPkAAAAAAAAA4QAAAAAAAgE9AAAAAAAAASkAAAAAAAIBBQAAAAAAAgENAAAAAAAAANkAAAAAAAAA0QAAAAAAAADRAAAAAAAAAPkAAAAAAAAA8QAAAAAAAADpAAAAAAAAANkAAAAAAAIBAQAAAAAAAgEFAAAAAAAAAOkAAAAAAAIBDQAAAAAAAgEBAAAAAAAAASkAAAAAAAIBBQAAAAAAAAEZAAAAAAACAQUAAAAAAAIBAQAAAAAAAAEZAAAAAAAAAP0AAAAAAAABLQAAAAAAAAD9AAAAAAAAAR0AAAAAAAABHQAAAAAAAADxAAAAAAACAREAAAAAAAIBOQAAAAAAAADpAAAAAAACAQkAAAAAAAIBAQAAAAAAAgEVAAAAAAACAQkAAAAAAAAA6QAAAAAAAADpAAAAAAAAANkAAAAAAAAA6QAAAAAAAAD9AAAAAAACAQUAAAAAAAABGQAAAAAAAgENAAAAAAAAARkAAAAAAAABGQAAAAAAAgEVAAAAAAACAQUAAAAAAAAA4QAAAAAAAAElAAAAAAACAREAAAAAAAABGQAAAAAAAADxAAAAAAACARUAAAAAAAIBFQAAAAAAAgE5AAAAAAACAQ0AAAAAAAABHQAAAAAAAgEVAAAAAAAAAR0AAAAAAAIBAQAAAAAAAADhAAAAAAACAQUAAAAAAAIBFQAAAAAAAAEdAAAAAAAAAU0AAAAAAAIBOQAAAAAAAAEpAAAAAAACAREAAAAAAAAA8QAAAAAAAgERAAAAAAAAAP0AAAAAAAIBBQAAAAAAAgEVAAAAAAACATEAAAAAAAIBCQAAAAAAAAD5AAAAAAACAREAAAAAAAABHQAAAAAAAADpAAAAAAACAQUAAAAAAAIBBQAAAAAAAADhAAAAAAAAAP0AAAAAAAAA+QAAAAAAAADpAAAAAAAAAP0AAAAAAAIBOQAAAAAAAgEJAAAAAAACAQkAAAAAAAABGQAAAAAAAgERAAAAAAAAASkAAAAAAAAA4QAAAAAAAAD9AAAAAAAAASEAAAAAAAAA8QAAAAAAAADxAAAAAAAAANkAAAAAAAIBCQAAAAAAAgEVAAAAAAACAQ0AAAAAAAIBBQAAAAAAAADxAAAAAAACAQ0AAAAAAAIBDQAAAAAAAADxAAAAAAACAQUAAAAAAAAA8QAAAAAAAADhAAAAAAACATkAAAAAAAIBEQAAAAAAAAD9AAAAAAABAVEAAAAAAAAA8QAAAAAAAgEVAAAAAAAAAOkAAAAAAAAA2QAAAAAAAADRAAAAAAAAAPEAAAAAAAABLQAAAAAAAADxAAAAAAAAAOEAAAAAAAAA0QAAAAAAAADhAAAAAAAAAP0AAAAAAAAA+QAAAAAAAAEpAAAAAAACATUAAAAAAAIBFQAAAAAAAgERAAAAAAABAUUAAAAAAAAA8QAAAAAAAADxAAAAAAAAAOEAAAAAAAIBAQAAAAAAAADRAAAAAAAAANEAAAAAAAABGQAAAAAAAADhAAAAAAACAQkAAAAAAAIBAQAAAAAAAAD5AAAAAAAAANkAAAAAAAAA/QAAAAAAAAD5AAAAAAAAAPkAAAAAAAAA2QAAAAAAAAD5AAAAAAACAQkAAAAAAAABLQAAAAAAAADNAAAAAAAAAOEAAAAAAAAA+QAAAAAAAADZAAAAAAAAANEAAAAAAAAA4QAAAAAAAgExAAAAAAAAAPkAAAAAAAIBCQAAAAAAAgEJAAAAAAAAARkAAAAAAAIBFQAAAAAAAADpAAAAAAAAAM0AAAAAAAAA0QAAAAAAAADpAAAAAAACAQEAAAAAAAAA4QAAAAAAAAC5AAAAAAAAAOEAAAAAAAAA8QAAAAAAAADxAAAAAAAAAOEAAAAAAAAAqQAAAAAAAADFAAAAAAAAAOEAAAAAAAABGQAAAAAAAADpAAAAAAAAAS0AAAAAAAAA4QAAAAAAAgEFAAAAAAACAQUAAAAAAAAAuQAAAAAAAADRAAAAAAAAALkAAAAAAAAA0QAAAAAAAACpAAAAAAAAALkAAAAAAAAAzQAAAAAAAAEdAAAAAAAAARkAAAAAAAAA6QAAAAAAAAD5AAAAAAAAAOkAAAAAAAAAxQAAAAAAAAC5AAAAAAAAAJkAAAAAAAAA6QAAAAAAAADZAAAAAAAAAMUAAAAAAAAAuQAAAAAAAADRAAAAAAAAAOEAAAAAAAAA8QAAAAAAAADpAAAAAAAAASkAAAAAAAIBCQAAAAAAAgEBAAAAAAAAANEAAAAAAAAA6QAAAAAAAADxAAAAAAAAANEAAAAAAAIBBQAAAAAAAAC5AAAAAAAAAR0AAAAAAAIBBQAAAAAAAADxAAAAAAAAANEAAAAAAAABHQAAAAAAAQFBAAAAAAACARUAAAAAAAIBFQAAAAAAAAC5AAAAAAAAAKkAAAAAAAAA4QAAAAAAAACpAAAAAAAAALkAAAAAAAAAxQAAAAAAAADRAAAAAAAAAKkAAAAAAAAA0QAAAAAAAAEhAAAAAAABAUUAAAAAAAIBNQAAAAAAAgE5AAAAAAAAASkAAAAAAAAA8QAAAAAAAADxAAAAAAAAAR0AAAAAAAAA+QAAAAAAAADxAAAAAAAAAPkAAAAAAAAAuQAAAAAAAADFAAAAAAAAANEAAAAAAAAA/QAAAAAAAgEBAAAAAAAAAKkAAAAAAAIBAQAAAAAAAADpAAAAAAACAQEAAAAAAAAAzQAAAAAAAADNAAAAAAAAAOkAAAAAAAAA8QAAAAAAAAC5AAAAAAACAREAAAAAAAAAxQAAAAAAAADNAAAAAAAAANEAAAAAAAAA0QAAAAAAAADpAAAAAAAAAPEAAAAAAAIBBQAAAAAAAAEZAAAAAAAAAPkAAAAAAAAA8QAAAAAAAADhAAAAAAAAAOEAAAAAAAAAzQAAAAAAAgEJAAAAAAAAAOEAAAAAAAAAqQAAAAAAAADZAAAAAAAAALkAAAAAAAAA4QAAAAAAAAEZAAAAAAACAQUAAAAAAAAA8QAAAAAAAADZAAAAAAAAANEAAAAAAAAA2QAAAAAAAADFAAAAAAAAAMUAAAAAAAAA/QAAAAAAAADhAAAAAAAAAP0AAAAAAAAA4QAAAAAAAADpAAAAAAAAANEAAAAAAAAA6QAAAAAAAAC5AAAAAAAAAMUAAAAAAAAA+QAAAAAAAAD9AAAAAAAAAP0AAAAAAAABMQAAAAAAAAD5AAAAAAAAANkAAAAAAAIBMQHg26jsbfUBAeDbqOxt9QEB4Nuo7G31AQHg26jsbfUBAAAAAAACAQEAAAAAAAAA/QAAAAAAAADhAAAAAAAAAOkAAAAAAAAAzQAAAAAAAgExAAAAAAACATkAAAAAAAAA+QAAAAAAAAD5AAAAAAACAQUAAAAAAAIBCQAAAAAAAgEVAAAAAAAAANEAAAAAAAIBBQAAAAAAAwFRAAAAAAACATUAAAAAAAABIQAAAAAAAADpAAAAAAACAQUAAAAAAAAA2QAAAAAAAADhAAAAAAAAAM0AAAAAAAAAqQAAAAAAAgERAAAAAAACAQEAAAAAAAABHQHg26jsbfUBAAAAAAACAQ0AAAAAAAAA4QAAAAAAAADxAAAAAAAAAPEAAAAAAAIBFQAAAAAAAAElAAAAAAAAANkAAAAAAAAA2QAAAAAAAADRAAAAAAAAAP0AAAAAAAIBBQAAAAAAAADZAAAAAAAAAOEAAAAAAAIBFQAAAAAAAgENAAAAAAAAAPEAAAAAAAAA8QAAAAAAAAD9AAAAAAAAARkAAAAAAAABJQAAAAAAAAD5AAAAAAACAREAAAAAAAABHQAAAAAAAgENAAAAAAAAAOEAAAAAAAIBBQAAAAAAAAElAAAAAAAAAPkAAAAAAAIBDQAAAAAAAgFNAAAAAAACATkAAAAAAAIBBQAAAAAAAgEBAAAAAAAAAP0AAAAAAAABHQAAAAAAAgEJAAAAAAACARUAAAAAAAAA0QAAAAAAAAD9AAAAAAACAQEAAAAAAAABGQAAAAAAAgEBAAAAAAAAAP0AAAAAAAIBCQHg26jsbfUBAeDbqOxt9QEB4Nuo7G31AQHg26jsbfUBAAAAAAACAQUAAAAAAAIBNQAAAAAAAAEhAAAAAAAAAP0AAAAAAAIBDQAAAAAAAADhAAAAAAAAASEAAAAAAAIBFQAAAAAAAgEVAAAAAAAAAPEAAAAAAAABHQAAAAAAAgEBAAAAAAACAQkAAAAAAAIBCQAAAAAAAgEFAAAAAAACARUAAAAAAAAA8QAAAAAAAADZAAAAAAACAQUAAAAAAAAA+QAAAAAAAgEVAAAAAAAAARkAAAAAAAAA4QAAAAAAAgENAAAAAAAAAPkAAAAAAAABGQAAAAAAAAEtAAAAAAAAASkAAAAAAAABIQAAAAAAAADpAAAAAAAAAOkAAAAAAAAA2QAAAAAAAADZAAAAAAAAAP0AAAAAAAAA+QAAAAAAAADhAAAAAAACARUAAAAAAAIBBQAAAAAAAgEFAAAAAAAAAP0AAAAAAAAA/QAAAAAAAgENAAAAAAACARUAAAAAAAABJQAAAAAAAQFFAAAAAAACAQ0AAAAAAAAA/QAAAAAAAAD9AAAAAAACAREAAAAAAAIBDQAAAAAAAAD5AAAAAAAAAP0AAAAAAAAA8QAAAAAAAgEFAAAAAAAAASEAAAAAAAIBAQAAAAAAAgEBAAAAAAAAAOkAAAAAAAAA/QAAAAAAAADxAAAAAAACAQ0AAAAAAAAA/QAAAAAAAgEVAAAAAAAAASEAAAAAAAIBFQAAAAAAAgEFAAAAAAAAASkAAAAAAAAA/QAAAAAAAADxAAAAAAADAVUAAAAAAAAA/QAAAAAAAgEFAAAAAAAAAPEAAAAAAAAA6QAAAAAAAgEVAAAAAAACAQUAAAAAAAIBBQAAAAAAAADhAAAAAAAAAOkAAAAAAAAA8QAAAAAAAAD5AAAAAAAAAP0AAAAAAAAA8QAAAAAAAADpAAAAAAACAQ0AAAAAAAAA/QAAAAAAAAEZAAAAAAAAAP0AAAAAAAAA8QAAAAAAAAD9AAAAAAACAQkAAAAAAAAA/QAAAAAAAAEhAAAAAAAAAOEAAAAAAAIBMQAAAAAAAAEhAAAAAAAAASkAAAAAAAIBBQAAAAAAAgEBAAAAAAACARUAAAAAAAABKQAAAAAAAgEJAAAAAAACAQkAAAAAAAAA8QAAAAAAAAD5AAAAAAAAAOEAAAAAAAAA/QAAAAAAAAD9AAAAAAACAREAAAAAAAABHQAAAAAAAAD5AAAAAAAAAPEAAAAAAAAA+QAAAAAAAAD5AAAAAAAAASUAAAAAAAAA8QAAAAAAAAEtAAAAAAACAQkAAAAAAAAA4QAAAAAAAADhAAAAAAAAAKkAAAAAAAAA6QAAAAAAAADRAAAAAAAAANkAAAAAAAAA8QAAAAAAAADxAAAAAAAAAOEAAAAAAAAA+QAAAAAAAADFAAAAAAAAAM0AAAAAAAIBMQAAAAAAAgEVAAAAAAACAQUAAAAAAAABMQAAAAAAAADZAAAAAAAAANEAAAAAAAAA2QAAAAAAAAC5AAAAAAAAALkAAAAAAAAAxQAAAAAAAADNAAAAAAAAAOEAAAAAAAAA+QAAAAAAAADhAAAAAAAAAM0AAAAAAAIBFQAAAAAAAgEVAAAAAAACAQ0AAAAAAAIBBQAAAAAAAgENAAAAAAAAAM0AAAAAAAAAzQAAAAAAAADpAAAAAAAAAOkAAAAAAAAA+QAAAAAAAADhAAAAAAAAAPkAAAAAAAAA+QAAAAAAAADxAAAAAAAAAPEAAAAAAAAAxQAAAAAAAADRAAAAAAAAAPEAAAAAAAAA6QAAAAAAAACpAAAAAAACAQEAAAAAAAIBBQAAAAAAAgEVAAAAAAAAAMUAAAAAAAAAxQAAAAAAAADFAAAAAAAAAKkAAAAAAAAAqQAAAAAAAADFAAAAAAAAAMUAAAAAAAAAqQAAAAAAAADZAAAAAAACAQEAAAAAAAAA4QAAAAAAAgE1AAAAAAACAQUAAAAAAAAA0QAAAAAAAADFAAAAAAAAALkAAAAAAAAAmQAAAAAAAACpAAAAAAAAAJkAAAAAAAAAmQAAAAAAAAD9AAAAAAACAQUAAAAAAAEBQQAAAAAAAADRAAAAAAAAAMUAAAAAAAAAqQAAAAAAAACZAAAAAAAAAKkAAAAAAAAAuQAAAAAAAACZAAAAAAAAAKkAAAAAAAIBFQAAAAAAAADxAAAAAAAAANEAAAAAAAAA6QAAAAAAAADZAAAAAAAAAPEAAAAAAAAA0QAAAAAAAgEFAAAAAAAAARkAAAAAAAAA4QAAAAAAAADhAAAAAAAAAPEAAAAAAAAA2QAAAAAAAAC5AAAAAAAAALkAAAAAAAIBBQAAAAAAAgENAAAAAAAAAOkAAAAAAAAA8QAAAAAAAADhAAAAAAAAAMUAAAAAAAAAxQAAAAAAAACpAAAAAAAAAMUAAAAAAAAAxQAAAAAAAADhAAAAAAAAARkAAAAAAAIBDQAAAAAAAADxAAAAAAAAAOEAAAAAAAABIQAAAAAAAgEBAAAAAAAAANkAAAAAAAAAzQAAAAAAAgENAAAAAAAAAOEAAAAAAAAA/QAAAAAAAAC5AAAAAAAAAM0AAAAAAAAAqQAAAAAAAAC5AAAAAAAAAPEAAAAAAAIBCQAAAAAAAADFAAAAAAAAAPEAAAAAAAIBAQAAAAAAAACpAAAAAAAAANEAAAAAAAAA0QAAAAAAAADFAAAAAAAAAOEAAAAAAAAA8QAAAAAAAAEtAAAAAAAAASUAAAAAAAAA+QAAAAAAAgEFAAAAAAABAUEAAAAAAAABHQAAAAAAAADhAAAAAAAAANEAAAAAAAAA0QAAAAAAAgEBAAAAAAAAAOkAAAAAAAIBAQAAAAAAAAElAAAAAAACAQkAAAAAAAAA+QAAAAAAAADFAAAAAAACAQEAAAAAAAIBBQAAAAAAAgEVAAAAAAAAAR0AAAAAAAAA8QAAAAAAAAD9AAAAAAAAAM0AAAAAAAAA0QAAAAAAAAEhAAAAAAAAATEAAAAAAAIBDQAAAAAAAADpAAAAAAAAAOEAAAAAAAAAzQAAAAAAAADZAAAAAAADAVEAAAAAAAABGQAAAAAAAwFBAAAAAAAAAR0AAAAAAAAA+QAAAAAAAADZAAAAAAAAALkAAAAAAAAA8QAAAAAAAgExAAAAAAAAAP0AAAAAAAAAzQAAAAAAAADpAAAAAAAAANEAAAAAAAIBAQAAAAAAAgEVAAAAAAACAQ0AAAAAAAIBDQAAAAAAAADNAAAAAAAAASEAAAAAAAIBFQAAAAAAAADNAAAAAAAAARkAAAAAAAABLQAAAAAAAwFBAAAAAAAAASUAAAAAAAIBBQAAAAAAAgEVAAAAAAAAAM0AAAAAAAAA8QHg26jsbfUBAeDbqOxt9QEB4Nuo7G31AQAAAAAAAAD9AAAAAAAAAPEAAAAAAAAA/QAAAAAAAAD5AAAAAAAAAPEAAAAAAAABHQAAAAAAAgERAAAAAAACAQkAAAAAAAAA+QAAAAAAAgEFAAAAAAACAQEAAAAAAAAA6QAAAAAAAADhAAAAAAACAREAAAAAAAABIQAAAAAAAgEFAAAAAAAAAOEAAAAAAAAA2QAAAAAAAAEZAAAAAAAAAR0AAAAAAAABHQAAAAAAAADRAAAAAAAAAPEAAAAAAAAA/QAAAAAAAADhAAAAAAAAAS0AAAAAAAAA8QAAAAAAAAD9AAAAAAAAAP0AAAAAAAAA8QAAAAAAAgENAAAAAAAAAOEAAAAAAAIBBQAAAAAAAAEZAAAAAAAAAPkAAAAAAAAA8QAAAAAAAAEZAAAAAAAAAOEAAAAAAAAA4QAAAAAAAgEJAAAAAAACAQ0AAAAAAAAA8QAAAAAAAAEpAAAAAAACAREAAAAAAAAA4QAAAAAAAAEtAAAAAAAAAOEAAAAAAAAA4QAAAAAAAAD9AAAAAAACAREAAAAAAAIBFQAAAAAAAgEBAAAAAAAAAPkAAAAAAAIBBQAAAAAAAgEVAAAAAAAAARkAAAAAAAAA8QAAAAAAAADZAAAAAAAAARkAAAAAAAEBUQAAAAAAAgENAAAAAAACAREAAAAAAAIBTQAAAAAAAAEpAAAAAAAAAP0AAAAAAAIBCQAAAAAAAgEJAAAAAAACAQEAAAAAAAIBDQAAAAAAAAD5AAAAAAACAQUAAAAAAAIBBQAAAAAAAQFBAAAAAAAAAPEAAAAAAAAA2QAAAAAAAAElAAAAAAAAASkAAAAAAAAA+QAAAAAAAAEdAAAAAAACARUAAAAAAAABHQAAAAAAAAD9AAAAAAAAAS0AAAAAAAABJQAAAAAAAgEBAAAAAAAAASEAAAAAAAABJQAAAAAAAgERAAAAAAACAQkAAAAAAAAA4QAAAAAAAAD9AAAAAAAAAPEAAAAAAAAA+QAAAAAAAgEJAAAAAAAAAPkAAAAAAAAA4QAAAAAAAADpAAAAAAACAQUAAAAAAAIBBQAAAAAAAAD9AAAAAAAAANkAAAAAAAABHQAAAAAAAgEFAAAAAAACAQEAAAAAAAAA6QAAAAAAAAEdAAAAAAADAUEAAAAAAAIBAQAAAAAAAADxAAAAAAACAREAAAAAAAAA/QAAAAAAAgEBAAAAAAACATkAAAAAAAABHQAAAAAAAAD9AAAAAAAAAPEAAAAAAAAA+QAAAAAAAAD5AAAAAAAAAPkAAAAAAAIBBQAAAAAAAADZAAAAAAAAAM0AAAAAAAAA0QAAAAAAAgEVAAAAAAAAAMUAAAAAAAAAzQAAAAAAAADhAAAAAAAAAOEAAAAAAAAA8QAAAAAAAADxAAAAAAAAAMUAAAAAAAAA+QAAAAAAAADZAAAAAAAAAMUAAAAAAAIBDQAAAAAAAAEhAAAAAAACAQUAAAAAAAABHQAAAAAAAADpAAAAAAAAAPkAAAAAAAAA+QAAAAAAAAD9AAAAAAAAAOkAAAAAAAAA4QAAAAAAAADxAAAAAAAAAMUAAAAAAAAAzQAAAAAAAgEBAAAAAAAAAOEAAAAAAAAA2QAAAAAAAADxAAAAAAAAAMUAAAAAAAAA2QHg26jsbfUBAeDbqOxt9QEB4Nuo7G31AQAAAAAAAACpAAAAAAAAAOEAAAAAAAABHQAAAAAAAgERAAAAAAAAANkAAAAAAAIBDQAAAAAAAAElAAAAAAAAAP0AAAAAAAAA/QAAAAAAAADxAAAAAAAAANEAAAAAAAAAuQAAAAAAAAC5AAAAAAACAQEAAAAAAAAA2QAAAAAAAADZAAAAAAAAAIkAAAAAAAAAxQAAAAAAAAC5AAAAAAAAANkAAAAAAAAA6QAAAAAAAAD5AAAAAAACAQUAAAAAAAAA/QAAAAAAAADZAAAAAAAAAJkAAAAAAAIBNQAAAAAAAADZAAAAAAACAQ0AAAAAAAAAqQAAAAAAAACpAAAAAAAAAKkAAAAAAAAA0QAAAAAAAADxAAAAAAAAAPEAAAAAAAAAmQAAAAAAAADFAAAAAAAAAMUAAAAAAAAAmQAAAAAAAAC5AAAAAAAAAOEAAAAAAAAAuQAAAAAAAACpAAAAAAAAALkAAAAAAAAAzQAAAAAAAADpAAAAAAACAQ0AAAAAAAABIQAAAAAAAACZAAAAAAAAAKkAAAAAAAAAxQAAAAAAAADNAAAAAAAAANEAAAAAAAAA6QAAAAAAAAC5AAAAAAAAASEAAAAAAAABSQAAAAAAAgEFAAAAAAACAQ0AAAAAAAAA6QAAAAAAAADFAAAAAAAAALkAAAAAAAAAuQAAAAAAAADNAAAAAAAAAMUAAAAAAAIBAQAAAAAAAgEJAAAAAAAAANEAAAAAAAAA4QAAAAAAAgExAAAAAAAAASkAAAAAAAABKQAAAAAAAgEFAAAAAAAAAP0AAAAAAAAA+QAAAAAAAADFAAAAAAAAAKkAAAAAAAAAxQAAAAAAAADNAAAAAAACAQUAAAAAAAABKQAAAAAAAADhAAAAAAAAAMUAAAAAAAAAqQAAAAAAAAEpAAAAAAACARUAAAAAAAABIQAAAAAAAADpAAAAAAACAQkAAAAAAAAA8QAAAAAAAgEJAAAAAAAAANEAAAAAAAAA2QAAAAAAAADRAAAAAAABAUUAAAAAAAIBEQAAAAAAAAExAAAAAAAAANEAAAAAAAIBMQAAAAAAAAEZAAAAAAAAASUAAAAAAAABKQAAAAAAAgEFAAAAAAAAAPEAAAAAAAABGQAAAAAAAAEZAAAAAAAAANkAAAAAAAAA4QAAAAAAAADxAAAAAAAAAMUAAAAAAAAA0QAAAAAAAgExAAAAAAAAAPkAAAAAAAAA0QAAAAAAAADFAAAAAAAAALkAAAAAAAAAuQAAAAAAAAEtAAAAAAAAAPEAAAAAAAAA2QAAAAAAAgEBAAAAAAAAAPkAAAAAAAABKQAAAAAAAAElAAAAAAACAQUAAAAAAAABHQAAAAAAAADpAAAAAAAAAPEAAAAAAAABJQAAAAAAAAD5AAAAAAACAQUAAAAAAAIBRQAAAAAAAgENAAAAAAACARUAAAAAAAAA6QAAAAAAAAD5AAAAAAAAAP0AAAAAAAIBDQAAAAAAAAD9AAAAAAACAUUAAAAAAAAA2QAAAAAAAgE1AAAAAAAAAOkAAAAAAAABJQAAAAAAAAFJAAAAAAAAAVEAAAAAAAIBFQAAAAAAAADRAAAAAAAAAPEAAAAAAAIBEQAAAAAAAAD9AAAAAAAAAP0AAAAAAAAA8QAAAAAAAADxAAAAAAACAQkAAAAAAAAA8QAAAAAAAgE5AAAAAAAAARkAAAAAAAAA+QAAAAAAAAElAAAAAAABAUUAAAAAAAAA2QAAAAAAAADxAAAAAAACAQEAAAAAAAIBAQAAAAAAAAEpAAAAAAAAAR0AAAAAAAABMQAAAAAAAgEFAAAAAAACAQkAAAAAAAAA2QAAAAAAAAD5AAAAAAAAAR0AAAAAAAAA/QAAAAAAAADxAAAAAAAAAPkAAAAAAAAA6QAAAAAAAwFBAAAAAAAAAPkAAAAAAAIBAQAAAAAAAAD9AAAAAAAAANkAAAAAAAABIQAAAAAAAgEVAAAAAAACARUAAAAAAAABHQAAAAAAAAEdAAAAAAAAAP0AAAAAAAIBBQAAAAAAAgEFAAAAAAAAAS0AAAAAAAAA4QAAAAAAAAD9AAAAAAAAANkAAAAAAAIBNQAAAAAAAAD9AAAAAAAAAR0AAAAAAAIBAQAAAAAAAAElAAAAAAAAASEAAAAAAAIBAQAAAAAAAAD9AAAAAAAAAU0AAAAAAAIBAQAAAAAAAADpAAAAAAACAQEAAAAAAAAA8QAAAAAAAAEZAAAAAAAAAS0AAAAAAAABMQAAAAAAAgEVAAAAAAAAARkAAAAAAAAA/QAAAAAAAAElAAAAAAAAARkAAAAAAAIBFQAAAAAAAgEFAAAAAAACAQkAAAAAAAIBAQAAAAAAAgERAAAAAAACARUAAAAAAAAA+QAAAAAAAADxAAAAAAACAQkAAAAAAAABHQAAAAAAAAEtAAAAAAACAQ0AAAAAAAIBCQAAAAAAAADRAAAAAAAAAPEAAAAAAAABKQAAAAAAAADhAAAAAAACAQ0AAAAAAAIBBQAAAAAAAgERAAAAAAACARUAAAAAAAIBFQAAAAAAAAD9AAAAAAAAARkAAAAAAAABHQAAAAAAAQFBAAAAAAAAATEAAAAAAAIBEQAAAAAAAgEBAAAAAAAAAP0AAAAAAAAA8QAAAAAAAAD5AAAAAAAAAPkAAAAAAAABHQAAAAAAAgEBAAAAAAAAAPEAAAAAAAIBBQAAAAAAAgEBAAAAAAACAQ0AAAAAAAIBCQAAAAAAAAEpAAAAAAACAREAAAAAAAIBDQAAAAAAAAD9AAAAAAACAREAAAAAAAIBBQAAAAAAAADxAAAAAAAAAPEAAAAAAAAA/QAAAAAAAgENAAAAAAACAQUAAAAAAAABGQAAAAAAAgENAAAAAAAAAPEAAAAAAAIBMQAAAAAAAAEhAAAAAAACAQEAAAAAAAAA/QAAAAAAAgEJAAAAAAACAQEAAAAAAAIBPQAAAAAAAADxAAAAAAAAAPkAAAAAAAAAzQAAAAAAAADZAAAAAAAAAPEAAAAAAAAA0QAAAAAAAgEVAAAAAAAAAP0AAAAAAAIBBQAAAAAAAwFRAAAAAAAAAR0AAAAAAAIBBQAAAAAAAADhAAAAAAAAANEAAAAAAAAA4QAAAAAAAAEtAAAAAAACAREAAAAAAAIBAQAAAAAAAAD9AAAAAAAAASUAAAAAAAAA0QAAAAAAAADNAAAAAAACAREAAAAAAAAA8QAAAAAAAgERAAAAAAAAAPkAAAAAAAIBOQAAAAAAAADhAAAAAAAAAPEAAAAAAAABJQAAAAAAAAD9AAAAAAAAANEAAAAAAAIBCQAAAAAAAgE9AAAAAAAAASEAAAAAAAIBCQAAAAAAAAD9AAAAAAAAAPEAAAAAAAAA4QAAAAAAAAFJAAAAAAAAAOEAAAAAAAIBBQAAAAAAAADhAAAAAAAAAP0AAAAAAAAA4QAAAAAAAADxAAAAAAAAANEAAAAAAAAAzQAAAAAAAADZAAAAAAAAAM0AAAAAAAAAzQAAAAAAAADhAAAAAAAAAMUAAAAAAAABIQAAAAAAAAD5AAAAAAAAAM0AAAAAAAAA+QAAAAAAAADZAAAAAAAAANEAAAAAAAAA0QAAAAAAAAD5AAAAAAAAARkAAAAAAAAA8QAAAAAAAAD5AAAAAAAAASUAAAAAAAAA2QAAAAAAAADhAAAAAAACAQkAAAAAAAAA+QAAAAAAAADhAAAAAAAAAMUAAAAAAAAA8QAAAAAAAAD9AAAAAAACAQEAAAAAAAAA2QAAAAAAAgERAAAAAAAAAM0AAAAAAAAA0QAAAAAAAAEpAAAAAAAAAPEAAAAAAAAA4QAAAAAAAADpAAAAAAAAAPkAAAAAAAIBDQAAAAAAAAD5AAAAAAAAAOEAAAAAAAIBAQAAAAAAAADxAAAAAAAAAMUAAAAAAAAA2QAAAAAAAADpAAAAAAAAAKkAAAAAAAAAuQAAAAAAAADRAAAAAAAAALkAAAAAAAAAuQAAAAAAAACZAAAAAAAAAJkAAAAAAAIBAQAAAAAAAADNAAAAAAAAALkAAAAAAAAAzQAAAAAAAADNAAAAAAAAANkAAAAAAAAAuQAAAAAAAADNAAAAAAACAT0AAAAAAAAA6QAAAAAAAACpAAAAAAAAALkAAAAAAAAA2QAAAAAAAADhAAAAAAAAAOkAAAAAAAAA+QHg26jsbfUBAAAAAAAAAMUAAAAAAAAA0QAAAAAAAADFAAAAAAAAAPkAAAAAAAAAzQAAAAAAAACZAAAAAAAAAKkAAAAAAAAA4QAAAAAAAADRAAAAAAAAAM0AAAAAAAIBBQAAAAAAAgEVAAAAAAAAANkAAAAAAAAAqQAAAAAAAADFAAAAAAAAAOEAAAAAAAAAxQAAAAAAAAC5AAAAAAAAASkAAAAAAAMBQQAAAAAAAAEhAAAAAAAAASEAAAAAAAIBAQAAAAAAAAEZAAAAAAAAATEAAAAAAAAA8QAAAAAAAAEhAAAAAAAAANEAAAAAAAAAqQAAAAAAAADZAAAAAAACAQ0AAAAAAAIBAQAAAAAAAADNAAAAAAAAAPkAAAAAAAIBFQAAAAAAAgEFAAAAAAAAAPEAAAAAAAIBDQAAAAAAAADZAAAAAAAAAKkAAAAAAAAA4QAAAAAAAADRAAAAAAAAASUAAAAAAAIBDQAAAAAAAADRAAAAAAAAAKkAAAAAAAAAuQAAAAAAAACpAAAAAAAAAKkAAAAAAAAA0QAAAAAAAAEdAAAAAAAAANEAAAAAAAAAuQAAAAAAAADhAAAAAAACAREAAAAAAAIBFQAAAAAAAAExAAAAAAAAAS0AAAAAAAAA4QAAAAAAAAC5AAAAAAAAAKkAAAAAAAAA4QAAAAAAAACZAAAAAAAAAOkAAAAAAAAAqQAAAAAAAADFAAAAAAACAQ0AAAAAAAAA0QAAAAAAAADZAAAAAAAAAOEAAAAAAAAAqQAAAAAAAADNAAAAAAAAALkAAAAAAAAA2QAAAAAAAAD5AAAAAAAAASkAAAAAAAAAuQAAAAAAAAEpAAAAAAAAALkAAAAAAAAA2QAAAAAAAADpAAAAAAAAAKkAAAAAAAAA+QAAAAAAAAC5AAAAAAAAANkAAAAAAAAAxQAAAAAAAADRAAAAAAAAAM0AAAAAAAIBFQAAAAAAAgE5AAAAAAAAAOEAAAAAAAAA4QAAAAAAAADpAAAAAAAAAM0AAAAAAAAA4QAAAAAAAgEJAAAAAAACAU0AAAAAAAIBBQAAAAAAAAEtAAAAAAAAANkAAAAAAAAAxQAAAAAAAgEBAAAAAAAAAPEAAAAAAAIBCQAAAAAAAAEhAAAAAAACAQUAAAAAAAAA8QAAAAAAAADpAeDbqOxt9QEB4Nuo7G31AQHg26jsbfUBAAAAAAAAAPkAAAAAAAAA+QAAAAAAAADxAAAAAAAAAOkAAAAAAAIBAQAAAAAAAAD5AAAAAAAAAUkAAAAAAAIBEQAAAAAAAgENAeDbqOxt9QEAAAAAAAAA4QAAAAAAAAD9AAAAAAAAAUkAAAAAAAEBQQAAAAAAAgEVAAAAAAAAAOEAAAAAAAAAzQAAAAAAAADRAAAAAAAAASEAAAAAAAABIQAAAAAAAgERAAAAAAAAANkAAAAAAAIBDQAAAAAAAADxAAAAAAACAQ0AAAAAAAIBEQAAAAAAAAD9AAAAAAAAAOkAAAAAAAAA+QAAAAAAAAD9AAAAAAAAAR0AAAAAAAAA0QAAAAAAAgENAAAAAAADAUEAAAAAAAIBEQAAAAAAAADxAAAAAAACAQUAAAAAAAIBDQAAAAAAAgE1AAAAAAACARUAAAAAAAAA4QAAAAAAAgERAAAAAAACAREAAAAAAAAA+QAAAAAAAADRAAAAAAACAQkAAAAAAAIBCQAAAAAAAgERAAAAAAAAAOEAAAAAAAAA8QAAAAAAAADhAAAAAAAAASkAAAAAAAIBCQAAAAAAAAEpAAAAAAACAQEAAAAAAAAA/QAAAAAAAAD5AAAAAAAAATEAAAAAAAIBEQAAAAAAAgEFAAAAAAACAREAAAAAAAEBRQAAAAAAAAEZAAAAAAACAQUAAAAAAAAA6QAAAAAAAADhAAAAAAAAAPkAAAAAAAABGQAAAAAAAgExAAAAAAACAQ0AAAAAAAAA/QAAAAAAAgEJAAAAAAACAQkAAAAAAAIBFQAAAAAAAAD9AAAAAAACAQkAAAAAAAAA/QAAAAAAAgEBAAAAAAAAAS0AAAAAAAIBBQAAAAAAAAElAAAAAAAAAPEAAAAAAAIBDQAAAAAAAQFBAAAAAAACARUAAAAAAAABLQAAAAAAAgERAAAAAAAAAOkAAAAAAAAA8QAAAAAAAgEVAAAAAAACAREAAAAAAAIBMQAAAAAAAgERAAAAAAACARUAAAAAAAIBDQAAAAAAAADxAAAAAAABAVUAAAAAAAABHQAAAAAAAAD5AAAAAAAAAPkAAAAAAAABMQAAAAAAAAEhAAAAAAACAREAAAAAAAIBAQAAAAAAAgENAAAAAAAAAP0AAAAAAAABGQAAAAAAAAD5AAAAAAAAAOEAAAAAAAAA8QAAAAAAAgENAAAAAAACAQ0AAAAAAAABJQAAAAAAAgEVAAAAAAACAREAAAAAAAABIQAAAAAAAgEJAAAAAAAAAPEAAAAAAAIBNQAAAAAAAgEFAAAAAAAAAOEAAAAAAAIBPQAAAAAAAADxAAAAAAAAAR0AAAAAAAAA6QAAAAAAAgEVAAAAAAAAASUAAAAAAAABHQAAAAAAAgEBAAAAAAAAAP0AAAAAAAIBFQAAAAAAAgEBAAAAAAACAQEAAAAAAAIBCQAAAAAAAADxAAAAAAACAQEAAAAAAAIBFQAAAAAAAgERAAAAAAAAAP0AAAAAAAAA+QAAAAAAAQFRAAAAAAAAATEAAAAAAAAA/QAAAAAAAAD9AAAAAAAAAOEAAAAAAAIBEQAAAAAAAgEJAAAAAAAAASUAAAAAAAIBBQAAAAAAAAD5AAAAAAAAAP0AAAAAAAIBAQAAAAAAAAElAAAAAAACAQ0AAAAAAAAA4QAAAAAAAADhAAAAAAAAAPEAAAAAAAIBCQAAAAAAAgENAAAAAAACARUAAAAAAAAA+QAAAAAAAgEJAAAAAAAAAS0AAAAAAAIBFQAAAAAAAAD5AAAAAAACAQEAAAAAAAIBCQAAAAAAAgEBAAAAAAACAQ0AAAAAAAIBDQAAAAAAAgExAAAAAAAAAPkAAAAAAAIBCQAAAAAAAADpAAAAAAACAQEAAAAAAAIBEQAAAAAAAgEJAAAAAAACARUAAAAAAAAA8QAAAAAAAAElAAAAAAAAAR0AAAAAAAIBCQAAAAAAAAEpAAAAAAAAAR0AAAAAAAIBEQAAAAAAAADRAAAAAAAAAOEAAAAAAAAA6QAAAAAAAADZAAAAAAACAQEAAAAAAAIBCQAAAAAAAADpAAAAAAAAAPkAAAAAAAAA8QAAAAAAAADpAAAAAAACAQkAAAAAAAIBCQAAAAAAAAD9AAAAAAAAAOEAAAAAAAAAzQAAAAAAAAD9AAAAAAAAANEAAAAAAAAA4QAAAAAAAgENAAAAAAAAAPkAAAAAAAAAzQAAAAAAAgEFAAAAAAACAQUAAAAAAAABLQAAAAAAAAEhAAAAAAAAARkAAAAAAAAA+QAAAAAAAADpAAAAAAAAAOkAAAAAAAIBCQAAAAAAAADxAAAAAAAAANkAAAAAAAIBAQAAAAAAAADZAAAAAAAAAM0AAAAAAAAAmQAAAAAAAADZAAAAAAAAAMUAAAAAAAEBQQAAAAAAAgERAAAAAAACAQUAAAAAAAAA8QAAAAAAAgENAAAAAAAAAUkAAAAAAAABJQAAAAAAAAEZAAAAAAACARUAAAAAAAAA6QAAAAAAAAC5AAAAAAAAARkAAAAAAAAA0QAAAAAAAACpAAAAAAACATEAAAAAAAAA6QAAAAAAAADFAAAAAAACAQUAAAAAAAAAqQAAAAAAAACpAAAAAAAAALkAAAAAAAAAqQAAAAAAAADRAAAAAAACAQEAAAAAAAAA+QAAAAAAAAD9AAAAAAACAQEAAAAAAAABGQAAAAAAAAC5AAAAAAAAAMUAAAAAAAAAxQAAAAAAAADFAAAAAAAAAMUAAAAAAAAAuQAAAAAAAAEZAAAAAAACAQkAAAAAAAAA2QAAAAAAAgERAAAAAAAAAKkAAAAAAAAAmQAAAAAAAAC5AAAAAAAAAMUAAAAAAAAAzQAAAAAAAADRAAAAAAAAALkAAAAAAAAA2QAAAAAAAADRAAAAAAAAALkAAAAAAAAAqQAAAAAAAADxAAAAAAAAALkAAAAAAAAAxQAAAAAAAACZAAAAAAAAAM0AAAAAAAAA0QAAAAAAAAC5AAAAAAAAALkAAAAAAAAAzQAAAAAAAAElAAAAAAAAANEAAAAAAAAA4QAAAAAAAACpAAAAAAAAAMUAAAAAAAAA0QAAAAAAAACpAAAAAAAAAMUAAAAAAAAA4QAAAAAAAgEVAAAAAAAAAPkAAAAAAAABJQAAAAAAAgEBAAAAAAAAAPkAAAAAAAAAzQAAAAAAAAD9AAAAAAAAASkAAAAAAAAAqQAAAAAAAAC5AAAAAAAAAPEAAAAAAAABIQAAAAAAAACpAAAAAAACAQ0AAAAAAAIBBQAAAAAAAAEtAAAAAAAAAOkAAAAAAAAA6QAAAAAAAADFAAAAAAAAAPkAAAAAAAAA2QAAAAAAAADFAAAAAAACAQUAAAAAAAABKQAAAAAAAAD5AAAAAAAAAR0AAAAAAAAA0QAAAAAAAAEpAAAAAAAAARkAAAAAAAAAqQAAAAAAAAD9AAAAAAAAAPkAAAAAAAAA8QAAAAAAAgEBAAAAAAAAAKkAAAAAAAAAxQAAAAAAAAD5AAAAAAACARUAAAAAAAAAxQAAAAAAAADNAAAAAAAAAM0AAAAAAAIBCQAAAAAAAADhAAAAAAAAALkAAAAAAAIBBQAAAAAAAgEFAAAAAAAAAM0AAAAAAAABGQAAAAAAAADhAAAAAAAAAPkAAAAAAAAAzQAAAAAAAADhAAAAAAAAAOEAAAAAAAAA/QAAAAAAAgEFAAAAAAAAAOEAAAAAAAAA2QAAAAAAAgEBAAAAAAAAASUAAAAAAAIBFQAAAAAAAgERAAAAAAAAAPEAAAAAAAAA+QAAAAAAAADRAAAAAAAAANEAAAAAAAIBAQAAAAAAAAEtAAAAAAACAQUAAAAAAAIBBQAAAAAAAADhAAAAAAAAAOEAAAAAAAAA2QAAAAAAAgEFAAAAAAACAREAAAAAAAIBFQAAAAAAAgENAAAAAAACAQEAAAAAAAAA2QAAAAAAAADxAAAAAAACAQkAAAAAAAIBCQAAAAAAAADRAAAAAAAAAPkAAAAAAAAA0QAAAAAAAADpAAAAAAAAAOkAAAAAAAAA6QAAAAAAAAEhAAAAAAAAAPkAAAAAAAAAxQAAAAAAAADZAAAAAAACAQUAAAAAAAIBCQAAAAAAAgEJAAAAAAACAQ0AAAAAAAAA2QAAAAAAAgENAAAAAAAAANkAAAAAAAIBAQAAAAAAAADZAAAAAAAAANkAAAAAAAABLQAAAAAAAgEVAAAAAAACAQEAAAAAAAIBAQAAAAAAAAD5AAAAAAAAAPEAAAAAAAABIQAAAAAAAAEhAAAAAAAAAM0AAAAAAAAA2QAAAAAAAADxAAAAAAAAAPEAAAAAAAIBMQAAAAAAAAEZAAAAAAACAREAAAAAAAIBBQAAAAAAAgENAAAAAAACAQ0AAAAAAAIBCQAAAAAAAADZAAAAAAAAAPkAAAAAAAIBDQAAAAAAAAD9AAAAAAAAASUAAAAAAAIBBQAAAAAAAgENAAAAAAAAAP0AAAAAAAAA4QAAAAAAAgEFAAAAAAACAREAAAAAAAABGQAAAAAAAAExAAAAAAACAQEAAAAAAAAA+QAAAAAAAgERAAAAAAACAQUAAAAAAAABKQAAAAAAAgE9AAAAAAACAQkAAAAAAAAA+QAAAAAAAgEJAAAAAAAAAP0AAAAAAAIBFQAAAAAAAAEhAAAAAAAAAOEAAAAAAAAA4QAAAAAAAADpAAAAAAACAQEAAAAAAAAA/QAAAAAAAAEpAAAAAAACAQUAAAAAAAABHQAAAAAAAgExAAAAAAAAAP0AAAAAAAAA6QAAAAAAAgEVAAAAAAAAAOEAAAAAAAAA+QAAAAAAAADxAAAAAAAAAOkAAAAAAAIBBQAAAAAAAgE9AAAAAAACAQEAAAAAAAIBFQAAAAAAAAEZAAAAAAAAAPEAAAAAAAIBCQAAAAAAAAEpAAAAAAACAQUAAAAAAAAA+QAAAAAAAAD9AAAAAAAAAOkAAAAAAAAA6QAAAAAAAAEtAAAAAAAAASUAAAAAAAABIQAAAAAAAgENAAAAAAAAAP0AAAAAAAIBDQAAAAAAAgEFAAAAAAAAAOEAAAAAAAAA8QAAAAAAAgERAAAAAAAAATEAAAAAAAABMQAAAAAAAAFJAAAAAAAAASUAAAAAAAABHQAAAAAAAgEFAAAAAAAAAOEAAAAAAAAA8QAAAAAAAAElAAAAAAACAQ0AAAAAAAABMQAAAAAAAgENAAAAAAACAREAAAAAAAAA+QAAAAAAAgENAAAAAAAAAP0AAAAAAAIBCQAAAAAAAgEFAAAAAAAAASEAAAAAAAABKQAAAAAAAAEhAAAAAAAAAPEAAAAAAAAA2QAAAAAAAAD9AAAAAAAAAR0AAAAAAAAA+QAAAAAAAADZAAAAAAAAAPEAAAAAAAIBCQAAAAAAAADxAAAAAAACAQEAAAAAAAAA8QAAAAAAAADpAAAAAAAAAPkAAAAAAAABGQAAAAAAAgERAAAAAAACARUAAAAAAAIBDQAAAAAAAADxAAAAAAAAARkAAAAAAAAA+QAAAAAAAgEBAAAAAAAAAP0AAAAAAAIBEQAAAAAAAAEtAAAAAAACARUAAAAAAAIBAQAAAAAAAAD5AAAAAAAAAP0AAAAAAAAA4QAAAAAAAgEJAAAAAAAAAP0AAAAAAAABJQAAAAAAAADpAAAAAAAAAPEAAAAAAAABHQAAAAAAAADhAAAAAAAAAPkAAAAAAAIBDQAAAAAAAgERAAAAAAAAAR0AAAAAAAAA8QAAAAAAAAD5AAAAAAACAQkAAAAAAAIBAQAAAAAAAADhAAAAAAAAAOkAAAAAAAIBSQAAAAAAAAEdAAAAAAAAAP0AAAAAAAIBBQAAAAAAAAD9AAAAAAAAAPkAAAAAAAAA0QAAAAAAAgEFAAAAAAAAAPkAAAAAAAAA8QAAAAAAAAD5AAAAAAACAQUAAAAAAAIBAQAAAAAAAADNAAAAAAAAAPEAAAAAAAIBEQAAAAAAAADZAAAAAAAAANEAAAAAAAIBBQAAAAAAAgENAAAAAAAAANkAAAAAAAAAxQAAAAAAAADhAAAAAAACAQ0AAAAAAAAA/QAAAAAAAADZAAAAAAAAAOEAAAAAAAAA4QAAAAAAAADFAAAAAAAAAP0AAAAAAAAA+QAAAAAAAADxAAAAAAAAANEAAAAAAAAAzQAAAAAAAADNAAAAAAAAAP0AAAAAAAAA8QAAAAAAAADRAAAAAAAAALkAAAAAAAAAxQAAAAAAAgENAAAAAAAAAPEAAAAAAAIBNQAAAAAAAAD5AAAAAAACAT0AAAAAAAAA6QAAAAAAAAEpAAAAAAACAQkAAAAAAAAAzQAAAAAAAADZAAAAAAAAALkAAAAAAAIBEQAAAAAAAAEtAAAAAAAAAS0AAAAAAAIBFQAAAAAAAAEZAAAAAAAAAOEAAAAAAAABIQAAAAAAAAD5AAAAAAAAAOkAAAAAAAIBAQAAAAAAAADhAAAAAAACAQ0AAAAAAAIBBQAAAAAAAACpAAAAAAAAANEAAAAAAAIBNQAAAAAAAgEBAAAAAAAAAM0AAAAAAAAA/QAAAAAAAgEFAAAAAAAAAP0AAAAAAAAA4QAAAAAAAAC5AAAAAAAAAM0AAAAAAAAAuQAAAAAAAACpAAAAAAAAAPEAAAAAAAAA+QAAAAAAAgEFAAAAAAAAAP0AAAAAAAIBCQAAAAAAAgEFAAAAAAAAASEAAAAAAAAA8QAAAAAAAgEFAAAAAAAAALkAAAAAAAAAxQAAAAAAAACpAAAAAAAAALkAAAAAAAAAxQAAAAAAAADhAAAAAAAAALkAAAAAAAABGQAAAAAAAgEFAAAAAAACAREAAAAAAAIBFQAAAAAAAgE9AAAAAAAAASEAAAAAAAAA+QAAAAAAAAC5AAAAAAAAAPEAAAAAAAAAxQAAAAAAAAC5AAAAAAACATUAAAAAAAAA6QAAAAAAAADFAAAAAAAAANEAAAAAAAAAzQAAAAAAAADNAAAAAAACARUAAAAAAAAA+QAAAAAAAADFAAAAAAAAAKkAAAAAAAAA8QAAAAAAAAEZAAAAAAABAUUAAAAAAAABLQAAAAAAAADpAAAAAAAAANEAAAAAAAAAxQAAAAAAAADFAAAAAAAAAKkAAAAAAAAAxQAAAAAAAACpAAAAAAAAALkAAAAAAAABMQAAAAAAAgE9AAAAAAAAAPEAAAAAAAABMQAAAAAAAgENAAAAAAACAQ0AAAAAAAAA2QAAAAAAAADxAAAAAAAAANEAAAAAAAAA2QAAAAAAAgEBAAAAAAACAQUAAAAAAAAA+QAAAAAAAAD5AAAAAAAAAMUAAAAAAAAAxQAAAAAAAACpAAAAAAAAAKkAAAAAAAIBFQAAAAAAAgENAAAAAAACAQkAAAAAAAAAzQAAAAAAAADZAAAAAAAAANkAAAAAAAAAzQAAAAAAAADhAAAAAAAAANkAAAAAAAAA8QAAAAAAAAEpAAAAAAACARUAAAAAAAIBAQAAAAAAAAD9AAAAAAAAAOEAAAAAAAAAqQAAAAAAAgERAAAAAAAAAPkAAAAAAAAA2QAAAAAAAADhAAAAAAAAAOkAAAAAAAIBCQAAAAAAAgEVAAAAAAAAAMUAAAAAAAIBCQAAAAAAAAEhAAAAAAAAAOkAAAAAAAAA4QAAAAAAAAC5AAAAAAAAANkAAAAAAAIBAQAAAAAAAAElAAAAAAACARUAAAAAAAAA2QAAAAAAAADZAAAAAAAAAP0AAAAAAAABHQAAAAAAAgENAAAAAAAAAP0AAAAAAAAA6QAAAAAAAADhAAAAAAAAAOEAAAAAAAAA6QAAAAAAAAD9AAAAAAACAQ0AAAAAAAAA0QAAAAAAAAD9AAAAAAACAQ0AAAAAAAIBAQAAAAAAAgEJAAAAAAAAAP0AAAAAAAABMQAAAAAAAAEhAAAAAAAAAR0AAAAAAAABHQAAAAAAAgE1AAAAAAADAUEAAAAAAAIBDQAAAAAAAAD5AAAAAAAAAPkAAAAAAAAA8QAAAAAAAAEZAAAAAAACARUAAAAAAAIBDQAAAAAAAgEVAAAAAAACAQEAAAAAAAIBDQAAAAAAAgEFAAAAAAACAT0AAAAAAAIBDQAAAAAAAAEdAAAAAAACAQkAAAAAAAAA8QAAAAAAAAEdAAAAAAACATEAAAAAAAIBAQAAAAAAAADxAAAAAAAAAPkAAAAAAAIBCQAAAAAAAADxAAAAAAAAAOEAAAAAAAAA2QAAAAAAAQFFAAAAAAAAASkAAAAAAAIBAQAAAAAAAgEJAAAAAAACAQ0AAAAAAAABKQAAAAAAAgE5AAAAAAACAQ0AAAAAAAABJQAAAAAAAgEJAAAAAAAAAP0AAAAAAAABIQAAAAAAAADhAAAAAAAAAS0AAAAAAAABMQAAAAAAAAEdAAAAAAACAQEAAAAAAAAAzQAAAAAAAgEFAAAAAAAAANkAAAAAAAIBBQAAAAAAAAFJAAAAAAAAAS0AAAAAAAIBCQAAAAAAAAElAAAAAAACAQ0AAAAAAAIBEQAAAAAAAgEFAAAAAAAAANkAAAAAAAIBAQAAAAAAAgEBAAAAAAACARUAAAAAAAIBBQAAAAAAAgENAAAAAAACAQkAAAAAAAIBAQAAAAAAAAEZAAAAAAAAAP0AAAAAAAIBFQAAAAAAAgE9AAAAAAAAAR0AAAAAAAAA+QAAAAAAAAD9AAAAAAAAAP0AAAAAAAABKQAAAAAAAgEFAAAAAAACAQEAAAAAAAAA2QAAAAAAAAExAAAAAAACAQUAAAAAAAIBCQAAAAAAAgENAAAAAAAAARkAAAAAAAAA2QAAAAAAAgEBAAAAAAAAASEAAAAAAAIBAQAAAAAAAAEhAAAAAAACAQkAAAAAAAABJQAAAAAAAADxAAAAAAABAUEAAAAAAAIBBQAAAAAAAgENAAAAAAACAQUAAAAAAAAA4QAAAAAAAADpAAAAAAACAQUAAAAAAAAA+QAAAAAAAADxAAAAAAAAAOEAAAAAAAIBAQAAAAAAAADRAAAAAAACAQ0AAAAAAAAA0QAAAAAAAAEZAAAAAAACAREAAAAAAAAA6QAAAAAAAADZAAAAAAACAQ0AAAAAAAIBDQAAAAAAAADhAAAAAAAAAS0AAAAAAAAA4QAAAAAAAADxAAAAAAAAAR0AAAAAAAABJQAAAAAAAADxAAAAAAAAAOkAAAAAAAAA8QAAAAAAAgENAAAAAAACAQ0AAAAAAAABSQAAAAAAAgEFAAAAAAACAQ0AAAAAAAABKQAAAAAAAAD5AAAAAAAAAOkAAAAAAAABKQAAAAAAAAC5AAAAAAAAAPkAAAAAAAIBDQAAAAAAAgEBAAAAAAAAARkAAAAAAAIBDQAAAAAAAAElAAAAAAACARUAAAAAAAAA4QAAAAAAAAD9AAAAAAAAASkAAAAAAAIBCQAAAAAAAAEZAAAAAAADAUEAAAAAAAIBCQAAAAAAAAD5AAAAAAACAQ0AAAAAAAIBCQAAAAAAAAEpAAAAAAAAAP0AAAAAAAAA/QAAAAAAAAEhAAAAAAAAASUAAAAAAAAA4QAAAAAAAgEFAAAAAAAAAS0AAAAAAAIBDQAAAAAAAgEBAAAAAAACAQkAAAAAAAAA8QAAAAAAAADZAAAAAAACAQEAAAAAAAIBAQAAAAAAAADZAAAAAAABAUUAAAAAAAABHQAAAAAAAgERAAAAAAAAARkAAAAAAAIBBQAAAAAAAgEFAAAAAAAAAOEAAAAAAAAA4QAAAAAAAgEJAAAAAAACAQEAAAAAAAAA/QAAAAAAAgENAAAAAAAAANkAAAAAAAAA6QAAAAAAAADNAAAAAAABAVEAAAAAAAAA+QAAAAAAAADxAAAAAAACAQ0AAAAAAAAA2QAAAAAAAAEZAAAAAAAAAPEAAAAAAAAA/QAAAAAAAADNAAAAAAAAAM0AAAAAAAAAxQAAAAAAAADpAAAAAAAAAP0AAAAAAAABMQAAAAAAAgENAAAAAAAAAPEAAAAAAAAA2QAAAAAAAADRAAAAAAAAAP0AAAAAAAIBAQAAAAAAAADNAAAAAAAAANEAAAAAAAAA2QAAAAAAAADFAAAAAAAAAOkAAAAAAAAAxQAAAAAAAADNAAAAAAAAAKkAAAAAAAAAxQAAAAAAAgEFAAAAAAACARUAAAAAAAAA/QAAAAAAAADhAAAAAAAAAOEAAAAAAAAAxQAAAAAAAADFAAAAAAACAREAAAAAAAAA0QAAAAAAAADFAAAAAAAAAM0AAAAAAAIBFQAAAAAAAgEFAAAAAAAAAMUAAAAAAAAAuQAAAAAAAADFAAAAAAAAALkAAAAAAAAAxQAAAAAAAADxAAAAAAAAANEAAAAAAAAAxQAAAAAAAACpAAAAAAAAALkAAAAAAAAA0QAAAAAAAAD9AAAAAAAAAM0AAAAAAAAAqQAAAAAAAAElAAAAAAAAAOEAAAAAAAIBBQAAAAAAAADRAAAAAAAAALkAAAAAAAAAzQAAAAAAAAEZAAAAAAAAAP0AAAAAAAAA4QAAAAAAAACpAAAAAAAAALkAAAAAAAAAxQAAAAAAAACpAAAAAAAAAMUAAAAAAAAA0QAAAAAAAgEBAAAAAAAAANEAAAAAAAAA2QAAAAAAAACpAAAAAAAAAKkAAAAAAAAAqQAAAAAAAADFAAAAAAAAAMUAAAAAAAAAxQAAAAAAAADFAAAAAAAAALkAAAAAAAAAmQAAAAAAAADFAAAAAAAAAJkAAAAAAAAAmQAAAAAAAAC5AAAAAAAAAMUAAAAAAAABGQAAAAAAAADxAAAAAAAAAPEA="
         },
         "xaxis": "x",
         "yaxis": "y",
         "type": "histogram"
        }
       ],
       "layout": {
        "template": {
         "data": {
          "histogram2dcontour": [
           {
            "type": "histogram2dcontour",
            "colorbar": {
             "outlinewidth": 0,
             "ticks": ""
            },
            "colorscale": [
             [
              0.0,
              "#0d0887"
             ],
             [
              0.1111111111111111,
              "#46039f"
             ],
             [
              0.2222222222222222,
              "#7201a8"
             ],
             [
              0.3333333333333333,
              "#9c179e"
             ],
             [
              0.4444444444444444,
              "#bd3786"
             ],
             [
              0.5555555555555556,
              "#d8576b"
             ],
             [
              0.6666666666666666,
              "#ed7953"
             ],
             [
              0.7777777777777778,
              "#fb9f3a"
             ],
             [
              0.8888888888888888,
              "#fdca26"
             ],
             [
              1.0,
              "#f0f921"
             ]
            ]
           }
          ],
          "choropleth": [
           {
            "type": "choropleth",
            "colorbar": {
             "outlinewidth": 0,
             "ticks": ""
            }
           }
          ],
          "histogram2d": [
           {
            "type": "histogram2d",
            "colorbar": {
             "outlinewidth": 0,
             "ticks": ""
            },
            "colorscale": [
             [
              0.0,
              "#0d0887"
             ],
             [
              0.1111111111111111,
              "#46039f"
             ],
             [
              0.2222222222222222,
              "#7201a8"
             ],
             [
              0.3333333333333333,
              "#9c179e"
             ],
             [
              0.4444444444444444,
              "#bd3786"
             ],
             [
              0.5555555555555556,
              "#d8576b"
             ],
             [
              0.6666666666666666,
              "#ed7953"
             ],
             [
              0.7777777777777778,
              "#fb9f3a"
             ],
             [
              0.8888888888888888,
              "#fdca26"
             ],
             [
              1.0,
              "#f0f921"
             ]
            ]
           }
          ],
          "heatmap": [
           {
            "type": "heatmap",
            "colorbar": {
             "outlinewidth": 0,
             "ticks": ""
            },
            "colorscale": [
             [
              0.0,
              "#0d0887"
             ],
             [
              0.1111111111111111,
              "#46039f"
             ],
             [
              0.2222222222222222,
              "#7201a8"
             ],
             [
              0.3333333333333333,
              "#9c179e"
             ],
             [
              0.4444444444444444,
              "#bd3786"
             ],
             [
              0.5555555555555556,
              "#d8576b"
             ],
             [
              0.6666666666666666,
              "#ed7953"
             ],
             [
              0.7777777777777778,
              "#fb9f3a"
             ],
             [
              0.8888888888888888,
              "#fdca26"
             ],
             [
              1.0,
              "#f0f921"
             ]
            ]
           }
          ],
          "contourcarpet": [
           {
            "type": "contourcarpet",
            "colorbar": {
             "outlinewidth": 0,
             "ticks": ""
            }
           }
          ],
          "contour": [
           {
            "type": "contour",
            "colorbar": {
             "outlinewidth": 0,
             "ticks": ""
            },
            "colorscale": [
             [
              0.0,
              "#0d0887"
             ],
             [
              0.1111111111111111,
              "#46039f"
             ],
             [
              0.2222222222222222,
              "#7201a8"
             ],
             [
              0.3333333333333333,
              "#9c179e"
             ],
             [
              0.4444444444444444,
              "#bd3786"
             ],
             [
              0.5555555555555556,
              "#d8576b"
             ],
             [
              0.6666666666666666,
              "#ed7953"
             ],
             [
              0.7777777777777778,
              "#fb9f3a"
             ],
             [
              0.8888888888888888,
              "#fdca26"
             ],
             [
              1.0,
              "#f0f921"
             ]
            ]
           }
          ],
          "surface": [
           {
            "type": "surface",
            "colorbar": {
             "outlinewidth": 0,
             "ticks": ""
            },
            "colorscale": [
             [
              0.0,
              "#0d0887"
             ],
             [
              0.1111111111111111,
              "#46039f"
             ],
             [
              0.2222222222222222,
              "#7201a8"
             ],
             [
              0.3333333333333333,
              "#9c179e"
             ],
             [
              0.4444444444444444,
              "#bd3786"
             ],
             [
              0.5555555555555556,
              "#d8576b"
             ],
             [
              0.6666666666666666,
              "#ed7953"
             ],
             [
              0.7777777777777778,
              "#fb9f3a"
             ],
             [
              0.8888888888888888,
              "#fdca26"
             ],
             [
              1.0,
              "#f0f921"
             ]
            ]
           }
          ],
          "mesh3d": [
           {
            "type": "mesh3d",
            "colorbar": {
             "outlinewidth": 0,
             "ticks": ""
            }
           }
          ],
          "scatter": [
           {
            "fillpattern": {
             "fillmode": "overlay",
             "size": 10,
             "solidity": 0.2
            },
            "type": "scatter"
           }
          ],
          "parcoords": [
           {
            "type": "parcoords",
            "line": {
             "colorbar": {
              "outlinewidth": 0,
              "ticks": ""
             }
            }
           }
          ],
          "scatterpolargl": [
           {
            "type": "scatterpolargl",
            "marker": {
             "colorbar": {
              "outlinewidth": 0,
              "ticks": ""
             }
            }
           }
          ],
          "bar": [
           {
            "error_x": {
             "color": "#2a3f5f"
            },
            "error_y": {
             "color": "#2a3f5f"
            },
            "marker": {
             "line": {
              "color": "#E5ECF6",
              "width": 0.5
             },
             "pattern": {
              "fillmode": "overlay",
              "size": 10,
              "solidity": 0.2
             }
            },
            "type": "bar"
           }
          ],
          "scattergeo": [
           {
            "type": "scattergeo",
            "marker": {
             "colorbar": {
              "outlinewidth": 0,
              "ticks": ""
             }
            }
           }
          ],
          "scatterpolar": [
           {
            "type": "scatterpolar",
            "marker": {
             "colorbar": {
              "outlinewidth": 0,
              "ticks": ""
             }
            }
           }
          ],
          "histogram": [
           {
            "marker": {
             "pattern": {
              "fillmode": "overlay",
              "size": 10,
              "solidity": 0.2
             }
            },
            "type": "histogram"
           }
          ],
          "scattergl": [
           {
            "type": "scattergl",
            "marker": {
             "colorbar": {
              "outlinewidth": 0,
              "ticks": ""
             }
            }
           }
          ],
          "scatter3d": [
           {
            "type": "scatter3d",
            "line": {
             "colorbar": {
              "outlinewidth": 0,
              "ticks": ""
             }
            },
            "marker": {
             "colorbar": {
              "outlinewidth": 0,
              "ticks": ""
             }
            }
           }
          ],
          "scattermap": [
           {
            "type": "scattermap",
            "marker": {
             "colorbar": {
              "outlinewidth": 0,
              "ticks": ""
             }
            }
           }
          ],
          "scattermapbox": [
           {
            "type": "scattermapbox",
            "marker": {
             "colorbar": {
              "outlinewidth": 0,
              "ticks": ""
             }
            }
           }
          ],
          "scatterternary": [
           {
            "type": "scatterternary",
            "marker": {
             "colorbar": {
              "outlinewidth": 0,
              "ticks": ""
             }
            }
           }
          ],
          "scattercarpet": [
           {
            "type": "scattercarpet",
            "marker": {
             "colorbar": {
              "outlinewidth": 0,
              "ticks": ""
             }
            }
           }
          ],
          "carpet": [
           {
            "aaxis": {
             "endlinecolor": "#2a3f5f",
             "gridcolor": "white",
             "linecolor": "white",
             "minorgridcolor": "white",
             "startlinecolor": "#2a3f5f"
            },
            "baxis": {
             "endlinecolor": "#2a3f5f",
             "gridcolor": "white",
             "linecolor": "white",
             "minorgridcolor": "white",
             "startlinecolor": "#2a3f5f"
            },
            "type": "carpet"
           }
          ],
          "table": [
           {
            "cells": {
             "fill": {
              "color": "#EBF0F8"
             },
             "line": {
              "color": "white"
             }
            },
            "header": {
             "fill": {
              "color": "#C8D4E3"
             },
             "line": {
              "color": "white"
             }
            },
            "type": "table"
           }
          ],
          "barpolar": [
           {
            "marker": {
             "line": {
              "color": "#E5ECF6",
              "width": 0.5
             },
             "pattern": {
              "fillmode": "overlay",
              "size": 10,
              "solidity": 0.2
             }
            },
            "type": "barpolar"
           }
          ],
          "pie": [
           {
            "automargin": true,
            "type": "pie"
           }
          ]
         },
         "layout": {
          "autotypenumbers": "strict",
          "colorway": [
           "#636efa",
           "#EF553B",
           "#00cc96",
           "#ab63fa",
           "#FFA15A",
           "#19d3f3",
           "#FF6692",
           "#B6E880",
           "#FF97FF",
           "#FECB52"
          ],
          "font": {
           "color": "#2a3f5f"
          },
          "hovermode": "closest",
          "hoverlabel": {
           "align": "left"
          },
          "paper_bgcolor": "white",
          "plot_bgcolor": "#E5ECF6",
          "polar": {
           "bgcolor": "#E5ECF6",
           "angularaxis": {
            "gridcolor": "white",
            "linecolor": "white",
            "ticks": ""
           },
           "radialaxis": {
            "gridcolor": "white",
            "linecolor": "white",
            "ticks": ""
           }
          },
          "ternary": {
           "bgcolor": "#E5ECF6",
           "aaxis": {
            "gridcolor": "white",
            "linecolor": "white",
            "ticks": ""
           },
           "baxis": {
            "gridcolor": "white",
            "linecolor": "white",
            "ticks": ""
           },
           "caxis": {
            "gridcolor": "white",
            "linecolor": "white",
            "ticks": ""
           }
          },
          "coloraxis": {
           "colorbar": {
            "outlinewidth": 0,
            "ticks": ""
           }
          },
          "colorscale": {
           "sequential": [
            [
             0.0,
             "#0d0887"
            ],
            [
             0.1111111111111111,
             "#46039f"
            ],
            [
             0.2222222222222222,
             "#7201a8"
            ],
            [
             0.3333333333333333,
             "#9c179e"
            ],
            [
             0.4444444444444444,
             "#bd3786"
            ],
            [
             0.5555555555555556,
             "#d8576b"
            ],
            [
             0.6666666666666666,
             "#ed7953"
            ],
            [
             0.7777777777777778,
             "#fb9f3a"
            ],
            [
             0.8888888888888888,
             "#fdca26"
            ],
            [
             1.0,
             "#f0f921"
            ]
           ],
           "sequentialminus": [
            [
             0.0,
             "#0d0887"
            ],
            [
             0.1111111111111111,
             "#46039f"
            ],
            [
             0.2222222222222222,
             "#7201a8"
            ],
            [
             0.3333333333333333,
             "#9c179e"
            ],
            [
             0.4444444444444444,
             "#bd3786"
            ],
            [
             0.5555555555555556,
             "#d8576b"
            ],
            [
             0.6666666666666666,
             "#ed7953"
            ],
            [
             0.7777777777777778,
             "#fb9f3a"
            ],
            [
             0.8888888888888888,
             "#fdca26"
            ],
            [
             1.0,
             "#f0f921"
            ]
           ],
           "diverging": [
            [
             0,
             "#8e0152"
            ],
            [
             0.1,
             "#c51b7d"
            ],
            [
             0.2,
             "#de77ae"
            ],
            [
             0.3,
             "#f1b6da"
            ],
            [
             0.4,
             "#fde0ef"
            ],
            [
             0.5,
             "#f7f7f7"
            ],
            [
             0.6,
             "#e6f5d0"
            ],
            [
             0.7,
             "#b8e186"
            ],
            [
             0.8,
             "#7fbc41"
            ],
            [
             0.9,
             "#4d9221"
            ],
            [
             1,
             "#276419"
            ]
           ]
          },
          "xaxis": {
           "gridcolor": "white",
           "linecolor": "white",
           "ticks": "",
           "title": {
            "standoff": 15
           },
           "zerolinecolor": "white",
           "automargin": true,
           "zerolinewidth": 2
          },
          "yaxis": {
           "gridcolor": "white",
           "linecolor": "white",
           "ticks": "",
           "title": {
            "standoff": 15
           },
           "zerolinecolor": "white",
           "automargin": true,
           "zerolinewidth": 2
          },
          "scene": {
           "xaxis": {
            "backgroundcolor": "#E5ECF6",
            "gridcolor": "white",
            "linecolor": "white",
            "showbackground": true,
            "ticks": "",
            "zerolinecolor": "white",
            "gridwidth": 2
           },
           "yaxis": {
            "backgroundcolor": "#E5ECF6",
            "gridcolor": "white",
            "linecolor": "white",
            "showbackground": true,
            "ticks": "",
            "zerolinecolor": "white",
            "gridwidth": 2
           },
           "zaxis": {
            "backgroundcolor": "#E5ECF6",
            "gridcolor": "white",
            "linecolor": "white",
            "showbackground": true,
            "ticks": "",
            "zerolinecolor": "white",
            "gridwidth": 2
           }
          },
          "shapedefaults": {
           "line": {
            "color": "#2a3f5f"
           }
          },
          "annotationdefaults": {
           "arrowcolor": "#2a3f5f",
           "arrowhead": 0,
           "arrowwidth": 1
          },
          "geo": {
           "bgcolor": "white",
           "landcolor": "#E5ECF6",
           "subunitcolor": "white",
           "showland": true,
           "showlakes": true,
           "lakecolor": "white"
          },
          "title": {
           "x": 0.05
          },
          "mapbox": {
           "style": "light"
          }
         }
        },
        "xaxis": {
         "anchor": "y",
         "domain": [
          0.0,
          1.0
         ],
         "title": {
          "text": "WindGustSpeed"
         }
        },
        "yaxis": {
         "anchor": "x",
         "domain": [
          0.0,
          1.0
         ],
         "title": {
          "text": "count"
         }
        },
        "legend": {
         "tracegroupgap": 0
        },
        "margin": {
         "t": 60
        },
        "barmode": "relative"
       },
       "config": {
        "plotlyServerURL": "https://plot.ly"
       }
      }
     },
     "metadata": {},
     "output_type": "display_data"
    }
   ],
   "execution_count": 103
  },
  {
   "metadata": {},
   "cell_type": "markdown",
   "source": "Humidity at 3pm vs RainTomorrow – Boxplot showing rain is more likely with higher afternoon humidity.",
   "id": "1cbfa1391c3ce0a5"
  },
  {
   "metadata": {
    "ExecuteTime": {
     "end_time": "2025-06-15T17:28:05.401975Z",
     "start_time": "2025-06-15T17:28:05.229837Z"
    }
   },
   "cell_type": "code",
   "source": "px.box(df,x='RainTomorrow',y='Humidity3pm')",
   "id": "49d537dbddae3e4e",
   "outputs": [
    {
     "data": {
      "application/vnd.plotly.v1+json": {
       "data": [
        {
         "alignmentgroup": "True",
         "hovertemplate": "RainTomorrow=%{x}<br>Humidity3pm=%{y}<extra></extra>",
         "legendgroup": "",
         "marker": {
          "color": "#636efa"
         },
         "name": "",
         "notched": false,
         "offsetgroup": "",
         "orientation": "v",
         "showlegend": false,
         "x": [
          "No",
          "No",
          "No",
          "No",
          "No",
          "No",
          "No",
          "No",
          "Yes",
          "No",
          "Yes",
          "Yes",
          "Yes",
          "No",
          "No",
          "No",
          "Yes",
          "Yes",
          "No",
          "No",
          "No",
          "No",
          "No",
          "No",
          "No",
          "No",
          "No",
          "No",
          "Yes",
          "No",
          "No",
          "No",
          "No",
          "No",
          "No",
          "No",
          "No",
          "No",
          "No",
          "No",
          "No",
          "No",
          "No",
          "No",
          "No",
          "No",
          "No",
          "No",
          "No",
          "No",
          "No",
          "No",
          "Yes",
          "No",
          "No",
          "No",
          "No",
          "No",
          "No",
          "No",
          "No",
          "No",
          "No",
          "No",
          "No",
          "No",
          "No",
          "No",
          "No",
          "No",
          "No",
          "No",
          "No",
          "Yes",
          "No",
          "No",
          "No",
          "No",
          "No",
          "No",
          "No",
          "No",
          "No",
          "No",
          "No",
          "No",
          "No",
          "No",
          "No",
          "No",
          "No",
          "No",
          "No",
          "No",
          "No",
          "No",
          "No",
          "No",
          "No",
          "Yes",
          "No",
          "Yes",
          "Yes",
          "Yes",
          "No",
          "No",
          "No",
          "No",
          "No",
          "No",
          "No",
          "No",
          "No",
          "No",
          "Yes",
          "No",
          "No",
          "No",
          "No",
          "No",
          "No",
          "No",
          "Yes",
          "Yes",
          "No",
          "No",
          "No",
          "No",
          "No",
          "No",
          "Yes",
          "Yes",
          "No",
          "No",
          "No",
          "No",
          "No",
          "No",
          "No",
          "No",
          "No",
          "No",
          "No",
          "No",
          "Yes",
          "Yes",
          "Yes",
          "Yes",
          "No",
          "No",
          "No",
          "No",
          "No",
          "No",
          "No",
          "No",
          "No",
          "No",
          "No",
          "No",
          "No",
          "No",
          "No",
          "No",
          "No",
          "Yes",
          "No",
          "No",
          "No",
          "No",
          "No",
          "No",
          "No",
          "No",
          "No",
          "Yes",
          "No",
          "No",
          "No",
          "No",
          "No",
          "Yes",
          "Yes",
          "Yes",
          "Yes",
          "No",
          "No",
          "Yes",
          "Yes",
          "Yes",
          "Yes",
          "No",
          "No",
          "No",
          "No",
          "No",
          "No",
          "No",
          "No",
          "No",
          "No",
          "Yes",
          "Yes",
          "No",
          "Yes",
          "No",
          "Yes",
          "No",
          "Yes",
          "Yes",
          "Yes",
          "Yes",
          "Yes",
          "Yes",
          "No",
          "No",
          "No",
          "No",
          "No",
          "No",
          "No",
          "No",
          "No",
          "No",
          "Yes",
          "Yes",
          "No",
          "No",
          "No",
          "No",
          "No",
          "No",
          "No",
          "Yes",
          "No",
          "No",
          "No",
          "No",
          "Yes",
          "Yes",
          "No",
          "Yes",
          "No",
          "No",
          "No",
          "No",
          "Yes",
          "No",
          "No",
          "Yes",
          "No",
          "No",
          "No",
          "Yes",
          "No",
          "Yes",
          "No",
          "Yes",
          "Yes",
          "No",
          "No",
          "No",
          "No",
          "Yes",
          "Yes",
          "Yes",
          "Yes",
          "Yes",
          "No",
          "No",
          "Yes",
          "Yes",
          "Yes",
          "Yes",
          "No",
          "No",
          "Yes",
          "No",
          "No",
          "No",
          "No",
          "No",
          "No",
          "No",
          "No",
          "No",
          "No",
          "No",
          "No",
          "No",
          "Yes",
          "No",
          "No",
          "No",
          "Yes",
          "Yes",
          "Yes",
          "No",
          "Yes",
          "Yes",
          "No",
          "No",
          "No",
          "No",
          "No",
          "Yes",
          "Yes",
          "No",
          "No",
          "Yes",
          "No",
          "No",
          "No",
          "No",
          "No",
          "Yes",
          "Yes",
          "Yes",
          "Yes",
          "No",
          "No",
          "No",
          "No",
          "No",
          "No",
          "No",
          "No",
          "No",
          "No",
          "No",
          "No",
          "No",
          "No",
          "No",
          "No",
          "No",
          "No",
          "No",
          "No",
          "No",
          "No",
          "No",
          "No",
          "No",
          "No",
          "No",
          "No",
          "No",
          "No",
          "No",
          "No",
          "No",
          "No",
          "No",
          "Yes",
          "Yes",
          "No",
          "No",
          "No",
          "No",
          "Yes",
          "No",
          "Yes",
          "Yes",
          "No",
          "No",
          "No",
          "No",
          "No",
          "No",
          "No",
          "No",
          "Yes",
          "No",
          "No",
          "No",
          "No",
          "No",
          "No",
          "No",
          "No",
          "Yes",
          "No",
          "No",
          "No",
          "No",
          "No",
          "No",
          "Yes",
          "No",
          "No",
          "No",
          "No",
          "No",
          "No",
          "Yes",
          "Yes",
          "No",
          "No",
          "No",
          "No",
          "No",
          "No",
          "No",
          "No",
          "No",
          "No",
          "No",
          "Yes",
          "No",
          "No",
          "No",
          "No",
          "No",
          "No",
          "No",
          "No",
          "No",
          "No",
          "No",
          "No",
          "No",
          "No",
          "No",
          "No",
          "No",
          "No",
          "Yes",
          "No",
          "No",
          "Yes",
          "Yes",
          "No",
          "No",
          "No",
          "No",
          "No",
          "No",
          "No",
          "No",
          "No",
          "No",
          "No",
          "No",
          "No",
          "No",
          "No",
          "Yes",
          "No",
          "No",
          "No",
          "No",
          "No",
          "Yes",
          "No",
          "No",
          "No",
          "No",
          "No",
          "Yes",
          "Yes",
          "Yes",
          "Yes",
          "No",
          "No",
          "No",
          "No",
          "No",
          "No",
          "No",
          "No",
          "No",
          "No",
          "No",
          "No",
          "No",
          "No",
          "No",
          "No",
          "No",
          "No",
          "No",
          "Yes",
          "No",
          "No",
          "No",
          "No",
          "No",
          "No",
          "No",
          "No",
          "Yes",
          "Yes",
          "No",
          "No",
          "Yes",
          "No",
          "No",
          "No",
          "No",
          "No",
          "No",
          "No",
          "No",
          "No",
          "No",
          "No",
          "No",
          "Yes",
          "Yes",
          "No",
          "No",
          "Yes",
          "No",
          "No",
          "No",
          "No",
          "No",
          "No",
          "Yes",
          "No",
          "No",
          "No",
          "No",
          "No",
          "No",
          "No",
          "No",
          "No",
          "No",
          "No",
          "No",
          "No",
          "No",
          "No",
          "No",
          "No",
          "No",
          "No",
          "Yes",
          "Yes",
          "No",
          "No",
          "Yes",
          "Yes",
          "No",
          "No",
          "No",
          "No",
          "No",
          "No",
          "No",
          "No",
          "No",
          "No",
          "Yes",
          "No",
          "No",
          "No",
          "No",
          "No",
          "No",
          "Yes",
          "Yes",
          "Yes",
          "No",
          "No",
          "No",
          "No",
          "No",
          "No",
          "Yes",
          "No",
          "No",
          "No",
          "No",
          "Yes",
          "No",
          "No",
          "No",
          "No",
          "Yes",
          "No",
          "No",
          "No",
          "No",
          "Yes",
          "No",
          "No",
          "Yes",
          "Yes",
          "No",
          "No",
          "No",
          "Yes",
          "No",
          "No",
          "No",
          "No",
          "No",
          "No",
          "No",
          "No",
          "No",
          "Yes",
          "No",
          "Yes",
          "Yes",
          "Yes",
          "No",
          "No",
          "No",
          "No",
          "No",
          "No",
          "No",
          "Yes",
          "Yes",
          "Yes",
          "No",
          "No",
          "Yes",
          "Yes",
          "Yes",
          "No",
          "Yes",
          "Yes",
          "No",
          "No",
          "No",
          "Yes",
          "Yes",
          "Yes",
          "Yes",
          "No",
          "No",
          "No",
          "No",
          "No",
          "No",
          "No",
          "Yes",
          "Yes",
          "Yes",
          "Yes",
          "No",
          "No",
          "Yes",
          "Yes",
          "No",
          "No",
          "No",
          "No",
          "No",
          "No",
          "No",
          "No",
          "No",
          "No",
          "No",
          "No",
          "No",
          "No",
          "No",
          "No",
          "No",
          "No",
          "No",
          "No",
          "No",
          "No",
          "No",
          "No",
          "No",
          "Yes",
          "No",
          "No",
          "No",
          "No",
          "No",
          "Yes",
          "Yes",
          "Yes",
          "Yes",
          "No",
          "No",
          "No",
          "No",
          "No",
          "No",
          "No",
          "Yes",
          "No",
          "No",
          "Yes",
          "No",
          "No",
          "Yes",
          "Yes",
          "Yes",
          "No",
          "No",
          "No",
          "No",
          "No",
          "No",
          "Yes",
          "No",
          "No",
          "No",
          "No",
          "No",
          "Yes",
          "Yes",
          "No",
          "No",
          "No",
          "No",
          "No",
          "No",
          "No",
          "No",
          "No",
          "No",
          "Yes",
          "Yes",
          "Yes",
          "Yes",
          "Yes",
          "Yes",
          "No",
          "Yes",
          "Yes",
          "No",
          "No",
          "No",
          "Yes",
          "Yes",
          "No",
          "No",
          "No",
          "No",
          "No",
          "No",
          "No",
          "No",
          "No",
          "Yes",
          "Yes",
          "Yes",
          "No",
          "No",
          "No",
          "No",
          "No",
          "No",
          "No",
          "No",
          "No",
          "No",
          "No",
          "No",
          "No",
          "No",
          "No",
          "No",
          "No",
          "No",
          "No",
          "Yes",
          "Yes",
          "Yes",
          "Yes",
          "Yes",
          "Yes",
          "No",
          "No",
          "No",
          "No",
          "No",
          "No",
          "No",
          "No",
          "No",
          "No",
          "No",
          "No",
          "No",
          "No",
          "No",
          "No",
          "No",
          "No",
          "Yes",
          "Yes",
          "Yes",
          "Yes",
          "No",
          "No",
          "No",
          "No",
          "Yes",
          "Yes",
          "No",
          "No",
          "No",
          "No",
          "Yes",
          "No",
          "Yes",
          "Yes",
          "No",
          "No",
          "No",
          "No",
          "No",
          "No",
          "No",
          "Yes",
          "No",
          "No",
          "No",
          "No",
          "No",
          "No",
          "No",
          "No",
          "No",
          "Yes",
          "Yes",
          "No",
          "No",
          "Yes",
          "No",
          "No",
          "No",
          "No",
          "No",
          "No",
          "No",
          "No",
          "No",
          "Yes",
          "No",
          "No",
          "No",
          "No",
          "No",
          "No",
          "No",
          "No",
          "No",
          "No",
          "No",
          "No",
          "No",
          "No",
          "No",
          "No",
          "No",
          "Yes",
          "No",
          "Yes",
          "Yes",
          "No",
          "No",
          "No",
          "No",
          "No",
          "No",
          "No",
          "No",
          "Yes",
          "Yes",
          "No",
          "No",
          "No",
          "No",
          "No",
          "No",
          "No",
          "No",
          "No",
          "No",
          "Yes",
          "No",
          "Yes",
          "No",
          "Yes",
          "No",
          "No",
          "No",
          "No",
          "No",
          "No",
          "No",
          "No",
          "No",
          "No",
          "No",
          "Yes",
          "Yes",
          "No",
          "Yes",
          "No",
          "No",
          "No",
          "No",
          "No",
          "No",
          "No",
          "No",
          "No",
          "No",
          "Yes",
          "Yes",
          "Yes",
          "Yes",
          "No",
          "Yes",
          "No",
          "Yes",
          "No",
          "No",
          "Yes",
          "No",
          "No",
          "No",
          "Yes",
          "Yes",
          "No",
          "No",
          "No",
          "No",
          "No",
          "Yes",
          "Yes",
          "No",
          "No",
          "No",
          "No",
          "No",
          "No",
          "No",
          "No",
          "No",
          "No",
          "Yes",
          "Yes",
          "Yes",
          "Yes",
          "Yes",
          "Yes",
          "No",
          "No",
          "No",
          "Yes",
          "No",
          "Yes",
          "Yes",
          "No",
          "No",
          "No",
          "No",
          "No",
          "No",
          "No",
          "No",
          "No",
          "No",
          "No",
          "No",
          "No",
          "No",
          "No",
          "No",
          "No",
          "Yes",
          "Yes",
          "No",
          "No",
          "No",
          "No",
          "No",
          "No",
          "No",
          "No",
          "No",
          "No",
          "No",
          "No",
          "No",
          "No",
          "Yes",
          "No",
          "No",
          "No",
          "No",
          "No",
          "No",
          "No",
          "Yes",
          "Yes",
          "Yes",
          "Yes",
          "No",
          "No",
          "No",
          "No",
          "Yes",
          "No",
          "No",
          "Yes",
          "No",
          "No",
          "No",
          "No",
          "No",
          "No",
          "No",
          "No",
          "No",
          "No",
          "No",
          "No",
          "No",
          "No",
          "Yes",
          "No",
          "No",
          "No",
          "Yes",
          "No",
          "No",
          "No",
          "No",
          "No",
          "No",
          "No",
          "No",
          "Yes",
          "No",
          "No",
          "Yes",
          "No",
          "No",
          "No",
          "No",
          "No",
          "No",
          "No",
          "No",
          "No",
          "No",
          "No",
          "Yes",
          "No",
          "No",
          "Yes",
          "Yes",
          "Yes",
          "No",
          "No",
          "Yes",
          "Yes",
          "No",
          "No",
          "No",
          "No",
          "No",
          "No",
          "No",
          "No",
          "No",
          "Yes",
          "No",
          "No",
          "No",
          "No",
          "No",
          "No",
          "No",
          "Yes",
          "No",
          "No",
          "No",
          "No",
          "No",
          "Yes",
          "Yes",
          "No",
          "No",
          "No",
          "No",
          "No",
          "No",
          "No",
          "No",
          "No",
          "No",
          "No",
          "No",
          "Yes",
          "Yes",
          "No",
          "No",
          "Yes",
          "No",
          "No",
          "No",
          "No",
          "No",
          "No",
          "No",
          "No",
          "No",
          "No",
          "No",
          "No",
          "No",
          "No",
          "No",
          "No",
          "No",
          "Yes",
          "Yes",
          "No",
          "No",
          "No",
          "No",
          "No",
          "Yes",
          "No",
          "No",
          "No",
          "Yes",
          "No",
          "Yes",
          "No",
          "No",
          "No",
          "No",
          "No",
          "No",
          "No",
          "No",
          "Yes",
          "No",
          "No",
          "No",
          "No",
          "Yes",
          "Yes",
          "Yes",
          "No",
          "Yes",
          "Yes",
          "No",
          "Yes",
          "No",
          "No",
          "No",
          "No",
          "No",
          "No",
          "No",
          "No",
          "No",
          "No",
          "Yes",
          "Yes",
          "Yes",
          "No",
          "No",
          "No",
          "No",
          "No",
          "No",
          "No",
          "No",
          "No",
          "No",
          "No",
          "Yes",
          "No",
          "No",
          "No",
          "No",
          "No",
          "No",
          "No",
          "No",
          "No",
          "No",
          "No",
          "No",
          "No",
          "No",
          "No",
          "No",
          "No",
          "No",
          "No",
          "No",
          "No",
          "Yes",
          "No",
          "Yes",
          "Yes",
          "No",
          "No",
          "No",
          "No",
          "No",
          "No",
          "No",
          "No",
          "No",
          "Yes",
          "No",
          "No",
          "No",
          "No",
          "No",
          "No",
          "No",
          "No",
          "No",
          "No",
          "No",
          "No",
          "No",
          "No",
          "No",
          "No",
          "No",
          "No",
          "No",
          "No",
          "No",
          "Yes",
          "Yes",
          "No",
          "No",
          "No",
          "No",
          "No",
          "No",
          "No",
          "Yes",
          "No",
          "Yes",
          "No",
          "No",
          "No",
          "No",
          "No",
          "No",
          "No",
          "No",
          "No",
          "No",
          "No",
          "No",
          "No",
          "Yes",
          "No",
          "No",
          "Yes",
          "No",
          "No",
          "Yes",
          "No",
          "No",
          "No",
          "Yes",
          "Yes",
          "Yes",
          "Yes",
          "No",
          "No",
          "No",
          "No",
          "No",
          "No",
          "No",
          "Yes",
          "Yes",
          "No",
          "Yes",
          "Yes",
          "Yes",
          "Yes",
          "No",
          "No",
          "No",
          "No",
          "No",
          "No",
          "No",
          "No",
          "No",
          "Yes",
          "Yes",
          "Yes",
          "Yes",
          "No",
          "No",
          "No",
          "No",
          "No",
          "No",
          "Yes",
          "Yes",
          "No",
          "No",
          "Yes",
          "No",
          "No",
          "No",
          "No",
          "No",
          "Yes",
          "No",
          "Yes",
          "Yes",
          "No",
          "No",
          "No",
          "No",
          "No",
          "Yes",
          "Yes",
          "No",
          "No",
          "No",
          "No",
          "No",
          "No",
          "No",
          "No",
          "No",
          "No",
          "No",
          "No",
          "Yes",
          "Yes",
          "No",
          "No",
          "No",
          "No",
          "Yes",
          "No",
          "No",
          "No",
          "No",
          "No",
          "Yes",
          "No",
          "No",
          "No",
          "No",
          "No",
          "No",
          "No",
          "No",
          "No",
          "Yes",
          "No",
          "No",
          "No",
          "No",
          "No",
          "No",
          "No",
          "Yes",
          "No",
          "No",
          "No",
          "No",
          "Yes",
          "No",
          "No",
          "No",
          "No",
          "Yes",
          "No",
          "No",
          "No",
          "No",
          "No",
          "No",
          "No",
          "No",
          "No",
          "No",
          "No",
          "No",
          "No",
          "No",
          "No",
          "No",
          "No",
          "No",
          "No",
          "No",
          "Yes",
          "Yes",
          "Yes",
          "No",
          "No",
          "No",
          "No",
          "No",
          "No",
          "No",
          "No",
          "No",
          "No",
          "No",
          "No",
          "No",
          "No",
          "No",
          "No",
          "No",
          "No",
          "No",
          "No",
          "No",
          "No",
          "No",
          "No",
          "No",
          "No",
          "Yes",
          "No",
          "No",
          "No",
          "No",
          "No",
          "No",
          "No",
          "Yes",
          "No",
          "No",
          "No",
          "No",
          "No",
          "No",
          "No",
          "No",
          "No",
          "No",
          "No",
          "No",
          "No",
          "No",
          "No",
          "No",
          "No",
          "No",
          "No",
          "No",
          "No",
          "No",
          "No",
          "No",
          "No",
          "No",
          "No",
          "No",
          "No",
          "No",
          "No",
          "No",
          "No",
          "No",
          "No",
          "No",
          "No",
          "Yes",
          "Yes",
          "No",
          "No",
          "No",
          "No",
          "No",
          "Yes",
          "Yes",
          "No",
          "No",
          "No",
          "No",
          "No",
          "No",
          "No",
          "No",
          "No",
          "No",
          "No",
          "No",
          "No",
          "No",
          "No",
          "No",
          "No",
          "No",
          "No",
          "No",
          "No",
          "No",
          "No",
          "Yes",
          "Yes",
          "No",
          "No",
          "No",
          "No",
          "No",
          "No",
          "Yes",
          "No",
          "No",
          "No",
          "No",
          "No",
          "No",
          "No",
          "No",
          "No",
          "No",
          "No",
          "No",
          "Yes",
          "Yes",
          "Yes",
          "Yes",
          "Yes",
          "No",
          "No",
          "Yes",
          "No",
          "No",
          "No",
          "No",
          "No",
          "No",
          "No",
          "No",
          "No",
          "No",
          "Yes",
          "Yes",
          "Yes",
          "No",
          "No",
          "No",
          "No",
          "Yes",
          "No",
          "No",
          "No",
          "No",
          "Yes",
          "Yes",
          "Yes",
          "No",
          "No",
          "No",
          "No",
          "No",
          "No",
          "No",
          "No",
          "No",
          "No",
          "No",
          "No",
          "No",
          "No",
          "No",
          "No",
          "No",
          "No",
          "No",
          "No",
          "No",
          "Yes",
          "Yes",
          "Yes",
          "No",
          "No",
          "No",
          "No",
          "No",
          "Yes",
          "Yes",
          "Yes",
          "Yes",
          "No",
          "Yes",
          "Yes",
          "Yes",
          "No",
          "No",
          "No",
          "No",
          "No",
          "No",
          "No",
          "Yes",
          "No",
          "No",
          "No",
          "No",
          "Yes",
          "No",
          "Yes",
          "Yes",
          "No",
          "Yes",
          "No",
          "Yes",
          "No",
          "Yes",
          "Yes",
          "No",
          "Yes",
          "No",
          "Yes",
          "No",
          "Yes",
          "Yes",
          "No",
          "Yes",
          "Yes",
          "Yes",
          "No",
          "No",
          "No",
          "No",
          "Yes",
          "Yes",
          "No",
          "No",
          "No",
          "No",
          "No",
          "No",
          "No",
          "No",
          "No",
          "No",
          "No",
          "No",
          "No",
          "No",
          "No",
          "No",
          "Yes",
          "Yes",
          "No",
          "Yes",
          "Yes",
          "No",
          "No",
          "No",
          "No",
          "No",
          "No",
          "Yes",
          "No",
          "No",
          "No",
          "Yes",
          "Yes",
          "No",
          "No",
          "No",
          "No",
          "No",
          "No",
          "No",
          "No",
          "No",
          "No",
          "No",
          "Yes",
          "No",
          "No",
          "No",
          "No",
          "No",
          "No",
          "No",
          "Yes",
          "Yes",
          "No",
          "No",
          "No",
          "No",
          "No",
          "No",
          "No",
          "No",
          "No",
          "No",
          "No",
          "No",
          "No",
          "No",
          "No",
          "No",
          "No",
          "No",
          "Yes",
          "Yes",
          "No",
          "No",
          "No",
          "No",
          "No",
          "No",
          "No",
          "No",
          "No",
          "No",
          "No",
          "No",
          "No",
          "No",
          "No",
          "No",
          "No",
          "No",
          "No",
          "No",
          "No",
          "No",
          "Yes",
          "Yes",
          "No",
          "No",
          "No",
          "No",
          "No",
          "No",
          "No",
          "No",
          "No",
          "No",
          "No",
          "No",
          "No",
          "No",
          "No",
          "No",
          "Yes",
          "Yes",
          "No",
          "No",
          "Yes",
          "No",
          "No",
          "No",
          "No",
          "No",
          "No",
          "No",
          "No",
          "No",
          "No",
          "No",
          "No",
          "No",
          "Yes",
          "No",
          "No",
          "No",
          "No",
          "No",
          "No",
          "No",
          "No",
          "No",
          "No",
          "No",
          "No",
          "No",
          "Yes",
          "Yes",
          "No",
          "No",
          "No",
          "No",
          "No",
          "No",
          "No",
          "No",
          "No",
          "Yes",
          "No",
          "No",
          "No",
          "No",
          "No",
          "No",
          "No",
          "No",
          "No",
          "No",
          "Yes",
          "Yes",
          "No",
          "No",
          "No",
          "Yes",
          "No",
          "No",
          "No",
          "No",
          "No",
          "No",
          "No",
          "No",
          "Yes",
          "No",
          "No",
          "No",
          "No",
          "No",
          "No",
          "No",
          "No",
          "No",
          "No",
          "Yes",
          "No",
          "No",
          "No",
          "Yes",
          "No",
          "No",
          "No",
          "No",
          "No",
          "Yes",
          "No",
          "No",
          "Yes",
          "No",
          "Yes",
          "No",
          "No",
          "No",
          "Yes",
          "No",
          "No",
          "Yes",
          "Yes",
          "Yes",
          "No",
          "No",
          "No",
          "Yes",
          "Yes",
          "Yes",
          "No",
          "No",
          "No",
          "No",
          "No",
          "No",
          "No",
          "No",
          "No",
          "No",
          "No",
          "Yes",
          "No",
          "No",
          "No",
          "No",
          "No",
          "No",
          "Yes",
          "No",
          "No",
          "Yes",
          "No",
          "No",
          "No",
          "No",
          "No",
          "No",
          "Yes",
          "Yes",
          "No",
          "No",
          "No",
          "No",
          "No",
          "No",
          "No",
          "No",
          "Yes",
          "No",
          "No",
          "No",
          "Yes",
          "No",
          "No",
          "No",
          "Yes",
          "No",
          "No",
          "No",
          "Yes",
          "Yes",
          "No",
          "Yes",
          "No",
          "No",
          "No",
          "No",
          "No",
          "No",
          "No",
          "No",
          "Yes",
          "Yes",
          "No",
          "No",
          "Yes",
          "No",
          "No",
          "No",
          "No",
          "No",
          "No",
          "Yes",
          "Yes",
          "Yes",
          "No",
          "Yes",
          "Yes",
          "Yes",
          "No",
          "No",
          "No",
          "No",
          "Yes",
          "No",
          "No",
          "No",
          "Yes",
          "Yes",
          "No",
          "Yes",
          "No",
          "No",
          "No",
          "Yes",
          "Yes",
          "Yes",
          "No",
          "No",
          "No",
          "No",
          "No",
          "No",
          "Yes",
          "No",
          "No",
          "No",
          "No",
          "No",
          "No",
          "No",
          "Yes",
          "No",
          "No",
          "No",
          "No",
          "No",
          "No",
          "No",
          "No",
          "No",
          "No",
          "No",
          "No",
          "No",
          "No",
          "No",
          "Yes",
          "No",
          "No",
          "No",
          "No",
          "No",
          "No",
          "No",
          "No",
          "No",
          "No",
          "No",
          "No",
          "No",
          "No",
          "No",
          "No",
          "No",
          "No",
          "No",
          "No",
          "No",
          "No",
          "Yes",
          "No",
          "No",
          "No",
          "No",
          "No",
          "No",
          "No",
          "No",
          "No",
          "No",
          "No",
          "No",
          "No",
          "No",
          "Yes",
          "No",
          "No",
          "No",
          "No",
          "No",
          "No",
          "No",
          "No",
          "No",
          "No",
          "No",
          "Yes",
          "No",
          "No",
          "No",
          "No",
          "No",
          "Yes",
          "Yes",
          "No",
          "No",
          "No",
          "No",
          "No",
          "No",
          "No",
          "No",
          "No",
          "No",
          "No",
          "No",
          "No",
          "No",
          "No",
          "Yes",
          "No",
          "No",
          "Yes",
          "No",
          "No",
          "No",
          "No",
          "No",
          "No",
          "No",
          "No",
          "No",
          "No",
          "No",
          "No",
          "No",
          "Yes",
          "No",
          "No",
          "No",
          "No",
          "No",
          "No",
          "No",
          "No",
          "Yes",
          "No",
          "No",
          "No",
          "No",
          "No",
          "No",
          "Yes",
          "No",
          "Yes",
          "No",
          "No",
          "Yes",
          "Yes",
          "No",
          "No",
          "Yes",
          "No",
          "No",
          "No",
          "No",
          "No",
          "No",
          "No",
          "No",
          "No",
          "No",
          "No",
          "No",
          "No",
          "No",
          "No",
          "No",
          "No",
          "No",
          "Yes",
          "No",
          "No",
          "No",
          "No",
          "No",
          "No",
          "No",
          "No",
          "No",
          "Yes",
          "Yes",
          "Yes",
          "No",
          "No",
          "Yes",
          "No",
          "No",
          "No",
          "No",
          "No",
          "No",
          "Yes",
          "No",
          "No",
          "Yes",
          "No",
          "No",
          "No",
          "No",
          "No",
          "No",
          "No",
          "No",
          "No",
          "No",
          "No",
          "No",
          "No",
          "No",
          "No",
          "No",
          "No",
          "No",
          "Yes",
          "No",
          "No",
          "Yes",
          "No",
          "No",
          "No",
          "Yes",
          "No",
          "No",
          "No",
          "No",
          "Yes",
          "No",
          "No",
          "No",
          "No",
          "Yes",
          "No",
          "No",
          "No",
          "No",
          "No",
          "No",
          "No",
          "No",
          "No",
          "No",
          "No",
          "No",
          "No",
          "No",
          "No",
          "No",
          "Yes",
          "No",
          "No",
          "No",
          "No",
          "No",
          "No",
          "No",
          "No",
          "No",
          "No",
          "No",
          "No",
          "No",
          "No",
          "No",
          "No",
          "No",
          "No",
          "No",
          "Yes",
          "Yes",
          "No",
          "No",
          "No",
          "No",
          "No",
          "No",
          "Yes",
          "Yes",
          "No",
          "Yes",
          "Yes",
          "No",
          "No",
          "No",
          "No",
          "Yes",
          "Yes",
          "Yes",
          "No",
          "No",
          "No",
          "No",
          "No",
          "No",
          "No",
          "No",
          "No",
          "No",
          "No",
          "No",
          "No",
          "Yes",
          "Yes",
          "No",
          "No",
          "No",
          "No",
          "No",
          "No",
          "No",
          "Yes",
          "Yes",
          "No",
          "No",
          "No",
          "No",
          "No",
          "No",
          "No",
          "Yes",
          "Yes",
          "No",
          "No",
          "Yes",
          "No",
          "No",
          "No",
          "Yes",
          "No",
          "No",
          "No",
          "No",
          "No",
          "No",
          "No",
          "No",
          "No",
          "No",
          "Yes",
          "Yes",
          "Yes",
          "Yes",
          "No",
          "No",
          "No",
          "No",
          "Yes",
          "No",
          "No",
          "No",
          "No",
          "No",
          "No",
          "No",
          "No",
          "No",
          "No",
          "No",
          "No",
          "No",
          "No",
          "No",
          "Yes",
          "Yes",
          "Yes",
          "Yes",
          "No",
          "Yes",
          "Yes",
          "No",
          "No",
          "No",
          "No",
          "No",
          "Yes",
          "Yes",
          "No",
          "Yes",
          "Yes",
          "No",
          "No",
          "No",
          "No",
          "No",
          "Yes",
          "Yes",
          "Yes",
          "Yes",
          "Yes",
          "Yes",
          "Yes",
          "No",
          "No",
          "No",
          "Yes",
          "No",
          "Yes",
          "No",
          "No",
          "No",
          "No",
          "No",
          "No",
          "No",
          "No",
          "Yes",
          "No",
          "No",
          "Yes",
          "Yes",
          "Yes",
          "No",
          "No",
          "No",
          "No",
          "No",
          "No",
          "Yes",
          "Yes",
          "No",
          "No",
          "Yes",
          "No",
          "No",
          "No",
          "No",
          "No",
          "No",
          "No",
          "No",
          "No",
          "No",
          "No",
          "No",
          "No",
          "No",
          "No",
          "No",
          "No",
          "No",
          "No",
          "No",
          "No",
          "No",
          "No",
          "No",
          "No",
          "No",
          "No",
          "No",
          "No",
          "No",
          "No",
          "No",
          "No",
          "No",
          "Yes",
          "No",
          "No",
          "No",
          "No",
          "No",
          "No",
          "No",
          "No",
          "Yes",
          "No",
          "No",
          "No",
          "No",
          "No",
          "No",
          "No",
          "No",
          "No",
          "Yes",
          "Yes",
          "Yes",
          "No",
          "No",
          "Yes",
          "Yes",
          "Yes",
          "No",
          "No",
          "No",
          "No",
          "Yes",
          "Yes",
          "No",
          "No",
          "No",
          "No",
          "No",
          "No",
          "No",
          "No",
          "No",
          "No",
          "No",
          "No",
          "No",
          "No",
          "No",
          "No",
          "No",
          "No",
          "No",
          "No",
          "No",
          "No",
          "No",
          "No",
          "No",
          "Yes",
          "No",
          "No",
          "No",
          "No",
          "No",
          "No",
          "No",
          "No",
          "No",
          "No",
          "No",
          "Yes",
          "No",
          "No",
          "No",
          "No",
          "Yes",
          "Yes",
          "No",
          "No",
          "No",
          "No",
          "No",
          "No",
          "Yes",
          "Yes",
          "Yes",
          "No",
          "No",
          "No",
          "No",
          "No",
          "No",
          "No",
          "No",
          "No",
          "No",
          "No",
          "No",
          "No",
          "No",
          "No",
          "No",
          "No",
          "Yes",
          "No",
          "No",
          "No",
          "Yes",
          "Yes",
          "No",
          "No",
          "Yes",
          "Yes",
          "No",
          "No",
          "No",
          "No",
          "No",
          "No",
          "No",
          "No",
          "No",
          "No",
          "No",
          "No",
          "No",
          "No",
          "No",
          "No",
          "No",
          "No",
          "No",
          "No",
          "No",
          "No",
          "No",
          "No",
          "No",
          "No",
          "No",
          "No",
          "No",
          "No",
          "No",
          "No",
          "No",
          "No",
          "No",
          "No",
          "No",
          "No",
          "No",
          "Yes",
          "No",
          "No",
          "No",
          "No",
          "No",
          "Yes",
          "Yes",
          "No",
          "No",
          "No",
          "No",
          "No",
          "No",
          "No",
          "No",
          "No",
          "No",
          "No",
          "No",
          "No",
          "No",
          "No",
          "No",
          "No",
          "No",
          "No",
          "No",
          "No",
          "No",
          "No",
          "No",
          "No",
          "No",
          "No",
          "No",
          "No",
          "Yes",
          "No",
          "No",
          "No",
          "Yes",
          "No",
          "No",
          "No",
          "No",
          "No",
          "No",
          "No",
          "Yes",
          "Yes",
          "No",
          "No",
          "Yes",
          "No",
          "No",
          "No",
          "Yes",
          "Yes",
          "Yes",
          "Yes",
          "Yes",
          "No",
          "No",
          "No",
          "No",
          "Yes",
          "No",
          "No",
          "No",
          "No",
          "No",
          "Yes",
          "No",
          "No",
          "Yes",
          "Yes",
          "No",
          "No",
          "No",
          "No",
          "No",
          "No",
          "No",
          "Yes",
          "Yes",
          "Yes",
          "Yes",
          "Yes",
          "Yes",
          "Yes",
          "Yes",
          "No",
          "No",
          "No",
          "No",
          "No",
          "Yes",
          "No",
          "No",
          "Yes",
          "Yes",
          "Yes",
          "No",
          "Yes",
          "Yes",
          "No",
          "No",
          "No",
          "No",
          "No",
          "Yes",
          "No",
          "No",
          "No",
          "No",
          "Yes",
          "No",
          "No",
          "Yes",
          "No",
          "Yes",
          "No",
          "Yes",
          "No",
          "No",
          "No",
          "No",
          "No",
          "Yes",
          "No",
          "No",
          "Yes",
          "Yes",
          "No",
          "Yes",
          "Yes",
          "Yes",
          "No",
          "No",
          "No",
          "Yes",
          "Yes",
          "Yes",
          "No",
          "No",
          "No",
          "No",
          "No",
          "No",
          "No",
          "Yes",
          "No",
          "No",
          "No",
          "No",
          "No",
          "No",
          "No",
          "No",
          "No",
          "Yes",
          "No",
          "No",
          "Yes",
          "No",
          "No",
          "No",
          "No",
          "No",
          "No",
          "No",
          "Yes",
          "No",
          "No",
          "Yes",
          "No",
          "No",
          "No",
          "No",
          "No",
          "Yes",
          "Yes",
          "No",
          "No",
          "No",
          "Yes",
          "Yes",
          "No",
          "No",
          "Yes",
          "Yes",
          "No",
          "Yes",
          "No",
          "No",
          "No",
          "Yes",
          "No",
          "Yes",
          "Yes",
          "Yes",
          "Yes",
          "Yes",
          "No",
          "Yes",
          "Yes",
          "Yes",
          "No",
          "No",
          "No",
          "No",
          "Yes",
          "No",
          "No",
          "No",
          "No",
          "No",
          "No",
          "Yes",
          "No",
          "Yes",
          "No",
          "No",
          "No",
          "No",
          "No",
          "No",
          "No",
          "No",
          "No",
          "No",
          "No",
          "No",
          "No",
          "No",
          "No",
          "No",
          "No",
          "No",
          "No",
          "No",
          "No",
          "No",
          "No",
          "Yes",
          "Yes",
          "Yes",
          "No",
          "No",
          "No",
          "No",
          "No",
          "No",
          "No",
          "No",
          "Yes",
          "No",
          "No",
          "No",
          "No",
          "No",
          "No",
          "No",
          "No",
          "No",
          "No",
          "No",
          "No",
          "No",
          "No",
          "No",
          "No",
          "No",
          "No",
          "No",
          "No",
          "No",
          "No",
          "Yes",
          "No",
          "No",
          "No",
          "No",
          "Yes",
          "No",
          "No",
          "No",
          "Yes",
          "No",
          "Yes",
          "No",
          "Yes",
          "Yes",
          "Yes",
          "No",
          "No",
          "No",
          "No",
          "No",
          "No",
          "No",
          "No",
          "No",
          "Yes",
          "No",
          "No",
          "No",
          "Yes",
          "No",
          "No",
          "No",
          "No",
          "No",
          "Yes",
          "Yes",
          "No",
          "No",
          "No",
          "No",
          "No",
          "No",
          "No",
          "No",
          "No",
          "No",
          "No",
          "No",
          "No",
          "No",
          "No",
          "Yes",
          "Yes",
          "No",
          "No",
          "No",
          "No",
          "Yes",
          "No",
          "No",
          "No",
          "No",
          "No",
          "No",
          "No",
          "No",
          "No",
          "No",
          "No",
          "No",
          "No",
          "No",
          "No",
          "No",
          "No",
          "No",
          "No",
          "No",
          "No",
          "No",
          "No",
          "No",
          "No",
          "No",
          "No",
          "No",
          "No",
          "No",
          "No",
          "No",
          "No",
          "No",
          "No",
          "No",
          "No",
          "No",
          "No",
          "No",
          "No",
          "No",
          "No",
          "Yes",
          "No",
          "No",
          "No",
          "No",
          "No",
          "No",
          "No",
          "No",
          "No",
          "No",
          "No",
          "Yes",
          "Yes",
          "No",
          "No",
          "No",
          "No",
          "No",
          "No",
          "No",
          "No",
          "No",
          "No",
          "No",
          "Yes",
          "No",
          "No",
          "Yes",
          "Yes",
          "No",
          "No",
          "No",
          "No",
          "No",
          "No",
          "No",
          "No",
          "No",
          "No",
          "No",
          "No",
          "No",
          "No",
          "No",
          "No",
          "No",
          "No",
          "No",
          "No",
          "No",
          "No",
          "No",
          "Yes",
          "No",
          "No",
          "No",
          "Yes",
          "No",
          "No",
          "No",
          "Yes",
          "Yes",
          "No",
          "Yes",
          "No",
          "No",
          "No",
          "No",
          "No",
          "Yes",
          "No",
          "No",
          "No",
          "No",
          "No",
          "No",
          "No",
          "No",
          "No",
          "No",
          "No",
          "No",
          "No",
          "No",
          "No",
          "No",
          "No",
          "No",
          "No",
          "Yes"
         ],
         "x0": " ",
         "xaxis": "x",
         "y": {
          "dtype": "f8",
          "bdata": "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"
         },
         "y0": " ",
         "yaxis": "y",
         "type": "box"
        }
       ],
       "layout": {
        "template": {
         "data": {
          "histogram2dcontour": [
           {
            "type": "histogram2dcontour",
            "colorbar": {
             "outlinewidth": 0,
             "ticks": ""
            },
            "colorscale": [
             [
              0.0,
              "#0d0887"
             ],
             [
              0.1111111111111111,
              "#46039f"
             ],
             [
              0.2222222222222222,
              "#7201a8"
             ],
             [
              0.3333333333333333,
              "#9c179e"
             ],
             [
              0.4444444444444444,
              "#bd3786"
             ],
             [
              0.5555555555555556,
              "#d8576b"
             ],
             [
              0.6666666666666666,
              "#ed7953"
             ],
             [
              0.7777777777777778,
              "#fb9f3a"
             ],
             [
              0.8888888888888888,
              "#fdca26"
             ],
             [
              1.0,
              "#f0f921"
             ]
            ]
           }
          ],
          "choropleth": [
           {
            "type": "choropleth",
            "colorbar": {
             "outlinewidth": 0,
             "ticks": ""
            }
           }
          ],
          "histogram2d": [
           {
            "type": "histogram2d",
            "colorbar": {
             "outlinewidth": 0,
             "ticks": ""
            },
            "colorscale": [
             [
              0.0,
              "#0d0887"
             ],
             [
              0.1111111111111111,
              "#46039f"
             ],
             [
              0.2222222222222222,
              "#7201a8"
             ],
             [
              0.3333333333333333,
              "#9c179e"
             ],
             [
              0.4444444444444444,
              "#bd3786"
             ],
             [
              0.5555555555555556,
              "#d8576b"
             ],
             [
              0.6666666666666666,
              "#ed7953"
             ],
             [
              0.7777777777777778,
              "#fb9f3a"
             ],
             [
              0.8888888888888888,
              "#fdca26"
             ],
             [
              1.0,
              "#f0f921"
             ]
            ]
           }
          ],
          "heatmap": [
           {
            "type": "heatmap",
            "colorbar": {
             "outlinewidth": 0,
             "ticks": ""
            },
            "colorscale": [
             [
              0.0,
              "#0d0887"
             ],
             [
              0.1111111111111111,
              "#46039f"
             ],
             [
              0.2222222222222222,
              "#7201a8"
             ],
             [
              0.3333333333333333,
              "#9c179e"
             ],
             [
              0.4444444444444444,
              "#bd3786"
             ],
             [
              0.5555555555555556,
              "#d8576b"
             ],
             [
              0.6666666666666666,
              "#ed7953"
             ],
             [
              0.7777777777777778,
              "#fb9f3a"
             ],
             [
              0.8888888888888888,
              "#fdca26"
             ],
             [
              1.0,
              "#f0f921"
             ]
            ]
           }
          ],
          "contourcarpet": [
           {
            "type": "contourcarpet",
            "colorbar": {
             "outlinewidth": 0,
             "ticks": ""
            }
           }
          ],
          "contour": [
           {
            "type": "contour",
            "colorbar": {
             "outlinewidth": 0,
             "ticks": ""
            },
            "colorscale": [
             [
              0.0,
              "#0d0887"
             ],
             [
              0.1111111111111111,
              "#46039f"
             ],
             [
              0.2222222222222222,
              "#7201a8"
             ],
             [
              0.3333333333333333,
              "#9c179e"
             ],
             [
              0.4444444444444444,
              "#bd3786"
             ],
             [
              0.5555555555555556,
              "#d8576b"
             ],
             [
              0.6666666666666666,
              "#ed7953"
             ],
             [
              0.7777777777777778,
              "#fb9f3a"
             ],
             [
              0.8888888888888888,
              "#fdca26"
             ],
             [
              1.0,
              "#f0f921"
             ]
            ]
           }
          ],
          "surface": [
           {
            "type": "surface",
            "colorbar": {
             "outlinewidth": 0,
             "ticks": ""
            },
            "colorscale": [
             [
              0.0,
              "#0d0887"
             ],
             [
              0.1111111111111111,
              "#46039f"
             ],
             [
              0.2222222222222222,
              "#7201a8"
             ],
             [
              0.3333333333333333,
              "#9c179e"
             ],
             [
              0.4444444444444444,
              "#bd3786"
             ],
             [
              0.5555555555555556,
              "#d8576b"
             ],
             [
              0.6666666666666666,
              "#ed7953"
             ],
             [
              0.7777777777777778,
              "#fb9f3a"
             ],
             [
              0.8888888888888888,
              "#fdca26"
             ],
             [
              1.0,
              "#f0f921"
             ]
            ]
           }
          ],
          "mesh3d": [
           {
            "type": "mesh3d",
            "colorbar": {
             "outlinewidth": 0,
             "ticks": ""
            }
           }
          ],
          "scatter": [
           {
            "fillpattern": {
             "fillmode": "overlay",
             "size": 10,
             "solidity": 0.2
            },
            "type": "scatter"
           }
          ],
          "parcoords": [
           {
            "type": "parcoords",
            "line": {
             "colorbar": {
              "outlinewidth": 0,
              "ticks": ""
             }
            }
           }
          ],
          "scatterpolargl": [
           {
            "type": "scatterpolargl",
            "marker": {
             "colorbar": {
              "outlinewidth": 0,
              "ticks": ""
             }
            }
           }
          ],
          "bar": [
           {
            "error_x": {
             "color": "#2a3f5f"
            },
            "error_y": {
             "color": "#2a3f5f"
            },
            "marker": {
             "line": {
              "color": "#E5ECF6",
              "width": 0.5
             },
             "pattern": {
              "fillmode": "overlay",
              "size": 10,
              "solidity": 0.2
             }
            },
            "type": "bar"
           }
          ],
          "scattergeo": [
           {
            "type": "scattergeo",
            "marker": {
             "colorbar": {
              "outlinewidth": 0,
              "ticks": ""
             }
            }
           }
          ],
          "scatterpolar": [
           {
            "type": "scatterpolar",
            "marker": {
             "colorbar": {
              "outlinewidth": 0,
              "ticks": ""
             }
            }
           }
          ],
          "histogram": [
           {
            "marker": {
             "pattern": {
              "fillmode": "overlay",
              "size": 10,
              "solidity": 0.2
             }
            },
            "type": "histogram"
           }
          ],
          "scattergl": [
           {
            "type": "scattergl",
            "marker": {
             "colorbar": {
              "outlinewidth": 0,
              "ticks": ""
             }
            }
           }
          ],
          "scatter3d": [
           {
            "type": "scatter3d",
            "line": {
             "colorbar": {
              "outlinewidth": 0,
              "ticks": ""
             }
            },
            "marker": {
             "colorbar": {
              "outlinewidth": 0,
              "ticks": ""
             }
            }
           }
          ],
          "scattermap": [
           {
            "type": "scattermap",
            "marker": {
             "colorbar": {
              "outlinewidth": 0,
              "ticks": ""
             }
            }
           }
          ],
          "scattermapbox": [
           {
            "type": "scattermapbox",
            "marker": {
             "colorbar": {
              "outlinewidth": 0,
              "ticks": ""
             }
            }
           }
          ],
          "scatterternary": [
           {
            "type": "scatterternary",
            "marker": {
             "colorbar": {
              "outlinewidth": 0,
              "ticks": ""
             }
            }
           }
          ],
          "scattercarpet": [
           {
            "type": "scattercarpet",
            "marker": {
             "colorbar": {
              "outlinewidth": 0,
              "ticks": ""
             }
            }
           }
          ],
          "carpet": [
           {
            "aaxis": {
             "endlinecolor": "#2a3f5f",
             "gridcolor": "white",
             "linecolor": "white",
             "minorgridcolor": "white",
             "startlinecolor": "#2a3f5f"
            },
            "baxis": {
             "endlinecolor": "#2a3f5f",
             "gridcolor": "white",
             "linecolor": "white",
             "minorgridcolor": "white",
             "startlinecolor": "#2a3f5f"
            },
            "type": "carpet"
           }
          ],
          "table": [
           {
            "cells": {
             "fill": {
              "color": "#EBF0F8"
             },
             "line": {
              "color": "white"
             }
            },
            "header": {
             "fill": {
              "color": "#C8D4E3"
             },
             "line": {
              "color": "white"
             }
            },
            "type": "table"
           }
          ],
          "barpolar": [
           {
            "marker": {
             "line": {
              "color": "#E5ECF6",
              "width": 0.5
             },
             "pattern": {
              "fillmode": "overlay",
              "size": 10,
              "solidity": 0.2
             }
            },
            "type": "barpolar"
           }
          ],
          "pie": [
           {
            "automargin": true,
            "type": "pie"
           }
          ]
         },
         "layout": {
          "autotypenumbers": "strict",
          "colorway": [
           "#636efa",
           "#EF553B",
           "#00cc96",
           "#ab63fa",
           "#FFA15A",
           "#19d3f3",
           "#FF6692",
           "#B6E880",
           "#FF97FF",
           "#FECB52"
          ],
          "font": {
           "color": "#2a3f5f"
          },
          "hovermode": "closest",
          "hoverlabel": {
           "align": "left"
          },
          "paper_bgcolor": "white",
          "plot_bgcolor": "#E5ECF6",
          "polar": {
           "bgcolor": "#E5ECF6",
           "angularaxis": {
            "gridcolor": "white",
            "linecolor": "white",
            "ticks": ""
           },
           "radialaxis": {
            "gridcolor": "white",
            "linecolor": "white",
            "ticks": ""
           }
          },
          "ternary": {
           "bgcolor": "#E5ECF6",
           "aaxis": {
            "gridcolor": "white",
            "linecolor": "white",
            "ticks": ""
           },
           "baxis": {
            "gridcolor": "white",
            "linecolor": "white",
            "ticks": ""
           },
           "caxis": {
            "gridcolor": "white",
            "linecolor": "white",
            "ticks": ""
           }
          },
          "coloraxis": {
           "colorbar": {
            "outlinewidth": 0,
            "ticks": ""
           }
          },
          "colorscale": {
           "sequential": [
            [
             0.0,
             "#0d0887"
            ],
            [
             0.1111111111111111,
             "#46039f"
            ],
            [
             0.2222222222222222,
             "#7201a8"
            ],
            [
             0.3333333333333333,
             "#9c179e"
            ],
            [
             0.4444444444444444,
             "#bd3786"
            ],
            [
             0.5555555555555556,
             "#d8576b"
            ],
            [
             0.6666666666666666,
             "#ed7953"
            ],
            [
             0.7777777777777778,
             "#fb9f3a"
            ],
            [
             0.8888888888888888,
             "#fdca26"
            ],
            [
             1.0,
             "#f0f921"
            ]
           ],
           "sequentialminus": [
            [
             0.0,
             "#0d0887"
            ],
            [
             0.1111111111111111,
             "#46039f"
            ],
            [
             0.2222222222222222,
             "#7201a8"
            ],
            [
             0.3333333333333333,
             "#9c179e"
            ],
            [
             0.4444444444444444,
             "#bd3786"
            ],
            [
             0.5555555555555556,
             "#d8576b"
            ],
            [
             0.6666666666666666,
             "#ed7953"
            ],
            [
             0.7777777777777778,
             "#fb9f3a"
            ],
            [
             0.8888888888888888,
             "#fdca26"
            ],
            [
             1.0,
             "#f0f921"
            ]
           ],
           "diverging": [
            [
             0,
             "#8e0152"
            ],
            [
             0.1,
             "#c51b7d"
            ],
            [
             0.2,
             "#de77ae"
            ],
            [
             0.3,
             "#f1b6da"
            ],
            [
             0.4,
             "#fde0ef"
            ],
            [
             0.5,
             "#f7f7f7"
            ],
            [
             0.6,
             "#e6f5d0"
            ],
            [
             0.7,
             "#b8e186"
            ],
            [
             0.8,
             "#7fbc41"
            ],
            [
             0.9,
             "#4d9221"
            ],
            [
             1,
             "#276419"
            ]
           ]
          },
          "xaxis": {
           "gridcolor": "white",
           "linecolor": "white",
           "ticks": "",
           "title": {
            "standoff": 15
           },
           "zerolinecolor": "white",
           "automargin": true,
           "zerolinewidth": 2
          },
          "yaxis": {
           "gridcolor": "white",
           "linecolor": "white",
           "ticks": "",
           "title": {
            "standoff": 15
           },
           "zerolinecolor": "white",
           "automargin": true,
           "zerolinewidth": 2
          },
          "scene": {
           "xaxis": {
            "backgroundcolor": "#E5ECF6",
            "gridcolor": "white",
            "linecolor": "white",
            "showbackground": true,
            "ticks": "",
            "zerolinecolor": "white",
            "gridwidth": 2
           },
           "yaxis": {
            "backgroundcolor": "#E5ECF6",
            "gridcolor": "white",
            "linecolor": "white",
            "showbackground": true,
            "ticks": "",
            "zerolinecolor": "white",
            "gridwidth": 2
           },
           "zaxis": {
            "backgroundcolor": "#E5ECF6",
            "gridcolor": "white",
            "linecolor": "white",
            "showbackground": true,
            "ticks": "",
            "zerolinecolor": "white",
            "gridwidth": 2
           }
          },
          "shapedefaults": {
           "line": {
            "color": "#2a3f5f"
           }
          },
          "annotationdefaults": {
           "arrowcolor": "#2a3f5f",
           "arrowhead": 0,
           "arrowwidth": 1
          },
          "geo": {
           "bgcolor": "white",
           "landcolor": "#E5ECF6",
           "subunitcolor": "white",
           "showland": true,
           "showlakes": true,
           "lakecolor": "white"
          },
          "title": {
           "x": 0.05
          },
          "mapbox": {
           "style": "light"
          }
         }
        },
        "xaxis": {
         "anchor": "y",
         "domain": [
          0.0,
          1.0
         ],
         "title": {
          "text": "RainTomorrow"
         }
        },
        "yaxis": {
         "anchor": "x",
         "domain": [
          0.0,
          1.0
         ],
         "title": {
          "text": "Humidity3pm"
         }
        },
        "legend": {
         "tracegroupgap": 0
        },
        "margin": {
         "t": 60
        },
        "boxmode": "group"
       },
       "config": {
        "plotlyServerURL": "https://plot.ly"
       }
      }
     },
     "metadata": {},
     "output_type": "display_data"
    }
   ],
   "execution_count": 104
  },
  {
   "metadata": {},
   "cell_type": "markdown",
   "source": "RainTomorrow Class Distribution – Bar chart showing the dataset is slightly imbalanced (more “No” than “Yes”).",
   "id": "250e5c6735465c62"
  },
  {
   "metadata": {
    "ExecuteTime": {
     "end_time": "2025-06-15T17:28:05.670134Z",
     "start_time": "2025-06-15T17:28:05.479807Z"
    }
   },
   "cell_type": "code",
   "source": "px.bar(df,x='RainTomorrow',color='RainTomorrow')",
   "id": "920be1af097186d3",
   "outputs": [
    {
     "data": {
      "application/vnd.plotly.v1+json": {
       "data": [
        {
         "hovertemplate": "RainTomorrow=%{x}<br>count=%{y}<extra></extra>",
         "legendgroup": "No",
         "marker": {
          "color": "#636efa",
          "pattern": {
           "shape": ""
          }
         },
         "name": "No",
         "orientation": "v",
         "showlegend": true,
         "textposition": "auto",
         "x": [
          "No",
          "No",
          "No",
          "No",
          "No",
          "No",
          "No",
          "No",
          "No",
          "No",
          "No",
          "No",
          "No",
          "No",
          "No",
          "No",
          "No",
          "No",
          "No",
          "No",
          "No",
          "No",
          "No",
          "No",
          "No",
          "No",
          "No",
          "No",
          "No",
          "No",
          "No",
          "No",
          "No",
          "No",
          "No",
          "No",
          "No",
          "No",
          "No",
          "No",
          "No",
          "No",
          "No",
          "No",
          "No",
          "No",
          "No",
          "No",
          "No",
          "No",
          "No",
          "No",
          "No",
          "No",
          "No",
          "No",
          "No",
          "No",
          "No",
          "No",
          "No",
          "No",
          "No",
          "No",
          "No",
          "No",
          "No",
          "No",
          "No",
          "No",
          "No",
          "No",
          "No",
          "No",
          "No",
          "No",
          "No",
          "No",
          "No",
          "No",
          "No",
          "No",
          "No",
          "No",
          "No",
          "No",
          "No",
          "No",
          "No",
          "No",
          "No",
          "No",
          "No",
          "No",
          "No",
          "No",
          "No",
          "No",
          "No",
          "No",
          "No",
          "No",
          "No",
          "No",
          "No",
          "No",
          "No",
          "No",
          "No",
          "No",
          "No",
          "No",
          "No",
          "No",
          "No",
          "No",
          "No",
          "No",
          "No",
          "No",
          "No",
          "No",
          "No",
          "No",
          "No",
          "No",
          "No",
          "No",
          "No",
          "No",
          "No",
          "No",
          "No",
          "No",
          "No",
          "No",
          "No",
          "No",
          "No",
          "No",
          "No",
          "No",
          "No",
          "No",
          "No",
          "No",
          "No",
          "No",
          "No",
          "No",
          "No",
          "No",
          "No",
          "No",
          "No",
          "No",
          "No",
          "No",
          "No",
          "No",
          "No",
          "No",
          "No",
          "No",
          "No",
          "No",
          "No",
          "No",
          "No",
          "No",
          "No",
          "No",
          "No",
          "No",
          "No",
          "No",
          "No",
          "No",
          "No",
          "No",
          "No",
          "No",
          "No",
          "No",
          "No",
          "No",
          "No",
          "No",
          "No",
          "No",
          "No",
          "No",
          "No",
          "No",
          "No",
          "No",
          "No",
          "No",
          "No",
          "No",
          "No",
          "No",
          "No",
          "No",
          "No",
          "No",
          "No",
          "No",
          "No",
          "No",
          "No",
          "No",
          "No",
          "No",
          "No",
          "No",
          "No",
          "No",
          "No",
          "No",
          "No",
          "No",
          "No",
          "No",
          "No",
          "No",
          "No",
          "No",
          "No",
          "No",
          "No",
          "No",
          "No",
          "No",
          "No",
          "No",
          "No",
          "No",
          "No",
          "No",
          "No",
          "No",
          "No",
          "No",
          "No",
          "No",
          "No",
          "No",
          "No",
          "No",
          "No",
          "No",
          "No",
          "No",
          "No",
          "No",
          "No",
          "No",
          "No",
          "No",
          "No",
          "No",
          "No",
          "No",
          "No",
          "No",
          "No",
          "No",
          "No",
          "No",
          "No",
          "No",
          "No",
          "No",
          "No",
          "No",
          "No",
          "No",
          "No",
          "No",
          "No",
          "No",
          "No",
          "No",
          "No",
          "No",
          "No",
          "No",
          "No",
          "No",
          "No",
          "No",
          "No",
          "No",
          "No",
          "No",
          "No",
          "No",
          "No",
          "No",
          "No",
          "No",
          "No",
          "No",
          "No",
          "No",
          "No",
          "No",
          "No",
          "No",
          "No",
          "No",
          "No",
          "No",
          "No",
          "No",
          "No",
          "No",
          "No",
          "No",
          "No",
          "No",
          "No",
          "No",
          "No",
          "No",
          "No",
          "No",
          "No",
          "No",
          "No",
          "No",
          "No",
          "No",
          "No",
          "No",
          "No",
          "No",
          "No",
          "No",
          "No",
          "No",
          "No",
          "No",
          "No",
          "No",
          "No",
          "No",
          "No",
          "No",
          "No",
          "No",
          "No",
          "No",
          "No",
          "No",
          "No",
          "No",
          "No",
          "No",
          "No",
          "No",
          "No",
          "No",
          "No",
          "No",
          "No",
          "No",
          "No",
          "No",
          "No",
          "No",
          "No",
          "No",
          "No",
          "No",
          "No",
          "No",
          "No",
          "No",
          "No",
          "No",
          "No",
          "No",
          "No",
          "No",
          "No",
          "No",
          "No",
          "No",
          "No",
          "No",
          "No",
          "No",
          "No",
          "No",
          "No",
          "No",
          "No",
          "No",
          "No",
          "No",
          "No",
          "No",
          "No",
          "No",
          "No",
          "No",
          "No",
          "No",
          "No",
          "No",
          "No",
          "No",
          "No",
          "No",
          "No",
          "No",
          "No",
          "No",
          "No",
          "No",
          "No",
          "No",
          "No",
          "No",
          "No",
          "No",
          "No",
          "No",
          "No",
          "No",
          "No",
          "No",
          "No",
          "No",
          "No",
          "No",
          "No",
          "No",
          "No",
          "No",
          "No",
          "No",
          "No",
          "No",
          "No",
          "No",
          "No",
          "No",
          "No",
          "No",
          "No",
          "No",
          "No",
          "No",
          "No",
          "No",
          "No",
          "No",
          "No",
          "No",
          "No",
          "No",
          "No",
          "No",
          "No",
          "No",
          "No",
          "No",
          "No",
          "No",
          "No",
          "No",
          "No",
          "No",
          "No",
          "No",
          "No",
          "No",
          "No",
          "No",
          "No",
          "No",
          "No",
          "No",
          "No",
          "No",
          "No",
          "No",
          "No",
          "No",
          "No",
          "No",
          "No",
          "No",
          "No",
          "No",
          "No",
          "No",
          "No",
          "No",
          "No",
          "No",
          "No",
          "No",
          "No",
          "No",
          "No",
          "No",
          "No",
          "No",
          "No",
          "No",
          "No",
          "No",
          "No",
          "No",
          "No",
          "No",
          "No",
          "No",
          "No",
          "No",
          "No",
          "No",
          "No",
          "No",
          "No",
          "No",
          "No",
          "No",
          "No",
          "No",
          "No",
          "No",
          "No",
          "No",
          "No",
          "No",
          "No",
          "No",
          "No",
          "No",
          "No",
          "No",
          "No",
          "No",
          "No",
          "No",
          "No",
          "No",
          "No",
          "No",
          "No",
          "No",
          "No",
          "No",
          "No",
          "No",
          "No",
          "No",
          "No",
          "No",
          "No",
          "No",
          "No",
          "No",
          "No",
          "No",
          "No",
          "No",
          "No",
          "No",
          "No",
          "No",
          "No",
          "No",
          "No",
          "No",
          "No",
          "No",
          "No",
          "No",
          "No",
          "No",
          "No",
          "No",
          "No",
          "No",
          "No",
          "No",
          "No",
          "No",
          "No",
          "No",
          "No",
          "No",
          "No",
          "No",
          "No",
          "No",
          "No",
          "No",
          "No",
          "No",
          "No",
          "No",
          "No",
          "No",
          "No",
          "No",
          "No",
          "No",
          "No",
          "No",
          "No",
          "No",
          "No",
          "No",
          "No",
          "No",
          "No",
          "No",
          "No",
          "No",
          "No",
          "No",
          "No",
          "No",
          "No",
          "No",
          "No",
          "No",
          "No",
          "No",
          "No",
          "No",
          "No",
          "No",
          "No",
          "No",
          "No",
          "No",
          "No",
          "No",
          "No",
          "No",
          "No",
          "No",
          "No",
          "No",
          "No",
          "No",
          "No",
          "No",
          "No",
          "No",
          "No",
          "No",
          "No",
          "No",
          "No",
          "No",
          "No",
          "No",
          "No",
          "No",
          "No",
          "No",
          "No",
          "No",
          "No",
          "No",
          "No",
          "No",
          "No",
          "No",
          "No",
          "No",
          "No",
          "No",
          "No",
          "No",
          "No",
          "No",
          "No",
          "No",
          "No",
          "No",
          "No",
          "No",
          "No",
          "No",
          "No",
          "No",
          "No",
          "No",
          "No",
          "No",
          "No",
          "No",
          "No",
          "No",
          "No",
          "No",
          "No",
          "No",
          "No",
          "No",
          "No",
          "No",
          "No",
          "No",
          "No",
          "No",
          "No",
          "No",
          "No",
          "No",
          "No",
          "No",
          "No",
          "No",
          "No",
          "No",
          "No",
          "No",
          "No",
          "No",
          "No",
          "No",
          "No",
          "No",
          "No",
          "No",
          "No",
          "No",
          "No",
          "No",
          "No",
          "No",
          "No",
          "No",
          "No",
          "No",
          "No",
          "No",
          "No",
          "No",
          "No",
          "No",
          "No",
          "No",
          "No",
          "No",
          "No",
          "No",
          "No",
          "No",
          "No",
          "No",
          "No",
          "No",
          "No",
          "No",
          "No",
          "No",
          "No",
          "No",
          "No",
          "No",
          "No",
          "No",
          "No",
          "No",
          "No",
          "No",
          "No",
          "No",
          "No",
          "No",
          "No",
          "No",
          "No",
          "No",
          "No",
          "No",
          "No",
          "No",
          "No",
          "No",
          "No",
          "No",
          "No",
          "No",
          "No",
          "No",
          "No",
          "No",
          "No",
          "No",
          "No",
          "No",
          "No",
          "No",
          "No",
          "No",
          "No",
          "No",
          "No",
          "No",
          "No",
          "No",
          "No",
          "No",
          "No",
          "No",
          "No",
          "No",
          "No",
          "No",
          "No",
          "No",
          "No",
          "No",
          "No",
          "No",
          "No",
          "No",
          "No",
          "No",
          "No",
          "No",
          "No",
          "No",
          "No",
          "No",
          "No",
          "No",
          "No",
          "No",
          "No",
          "No",
          "No",
          "No",
          "No",
          "No",
          "No",
          "No",
          "No",
          "No",
          "No",
          "No",
          "No",
          "No",
          "No",
          "No",
          "No",
          "No",
          "No",
          "No",
          "No",
          "No",
          "No",
          "No",
          "No",
          "No",
          "No",
          "No",
          "No",
          "No",
          "No",
          "No",
          "No",
          "No",
          "No",
          "No",
          "No",
          "No",
          "No",
          "No",
          "No",
          "No",
          "No",
          "No",
          "No",
          "No",
          "No",
          "No",
          "No",
          "No",
          "No",
          "No",
          "No",
          "No",
          "No",
          "No",
          "No",
          "No",
          "No",
          "No",
          "No",
          "No",
          "No",
          "No",
          "No",
          "No",
          "No",
          "No",
          "No",
          "No",
          "No",
          "No",
          "No",
          "No",
          "No",
          "No",
          "No",
          "No",
          "No",
          "No",
          "No",
          "No",
          "No",
          "No",
          "No",
          "No",
          "No",
          "No",
          "No",
          "No",
          "No",
          "No",
          "No",
          "No",
          "No",
          "No",
          "No",
          "No",
          "No",
          "No",
          "No",
          "No",
          "No",
          "No",
          "No",
          "No",
          "No",
          "No",
          "No",
          "No",
          "No",
          "No",
          "No",
          "No",
          "No",
          "No",
          "No",
          "No",
          "No",
          "No",
          "No",
          "No",
          "No",
          "No",
          "No",
          "No",
          "No",
          "No",
          "No",
          "No",
          "No",
          "No",
          "No",
          "No",
          "No",
          "No",
          "No",
          "No",
          "No",
          "No",
          "No",
          "No",
          "No",
          "No",
          "No",
          "No",
          "No",
          "No",
          "No",
          "No",
          "No",
          "No",
          "No",
          "No",
          "No",
          "No",
          "No",
          "No",
          "No",
          "No",
          "No",
          "No",
          "No",
          "No",
          "No",
          "No",
          "No",
          "No",
          "No",
          "No",
          "No",
          "No",
          "No",
          "No",
          "No",
          "No",
          "No",
          "No",
          "No",
          "No",
          "No",
          "No",
          "No",
          "No",
          "No",
          "No",
          "No",
          "No",
          "No",
          "No",
          "No",
          "No",
          "No",
          "No",
          "No",
          "No",
          "No",
          "No",
          "No",
          "No",
          "No",
          "No",
          "No",
          "No",
          "No",
          "No",
          "No",
          "No",
          "No",
          "No",
          "No",
          "No",
          "No",
          "No",
          "No",
          "No",
          "No",
          "No",
          "No",
          "No",
          "No",
          "No",
          "No",
          "No",
          "No",
          "No",
          "No",
          "No",
          "No",
          "No",
          "No",
          "No",
          "No",
          "No",
          "No",
          "No",
          "No",
          "No",
          "No",
          "No",
          "No",
          "No",
          "No",
          "No",
          "No",
          "No",
          "No",
          "No",
          "No",
          "No",
          "No",
          "No",
          "No",
          "No",
          "No",
          "No",
          "No",
          "No",
          "No",
          "No",
          "No",
          "No",
          "No",
          "No",
          "No",
          "No",
          "No",
          "No",
          "No",
          "No",
          "No",
          "No",
          "No",
          "No",
          "No",
          "No",
          "No",
          "No",
          "No",
          "No",
          "No",
          "No",
          "No",
          "No",
          "No",
          "No",
          "No",
          "No",
          "No",
          "No",
          "No",
          "No",
          "No",
          "No",
          "No",
          "No",
          "No",
          "No",
          "No",
          "No",
          "No",
          "No",
          "No",
          "No",
          "No",
          "No",
          "No",
          "No",
          "No",
          "No",
          "No",
          "No",
          "No",
          "No",
          "No",
          "No",
          "No",
          "No",
          "No",
          "No",
          "No",
          "No",
          "No",
          "No",
          "No",
          "No",
          "No",
          "No",
          "No",
          "No",
          "No",
          "No",
          "No",
          "No",
          "No",
          "No",
          "No",
          "No",
          "No",
          "No",
          "No",
          "No",
          "No",
          "No",
          "No",
          "No",
          "No",
          "No",
          "No",
          "No",
          "No",
          "No",
          "No",
          "No",
          "No",
          "No",
          "No",
          "No",
          "No",
          "No",
          "No",
          "No",
          "No",
          "No",
          "No",
          "No",
          "No",
          "No",
          "No",
          "No",
          "No",
          "No",
          "No",
          "No",
          "No",
          "No",
          "No",
          "No",
          "No",
          "No",
          "No",
          "No",
          "No",
          "No",
          "No",
          "No",
          "No",
          "No",
          "No",
          "No",
          "No",
          "No",
          "No",
          "No",
          "No",
          "No",
          "No",
          "No",
          "No",
          "No",
          "No",
          "No",
          "No",
          "No",
          "No",
          "No",
          "No",
          "No",
          "No",
          "No",
          "No",
          "No",
          "No",
          "No",
          "No",
          "No",
          "No",
          "No",
          "No",
          "No",
          "No",
          "No",
          "No",
          "No",
          "No",
          "No",
          "No",
          "No",
          "No",
          "No",
          "No",
          "No",
          "No",
          "No",
          "No",
          "No",
          "No",
          "No",
          "No",
          "No",
          "No",
          "No",
          "No",
          "No",
          "No",
          "No",
          "No",
          "No",
          "No",
          "No",
          "No",
          "No",
          "No",
          "No",
          "No",
          "No",
          "No",
          "No",
          "No",
          "No",
          "No",
          "No",
          "No",
          "No",
          "No",
          "No",
          "No",
          "No",
          "No",
          "No",
          "No",
          "No",
          "No",
          "No",
          "No",
          "No",
          "No",
          "No",
          "No",
          "No",
          "No",
          "No",
          "No",
          "No",
          "No",
          "No",
          "No",
          "No",
          "No",
          "No",
          "No",
          "No",
          "No",
          "No",
          "No",
          "No",
          "No",
          "No",
          "No",
          "No",
          "No",
          "No",
          "No",
          "No",
          "No",
          "No",
          "No",
          "No",
          "No",
          "No",
          "No",
          "No",
          "No",
          "No",
          "No",
          "No",
          "No",
          "No",
          "No",
          "No",
          "No",
          "No",
          "No",
          "No",
          "No",
          "No",
          "No",
          "No",
          "No",
          "No",
          "No",
          "No",
          "No",
          "No",
          "No",
          "No",
          "No",
          "No",
          "No",
          "No",
          "No",
          "No",
          "No",
          "No",
          "No",
          "No",
          "No",
          "No",
          "No",
          "No",
          "No",
          "No",
          "No",
          "No",
          "No",
          "No",
          "No",
          "No",
          "No",
          "No",
          "No",
          "No",
          "No",
          "No",
          "No",
          "No",
          "No",
          "No",
          "No",
          "No",
          "No",
          "No",
          "No",
          "No",
          "No",
          "No",
          "No",
          "No",
          "No",
          "No",
          "No",
          "No",
          "No",
          "No",
          "No",
          "No",
          "No",
          "No",
          "No",
          "No",
          "No",
          "No",
          "No",
          "No",
          "No",
          "No",
          "No",
          "No",
          "No",
          "No",
          "No",
          "No",
          "No",
          "No",
          "No",
          "No",
          "No",
          "No",
          "No",
          "No",
          "No",
          "No",
          "No",
          "No",
          "No",
          "No",
          "No",
          "No",
          "No",
          "No",
          "No",
          "No",
          "No",
          "No",
          "No",
          "No",
          "No",
          "No",
          "No",
          "No",
          "No",
          "No",
          "No",
          "No",
          "No",
          "No",
          "No",
          "No",
          "No",
          "No",
          "No",
          "No",
          "No",
          "No",
          "No",
          "No",
          "No",
          "No",
          "No",
          "No",
          "No",
          "No",
          "No",
          "No",
          "No",
          "No",
          "No",
          "No",
          "No",
          "No",
          "No",
          "No",
          "No",
          "No",
          "No",
          "No",
          "No",
          "No",
          "No",
          "No",
          "No",
          "No",
          "No",
          "No",
          "No",
          "No",
          "No",
          "No",
          "No",
          "No",
          "No",
          "No",
          "No",
          "No",
          "No",
          "No",
          "No",
          "No",
          "No",
          "No",
          "No",
          "No",
          "No",
          "No",
          "No",
          "No",
          "No",
          "No",
          "No",
          "No",
          "No",
          "No",
          "No",
          "No",
          "No",
          "No",
          "No",
          "No",
          "No",
          "No",
          "No",
          "No",
          "No",
          "No",
          "No",
          "No",
          "No",
          "No",
          "No",
          "No",
          "No",
          "No",
          "No",
          "No",
          "No",
          "No",
          "No",
          "No",
          "No",
          "No",
          "No",
          "No",
          "No",
          "No",
          "No",
          "No",
          "No",
          "No",
          "No",
          "No",
          "No",
          "No",
          "No",
          "No",
          "No",
          "No",
          "No",
          "No",
          "No",
          "No",
          "No",
          "No",
          "No",
          "No",
          "No",
          "No",
          "No",
          "No",
          "No",
          "No",
          "No",
          "No",
          "No",
          "No",
          "No",
          "No",
          "No",
          "No",
          "No",
          "No",
          "No",
          "No",
          "No",
          "No",
          "No",
          "No",
          "No",
          "No",
          "No",
          "No",
          "No",
          "No",
          "No",
          "No",
          "No",
          "No",
          "No",
          "No",
          "No",
          "No",
          "No",
          "No",
          "No",
          "No",
          "No",
          "No",
          "No",
          "No",
          "No",
          "No",
          "No",
          "No",
          "No",
          "No",
          "No",
          "No",
          "No",
          "No",
          "No",
          "No",
          "No",
          "No",
          "No",
          "No",
          "No",
          "No",
          "No",
          "No",
          "No",
          "No",
          "No",
          "No",
          "No",
          "No",
          "No",
          "No",
          "No",
          "No",
          "No",
          "No",
          "No",
          "No",
          "No",
          "No",
          "No",
          "No",
          "No",
          "No",
          "No",
          "No",
          "No",
          "No",
          "No",
          "No",
          "No",
          "No",
          "No",
          "No",
          "No",
          "No",
          "No",
          "No",
          "No",
          "No",
          "No",
          "No",
          "No",
          "No",
          "No",
          "No",
          "No",
          "No",
          "No",
          "No",
          "No",
          "No",
          "No",
          "No",
          "No",
          "No",
          "No",
          "No",
          "No",
          "No",
          "No",
          "No",
          "No",
          "No",
          "No",
          "No",
          "No",
          "No",
          "No",
          "No",
          "No",
          "No",
          "No",
          "No",
          "No",
          "No",
          "No",
          "No",
          "No",
          "No",
          "No",
          "No",
          "No",
          "No",
          "No",
          "No",
          "No",
          "No",
          "No",
          "No",
          "No",
          "No",
          "No",
          "No",
          "No",
          "No",
          "No",
          "No",
          "No",
          "No",
          "No",
          "No",
          "No",
          "No",
          "No",
          "No",
          "No",
          "No",
          "No",
          "No",
          "No",
          "No",
          "No",
          "No",
          "No",
          "No",
          "No",
          "No",
          "No",
          "No",
          "No",
          "No",
          "No",
          "No",
          "No",
          "No",
          "No",
          "No",
          "No",
          "No",
          "No",
          "No",
          "No",
          "No",
          "No",
          "No",
          "No",
          "No",
          "No",
          "No",
          "No",
          "No",
          "No",
          "No",
          "No",
          "No",
          "No",
          "No",
          "No",
          "No",
          "No",
          "No",
          "No",
          "No",
          "No",
          "No",
          "No",
          "No",
          "No",
          "No",
          "No",
          "No",
          "No",
          "No",
          "No",
          "No",
          "No",
          "No",
          "No",
          "No",
          "No",
          "No",
          "No",
          "No",
          "No",
          "No",
          "No",
          "No",
          "No",
          "No",
          "No",
          "No",
          "No",
          "No",
          "No",
          "No",
          "No",
          "No",
          "No",
          "No",
          "No",
          "No",
          "No",
          "No",
          "No",
          "No",
          "No",
          "No",
          "No",
          "No",
          "No",
          "No",
          "No",
          "No",
          "No",
          "No",
          "No",
          "No",
          "No",
          "No",
          "No",
          "No",
          "No",
          "No",
          "No",
          "No",
          "No",
          "No",
          "No",
          "No",
          "No",
          "No",
          "No",
          "No",
          "No",
          "No",
          "No",
          "No",
          "No",
          "No",
          "No",
          "No",
          "No",
          "No",
          "No",
          "No",
          "No",
          "No",
          "No",
          "No",
          "No",
          "No",
          "No",
          "No",
          "No",
          "No",
          "No",
          "No",
          "No",
          "No",
          "No",
          "No",
          "No",
          "No",
          "No",
          "No",
          "No",
          "No",
          "No",
          "No",
          "No",
          "No",
          "No",
          "No",
          "No",
          "No",
          "No",
          "No",
          "No",
          "No",
          "No",
          "No",
          "No",
          "No",
          "No",
          "No",
          "No",
          "No",
          "No",
          "No",
          "No",
          "No",
          "No",
          "No",
          "No",
          "No",
          "No",
          "No",
          "No",
          "No",
          "No",
          "No",
          "No",
          "No",
          "No",
          "No",
          "No",
          "No",
          "No",
          "No",
          "No",
          "No",
          "No",
          "No",
          "No",
          "No",
          "No",
          "No",
          "No",
          "No",
          "No",
          "No",
          "No",
          "No",
          "No",
          "No",
          "No",
          "No",
          "No",
          "No",
          "No",
          "No",
          "No",
          "No",
          "No",
          "No",
          "No",
          "No",
          "No",
          "No",
          "No",
          "No",
          "No",
          "No",
          "No",
          "No",
          "No",
          "No",
          "No",
          "No",
          "No",
          "No",
          "No",
          "No",
          "No",
          "No",
          "No",
          "No",
          "No",
          "No",
          "No",
          "No",
          "No",
          "No",
          "No",
          "No",
          "No",
          "No",
          "No",
          "No",
          "No",
          "No",
          "No",
          "No",
          "No",
          "No",
          "No",
          "No",
          "No",
          "No",
          "No",
          "No",
          "No",
          "No",
          "No",
          "No",
          "No",
          "No",
          "No",
          "No",
          "No",
          "No",
          "No",
          "No",
          "No",
          "No",
          "No",
          "No",
          "No",
          "No",
          "No",
          "No",
          "No",
          "No",
          "No",
          "No",
          "No",
          "No",
          "No",
          "No",
          "No",
          "No",
          "No",
          "No",
          "No",
          "No",
          "No",
          "No",
          "No",
          "No",
          "No",
          "No",
          "No",
          "No",
          "No",
          "No",
          "No",
          "No",
          "No",
          "No",
          "No",
          "No",
          "No",
          "No",
          "No",
          "No",
          "No",
          "No",
          "No",
          "No",
          "No",
          "No",
          "No",
          "No",
          "No",
          "No",
          "No",
          "No",
          "No",
          "No",
          "No",
          "No",
          "No",
          "No",
          "No",
          "No",
          "No",
          "No",
          "No",
          "No",
          "No",
          "No",
          "No",
          "No",
          "No",
          "No",
          "No",
          "No",
          "No",
          "No",
          "No",
          "No",
          "No",
          "No",
          "No",
          "No",
          "No",
          "No",
          "No",
          "No",
          "No",
          "No",
          "No",
          "No",
          "No",
          "No",
          "No",
          "No",
          "No",
          "No",
          "No",
          "No",
          "No",
          "No",
          "No",
          "No",
          "No",
          "No",
          "No",
          "No",
          "No",
          "No",
          "No",
          "No",
          "No",
          "No",
          "No",
          "No",
          "No",
          "No",
          "No",
          "No",
          "No",
          "No",
          "No",
          "No",
          "No",
          "No",
          "No",
          "No",
          "No",
          "No",
          "No",
          "No",
          "No",
          "No",
          "No",
          "No",
          "No",
          "No",
          "No",
          "No",
          "No",
          "No",
          "No",
          "No",
          "No",
          "No",
          "No",
          "No",
          "No",
          "No",
          "No",
          "No",
          "No",
          "No",
          "No",
          "No",
          "No",
          "No",
          "No",
          "No",
          "No",
          "No",
          "No",
          "No",
          "No",
          "No",
          "No",
          "No",
          "No",
          "No",
          "No",
          "No",
          "No",
          "No",
          "No",
          "No",
          "No",
          "No",
          "No",
          "No",
          "No",
          "No",
          "No",
          "No",
          "No",
          "No",
          "No",
          "No",
          "No",
          "No",
          "No",
          "No",
          "No",
          "No",
          "No",
          "No",
          "No",
          "No",
          "No",
          "No",
          "No",
          "No",
          "No",
          "No",
          "No",
          "No",
          "No",
          "No",
          "No",
          "No",
          "No",
          "No",
          "No",
          "No",
          "No",
          "No",
          "No",
          "No",
          "No",
          "No",
          "No",
          "No",
          "No",
          "No",
          "No",
          "No",
          "No",
          "No",
          "No",
          "No",
          "No",
          "No",
          "No",
          "No",
          "No",
          "No",
          "No",
          "No",
          "No",
          "No",
          "No",
          "No",
          "No",
          "No",
          "No",
          "No",
          "No",
          "No",
          "No",
          "No",
          "No",
          "No",
          "No",
          "No",
          "No",
          "No",
          "No",
          "No",
          "No",
          "No",
          "No",
          "No",
          "No",
          "No",
          "No",
          "No",
          "No",
          "No",
          "No",
          "No",
          "No",
          "No",
          "No",
          "No",
          "No",
          "No",
          "No",
          "No",
          "No",
          "No",
          "No",
          "No",
          "No",
          "No",
          "No",
          "No",
          "No",
          "No",
          "No",
          "No",
          "No",
          "No",
          "No",
          "No",
          "No",
          "No",
          "No",
          "No",
          "No",
          "No",
          "No",
          "No",
          "No",
          "No",
          "No",
          "No",
          "No",
          "No",
          "No",
          "No",
          "No",
          "No",
          "No",
          "No",
          "No",
          "No",
          "No",
          "No",
          "No",
          "No",
          "No",
          "No",
          "No",
          "No",
          "No",
          "No",
          "No",
          "No",
          "No",
          "No",
          "No",
          "No",
          "No",
          "No",
          "No",
          "No",
          "No",
          "No",
          "No",
          "No",
          "No",
          "No",
          "No",
          "No",
          "No",
          "No",
          "No",
          "No",
          "No",
          "No",
          "No",
          "No",
          "No",
          "No",
          "No",
          "No",
          "No",
          "No",
          "No",
          "No",
          "No",
          "No",
          "No",
          "No",
          "No",
          "No",
          "No",
          "No",
          "No",
          "No",
          "No",
          "No",
          "No",
          "No",
          "No",
          "No",
          "No",
          "No",
          "No",
          "No",
          "No",
          "No",
          "No",
          "No"
         ],
         "xaxis": "x",
         "y": {
          "dtype": "i1",
          "bdata": "AQEBAQEBAQEBAQEBAQEBAQEBAQEBAQEBAQEBAQEBAQEBAQEBAQEBAQEBAQEBAQEBAQEBAQEBAQEBAQEBAQEBAQEBAQEBAQEBAQEBAQEBAQEBAQEBAQEBAQEBAQEBAQEBAQEBAQEBAQEBAQEBAQEBAQEBAQEBAQEBAQEBAQEBAQEBAQEBAQEBAQEBAQEBAQEBAQEBAQEBAQEBAQEBAQEBAQEBAQEBAQEBAQEBAQEBAQEBAQEBAQEBAQEBAQEBAQEBAQEBAQEBAQEBAQEBAQEBAQEBAQEBAQEBAQEBAQEBAQEBAQEBAQEBAQEBAQEBAQEBAQEBAQEBAQEBAQEBAQEBAQEBAQEBAQEBAQEBAQEBAQEBAQEBAQEBAQEBAQEBAQEBAQEBAQEBAQEBAQEBAQEBAQEBAQEBAQEBAQEBAQEBAQEBAQEBAQEBAQEBAQEBAQEBAQEBAQEBAQEBAQEBAQEBAQEBAQEBAQEBAQEBAQEBAQEBAQEBAQEBAQEBAQEBAQEBAQEBAQEBAQEBAQEBAQEBAQEBAQEBAQEBAQEBAQEBAQEBAQEBAQEBAQEBAQEBAQEBAQEBAQEBAQEBAQEBAQEBAQEBAQEBAQEBAQEBAQEBAQEBAQEBAQEBAQEBAQEBAQEBAQEBAQEBAQEBAQEBAQEBAQEBAQEBAQEBAQEBAQEBAQEBAQEBAQEBAQEBAQEBAQEBAQEBAQEBAQEBAQEBAQEBAQEBAQEBAQEBAQEBAQEBAQEBAQEBAQEBAQEBAQEBAQEBAQEBAQEBAQEBAQEBAQEBAQEBAQEBAQEBAQEBAQEBAQEBAQEBAQEBAQEBAQEBAQEBAQEBAQEBAQEBAQEBAQEBAQEBAQEBAQEBAQEBAQEBAQEBAQEBAQEBAQEBAQEBAQEBAQEBAQEBAQEBAQEBAQEBAQEBAQEBAQEBAQEBAQEBAQEBAQEBAQEBAQEBAQEBAQEBAQEBAQEBAQEBAQEBAQEBAQEBAQEBAQEBAQEBAQEBAQEBAQEBAQEBAQEBAQEBAQEBAQEBAQEBAQEBAQEBAQEBAQEBAQEBAQEBAQEBAQEBAQEBAQEBAQEBAQEBAQEBAQEBAQEBAQEBAQEBAQEBAQEBAQEBAQEBAQEBAQEBAQEBAQEBAQEBAQEBAQEBAQEBAQEBAQEBAQEBAQEBAQEBAQEBAQEBAQEBAQEBAQEBAQEBAQEBAQEBAQEBAQEBAQEBAQEBAQEBAQEBAQEBAQEBAQEBAQEBAQEBAQEBAQEBAQEBAQEBAQEBAQEBAQEBAQEBAQEBAQEBAQEBAQEBAQEBAQEBAQEBAQEBAQEBAQEBAQEBAQEBAQEBAQEBAQEBAQEBAQEBAQEBAQEBAQEBAQEBAQEBAQEBAQEBAQEBAQEBAQEBAQEBAQEBAQEBAQEBAQEBAQEBAQEBAQEBAQEBAQEBAQEBAQEBAQEBAQEBAQEBAQEBAQEBAQEBAQEBAQEBAQEBAQEBAQEBAQEBAQEBAQEBAQEBAQEBAQEBAQEBAQEBAQEBAQEBAQEBAQEBAQEBAQEBAQEBAQEBAQEBAQEBAQEBAQEBAQEBAQEBAQEBAQEBAQEBAQEBAQEBAQEBAQEBAQEBAQEBAQEBAQEBAQEBAQEBAQEBAQEBAQEBAQEBAQEBAQEBAQEBAQEBAQEBAQEBAQEBAQEBAQEBAQEBAQEBAQEBAQEBAQEBAQEBAQEBAQEBAQEBAQEBAQEBAQEBAQEBAQEBAQEBAQEBAQEBAQEBAQEBAQEBAQEBAQEBAQEBAQEBAQEBAQEBAQEBAQEBAQEBAQEBAQEBAQEBAQEBAQEBAQEBAQEBAQEBAQEBAQEBAQEBAQEBAQEBAQEBAQEBAQEBAQEBAQEBAQEBAQEBAQEBAQEBAQEBAQEBAQEBAQEBAQEBAQEBAQEBAQEBAQEBAQEBAQEBAQEBAQEBAQEBAQEBAQEBAQEBAQEBAQEBAQEBAQEBAQEBAQEBAQEBAQEBAQEBAQEBAQEBAQEBAQEBAQEBAQEBAQEBAQEBAQEBAQEBAQEBAQEBAQEBAQEBAQEBAQEBAQEBAQEBAQEBAQEBAQEBAQEBAQEBAQEBAQEBAQEBAQEBAQEBAQEBAQEBAQEBAQEBAQEBAQEBAQEBAQEBAQEBAQEBAQEBAQEBAQEBAQEBAQEBAQEBAQEBAQEBAQEBAQEBAQEBAQEBAQEBAQEBAQEBAQEBAQEBAQEBAQEBAQEBAQEBAQEBAQEBAQEBAQEBAQEBAQEBAQEBAQEBAQEBAQEBAQEBAQEBAQEBAQEBAQEBAQEBAQEBAQEBAQEBAQEBAQEBAQEBAQEBAQEBAQEBAQEBAQEBAQEBAQEBAQEBAQEBAQEBAQEBAQEBAQEBAQEBAQEBAQEBAQEBAQEBAQEBAQEBAQEBAQEBAQEBAQEBAQEBAQEBAQEBAQEBAQEBAQEBAQEBAQEBAQEBAQEBAQEBAQEBAQEBAQEBAQEBAQEBAQEBAQEBAQEBAQEBAQEBAQEBAQEBAQEBAQEBAQEBAQEBAQEBAQEBAQEBAQEBAQEBAQEBAQEBAQEBAQEBAQEBAQEBAQEBAQEBAQEBAQEBAQEBAQEBAQEBAQEBAQEBAQEBAQEBAQEBAQEBAQEBAQEBAQEBAQEBAQEBAQEBAQEBAQEBAQEBAQEBAQEBAQEBAQEBAQEBAQEBAQEBAQEBAQEBAQEBAQEBAQEBAQEBAQEBAQEBAQEBAQEBAQEBAQEBAQEBAQEBAQEBAQEBAQEBAQEBAQEBAQEBAQEBAQEBAQEBAQEBAQEBAQEBAQEBAQEBAQEBAQEBAQEBAQEBAQEBAQEBAQEBAQEBAQEBAQEBAQEBAQEBAQEBAQEBAQEBAQEBAQEBAQEBAQEBAQEBAQEBAQEBAQEBAQEBAQEBAQEBAQEBAQEBAQEBAQEBAQEBAQEBAQEBAQEBAQEBAQEBAQEBAQEBAQEBAQEBAQEBAQEBAQEBAQEBAQEBAQEBAQEBAQEBAQEBAQEBAQEBAQEBAQEBAQEBAQEBAQEBAQEBAQEBAQEBAQEBAQEBAQEBAQEBAQEBAQEBAQEBAQEBAQEBAQEBAQEBAQEBAQEBAQEBAQEBAQEBAQEBAQEBAQEBAQEBAQEBAQEBAQEBAQEBAQEBAQEBAQEBAQEBAQEBAQEBAQEBAQEBAQEBAQEBAQEBAQEBAQEBAQEBAQEBAQEBAQEBAQEBAQEBAQEBAQEBAQEBAQEBAQEBAQEBAQEBAQEBAQEBAQEBAQEBAQ=="
         },
         "yaxis": "y",
         "type": "bar"
        },
        {
         "hovertemplate": "RainTomorrow=%{x}<br>count=%{y}<extra></extra>",
         "legendgroup": "Yes",
         "marker": {
          "color": "#EF553B",
          "pattern": {
           "shape": ""
          }
         },
         "name": "Yes",
         "orientation": "v",
         "showlegend": true,
         "textposition": "auto",
         "x": [
          "Yes",
          "Yes",
          "Yes",
          "Yes",
          "Yes",
          "Yes",
          "Yes",
          "Yes",
          "Yes",
          "Yes",
          "Yes",
          "Yes",
          "Yes",
          "Yes",
          "Yes",
          "Yes",
          "Yes",
          "Yes",
          "Yes",
          "Yes",
          "Yes",
          "Yes",
          "Yes",
          "Yes",
          "Yes",
          "Yes",
          "Yes",
          "Yes",
          "Yes",
          "Yes",
          "Yes",
          "Yes",
          "Yes",
          "Yes",
          "Yes",
          "Yes",
          "Yes",
          "Yes",
          "Yes",
          "Yes",
          "Yes",
          "Yes",
          "Yes",
          "Yes",
          "Yes",
          "Yes",
          "Yes",
          "Yes",
          "Yes",
          "Yes",
          "Yes",
          "Yes",
          "Yes",
          "Yes",
          "Yes",
          "Yes",
          "Yes",
          "Yes",
          "Yes",
          "Yes",
          "Yes",
          "Yes",
          "Yes",
          "Yes",
          "Yes",
          "Yes",
          "Yes",
          "Yes",
          "Yes",
          "Yes",
          "Yes",
          "Yes",
          "Yes",
          "Yes",
          "Yes",
          "Yes",
          "Yes",
          "Yes",
          "Yes",
          "Yes",
          "Yes",
          "Yes",
          "Yes",
          "Yes",
          "Yes",
          "Yes",
          "Yes",
          "Yes",
          "Yes",
          "Yes",
          "Yes",
          "Yes",
          "Yes",
          "Yes",
          "Yes",
          "Yes",
          "Yes",
          "Yes",
          "Yes",
          "Yes",
          "Yes",
          "Yes",
          "Yes",
          "Yes",
          "Yes",
          "Yes",
          "Yes",
          "Yes",
          "Yes",
          "Yes",
          "Yes",
          "Yes",
          "Yes",
          "Yes",
          "Yes",
          "Yes",
          "Yes",
          "Yes",
          "Yes",
          "Yes",
          "Yes",
          "Yes",
          "Yes",
          "Yes",
          "Yes",
          "Yes",
          "Yes",
          "Yes",
          "Yes",
          "Yes",
          "Yes",
          "Yes",
          "Yes",
          "Yes",
          "Yes",
          "Yes",
          "Yes",
          "Yes",
          "Yes",
          "Yes",
          "Yes",
          "Yes",
          "Yes",
          "Yes",
          "Yes",
          "Yes",
          "Yes",
          "Yes",
          "Yes",
          "Yes",
          "Yes",
          "Yes",
          "Yes",
          "Yes",
          "Yes",
          "Yes",
          "Yes",
          "Yes",
          "Yes",
          "Yes",
          "Yes",
          "Yes",
          "Yes",
          "Yes",
          "Yes",
          "Yes",
          "Yes",
          "Yes",
          "Yes",
          "Yes",
          "Yes",
          "Yes",
          "Yes",
          "Yes",
          "Yes",
          "Yes",
          "Yes",
          "Yes",
          "Yes",
          "Yes",
          "Yes",
          "Yes",
          "Yes",
          "Yes",
          "Yes",
          "Yes",
          "Yes",
          "Yes",
          "Yes",
          "Yes",
          "Yes",
          "Yes",
          "Yes",
          "Yes",
          "Yes",
          "Yes",
          "Yes",
          "Yes",
          "Yes",
          "Yes",
          "Yes",
          "Yes",
          "Yes",
          "Yes",
          "Yes",
          "Yes",
          "Yes",
          "Yes",
          "Yes",
          "Yes",
          "Yes",
          "Yes",
          "Yes",
          "Yes",
          "Yes",
          "Yes",
          "Yes",
          "Yes",
          "Yes",
          "Yes",
          "Yes",
          "Yes",
          "Yes",
          "Yes",
          "Yes",
          "Yes",
          "Yes",
          "Yes",
          "Yes",
          "Yes",
          "Yes",
          "Yes",
          "Yes",
          "Yes",
          "Yes",
          "Yes",
          "Yes",
          "Yes",
          "Yes",
          "Yes",
          "Yes",
          "Yes",
          "Yes",
          "Yes",
          "Yes",
          "Yes",
          "Yes",
          "Yes",
          "Yes",
          "Yes",
          "Yes",
          "Yes",
          "Yes",
          "Yes",
          "Yes",
          "Yes",
          "Yes",
          "Yes",
          "Yes",
          "Yes",
          "Yes",
          "Yes",
          "Yes",
          "Yes",
          "Yes",
          "Yes",
          "Yes",
          "Yes",
          "Yes",
          "Yes",
          "Yes",
          "Yes",
          "Yes",
          "Yes",
          "Yes",
          "Yes",
          "Yes",
          "Yes",
          "Yes",
          "Yes",
          "Yes",
          "Yes",
          "Yes",
          "Yes",
          "Yes",
          "Yes",
          "Yes",
          "Yes",
          "Yes",
          "Yes",
          "Yes",
          "Yes",
          "Yes",
          "Yes",
          "Yes",
          "Yes",
          "Yes",
          "Yes",
          "Yes",
          "Yes",
          "Yes",
          "Yes",
          "Yes",
          "Yes",
          "Yes",
          "Yes",
          "Yes",
          "Yes",
          "Yes",
          "Yes",
          "Yes",
          "Yes",
          "Yes",
          "Yes",
          "Yes",
          "Yes",
          "Yes",
          "Yes",
          "Yes",
          "Yes",
          "Yes",
          "Yes",
          "Yes",
          "Yes",
          "Yes",
          "Yes",
          "Yes",
          "Yes",
          "Yes",
          "Yes",
          "Yes",
          "Yes",
          "Yes",
          "Yes",
          "Yes",
          "Yes",
          "Yes",
          "Yes",
          "Yes",
          "Yes",
          "Yes",
          "Yes",
          "Yes",
          "Yes",
          "Yes",
          "Yes",
          "Yes",
          "Yes",
          "Yes",
          "Yes",
          "Yes",
          "Yes",
          "Yes",
          "Yes",
          "Yes",
          "Yes",
          "Yes",
          "Yes",
          "Yes",
          "Yes",
          "Yes",
          "Yes",
          "Yes",
          "Yes",
          "Yes",
          "Yes",
          "Yes",
          "Yes",
          "Yes",
          "Yes",
          "Yes",
          "Yes",
          "Yes",
          "Yes",
          "Yes",
          "Yes",
          "Yes",
          "Yes",
          "Yes",
          "Yes",
          "Yes",
          "Yes",
          "Yes",
          "Yes",
          "Yes",
          "Yes",
          "Yes",
          "Yes",
          "Yes",
          "Yes",
          "Yes",
          "Yes",
          "Yes",
          "Yes",
          "Yes",
          "Yes",
          "Yes",
          "Yes",
          "Yes",
          "Yes",
          "Yes",
          "Yes",
          "Yes",
          "Yes",
          "Yes",
          "Yes",
          "Yes",
          "Yes",
          "Yes",
          "Yes",
          "Yes",
          "Yes",
          "Yes",
          "Yes",
          "Yes",
          "Yes",
          "Yes",
          "Yes",
          "Yes",
          "Yes",
          "Yes",
          "Yes",
          "Yes",
          "Yes",
          "Yes",
          "Yes",
          "Yes",
          "Yes",
          "Yes",
          "Yes",
          "Yes",
          "Yes",
          "Yes",
          "Yes",
          "Yes",
          "Yes",
          "Yes",
          "Yes",
          "Yes",
          "Yes",
          "Yes",
          "Yes",
          "Yes",
          "Yes",
          "Yes",
          "Yes",
          "Yes",
          "Yes",
          "Yes",
          "Yes",
          "Yes",
          "Yes",
          "Yes",
          "Yes",
          "Yes",
          "Yes",
          "Yes",
          "Yes",
          "Yes",
          "Yes",
          "Yes",
          "Yes",
          "Yes",
          "Yes",
          "Yes",
          "Yes",
          "Yes",
          "Yes",
          "Yes",
          "Yes",
          "Yes",
          "Yes",
          "Yes",
          "Yes",
          "Yes",
          "Yes",
          "Yes",
          "Yes",
          "Yes",
          "Yes",
          "Yes",
          "Yes",
          "Yes",
          "Yes",
          "Yes",
          "Yes",
          "Yes",
          "Yes",
          "Yes",
          "Yes",
          "Yes",
          "Yes",
          "Yes",
          "Yes",
          "Yes",
          "Yes",
          "Yes",
          "Yes",
          "Yes",
          "Yes",
          "Yes",
          "Yes",
          "Yes",
          "Yes",
          "Yes",
          "Yes",
          "Yes",
          "Yes",
          "Yes",
          "Yes",
          "Yes",
          "Yes",
          "Yes",
          "Yes",
          "Yes",
          "Yes",
          "Yes",
          "Yes",
          "Yes",
          "Yes",
          "Yes",
          "Yes",
          "Yes",
          "Yes",
          "Yes",
          "Yes",
          "Yes",
          "Yes",
          "Yes",
          "Yes",
          "Yes",
          "Yes",
          "Yes",
          "Yes",
          "Yes",
          "Yes",
          "Yes",
          "Yes",
          "Yes",
          "Yes",
          "Yes",
          "Yes",
          "Yes",
          "Yes",
          "Yes",
          "Yes",
          "Yes",
          "Yes",
          "Yes",
          "Yes",
          "Yes",
          "Yes",
          "Yes",
          "Yes",
          "Yes",
          "Yes",
          "Yes",
          "Yes",
          "Yes",
          "Yes",
          "Yes",
          "Yes",
          "Yes",
          "Yes",
          "Yes",
          "Yes",
          "Yes",
          "Yes",
          "Yes",
          "Yes",
          "Yes",
          "Yes",
          "Yes",
          "Yes",
          "Yes",
          "Yes",
          "Yes",
          "Yes",
          "Yes",
          "Yes",
          "Yes",
          "Yes",
          "Yes",
          "Yes",
          "Yes",
          "Yes",
          "Yes",
          "Yes",
          "Yes",
          "Yes",
          "Yes",
          "Yes",
          "Yes",
          "Yes",
          "Yes",
          "Yes",
          "Yes",
          "Yes",
          "Yes",
          "Yes",
          "Yes",
          "Yes",
          "Yes",
          "Yes",
          "Yes",
          "Yes",
          "Yes",
          "Yes",
          "Yes",
          "Yes",
          "Yes",
          "Yes",
          "Yes",
          "Yes",
          "Yes",
          "Yes",
          "Yes",
          "Yes"
         ],
         "xaxis": "x",
         "y": {
          "dtype": "i1",
          "bdata": "AQEBAQEBAQEBAQEBAQEBAQEBAQEBAQEBAQEBAQEBAQEBAQEBAQEBAQEBAQEBAQEBAQEBAQEBAQEBAQEBAQEBAQEBAQEBAQEBAQEBAQEBAQEBAQEBAQEBAQEBAQEBAQEBAQEBAQEBAQEBAQEBAQEBAQEBAQEBAQEBAQEBAQEBAQEBAQEBAQEBAQEBAQEBAQEBAQEBAQEBAQEBAQEBAQEBAQEBAQEBAQEBAQEBAQEBAQEBAQEBAQEBAQEBAQEBAQEBAQEBAQEBAQEBAQEBAQEBAQEBAQEBAQEBAQEBAQEBAQEBAQEBAQEBAQEBAQEBAQEBAQEBAQEBAQEBAQEBAQEBAQEBAQEBAQEBAQEBAQEBAQEBAQEBAQEBAQEBAQEBAQEBAQEBAQEBAQEBAQEBAQEBAQEBAQEBAQEBAQEBAQEBAQEBAQEBAQEBAQEBAQEBAQEBAQEBAQEBAQEBAQEBAQEBAQEBAQEBAQEBAQEBAQEBAQEBAQEBAQEBAQEBAQEBAQEBAQEBAQEBAQEBAQEBAQEBAQEBAQEBAQEBAQEBAQEBAQEBAQEBAQEBAQEBAQEBAQEBAQEBAQEBAQEBAQEBAQEBAQEBAQEBAQEBAQEBAQEBAQEBAQEBAQEBAQEBAQEBAQEBAQEBAQEBAQEBAQEBAQEBAQEBAQEBAQEBAQEBAQEBAQEBAQEBAQEBAQEBAQEBAQEBAQEBAQEBAQEBAQEBAQEBAQEBAQEBAQEBAQEBAQEBAQEBAQEBAQEBAQEBAQEBAQEBAQEBAQEBAQEBAQEBAQEBAQEBAQEBAQEBAQEBAQEBAQEBAQEBAQEBAQEB"
         },
         "yaxis": "y",
         "type": "bar"
        }
       ],
       "layout": {
        "template": {
         "data": {
          "histogram2dcontour": [
           {
            "type": "histogram2dcontour",
            "colorbar": {
             "outlinewidth": 0,
             "ticks": ""
            },
            "colorscale": [
             [
              0.0,
              "#0d0887"
             ],
             [
              0.1111111111111111,
              "#46039f"
             ],
             [
              0.2222222222222222,
              "#7201a8"
             ],
             [
              0.3333333333333333,
              "#9c179e"
             ],
             [
              0.4444444444444444,
              "#bd3786"
             ],
             [
              0.5555555555555556,
              "#d8576b"
             ],
             [
              0.6666666666666666,
              "#ed7953"
             ],
             [
              0.7777777777777778,
              "#fb9f3a"
             ],
             [
              0.8888888888888888,
              "#fdca26"
             ],
             [
              1.0,
              "#f0f921"
             ]
            ]
           }
          ],
          "choropleth": [
           {
            "type": "choropleth",
            "colorbar": {
             "outlinewidth": 0,
             "ticks": ""
            }
           }
          ],
          "histogram2d": [
           {
            "type": "histogram2d",
            "colorbar": {
             "outlinewidth": 0,
             "ticks": ""
            },
            "colorscale": [
             [
              0.0,
              "#0d0887"
             ],
             [
              0.1111111111111111,
              "#46039f"
             ],
             [
              0.2222222222222222,
              "#7201a8"
             ],
             [
              0.3333333333333333,
              "#9c179e"
             ],
             [
              0.4444444444444444,
              "#bd3786"
             ],
             [
              0.5555555555555556,
              "#d8576b"
             ],
             [
              0.6666666666666666,
              "#ed7953"
             ],
             [
              0.7777777777777778,
              "#fb9f3a"
             ],
             [
              0.8888888888888888,
              "#fdca26"
             ],
             [
              1.0,
              "#f0f921"
             ]
            ]
           }
          ],
          "heatmap": [
           {
            "type": "heatmap",
            "colorbar": {
             "outlinewidth": 0,
             "ticks": ""
            },
            "colorscale": [
             [
              0.0,
              "#0d0887"
             ],
             [
              0.1111111111111111,
              "#46039f"
             ],
             [
              0.2222222222222222,
              "#7201a8"
             ],
             [
              0.3333333333333333,
              "#9c179e"
             ],
             [
              0.4444444444444444,
              "#bd3786"
             ],
             [
              0.5555555555555556,
              "#d8576b"
             ],
             [
              0.6666666666666666,
              "#ed7953"
             ],
             [
              0.7777777777777778,
              "#fb9f3a"
             ],
             [
              0.8888888888888888,
              "#fdca26"
             ],
             [
              1.0,
              "#f0f921"
             ]
            ]
           }
          ],
          "contourcarpet": [
           {
            "type": "contourcarpet",
            "colorbar": {
             "outlinewidth": 0,
             "ticks": ""
            }
           }
          ],
          "contour": [
           {
            "type": "contour",
            "colorbar": {
             "outlinewidth": 0,
             "ticks": ""
            },
            "colorscale": [
             [
              0.0,
              "#0d0887"
             ],
             [
              0.1111111111111111,
              "#46039f"
             ],
             [
              0.2222222222222222,
              "#7201a8"
             ],
             [
              0.3333333333333333,
              "#9c179e"
             ],
             [
              0.4444444444444444,
              "#bd3786"
             ],
             [
              0.5555555555555556,
              "#d8576b"
             ],
             [
              0.6666666666666666,
              "#ed7953"
             ],
             [
              0.7777777777777778,
              "#fb9f3a"
             ],
             [
              0.8888888888888888,
              "#fdca26"
             ],
             [
              1.0,
              "#f0f921"
             ]
            ]
           }
          ],
          "surface": [
           {
            "type": "surface",
            "colorbar": {
             "outlinewidth": 0,
             "ticks": ""
            },
            "colorscale": [
             [
              0.0,
              "#0d0887"
             ],
             [
              0.1111111111111111,
              "#46039f"
             ],
             [
              0.2222222222222222,
              "#7201a8"
             ],
             [
              0.3333333333333333,
              "#9c179e"
             ],
             [
              0.4444444444444444,
              "#bd3786"
             ],
             [
              0.5555555555555556,
              "#d8576b"
             ],
             [
              0.6666666666666666,
              "#ed7953"
             ],
             [
              0.7777777777777778,
              "#fb9f3a"
             ],
             [
              0.8888888888888888,
              "#fdca26"
             ],
             [
              1.0,
              "#f0f921"
             ]
            ]
           }
          ],
          "mesh3d": [
           {
            "type": "mesh3d",
            "colorbar": {
             "outlinewidth": 0,
             "ticks": ""
            }
           }
          ],
          "scatter": [
           {
            "fillpattern": {
             "fillmode": "overlay",
             "size": 10,
             "solidity": 0.2
            },
            "type": "scatter"
           }
          ],
          "parcoords": [
           {
            "type": "parcoords",
            "line": {
             "colorbar": {
              "outlinewidth": 0,
              "ticks": ""
             }
            }
           }
          ],
          "scatterpolargl": [
           {
            "type": "scatterpolargl",
            "marker": {
             "colorbar": {
              "outlinewidth": 0,
              "ticks": ""
             }
            }
           }
          ],
          "bar": [
           {
            "error_x": {
             "color": "#2a3f5f"
            },
            "error_y": {
             "color": "#2a3f5f"
            },
            "marker": {
             "line": {
              "color": "#E5ECF6",
              "width": 0.5
             },
             "pattern": {
              "fillmode": "overlay",
              "size": 10,
              "solidity": 0.2
             }
            },
            "type": "bar"
           }
          ],
          "scattergeo": [
           {
            "type": "scattergeo",
            "marker": {
             "colorbar": {
              "outlinewidth": 0,
              "ticks": ""
             }
            }
           }
          ],
          "scatterpolar": [
           {
            "type": "scatterpolar",
            "marker": {
             "colorbar": {
              "outlinewidth": 0,
              "ticks": ""
             }
            }
           }
          ],
          "histogram": [
           {
            "marker": {
             "pattern": {
              "fillmode": "overlay",
              "size": 10,
              "solidity": 0.2
             }
            },
            "type": "histogram"
           }
          ],
          "scattergl": [
           {
            "type": "scattergl",
            "marker": {
             "colorbar": {
              "outlinewidth": 0,
              "ticks": ""
             }
            }
           }
          ],
          "scatter3d": [
           {
            "type": "scatter3d",
            "line": {
             "colorbar": {
              "outlinewidth": 0,
              "ticks": ""
             }
            },
            "marker": {
             "colorbar": {
              "outlinewidth": 0,
              "ticks": ""
             }
            }
           }
          ],
          "scattermap": [
           {
            "type": "scattermap",
            "marker": {
             "colorbar": {
              "outlinewidth": 0,
              "ticks": ""
             }
            }
           }
          ],
          "scattermapbox": [
           {
            "type": "scattermapbox",
            "marker": {
             "colorbar": {
              "outlinewidth": 0,
              "ticks": ""
             }
            }
           }
          ],
          "scatterternary": [
           {
            "type": "scatterternary",
            "marker": {
             "colorbar": {
              "outlinewidth": 0,
              "ticks": ""
             }
            }
           }
          ],
          "scattercarpet": [
           {
            "type": "scattercarpet",
            "marker": {
             "colorbar": {
              "outlinewidth": 0,
              "ticks": ""
             }
            }
           }
          ],
          "carpet": [
           {
            "aaxis": {
             "endlinecolor": "#2a3f5f",
             "gridcolor": "white",
             "linecolor": "white",
             "minorgridcolor": "white",
             "startlinecolor": "#2a3f5f"
            },
            "baxis": {
             "endlinecolor": "#2a3f5f",
             "gridcolor": "white",
             "linecolor": "white",
             "minorgridcolor": "white",
             "startlinecolor": "#2a3f5f"
            },
            "type": "carpet"
           }
          ],
          "table": [
           {
            "cells": {
             "fill": {
              "color": "#EBF0F8"
             },
             "line": {
              "color": "white"
             }
            },
            "header": {
             "fill": {
              "color": "#C8D4E3"
             },
             "line": {
              "color": "white"
             }
            },
            "type": "table"
           }
          ],
          "barpolar": [
           {
            "marker": {
             "line": {
              "color": "#E5ECF6",
              "width": 0.5
             },
             "pattern": {
              "fillmode": "overlay",
              "size": 10,
              "solidity": 0.2
             }
            },
            "type": "barpolar"
           }
          ],
          "pie": [
           {
            "automargin": true,
            "type": "pie"
           }
          ]
         },
         "layout": {
          "autotypenumbers": "strict",
          "colorway": [
           "#636efa",
           "#EF553B",
           "#00cc96",
           "#ab63fa",
           "#FFA15A",
           "#19d3f3",
           "#FF6692",
           "#B6E880",
           "#FF97FF",
           "#FECB52"
          ],
          "font": {
           "color": "#2a3f5f"
          },
          "hovermode": "closest",
          "hoverlabel": {
           "align": "left"
          },
          "paper_bgcolor": "white",
          "plot_bgcolor": "#E5ECF6",
          "polar": {
           "bgcolor": "#E5ECF6",
           "angularaxis": {
            "gridcolor": "white",
            "linecolor": "white",
            "ticks": ""
           },
           "radialaxis": {
            "gridcolor": "white",
            "linecolor": "white",
            "ticks": ""
           }
          },
          "ternary": {
           "bgcolor": "#E5ECF6",
           "aaxis": {
            "gridcolor": "white",
            "linecolor": "white",
            "ticks": ""
           },
           "baxis": {
            "gridcolor": "white",
            "linecolor": "white",
            "ticks": ""
           },
           "caxis": {
            "gridcolor": "white",
            "linecolor": "white",
            "ticks": ""
           }
          },
          "coloraxis": {
           "colorbar": {
            "outlinewidth": 0,
            "ticks": ""
           }
          },
          "colorscale": {
           "sequential": [
            [
             0.0,
             "#0d0887"
            ],
            [
             0.1111111111111111,
             "#46039f"
            ],
            [
             0.2222222222222222,
             "#7201a8"
            ],
            [
             0.3333333333333333,
             "#9c179e"
            ],
            [
             0.4444444444444444,
             "#bd3786"
            ],
            [
             0.5555555555555556,
             "#d8576b"
            ],
            [
             0.6666666666666666,
             "#ed7953"
            ],
            [
             0.7777777777777778,
             "#fb9f3a"
            ],
            [
             0.8888888888888888,
             "#fdca26"
            ],
            [
             1.0,
             "#f0f921"
            ]
           ],
           "sequentialminus": [
            [
             0.0,
             "#0d0887"
            ],
            [
             0.1111111111111111,
             "#46039f"
            ],
            [
             0.2222222222222222,
             "#7201a8"
            ],
            [
             0.3333333333333333,
             "#9c179e"
            ],
            [
             0.4444444444444444,
             "#bd3786"
            ],
            [
             0.5555555555555556,
             "#d8576b"
            ],
            [
             0.6666666666666666,
             "#ed7953"
            ],
            [
             0.7777777777777778,
             "#fb9f3a"
            ],
            [
             0.8888888888888888,
             "#fdca26"
            ],
            [
             1.0,
             "#f0f921"
            ]
           ],
           "diverging": [
            [
             0,
             "#8e0152"
            ],
            [
             0.1,
             "#c51b7d"
            ],
            [
             0.2,
             "#de77ae"
            ],
            [
             0.3,
             "#f1b6da"
            ],
            [
             0.4,
             "#fde0ef"
            ],
            [
             0.5,
             "#f7f7f7"
            ],
            [
             0.6,
             "#e6f5d0"
            ],
            [
             0.7,
             "#b8e186"
            ],
            [
             0.8,
             "#7fbc41"
            ],
            [
             0.9,
             "#4d9221"
            ],
            [
             1,
             "#276419"
            ]
           ]
          },
          "xaxis": {
           "gridcolor": "white",
           "linecolor": "white",
           "ticks": "",
           "title": {
            "standoff": 15
           },
           "zerolinecolor": "white",
           "automargin": true,
           "zerolinewidth": 2
          },
          "yaxis": {
           "gridcolor": "white",
           "linecolor": "white",
           "ticks": "",
           "title": {
            "standoff": 15
           },
           "zerolinecolor": "white",
           "automargin": true,
           "zerolinewidth": 2
          },
          "scene": {
           "xaxis": {
            "backgroundcolor": "#E5ECF6",
            "gridcolor": "white",
            "linecolor": "white",
            "showbackground": true,
            "ticks": "",
            "zerolinecolor": "white",
            "gridwidth": 2
           },
           "yaxis": {
            "backgroundcolor": "#E5ECF6",
            "gridcolor": "white",
            "linecolor": "white",
            "showbackground": true,
            "ticks": "",
            "zerolinecolor": "white",
            "gridwidth": 2
           },
           "zaxis": {
            "backgroundcolor": "#E5ECF6",
            "gridcolor": "white",
            "linecolor": "white",
            "showbackground": true,
            "ticks": "",
            "zerolinecolor": "white",
            "gridwidth": 2
           }
          },
          "shapedefaults": {
           "line": {
            "color": "#2a3f5f"
           }
          },
          "annotationdefaults": {
           "arrowcolor": "#2a3f5f",
           "arrowhead": 0,
           "arrowwidth": 1
          },
          "geo": {
           "bgcolor": "white",
           "landcolor": "#E5ECF6",
           "subunitcolor": "white",
           "showland": true,
           "showlakes": true,
           "lakecolor": "white"
          },
          "title": {
           "x": 0.05
          },
          "mapbox": {
           "style": "light"
          }
         }
        },
        "xaxis": {
         "anchor": "y",
         "domain": [
          0.0,
          1.0
         ],
         "title": {
          "text": "RainTomorrow"
         },
         "categoryorder": "array",
         "categoryarray": [
          "No",
          "Yes"
         ]
        },
        "yaxis": {
         "anchor": "x",
         "domain": [
          0.0,
          1.0
         ],
         "title": {
          "text": "count"
         }
        },
        "legend": {
         "title": {
          "text": "RainTomorrow"
         },
         "tracegroupgap": 0
        },
        "margin": {
         "t": 60
        },
        "barmode": "relative"
       },
       "config": {
        "plotlyServerURL": "https://plot.ly"
       }
      }
     },
     "metadata": {},
     "output_type": "display_data"
    }
   ],
   "execution_count": 105
  },
  {
   "metadata": {},
   "cell_type": "markdown",
   "source": "RainToday vs RainTomorrow - Grouped bar chart to see if rain today affects tomorrow's rain.",
   "id": "c55432238db0fb83"
  },
  {
   "metadata": {
    "ExecuteTime": {
     "end_time": "2025-06-15T17:28:05.728429Z",
     "start_time": "2025-06-15T17:28:05.717955Z"
    }
   },
   "cell_type": "code",
   "source": "import plotly.graph_objects as go",
   "id": "b8b86742b25ed408",
   "outputs": [],
   "execution_count": 106
  },
  {
   "metadata": {
    "ExecuteTime": {
     "end_time": "2025-06-15T17:28:05.818102Z",
     "start_time": "2025-06-15T17:28:05.784297Z"
    }
   },
   "cell_type": "code",
   "source": "rain_report = pd.crosstab(df['RainToday'],df['RainTomorrow'])",
   "id": "7bd028500d940f73",
   "outputs": [],
   "execution_count": 107
  },
  {
   "metadata": {
    "ExecuteTime": {
     "end_time": "2025-06-15T17:28:06.002411Z",
     "start_time": "2025-06-15T17:28:05.865009Z"
    }
   },
   "cell_type": "code",
   "source": [
    "fig = go.Figure(data=[\n",
    "    go.Bar(name='No', x=rain_report.index, y=rain_report['No']),\n",
    "    go.Bar(name='Yes', x=rain_report.index, y=rain_report['Yes'])\n",
    "])\n",
    "\n",
    "# Update layout\n",
    "fig.update_layout(\n",
    "    barmode='group',\n",
    "    title='RainToday vs RainTomorrow',\n",
    "    xaxis_title='RainToday',\n",
    "    yaxis_title='Count',\n",
    "    legend_title='Rain Tomorrow'\n",
    ")\n",
    "\n",
    "fig.show()"
   ],
   "id": "75fc9be3d7a92ef6",
   "outputs": [
    {
     "data": {
      "application/vnd.plotly.v1+json": {
       "data": [
        {
         "name": "No",
         "x": [
          "No",
          "Yes"
         ],
         "y": {
          "dtype": "i2",
          "bdata": "GAheAQ=="
         },
         "type": "bar"
        },
        {
         "name": "Yes",
         "x": [
          "No",
          "Yes"
         ],
         "y": {
          "dtype": "i2",
          "bdata": "XwELAQ=="
         },
         "type": "bar"
        }
       ],
       "layout": {
        "template": {
         "data": {
          "histogram2dcontour": [
           {
            "type": "histogram2dcontour",
            "colorbar": {
             "outlinewidth": 0,
             "ticks": ""
            },
            "colorscale": [
             [
              0.0,
              "#0d0887"
             ],
             [
              0.1111111111111111,
              "#46039f"
             ],
             [
              0.2222222222222222,
              "#7201a8"
             ],
             [
              0.3333333333333333,
              "#9c179e"
             ],
             [
              0.4444444444444444,
              "#bd3786"
             ],
             [
              0.5555555555555556,
              "#d8576b"
             ],
             [
              0.6666666666666666,
              "#ed7953"
             ],
             [
              0.7777777777777778,
              "#fb9f3a"
             ],
             [
              0.8888888888888888,
              "#fdca26"
             ],
             [
              1.0,
              "#f0f921"
             ]
            ]
           }
          ],
          "choropleth": [
           {
            "type": "choropleth",
            "colorbar": {
             "outlinewidth": 0,
             "ticks": ""
            }
           }
          ],
          "histogram2d": [
           {
            "type": "histogram2d",
            "colorbar": {
             "outlinewidth": 0,
             "ticks": ""
            },
            "colorscale": [
             [
              0.0,
              "#0d0887"
             ],
             [
              0.1111111111111111,
              "#46039f"
             ],
             [
              0.2222222222222222,
              "#7201a8"
             ],
             [
              0.3333333333333333,
              "#9c179e"
             ],
             [
              0.4444444444444444,
              "#bd3786"
             ],
             [
              0.5555555555555556,
              "#d8576b"
             ],
             [
              0.6666666666666666,
              "#ed7953"
             ],
             [
              0.7777777777777778,
              "#fb9f3a"
             ],
             [
              0.8888888888888888,
              "#fdca26"
             ],
             [
              1.0,
              "#f0f921"
             ]
            ]
           }
          ],
          "heatmap": [
           {
            "type": "heatmap",
            "colorbar": {
             "outlinewidth": 0,
             "ticks": ""
            },
            "colorscale": [
             [
              0.0,
              "#0d0887"
             ],
             [
              0.1111111111111111,
              "#46039f"
             ],
             [
              0.2222222222222222,
              "#7201a8"
             ],
             [
              0.3333333333333333,
              "#9c179e"
             ],
             [
              0.4444444444444444,
              "#bd3786"
             ],
             [
              0.5555555555555556,
              "#d8576b"
             ],
             [
              0.6666666666666666,
              "#ed7953"
             ],
             [
              0.7777777777777778,
              "#fb9f3a"
             ],
             [
              0.8888888888888888,
              "#fdca26"
             ],
             [
              1.0,
              "#f0f921"
             ]
            ]
           }
          ],
          "contourcarpet": [
           {
            "type": "contourcarpet",
            "colorbar": {
             "outlinewidth": 0,
             "ticks": ""
            }
           }
          ],
          "contour": [
           {
            "type": "contour",
            "colorbar": {
             "outlinewidth": 0,
             "ticks": ""
            },
            "colorscale": [
             [
              0.0,
              "#0d0887"
             ],
             [
              0.1111111111111111,
              "#46039f"
             ],
             [
              0.2222222222222222,
              "#7201a8"
             ],
             [
              0.3333333333333333,
              "#9c179e"
             ],
             [
              0.4444444444444444,
              "#bd3786"
             ],
             [
              0.5555555555555556,
              "#d8576b"
             ],
             [
              0.6666666666666666,
              "#ed7953"
             ],
             [
              0.7777777777777778,
              "#fb9f3a"
             ],
             [
              0.8888888888888888,
              "#fdca26"
             ],
             [
              1.0,
              "#f0f921"
             ]
            ]
           }
          ],
          "surface": [
           {
            "type": "surface",
            "colorbar": {
             "outlinewidth": 0,
             "ticks": ""
            },
            "colorscale": [
             [
              0.0,
              "#0d0887"
             ],
             [
              0.1111111111111111,
              "#46039f"
             ],
             [
              0.2222222222222222,
              "#7201a8"
             ],
             [
              0.3333333333333333,
              "#9c179e"
             ],
             [
              0.4444444444444444,
              "#bd3786"
             ],
             [
              0.5555555555555556,
              "#d8576b"
             ],
             [
              0.6666666666666666,
              "#ed7953"
             ],
             [
              0.7777777777777778,
              "#fb9f3a"
             ],
             [
              0.8888888888888888,
              "#fdca26"
             ],
             [
              1.0,
              "#f0f921"
             ]
            ]
           }
          ],
          "mesh3d": [
           {
            "type": "mesh3d",
            "colorbar": {
             "outlinewidth": 0,
             "ticks": ""
            }
           }
          ],
          "scatter": [
           {
            "fillpattern": {
             "fillmode": "overlay",
             "size": 10,
             "solidity": 0.2
            },
            "type": "scatter"
           }
          ],
          "parcoords": [
           {
            "type": "parcoords",
            "line": {
             "colorbar": {
              "outlinewidth": 0,
              "ticks": ""
             }
            }
           }
          ],
          "scatterpolargl": [
           {
            "type": "scatterpolargl",
            "marker": {
             "colorbar": {
              "outlinewidth": 0,
              "ticks": ""
             }
            }
           }
          ],
          "bar": [
           {
            "error_x": {
             "color": "#2a3f5f"
            },
            "error_y": {
             "color": "#2a3f5f"
            },
            "marker": {
             "line": {
              "color": "#E5ECF6",
              "width": 0.5
             },
             "pattern": {
              "fillmode": "overlay",
              "size": 10,
              "solidity": 0.2
             }
            },
            "type": "bar"
           }
          ],
          "scattergeo": [
           {
            "type": "scattergeo",
            "marker": {
             "colorbar": {
              "outlinewidth": 0,
              "ticks": ""
             }
            }
           }
          ],
          "scatterpolar": [
           {
            "type": "scatterpolar",
            "marker": {
             "colorbar": {
              "outlinewidth": 0,
              "ticks": ""
             }
            }
           }
          ],
          "histogram": [
           {
            "marker": {
             "pattern": {
              "fillmode": "overlay",
              "size": 10,
              "solidity": 0.2
             }
            },
            "type": "histogram"
           }
          ],
          "scattergl": [
           {
            "type": "scattergl",
            "marker": {
             "colorbar": {
              "outlinewidth": 0,
              "ticks": ""
             }
            }
           }
          ],
          "scatter3d": [
           {
            "type": "scatter3d",
            "line": {
             "colorbar": {
              "outlinewidth": 0,
              "ticks": ""
             }
            },
            "marker": {
             "colorbar": {
              "outlinewidth": 0,
              "ticks": ""
             }
            }
           }
          ],
          "scattermap": [
           {
            "type": "scattermap",
            "marker": {
             "colorbar": {
              "outlinewidth": 0,
              "ticks": ""
             }
            }
           }
          ],
          "scattermapbox": [
           {
            "type": "scattermapbox",
            "marker": {
             "colorbar": {
              "outlinewidth": 0,
              "ticks": ""
             }
            }
           }
          ],
          "scatterternary": [
           {
            "type": "scatterternary",
            "marker": {
             "colorbar": {
              "outlinewidth": 0,
              "ticks": ""
             }
            }
           }
          ],
          "scattercarpet": [
           {
            "type": "scattercarpet",
            "marker": {
             "colorbar": {
              "outlinewidth": 0,
              "ticks": ""
             }
            }
           }
          ],
          "carpet": [
           {
            "aaxis": {
             "endlinecolor": "#2a3f5f",
             "gridcolor": "white",
             "linecolor": "white",
             "minorgridcolor": "white",
             "startlinecolor": "#2a3f5f"
            },
            "baxis": {
             "endlinecolor": "#2a3f5f",
             "gridcolor": "white",
             "linecolor": "white",
             "minorgridcolor": "white",
             "startlinecolor": "#2a3f5f"
            },
            "type": "carpet"
           }
          ],
          "table": [
           {
            "cells": {
             "fill": {
              "color": "#EBF0F8"
             },
             "line": {
              "color": "white"
             }
            },
            "header": {
             "fill": {
              "color": "#C8D4E3"
             },
             "line": {
              "color": "white"
             }
            },
            "type": "table"
           }
          ],
          "barpolar": [
           {
            "marker": {
             "line": {
              "color": "#E5ECF6",
              "width": 0.5
             },
             "pattern": {
              "fillmode": "overlay",
              "size": 10,
              "solidity": 0.2
             }
            },
            "type": "barpolar"
           }
          ],
          "pie": [
           {
            "automargin": true,
            "type": "pie"
           }
          ]
         },
         "layout": {
          "autotypenumbers": "strict",
          "colorway": [
           "#636efa",
           "#EF553B",
           "#00cc96",
           "#ab63fa",
           "#FFA15A",
           "#19d3f3",
           "#FF6692",
           "#B6E880",
           "#FF97FF",
           "#FECB52"
          ],
          "font": {
           "color": "#2a3f5f"
          },
          "hovermode": "closest",
          "hoverlabel": {
           "align": "left"
          },
          "paper_bgcolor": "white",
          "plot_bgcolor": "#E5ECF6",
          "polar": {
           "bgcolor": "#E5ECF6",
           "angularaxis": {
            "gridcolor": "white",
            "linecolor": "white",
            "ticks": ""
           },
           "radialaxis": {
            "gridcolor": "white",
            "linecolor": "white",
            "ticks": ""
           }
          },
          "ternary": {
           "bgcolor": "#E5ECF6",
           "aaxis": {
            "gridcolor": "white",
            "linecolor": "white",
            "ticks": ""
           },
           "baxis": {
            "gridcolor": "white",
            "linecolor": "white",
            "ticks": ""
           },
           "caxis": {
            "gridcolor": "white",
            "linecolor": "white",
            "ticks": ""
           }
          },
          "coloraxis": {
           "colorbar": {
            "outlinewidth": 0,
            "ticks": ""
           }
          },
          "colorscale": {
           "sequential": [
            [
             0.0,
             "#0d0887"
            ],
            [
             0.1111111111111111,
             "#46039f"
            ],
            [
             0.2222222222222222,
             "#7201a8"
            ],
            [
             0.3333333333333333,
             "#9c179e"
            ],
            [
             0.4444444444444444,
             "#bd3786"
            ],
            [
             0.5555555555555556,
             "#d8576b"
            ],
            [
             0.6666666666666666,
             "#ed7953"
            ],
            [
             0.7777777777777778,
             "#fb9f3a"
            ],
            [
             0.8888888888888888,
             "#fdca26"
            ],
            [
             1.0,
             "#f0f921"
            ]
           ],
           "sequentialminus": [
            [
             0.0,
             "#0d0887"
            ],
            [
             0.1111111111111111,
             "#46039f"
            ],
            [
             0.2222222222222222,
             "#7201a8"
            ],
            [
             0.3333333333333333,
             "#9c179e"
            ],
            [
             0.4444444444444444,
             "#bd3786"
            ],
            [
             0.5555555555555556,
             "#d8576b"
            ],
            [
             0.6666666666666666,
             "#ed7953"
            ],
            [
             0.7777777777777778,
             "#fb9f3a"
            ],
            [
             0.8888888888888888,
             "#fdca26"
            ],
            [
             1.0,
             "#f0f921"
            ]
           ],
           "diverging": [
            [
             0,
             "#8e0152"
            ],
            [
             0.1,
             "#c51b7d"
            ],
            [
             0.2,
             "#de77ae"
            ],
            [
             0.3,
             "#f1b6da"
            ],
            [
             0.4,
             "#fde0ef"
            ],
            [
             0.5,
             "#f7f7f7"
            ],
            [
             0.6,
             "#e6f5d0"
            ],
            [
             0.7,
             "#b8e186"
            ],
            [
             0.8,
             "#7fbc41"
            ],
            [
             0.9,
             "#4d9221"
            ],
            [
             1,
             "#276419"
            ]
           ]
          },
          "xaxis": {
           "gridcolor": "white",
           "linecolor": "white",
           "ticks": "",
           "title": {
            "standoff": 15
           },
           "zerolinecolor": "white",
           "automargin": true,
           "zerolinewidth": 2
          },
          "yaxis": {
           "gridcolor": "white",
           "linecolor": "white",
           "ticks": "",
           "title": {
            "standoff": 15
           },
           "zerolinecolor": "white",
           "automargin": true,
           "zerolinewidth": 2
          },
          "scene": {
           "xaxis": {
            "backgroundcolor": "#E5ECF6",
            "gridcolor": "white",
            "linecolor": "white",
            "showbackground": true,
            "ticks": "",
            "zerolinecolor": "white",
            "gridwidth": 2
           },
           "yaxis": {
            "backgroundcolor": "#E5ECF6",
            "gridcolor": "white",
            "linecolor": "white",
            "showbackground": true,
            "ticks": "",
            "zerolinecolor": "white",
            "gridwidth": 2
           },
           "zaxis": {
            "backgroundcolor": "#E5ECF6",
            "gridcolor": "white",
            "linecolor": "white",
            "showbackground": true,
            "ticks": "",
            "zerolinecolor": "white",
            "gridwidth": 2
           }
          },
          "shapedefaults": {
           "line": {
            "color": "#2a3f5f"
           }
          },
          "annotationdefaults": {
           "arrowcolor": "#2a3f5f",
           "arrowhead": 0,
           "arrowwidth": 1
          },
          "geo": {
           "bgcolor": "white",
           "landcolor": "#E5ECF6",
           "subunitcolor": "white",
           "showland": true,
           "showlakes": true,
           "lakecolor": "white"
          },
          "title": {
           "x": 0.05
          },
          "mapbox": {
           "style": "light"
          }
         }
        },
        "barmode": "group",
        "title": {
         "text": "RainToday vs RainTomorrow"
        },
        "xaxis": {
         "title": {
          "text": "RainToday"
         }
        },
        "yaxis": {
         "title": {
          "text": "Count"
         }
        },
        "legend": {
         "title": {
          "text": "Rain Tomorrow"
         }
        }
       },
       "config": {
        "plotlyServerURL": "https://plot.ly"
       }
      }
     },
     "metadata": {},
     "output_type": "display_data"
    }
   ],
   "execution_count": 108
  },
  {
   "metadata": {},
   "cell_type": "markdown",
   "source": "### *Advanced Visualization*",
   "id": "d54bea889561a58e"
  },
  {
   "metadata": {},
   "cell_type": "markdown",
   "source": [
    "Seasonal time series decomposition helps break down rainfall data into:\n",
    "\n",
    "-Trend (long-term progression\n",
    "\n",
    "-Seasonality (repeating patterns over time)\n",
    "\n",
    "-Residuals (noise or irregularities)"
   ],
   "id": "172530d3a9d60d46"
  },
  {
   "metadata": {
    "ExecuteTime": {
     "end_time": "2025-06-15T17:28:07.218202Z",
     "start_time": "2025-06-15T17:28:06.232816Z"
    }
   },
   "cell_type": "code",
   "source": [
    "from statsmodels.tsa.seasonal import seasonal_decompose\n",
    "\n",
    "df_monthly = df.set_index('Date').resample('ME').sum()\n",
    "\n",
    "result = seasonal_decompose(df_monthly['Rainfall'], model='additive', period=12)\n",
    "\n",
    "\n",
    "plt.rcParams.update({'figure.figsize': (12, 8)})\n",
    "result.plot()\n",
    "plt.suptitle('Seasonal Decomposition of Monthly Rainfall', fontsize=16)\n",
    "plt.tight_layout()\n",
    "plt.show()\n"
   ],
   "id": "9d41f30832c8656c",
   "outputs": [
    {
     "data": {
      "text/plain": [
       "<Figure size 1200x800 with 4 Axes>"
      ],
      "image/png": "[encoded data removed]"
     },
     "metadata": {},
     "output_type": "display_data"
    }
   ],
   "execution_count": 109
  },
  {
   "metadata": {},
   "cell_type": "markdown",
   "source": "## Machine Learning Modeling",
   "id": "29e2b86a8994127e"
  },
  {
   "metadata": {
    "ExecuteTime": {
     "end_time": "2025-06-15T17:28:07.297496Z",
     "start_time": "2025-06-15T17:28:07.282439Z"
    }
   },
   "cell_type": "code",
   "source": "df.drop(['WindDir9am','WindDir3pm'],axis=1,inplace=True)",
   "id": "7cefdb9567240ab1",
   "outputs": [],
   "execution_count": 110
  },
  {
   "metadata": {
    "ExecuteTime": {
     "end_time": "2025-06-15T17:28:07.354288Z",
     "start_time": "2025-06-15T17:28:07.345642Z"
    }
   },
   "cell_type": "code",
   "source": "df.set_index('Date',inplace=True)",
   "id": "53ee733edd78f515",
   "outputs": [],
   "execution_count": 111
  },
  {
   "metadata": {
    "ExecuteTime": {
     "end_time": "2025-06-15T17:30:30.239435Z",
     "start_time": "2025-06-15T17:30:30.171708Z"
    }
   },
   "cell_type": "code",
   "source": "df = pd.get_dummies(df, columns=['WindGustDir'], drop_first=True, dtype=int)",
   "id": "3ec9a99e50d85f5a",
   "outputs": [],
   "execution_count": 114
  },
  {
   "metadata": {
    "ExecuteTime": {
     "end_time": "2025-06-15T17:30:32.338860Z",
     "start_time": "2025-06-15T17:30:32.310629Z"
    }
   },
   "cell_type": "code",
   "source": [
    "#label encoding for RainToday and RainTomorrow\n",
    "df['RainToday'] = df['RainToday'].map({'No':0,'Yes':1})\n",
    "df['RainTomorrow'] = df['RainTomorrow'].map({'No':0,'Yes':1})"
   ],
   "id": "475dd3720d1f023b",
   "outputs": [],
   "execution_count": 115
  },
  {
   "metadata": {
    "ExecuteTime": {
     "end_time": "2025-06-15T17:30:34.604413Z",
     "start_time": "2025-06-15T17:30:34.447548Z"
    }
   },
   "cell_type": "code",
   "source": "df.head()",
   "id": "3266e7448e95cc32",
   "outputs": [
    {
     "data": {
      "text/plain": [
       "            MinTemp  MaxTemp  Rainfall  WindGustSpeed  WindSpeed9am  \\\n",
       "Date                                                                  \n",
       "2008-12-01     13.4     22.9       0.6           44.0          20.0   \n",
       "2008-12-02      7.4     25.1       0.0           44.0           4.0   \n",
       "2008-12-03     12.9     25.7       0.0           46.0          19.0   \n",
       "2008-12-04      9.2     28.0       0.0           24.0          11.0   \n",
       "2008-12-05     17.5     32.3       1.0           41.0           7.0   \n",
       "\n",
       "            WindSpeed3pm  Humidity9am  Humidity3pm  Pressure9am  Pressure3pm  \\\n",
       "Date                                                                           \n",
       "2008-12-01          24.0         71.0         22.0       1007.7       1007.1   \n",
       "2008-12-02          22.0         44.0         25.0       1010.6       1007.8   \n",
       "2008-12-03          26.0         38.0         30.0       1007.6       1008.7   \n",
       "2008-12-04           9.0         45.0         16.0       1017.6       1012.8   \n",
       "2008-12-05          20.0         82.0         33.0       1010.8       1006.0   \n",
       "\n",
       "            ...  WindGustDir_NNW  WindGustDir_NW  WindGustDir_S  \\\n",
       "Date        ...                                                   \n",
       "2008-12-01  ...                0               0              0   \n",
       "2008-12-02  ...                0               0              0   \n",
       "2008-12-03  ...                0               0              0   \n",
       "2008-12-04  ...                0               0              0   \n",
       "2008-12-05  ...                0               0              0   \n",
       "\n",
       "            WindGustDir_SE  WindGustDir_SSE  WindGustDir_SSW  WindGustDir_SW  \\\n",
       "Date                                                                           \n",
       "2008-12-01               0                0                0               0   \n",
       "2008-12-02               0                0                0               0   \n",
       "2008-12-03               0                0                0               0   \n",
       "2008-12-04               0                0                0               0   \n",
       "2008-12-05               0                0                0               0   \n",
       "\n",
       "            WindGustDir_W  WindGustDir_WNW  WindGustDir_WSW  \n",
       "Date                                                         \n",
       "2008-12-01              1                0                0  \n",
       "2008-12-02              0                1                0  \n",
       "2008-12-03              0                0                1  \n",
       "2008-12-04              0                0                0  \n",
       "2008-12-05              1                0                0  \n",
       "\n",
       "[5 rows x 32 columns]"
      ],
      "text/html": [
       "<div>\n",
       "<style scoped>\n",
       "    .dataframe tbody tr th:only-of-type {\n",
       "        vertical-align: middle;\n",
       "    }\n",
       "\n",
       "    .dataframe tbody tr th {\n",
       "        vertical-align: top;\n",
       "    }\n",
       "\n",
       "    .dataframe thead th {\n",
       "        text-align: right;\n",
       "    }\n",
       "</style>\n",
       "<table border=\"1\" class=\"dataframe\">\n",
       "  <thead>\n",
       "    <tr style=\"text-align: right;\">\n",
       "      <th></th>\n",
       "      <th>MinTemp</th>\n",
       "      <th>MaxTemp</th>\n",
       "      <th>Rainfall</th>\n",
       "      <th>WindGustSpeed</th>\n",
       "      <th>WindSpeed9am</th>\n",
       "      <th>WindSpeed3pm</th>\n",
       "      <th>Humidity9am</th>\n",
       "      <th>Humidity3pm</th>\n",
       "      <th>Pressure9am</th>\n",
       "      <th>Pressure3pm</th>\n",
       "      <th>...</th>\n",
       "      <th>WindGustDir_NNW</th>\n",
       "      <th>WindGustDir_NW</th>\n",
       "      <th>WindGustDir_S</th>\n",
       "      <th>WindGustDir_SE</th>\n",
       "      <th>WindGustDir_SSE</th>\n",
       "      <th>WindGustDir_SSW</th>\n",
       "      <th>WindGustDir_SW</th>\n",
       "      <th>WindGustDir_W</th>\n",
       "      <th>WindGustDir_WNW</th>\n",
       "      <th>WindGustDir_WSW</th>\n",
       "    </tr>\n",
       "    <tr>\n",
       "      <th>Date</th>\n",
       "      <th></th>\n",
       "      <th></th>\n",
       "      <th></th>\n",
       "      <th></th>\n",
       "      <th></th>\n",
       "      <th></th>\n",
       "      <th></th>\n",
       "      <th></th>\n",
       "      <th></th>\n",
       "      <th></th>\n",
       "      <th></th>\n",
       "      <th></th>\n",
       "      <th></th>\n",
       "      <th></th>\n",
       "      <th></th>\n",
       "      <th></th>\n",
       "      <th></th>\n",
       "      <th></th>\n",
       "      <th></th>\n",
       "      <th></th>\n",
       "      <th></th>\n",
       "    </tr>\n",
       "  </thead>\n",
       "  <tbody>\n",
       "    <tr>\n",
       "      <th>2008-12-01</th>\n",
       "      <td>13.4</td>\n",
       "      <td>22.9</td>\n",
       "      <td>0.6</td>\n",
       "      <td>44.0</td>\n",
       "      <td>20.0</td>\n",
       "      <td>24.0</td>\n",
       "      <td>71.0</td>\n",
       "      <td>22.0</td>\n",
       "      <td>1007.7</td>\n",
       "      <td>1007.1</td>\n",
       "      <td>...</td>\n",
       "      <td>0</td>\n",
       "      <td>0</td>\n",
       "      <td>0</td>\n",
       "      <td>0</td>\n",
       "      <td>0</td>\n",
       "      <td>0</td>\n",
       "      <td>0</td>\n",
       "      <td>1</td>\n",
       "      <td>0</td>\n",
       "      <td>0</td>\n",
       "    </tr>\n",
       "    <tr>\n",
       "      <th>2008-12-02</th>\n",
       "      <td>7.4</td>\n",
       "      <td>25.1</td>\n",
       "      <td>0.0</td>\n",
       "      <td>44.0</td>\n",
       "      <td>4.0</td>\n",
       "      <td>22.0</td>\n",
       "      <td>44.0</td>\n",
       "      <td>25.0</td>\n",
       "      <td>1010.6</td>\n",
       "      <td>1007.8</td>\n",
       "      <td>...</td>\n",
       "      <td>0</td>\n",
       "      <td>0</td>\n",
       "      <td>0</td>\n",
       "      <td>0</td>\n",
       "      <td>0</td>\n",
       "      <td>0</td>\n",
       "      <td>0</td>\n",
       "      <td>0</td>\n",
       "      <td>1</td>\n",
       "      <td>0</td>\n",
       "    </tr>\n",
       "    <tr>\n",
       "      <th>2008-12-03</th>\n",
       "      <td>12.9</td>\n",
       "      <td>25.7</td>\n",
       "      <td>0.0</td>\n",
       "      <td>46.0</td>\n",
       "      <td>19.0</td>\n",
       "      <td>26.0</td>\n",
       "      <td>38.0</td>\n",
       "      <td>30.0</td>\n",
       "      <td>1007.6</td>\n",
       "      <td>1008.7</td>\n",
       "      <td>...</td>\n",
       "      <td>0</td>\n",
       "      <td>0</td>\n",
       "      <td>0</td>\n",
       "      <td>0</td>\n",
       "      <td>0</td>\n",
       "      <td>0</td>\n",
       "      <td>0</td>\n",
       "      <td>0</td>\n",
       "      <td>0</td>\n",
       "      <td>1</td>\n",
       "    </tr>\n",
       "    <tr>\n",
       "      <th>2008-12-04</th>\n",
       "      <td>9.2</td>\n",
       "      <td>28.0</td>\n",
       "      <td>0.0</td>\n",
       "      <td>24.0</td>\n",
       "      <td>11.0</td>\n",
       "      <td>9.0</td>\n",
       "      <td>45.0</td>\n",
       "      <td>16.0</td>\n",
       "      <td>1017.6</td>\n",
       "      <td>1012.8</td>\n",
       "      <td>...</td>\n",
       "      <td>0</td>\n",
       "      <td>0</td>\n",
       "      <td>0</td>\n",
       "      <td>0</td>\n",
       "      <td>0</td>\n",
       "      <td>0</td>\n",
       "      <td>0</td>\n",
       "      <td>0</td>\n",
       "      <td>0</td>\n",
       "      <td>0</td>\n",
       "    </tr>\n",
       "    <tr>\n",
       "      <th>2008-12-05</th>\n",
       "      <td>17.5</td>\n",
       "      <td>32.3</td>\n",
       "      <td>1.0</td>\n",
       "      <td>41.0</td>\n",
       "      <td>7.0</td>\n",
       "      <td>20.0</td>\n",
       "      <td>82.0</td>\n",
       "      <td>33.0</td>\n",
       "      <td>1010.8</td>\n",
       "      <td>1006.0</td>\n",
       "      <td>...</td>\n",
       "      <td>0</td>\n",
       "      <td>0</td>\n",
       "      <td>0</td>\n",
       "      <td>0</td>\n",
       "      <td>0</td>\n",
       "      <td>0</td>\n",
       "      <td>0</td>\n",
       "      <td>1</td>\n",
       "      <td>0</td>\n",
       "      <td>0</td>\n",
       "    </tr>\n",
       "  </tbody>\n",
       "</table>\n",
       "<p>5 rows × 32 columns</p>\n",
       "</div>"
      ]
     },
     "execution_count": 116,
     "metadata": {},
     "output_type": "execute_result"
    }
   ],
   "execution_count": 116
  },
  {
   "metadata": {
    "ExecuteTime": {
     "end_time": "2025-06-15T17:35:56.708945Z",
     "start_time": "2025-06-15T17:35:55.486964Z"
    }
   },
   "cell_type": "code",
   "source": [
    "#split the data into train and test sets\n",
    "from sklearn.model_selection import train_test_split\n",
    "X = df.drop('RainTomorrow', axis=1)\n",
    "y = df['RainTomorrow']\n",
    "X_train, X_test, y_train, y_test = train_test_split(X, y, test_size=0.3, random_state=42)"
   ],
   "id": "f2d79b3813550554",
   "outputs": [],
   "execution_count": 117
  },
  {
   "metadata": {
    "ExecuteTime": {
     "end_time": "2025-06-15T17:38:05.290934Z",
     "start_time": "2025-06-15T17:38:05.182352Z"
    }
   },
   "cell_type": "code",
   "source": [
    "#scale the data\n",
    "from sklearn.preprocessing import StandardScaler\n",
    "scaler = StandardScaler()\n",
    "X_train_scaled = scaler.fit_transform(X_train)\n",
    "X_test_scaled = scaler.transform(X_test)"
   ],
   "id": "7d15766199089912",
   "outputs": [],
   "execution_count": 118
  },
  {
   "metadata": {},
   "cell_type": "markdown",
   "source": "### *Logistic Regression*",
   "id": "1772de0727335abe"
  },
  {
   "metadata": {
    "ExecuteTime": {
     "end_time": "2025-06-15T17:39:02.702896Z",
     "start_time": "2025-06-15T17:39:02.056298Z"
    }
   },
   "cell_type": "code",
   "source": [
    "#train the model\n",
    "from sklearn.linear_model import LogisticRegression\n",
    "\n",
    "model = LogisticRegression()"
   ],
   "id": "e78d8c2ff0c8933e",
   "outputs": [],
   "execution_count": 119
  },
  {
   "metadata": {
    "ExecuteTime": {
     "end_time": "2025-06-15T17:39:12.505409Z",
     "start_time": "2025-06-15T17:39:12.328560Z"
    }
   },
   "cell_type": "code",
   "source": "model.fit(X_train_scaled, y_train)",
   "id": "37122399beadfc4c",
   "outputs": [
    {
     "data": {
      "text/plain": [
       "LogisticRegression()"
      ],
      "text/html": [
       "<style>#sk-container-id-1 {\n",
       "  /* Definition of color scheme common for light and dark mode */\n",
       "  --sklearn-color-text: #000;\n",
       "  --sklearn-color-text-muted: #666;\n",
       "  --sklearn-color-line: gray;\n",
       "  /* Definition of color scheme for unfitted estimators */\n",
       "  --sklearn-color-unfitted-level-0: #fff5e6;\n",
       "  --sklearn-color-unfitted-level-1: #f6e4d2;\n",
       "  --sklearn-color-unfitted-level-2: #ffe0b3;\n",
       "  --sklearn-color-unfitted-level-3: chocolate;\n",
       "  /* Definition of color scheme for fitted estimators */\n",
       "  --sklearn-color-fitted-level-0: #f0f8ff;\n",
       "  --sklearn-color-fitted-level-1: #d4ebff;\n",
       "  --sklearn-color-fitted-level-2: #b3dbfd;\n",
       "  --sklearn-color-fitted-level-3: cornflowerblue;\n",
       "\n",
       "  /* Specific color for light theme */\n",
       "  --sklearn-color-text-on-default-background: var(--sg-text-color, var(--theme-code-foreground, var(--jp-content-font-color1, black)));\n",
       "  --sklearn-color-background: var(--sg-background-color, var(--theme-background, var(--jp-layout-color0, white)));\n",
       "  --sklearn-color-border-box: var(--sg-text-color, var(--theme-code-foreground, var(--jp-content-font-color1, black)));\n",
       "  --sklearn-color-icon: #696969;\n",
       "\n",
       "  @media (prefers-color-scheme: dark) {\n",
       "    /* Redefinition of color scheme for dark theme */\n",
       "    --sklearn-color-text-on-default-background: var(--sg-text-color, var(--theme-code-foreground, var(--jp-content-font-color1, white)));\n",
       "    --sklearn-color-background: var(--sg-background-color, var(--theme-background, var(--jp-layout-color0, #111)));\n",
       "    --sklearn-color-border-box: var(--sg-text-color, var(--theme-code-foreground, var(--jp-content-font-color1, white)));\n",
       "    --sklearn-color-icon: #878787;\n",
       "  }\n",
       "}\n",
       "\n",
       "#sk-container-id-1 {\n",
       "  color: var(--sklearn-color-text);\n",
       "}\n",
       "\n",
       "#sk-container-id-1 pre {\n",
       "  padding: 0;\n",
       "}\n",
       "\n",
       "#sk-container-id-1 input.sk-hidden--visually {\n",
       "  border: 0;\n",
       "  clip: rect(1px 1px 1px 1px);\n",
       "  clip: rect(1px, 1px, 1px, 1px);\n",
       "  height: 1px;\n",
       "  margin: -1px;\n",
       "  overflow: hidden;\n",
       "  padding: 0;\n",
       "  position: absolute;\n",
       "  width: 1px;\n",
       "}\n",
       "\n",
       "#sk-container-id-1 div.sk-dashed-wrapped {\n",
       "  border: 1px dashed var(--sklearn-color-line);\n",
       "  margin: 0 0.4em 0.5em 0.4em;\n",
       "  box-sizing: border-box;\n",
       "  padding-bottom: 0.4em;\n",
       "  background-color: var(--sklearn-color-background);\n",
       "}\n",
       "\n",
       "#sk-container-id-1 div.sk-container {\n",
       "  /* jupyter's `normalize.less` sets `[hidden] { display: none; }`\n",
       "     but bootstrap.min.css set `[hidden] { display: none !important; }`\n",
       "     so we also need the `!important` here to be able to override the\n",
       "     default hidden behavior on the sphinx rendered scikit-learn.org.\n",
       "     See: https://github.com/scikit-learn/scikit-learn/issues/21755 */\n",
       "  display: inline-block !important;\n",
       "  position: relative;\n",
       "}\n",
       "\n",
       "#sk-container-id-1 div.sk-text-repr-fallback {\n",
       "  display: none;\n",
       "}\n",
       "\n",
       "div.sk-parallel-item,\n",
       "div.sk-serial,\n",
       "div.sk-item {\n",
       "  /* draw centered vertical line to link estimators */\n",
       "  background-image: linear-gradient(var(--sklearn-color-text-on-default-background), var(--sklearn-color-text-on-default-background));\n",
       "  background-size: 2px 100%;\n",
       "  background-repeat: no-repeat;\n",
       "  background-position: center center;\n",
       "}\n",
       "\n",
       "/* Parallel-specific style estimator block */\n",
       "\n",
       "#sk-container-id-1 div.sk-parallel-item::after {\n",
       "  content: \"\";\n",
       "  width: 100%;\n",
       "  border-bottom: 2px solid var(--sklearn-color-text-on-default-background);\n",
       "  flex-grow: 1;\n",
       "}\n",
       "\n",
       "#sk-container-id-1 div.sk-parallel {\n",
       "  display: flex;\n",
       "  align-items: stretch;\n",
       "  justify-content: center;\n",
       "  background-color: var(--sklearn-color-background);\n",
       "  position: relative;\n",
       "}\n",
       "\n",
       "#sk-container-id-1 div.sk-parallel-item {\n",
       "  display: flex;\n",
       "  flex-direction: column;\n",
       "}\n",
       "\n",
       "#sk-container-id-1 div.sk-parallel-item:first-child::after {\n",
       "  align-self: flex-end;\n",
       "  width: 50%;\n",
       "}\n",
       "\n",
       "#sk-container-id-1 div.sk-parallel-item:last-child::after {\n",
       "  align-self: flex-start;\n",
       "  width: 50%;\n",
       "}\n",
       "\n",
       "#sk-container-id-1 div.sk-parallel-item:only-child::after {\n",
       "  width: 0;\n",
       "}\n",
       "\n",
       "/* Serial-specific style estimator block */\n",
       "\n",
       "#sk-container-id-1 div.sk-serial {\n",
       "  display: flex;\n",
       "  flex-direction: column;\n",
       "  align-items: center;\n",
       "  background-color: var(--sklearn-color-background);\n",
       "  padding-right: 1em;\n",
       "  padding-left: 1em;\n",
       "}\n",
       "\n",
       "\n",
       "/* Toggleable style: style used for estimator/Pipeline/ColumnTransformer box that is\n",
       "clickable and can be expanded/collapsed.\n",
       "- Pipeline and ColumnTransformer use this feature and define the default style\n",
       "- Estimators will overwrite some part of the style using the `sk-estimator` class\n",
       "*/\n",
       "\n",
       "/* Pipeline and ColumnTransformer style (default) */\n",
       "\n",
       "#sk-container-id-1 div.sk-toggleable {\n",
       "  /* Default theme specific background. It is overwritten whether we have a\n",
       "  specific estimator or a Pipeline/ColumnTransformer */\n",
       "  background-color: var(--sklearn-color-background);\n",
       "}\n",
       "\n",
       "/* Toggleable label */\n",
       "#sk-container-id-1 label.sk-toggleable__label {\n",
       "  cursor: pointer;\n",
       "  display: flex;\n",
       "  width: 100%;\n",
       "  margin-bottom: 0;\n",
       "  padding: 0.5em;\n",
       "  box-sizing: border-box;\n",
       "  text-align: center;\n",
       "  align-items: start;\n",
       "  justify-content: space-between;\n",
       "  gap: 0.5em;\n",
       "}\n",
       "\n",
       "#sk-container-id-1 label.sk-toggleable__label .caption {\n",
       "  font-size: 0.6rem;\n",
       "  font-weight: lighter;\n",
       "  color: var(--sklearn-color-text-muted);\n",
       "}\n",
       "\n",
       "#sk-container-id-1 label.sk-toggleable__label-arrow:before {\n",
       "  /* Arrow on the left of the label */\n",
       "  content: \"▸\";\n",
       "  float: left;\n",
       "  margin-right: 0.25em;\n",
       "  color: var(--sklearn-color-icon);\n",
       "}\n",
       "\n",
       "#sk-container-id-1 label.sk-toggleable__label-arrow:hover:before {\n",
       "  color: var(--sklearn-color-text);\n",
       "}\n",
       "\n",
       "/* Toggleable content - dropdown */\n",
       "\n",
       "#sk-container-id-1 div.sk-toggleable__content {\n",
       "  display: none;\n",
       "  text-align: left;\n",
       "  /* unfitted */\n",
       "  background-color: var(--sklearn-color-unfitted-level-0);\n",
       "}\n",
       "\n",
       "#sk-container-id-1 div.sk-toggleable__content.fitted {\n",
       "  /* fitted */\n",
       "  background-color: var(--sklearn-color-fitted-level-0);\n",
       "}\n",
       "\n",
       "#sk-container-id-1 div.sk-toggleable__content pre {\n",
       "  margin: 0.2em;\n",
       "  border-radius: 0.25em;\n",
       "  color: var(--sklearn-color-text);\n",
       "  /* unfitted */\n",
       "  background-color: var(--sklearn-color-unfitted-level-0);\n",
       "}\n",
       "\n",
       "#sk-container-id-1 div.sk-toggleable__content.fitted pre {\n",
       "  /* unfitted */\n",
       "  background-color: var(--sklearn-color-fitted-level-0);\n",
       "}\n",
       "\n",
       "#sk-container-id-1 input.sk-toggleable__control:checked~div.sk-toggleable__content {\n",
       "  /* Expand drop-down */\n",
       "  display: block;\n",
       "  width: 100%;\n",
       "  overflow: visible;\n",
       "}\n",
       "\n",
       "#sk-container-id-1 input.sk-toggleable__control:checked~label.sk-toggleable__label-arrow:before {\n",
       "  content: \"▾\";\n",
       "}\n",
       "\n",
       "/* Pipeline/ColumnTransformer-specific style */\n",
       "\n",
       "#sk-container-id-1 div.sk-label input.sk-toggleable__control:checked~label.sk-toggleable__label {\n",
       "  color: var(--sklearn-color-text);\n",
       "  background-color: var(--sklearn-color-unfitted-level-2);\n",
       "}\n",
       "\n",
       "#sk-container-id-1 div.sk-label.fitted input.sk-toggleable__control:checked~label.sk-toggleable__label {\n",
       "  background-color: var(--sklearn-color-fitted-level-2);\n",
       "}\n",
       "\n",
       "/* Estimator-specific style */\n",
       "\n",
       "/* Colorize estimator box */\n",
       "#sk-container-id-1 div.sk-estimator input.sk-toggleable__control:checked~label.sk-toggleable__label {\n",
       "  /* unfitted */\n",
       "  background-color: var(--sklearn-color-unfitted-level-2);\n",
       "}\n",
       "\n",
       "#sk-container-id-1 div.sk-estimator.fitted input.sk-toggleable__control:checked~label.sk-toggleable__label {\n",
       "  /* fitted */\n",
       "  background-color: var(--sklearn-color-fitted-level-2);\n",
       "}\n",
       "\n",
       "#sk-container-id-1 div.sk-label label.sk-toggleable__label,\n",
       "#sk-container-id-1 div.sk-label label {\n",
       "  /* The background is the default theme color */\n",
       "  color: var(--sklearn-color-text-on-default-background);\n",
       "}\n",
       "\n",
       "/* On hover, darken the color of the background */\n",
       "#sk-container-id-1 div.sk-label:hover label.sk-toggleable__label {\n",
       "  color: var(--sklearn-color-text);\n",
       "  background-color: var(--sklearn-color-unfitted-level-2);\n",
       "}\n",
       "\n",
       "/* Label box, darken color on hover, fitted */\n",
       "#sk-container-id-1 div.sk-label.fitted:hover label.sk-toggleable__label.fitted {\n",
       "  color: var(--sklearn-color-text);\n",
       "  background-color: var(--sklearn-color-fitted-level-2);\n",
       "}\n",
       "\n",
       "/* Estimator label */\n",
       "\n",
       "#sk-container-id-1 div.sk-label label {\n",
       "  font-family: monospace;\n",
       "  font-weight: bold;\n",
       "  display: inline-block;\n",
       "  line-height: 1.2em;\n",
       "}\n",
       "\n",
       "#sk-container-id-1 div.sk-label-container {\n",
       "  text-align: center;\n",
       "}\n",
       "\n",
       "/* Estimator-specific */\n",
       "#sk-container-id-1 div.sk-estimator {\n",
       "  font-family: monospace;\n",
       "  border: 1px dotted var(--sklearn-color-border-box);\n",
       "  border-radius: 0.25em;\n",
       "  box-sizing: border-box;\n",
       "  margin-bottom: 0.5em;\n",
       "  /* unfitted */\n",
       "  background-color: var(--sklearn-color-unfitted-level-0);\n",
       "}\n",
       "\n",
       "#sk-container-id-1 div.sk-estimator.fitted {\n",
       "  /* fitted */\n",
       "  background-color: var(--sklearn-color-fitted-level-0);\n",
       "}\n",
       "\n",
       "/* on hover */\n",
       "#sk-container-id-1 div.sk-estimator:hover {\n",
       "  /* unfitted */\n",
       "  background-color: var(--sklearn-color-unfitted-level-2);\n",
       "}\n",
       "\n",
       "#sk-container-id-1 div.sk-estimator.fitted:hover {\n",
       "  /* fitted */\n",
       "  background-color: var(--sklearn-color-fitted-level-2);\n",
       "}\n",
       "\n",
       "/* Specification for estimator info (e.g. \"i\" and \"?\") */\n",
       "\n",
       "/* Common style for \"i\" and \"?\" */\n",
       "\n",
       ".sk-estimator-doc-link,\n",
       "a:link.sk-estimator-doc-link,\n",
       "a:visited.sk-estimator-doc-link {\n",
       "  float: right;\n",
       "  font-size: smaller;\n",
       "  line-height: 1em;\n",
       "  font-family: monospace;\n",
       "  background-color: var(--sklearn-color-background);\n",
       "  border-radius: 1em;\n",
       "  height: 1em;\n",
       "  width: 1em;\n",
       "  text-decoration: none !important;\n",
       "  margin-left: 0.5em;\n",
       "  text-align: center;\n",
       "  /* unfitted */\n",
       "  border: var(--sklearn-color-unfitted-level-1) 1pt solid;\n",
       "  color: var(--sklearn-color-unfitted-level-1);\n",
       "}\n",
       "\n",
       ".sk-estimator-doc-link.fitted,\n",
       "a:link.sk-estimator-doc-link.fitted,\n",
       "a:visited.sk-estimator-doc-link.fitted {\n",
       "  /* fitted */\n",
       "  border: var(--sklearn-color-fitted-level-1) 1pt solid;\n",
       "  color: var(--sklearn-color-fitted-level-1);\n",
       "}\n",
       "\n",
       "/* On hover */\n",
       "div.sk-estimator:hover .sk-estimator-doc-link:hover,\n",
       ".sk-estimator-doc-link:hover,\n",
       "div.sk-label-container:hover .sk-estimator-doc-link:hover,\n",
       ".sk-estimator-doc-link:hover {\n",
       "  /* unfitted */\n",
       "  background-color: var(--sklearn-color-unfitted-level-3);\n",
       "  color: var(--sklearn-color-background);\n",
       "  text-decoration: none;\n",
       "}\n",
       "\n",
       "div.sk-estimator.fitted:hover .sk-estimator-doc-link.fitted:hover,\n",
       ".sk-estimator-doc-link.fitted:hover,\n",
       "div.sk-label-container:hover .sk-estimator-doc-link.fitted:hover,\n",
       ".sk-estimator-doc-link.fitted:hover {\n",
       "  /* fitted */\n",
       "  background-color: var(--sklearn-color-fitted-level-3);\n",
       "  color: var(--sklearn-color-background);\n",
       "  text-decoration: none;\n",
       "}\n",
       "\n",
       "/* Span, style for the box shown on hovering the info icon */\n",
       ".sk-estimator-doc-link span {\n",
       "  display: none;\n",
       "  z-index: 9999;\n",
       "  position: relative;\n",
       "  font-weight: normal;\n",
       "  right: .2ex;\n",
       "  padding: .5ex;\n",
       "  margin: .5ex;\n",
       "  width: min-content;\n",
       "  min-width: 20ex;\n",
       "  max-width: 50ex;\n",
       "  color: var(--sklearn-color-text);\n",
       "  box-shadow: 2pt 2pt 4pt #999;\n",
       "  /* unfitted */\n",
       "  background: var(--sklearn-color-unfitted-level-0);\n",
       "  border: .5pt solid var(--sklearn-color-unfitted-level-3);\n",
       "}\n",
       "\n",
       ".sk-estimator-doc-link.fitted span {\n",
       "  /* fitted */\n",
       "  background: var(--sklearn-color-fitted-level-0);\n",
       "  border: var(--sklearn-color-fitted-level-3);\n",
       "}\n",
       "\n",
       ".sk-estimator-doc-link:hover span {\n",
       "  display: block;\n",
       "}\n",
       "\n",
       "/* \"?\"-specific style due to the `<a>` HTML tag */\n",
       "\n",
       "#sk-container-id-1 a.estimator_doc_link {\n",
       "  float: right;\n",
       "  font-size: 1rem;\n",
       "  line-height: 1em;\n",
       "  font-family: monospace;\n",
       "  background-color: var(--sklearn-color-background);\n",
       "  border-radius: 1rem;\n",
       "  height: 1rem;\n",
       "  width: 1rem;\n",
       "  text-decoration: none;\n",
       "  /* unfitted */\n",
       "  color: var(--sklearn-color-unfitted-level-1);\n",
       "  border: var(--sklearn-color-unfitted-level-1) 1pt solid;\n",
       "}\n",
       "\n",
       "#sk-container-id-1 a.estimator_doc_link.fitted {\n",
       "  /* fitted */\n",
       "  border: var(--sklearn-color-fitted-level-1) 1pt solid;\n",
       "  color: var(--sklearn-color-fitted-level-1);\n",
       "}\n",
       "\n",
       "/* On hover */\n",
       "#sk-container-id-1 a.estimator_doc_link:hover {\n",
       "  /* unfitted */\n",
       "  background-color: var(--sklearn-color-unfitted-level-3);\n",
       "  color: var(--sklearn-color-background);\n",
       "  text-decoration: none;\n",
       "}\n",
       "\n",
       "#sk-container-id-1 a.estimator_doc_link.fitted:hover {\n",
       "  /* fitted */\n",
       "  background-color: var(--sklearn-color-fitted-level-3);\n",
       "}\n",
       "\n",
       ".estimator-table summary {\n",
       "    padding: .5rem;\n",
       "    font-family: monospace;\n",
       "    cursor: pointer;\n",
       "}\n",
       "\n",
       ".estimator-table details[open] {\n",
       "    padding-left: 0.1rem;\n",
       "    padding-right: 0.1rem;\n",
       "    padding-bottom: 0.3rem;\n",
       "}\n",
       "\n",
       ".estimator-table .parameters-table {\n",
       "    margin-left: auto !important;\n",
       "    margin-right: auto !important;\n",
       "}\n",
       "\n",
       ".estimator-table .parameters-table tr:nth-child(odd) {\n",
       "    background-color: #fff;\n",
       "}\n",
       "\n",
       ".estimator-table .parameters-table tr:nth-child(even) {\n",
       "    background-color: #f6f6f6;\n",
       "}\n",
       "\n",
       ".estimator-table .parameters-table tr:hover {\n",
       "    background-color: #e0e0e0;\n",
       "}\n",
       "\n",
       ".estimator-table table td {\n",
       "    border: 1px solid rgba(106, 105, 104, 0.232);\n",
       "}\n",
       "\n",
       ".user-set td {\n",
       "    color:rgb(255, 94, 0);\n",
       "    text-align: left;\n",
       "}\n",
       "\n",
       ".user-set td.value pre {\n",
       "    color:rgb(255, 94, 0) !important;\n",
       "    background-color: transparent !important;\n",
       "}\n",
       "\n",
       ".default td {\n",
       "    color: black;\n",
       "    text-align: left;\n",
       "}\n",
       "\n",
       ".user-set td i,\n",
       ".default td i {\n",
       "    color: black;\n",
       "}\n",
       "\n",
       ".copy-paste-icon {\n",
       "    background-image: url(data:image/svg+xml;base64,PHN2ZyB4bWxucz0iaHR0cDovL3d3dy53My5vcmcvMjAwMC9zdmciIHZpZXdCb3g9IjAgMCA0NDggNTEyIj48IS0tIUZvbnQgQXdlc29tZSBGcmVlIDYuNy4yIGJ5IEBmb250YXdlc29tZSAtIGh0dHBzOi8vZm9udGF3ZXNvbWUuY29tIExpY2Vuc2UgLSBodHRwczovL2ZvbnRhd2Vzb21lLmNvbS9saWNlbnNlL2ZyZWUgQ29weXJpZ2h0IDIwMjUgRm9udGljb25zLCBJbmMuLS0+PHBhdGggZD0iTTIwOCAwTDMzMi4xIDBjMTIuNyAwIDI0LjkgNS4xIDMzLjkgMTQuMWw2Ny45IDY3LjljOSA5IDE0LjEgMjEuMiAxNC4xIDMzLjlMNDQ4IDMzNmMwIDI2LjUtMjEuNSA0OC00OCA0OGwtMTkyIDBjLTI2LjUgMC00OC0yMS41LTQ4LTQ4bDAtMjg4YzAtMjYuNSAyMS41LTQ4IDQ4LTQ4ek00OCAxMjhsODAgMCAwIDY0LTY0IDAgMCAyNTYgMTkyIDAgMC0zMiA2NCAwIDAgNDhjMCAyNi41LTIxLjUgNDgtNDggNDhMNDggNTEyYy0yNi41IDAtNDgtMjEuNS00OC00OEwwIDE3NmMwLTI2LjUgMjEuNS00OCA0OC00OHoiLz48L3N2Zz4=);\n",
       "    background-repeat: no-repeat;\n",
       "    background-size: 14px 14px;\n",
       "    background-position: 0;\n",
       "    display: inline-block;\n",
       "    width: 14px;\n",
       "    height: 14px;\n",
       "    cursor: pointer;\n",
       "}\n",
       "</style><body><div id=\"sk-container-id-1\" class=\"sk-top-container\"><div class=\"sk-text-repr-fallback\"><pre>LogisticRegression()</pre><b>In a Jupyter environment, please rerun this cell to show the HTML representation or trust the notebook. <br />On GitHub, the HTML representation is unable to render, please try loading this page with nbviewer.org.</b></div><div class=\"sk-container\" hidden><div class=\"sk-item\"><div class=\"sk-estimator fitted sk-toggleable\"><input class=\"sk-toggleable__control sk-hidden--visually\" id=\"sk-estimator-id-1\" type=\"checkbox\" checked><label for=\"sk-estimator-id-1\" class=\"sk-toggleable__label fitted sk-toggleable__label-arrow\"><div><div>LogisticRegression</div></div><div><a class=\"sk-estimator-doc-link fitted\" rel=\"noreferrer\" target=\"_blank\" href=\"https://scikit-learn.org/1.7/modules/generated/sklearn.linear_model.LogisticRegression.html\">?<span>Documentation for LogisticRegression</span></a><span class=\"sk-estimator-doc-link fitted\">i<span>Fitted</span></span></div></label><div class=\"sk-toggleable__content fitted\" data-param-prefix=\"\">\n",
       "        <div class=\"estimator-table\">\n",
       "            <details>\n",
       "                <summary>Parameters</summary>\n",
       "                <table class=\"parameters-table\">\n",
       "                  <tbody>\n",
       "                    \n",
       "        <tr class=\"default\">\n",
       "            <td><i class=\"copy-paste-icon\"\n",
       "                 onclick=\"copyToClipboard('penalty',\n",
       "                          this.parentElement.nextElementSibling)\"\n",
       "            ></i></td>\n",
       "            <td class=\"param\">penalty&nbsp;</td>\n",
       "            <td class=\"value\">&#x27;l2&#x27;</td>\n",
       "        </tr>\n",
       "    \n",
       "\n",
       "        <tr class=\"default\">\n",
       "            <td><i class=\"copy-paste-icon\"\n",
       "                 onclick=\"copyToClipboard('dual',\n",
       "                          this.parentElement.nextElementSibling)\"\n",
       "            ></i></td>\n",
       "            <td class=\"param\">dual&nbsp;</td>\n",
       "            <td class=\"value\">False</td>\n",
       "        </tr>\n",
       "    \n",
       "\n",
       "        <tr class=\"default\">\n",
       "            <td><i class=\"copy-paste-icon\"\n",
       "                 onclick=\"copyToClipboard('tol',\n",
       "                          this.parentElement.nextElementSibling)\"\n",
       "            ></i></td>\n",
       "            <td class=\"param\">tol&nbsp;</td>\n",
       "            <td class=\"value\">0.0001</td>\n",
       "        </tr>\n",
       "    \n",
       "\n",
       "        <tr class=\"default\">\n",
       "            <td><i class=\"copy-paste-icon\"\n",
       "                 onclick=\"copyToClipboard('C',\n",
       "                          this.parentElement.nextElementSibling)\"\n",
       "            ></i></td>\n",
       "            <td class=\"param\">C&nbsp;</td>\n",
       "            <td class=\"value\">1.0</td>\n",
       "        </tr>\n",
       "    \n",
       "\n",
       "        <tr class=\"default\">\n",
       "            <td><i class=\"copy-paste-icon\"\n",
       "                 onclick=\"copyToClipboard('fit_intercept',\n",
       "                          this.parentElement.nextElementSibling)\"\n",
       "            ></i></td>\n",
       "            <td class=\"param\">fit_intercept&nbsp;</td>\n",
       "            <td class=\"value\">True</td>\n",
       "        </tr>\n",
       "    \n",
       "\n",
       "        <tr class=\"default\">\n",
       "            <td><i class=\"copy-paste-icon\"\n",
       "                 onclick=\"copyToClipboard('intercept_scaling',\n",
       "                          this.parentElement.nextElementSibling)\"\n",
       "            ></i></td>\n",
       "            <td class=\"param\">intercept_scaling&nbsp;</td>\n",
       "            <td class=\"value\">1</td>\n",
       "        </tr>\n",
       "    \n",
       "\n",
       "        <tr class=\"default\">\n",
       "            <td><i class=\"copy-paste-icon\"\n",
       "                 onclick=\"copyToClipboard('class_weight',\n",
       "                          this.parentElement.nextElementSibling)\"\n",
       "            ></i></td>\n",
       "            <td class=\"param\">class_weight&nbsp;</td>\n",
       "            <td class=\"value\">None</td>\n",
       "        </tr>\n",
       "    \n",
       "\n",
       "        <tr class=\"default\">\n",
       "            <td><i class=\"copy-paste-icon\"\n",
       "                 onclick=\"copyToClipboard('random_state',\n",
       "                          this.parentElement.nextElementSibling)\"\n",
       "            ></i></td>\n",
       "            <td class=\"param\">random_state&nbsp;</td>\n",
       "            <td class=\"value\">None</td>\n",
       "        </tr>\n",
       "    \n",
       "\n",
       "        <tr class=\"default\">\n",
       "            <td><i class=\"copy-paste-icon\"\n",
       "                 onclick=\"copyToClipboard('solver',\n",
       "                          this.parentElement.nextElementSibling)\"\n",
       "            ></i></td>\n",
       "            <td class=\"param\">solver&nbsp;</td>\n",
       "            <td class=\"value\">&#x27;lbfgs&#x27;</td>\n",
       "        </tr>\n",
       "    \n",
       "\n",
       "        <tr class=\"default\">\n",
       "            <td><i class=\"copy-paste-icon\"\n",
       "                 onclick=\"copyToClipboard('max_iter',\n",
       "                          this.parentElement.nextElementSibling)\"\n",
       "            ></i></td>\n",
       "            <td class=\"param\">max_iter&nbsp;</td>\n",
       "            <td class=\"value\">100</td>\n",
       "        </tr>\n",
       "    \n",
       "\n",
       "        <tr class=\"default\">\n",
       "            <td><i class=\"copy-paste-icon\"\n",
       "                 onclick=\"copyToClipboard('multi_class',\n",
       "                          this.parentElement.nextElementSibling)\"\n",
       "            ></i></td>\n",
       "            <td class=\"param\">multi_class&nbsp;</td>\n",
       "            <td class=\"value\">&#x27;deprecated&#x27;</td>\n",
       "        </tr>\n",
       "    \n",
       "\n",
       "        <tr class=\"default\">\n",
       "            <td><i class=\"copy-paste-icon\"\n",
       "                 onclick=\"copyToClipboard('verbose',\n",
       "                          this.parentElement.nextElementSibling)\"\n",
       "            ></i></td>\n",
       "            <td class=\"param\">verbose&nbsp;</td>\n",
       "            <td class=\"value\">0</td>\n",
       "        </tr>\n",
       "    \n",
       "\n",
       "        <tr class=\"default\">\n",
       "            <td><i class=\"copy-paste-icon\"\n",
       "                 onclick=\"copyToClipboard('warm_start',\n",
       "                          this.parentElement.nextElementSibling)\"\n",
       "            ></i></td>\n",
       "            <td class=\"param\">warm_start&nbsp;</td>\n",
       "            <td class=\"value\">False</td>\n",
       "        </tr>\n",
       "    \n",
       "\n",
       "        <tr class=\"default\">\n",
       "            <td><i class=\"copy-paste-icon\"\n",
       "                 onclick=\"copyToClipboard('n_jobs',\n",
       "                          this.parentElement.nextElementSibling)\"\n",
       "            ></i></td>\n",
       "            <td class=\"param\">n_jobs&nbsp;</td>\n",
       "            <td class=\"value\">None</td>\n",
       "        </tr>\n",
       "    \n",
       "\n",
       "        <tr class=\"default\">\n",
       "            <td><i class=\"copy-paste-icon\"\n",
       "                 onclick=\"copyToClipboard('l1_ratio',\n",
       "                          this.parentElement.nextElementSibling)\"\n",
       "            ></i></td>\n",
       "            <td class=\"param\">l1_ratio&nbsp;</td>\n",
       "            <td class=\"value\">None</td>\n",
       "        </tr>\n",
       "    \n",
       "                  </tbody>\n",
       "                </table>\n",
       "            </details>\n",
       "        </div>\n",
       "    </div></div></div></div></div><script>function copyToClipboard(text, element) {\n",
       "    // Get the parameter prefix from the closest toggleable content\n",
       "    const toggleableContent = element.closest('.sk-toggleable__content');\n",
       "    const paramPrefix = toggleableContent ? toggleableContent.dataset.paramPrefix : '';\n",
       "    const fullParamName = paramPrefix ? `${paramPrefix}${text}` : text;\n",
       "\n",
       "    const originalStyle = element.style;\n",
       "    const computedStyle = window.getComputedStyle(element);\n",
       "    const originalWidth = computedStyle.width;\n",
       "    const originalHTML = element.innerHTML.replace('Copied!', '');\n",
       "\n",
       "    navigator.clipboard.writeText(fullParamName)\n",
       "        .then(() => {\n",
       "            element.style.width = originalWidth;\n",
       "            element.style.color = 'green';\n",
       "            element.innerHTML = \"Copied!\";\n",
       "\n",
       "            setTimeout(() => {\n",
       "                element.innerHTML = originalHTML;\n",
       "                element.style = originalStyle;\n",
       "            }, 2000);\n",
       "        })\n",
       "        .catch(err => {\n",
       "            console.error('Failed to copy:', err);\n",
       "            element.style.color = 'red';\n",
       "            element.innerHTML = \"Failed!\";\n",
       "            setTimeout(() => {\n",
       "                element.innerHTML = originalHTML;\n",
       "                element.style = originalStyle;\n",
       "            }, 2000);\n",
       "        });\n",
       "    return false;\n",
       "}\n",
       "\n",
       "document.querySelectorAll('.fa-regular.fa-copy').forEach(function(element) {\n",
       "    const toggleableContent = element.closest('.sk-toggleable__content');\n",
       "    const paramPrefix = toggleableContent ? toggleableContent.dataset.paramPrefix : '';\n",
       "    const paramName = element.parentElement.nextElementSibling.textContent.trim();\n",
       "    const fullParamName = paramPrefix ? `${paramPrefix}${paramName}` : paramName;\n",
       "\n",
       "    element.setAttribute('title', fullParamName);\n",
       "});\n",
       "</script></body>"
      ]
     },
     "execution_count": 120,
     "metadata": {},
     "output_type": "execute_result"
    }
   ],
   "execution_count": 120
  },
  {
   "metadata": {
    "ExecuteTime": {
     "end_time": "2025-06-15T17:39:35.939440Z",
     "start_time": "2025-06-15T17:39:35.930142Z"
    }
   },
   "cell_type": "code",
   "source": [
    "#predict the target variable\n",
    "predicted = model.predict(X_test_scaled)"
   ],
   "id": "340386f0742b8559",
   "outputs": [],
   "execution_count": 121
  },
  {
   "metadata": {
    "ExecuteTime": {
     "end_time": "2025-06-15T17:39:51.198285Z",
     "start_time": "2025-06-15T17:39:51.169740Z"
    }
   },
   "cell_type": "code",
   "source": [
    "#evaluate the model\n",
    "from sklearn.metrics import accuracy_score\n",
    "\n",
    "accuracy = accuracy_score(y_test, predicted)\n",
    "print('Accuracy:', accuracy)"
   ],
   "id": "f4f42a28c983e169",
   "outputs": [
    {
     "name": "stdout",
     "output_type": "stream",
     "text": [
      "Accuracy: 0.8706140350877193\n"
     ]
    }
   ],
   "execution_count": 122
  },
  {
   "metadata": {
    "ExecuteTime": {
     "end_time": "2025-06-15T17:40:50.649323Z",
     "start_time": "2025-06-15T17:40:50.591933Z"
    }
   },
   "cell_type": "code",
   "source": [
    "#classification report\n",
    "from sklearn.metrics import classification_report\n",
    "print(classification_report(y_test, predicted))"
   ],
   "id": "a17fdb3ec9820a0d",
   "outputs": [
    {
     "name": "stdout",
     "output_type": "stream",
     "text": [
      "              precision    recall  f1-score   support\n",
      "\n",
      "           0       0.90      0.94      0.92       711\n",
      "           1       0.75      0.62      0.68       201\n",
      "\n",
      "    accuracy                           0.87       912\n",
      "   macro avg       0.82      0.78      0.80       912\n",
      "weighted avg       0.86      0.87      0.87       912\n",
      "\n"
     ]
    }
   ],
   "execution_count": 125
  },
  {
   "metadata": {
    "ExecuteTime": {
     "end_time": "2025-06-15T17:40:34.921634Z",
     "start_time": "2025-06-15T17:40:34.904811Z"
    }
   },
   "cell_type": "code",
   "source": [
    "# confusion matrix\n",
    "from sklearn.metrics import confusion_matrix\n",
    "confusion_matrix(y_test, predicted)"
   ],
   "id": "5a7ece2bb26796a3",
   "outputs": [
    {
     "data": {
      "text/plain": [
       "array([[670,  41],\n",
       "       [ 77, 124]])"
      ]
     },
     "execution_count": 124,
     "metadata": {},
     "output_type": "execute_result"
    }
   ],
   "execution_count": 124
  },
  {
   "metadata": {
    "ExecuteTime": {
     "end_time": "2025-06-15T17:54:25.507606Z",
     "start_time": "2025-06-15T17:54:25.339996Z"
    }
   },
   "cell_type": "code",
   "source": [
    "#save the model\n",
    "import joblib as jl\n",
    "jl.dump(model, 'rain_model.pkl')"
   ],
   "id": "e56f5f87c333cb3f",
   "outputs": [
    {
     "data": {
      "text/plain": [
       "['rain_model.pkl']"
      ]
     },
     "execution_count": 142,
     "metadata": {},
     "output_type": "execute_result"
    }
   ],
   "execution_count": 142
  },
  {
   "metadata": {},
   "cell_type": "markdown",
   "source": "### *Random Forest*",
   "id": "b65a7f73f646e6c6"
  },
  {
   "metadata": {
    "ExecuteTime": {
     "end_time": "2025-06-15T17:50:33.299506Z",
     "start_time": "2025-06-15T17:50:33.291805Z"
    }
   },
   "cell_type": "code",
   "source": [
    "#train the model\n",
    "from sklearn.ensemble import RandomForestClassifier\n",
    "\n",
    "model2 = RandomForestClassifier()"
   ],
   "id": "d9cd76381c3a231f",
   "outputs": [],
   "execution_count": 133
  },
  {
   "metadata": {
    "ExecuteTime": {
     "end_time": "2025-06-15T17:50:37.789033Z",
     "start_time": "2025-06-15T17:50:36.647050Z"
    }
   },
   "cell_type": "code",
   "source": "model2.fit(X_train_scaled, y_train)",
   "id": "32d2aa05fc833a71",
   "outputs": [
    {
     "data": {
      "text/plain": [
       "RandomForestClassifier()"
      ],
      "text/html": [
       "<style>#sk-container-id-3 {\n",
       "  /* Definition of color scheme common for light and dark mode */\n",
       "  --sklearn-color-text: #000;\n",
       "  --sklearn-color-text-muted: #666;\n",
       "  --sklearn-color-line: gray;\n",
       "  /* Definition of color scheme for unfitted estimators */\n",
       "  --sklearn-color-unfitted-level-0: #fff5e6;\n",
       "  --sklearn-color-unfitted-level-1: #f6e4d2;\n",
       "  --sklearn-color-unfitted-level-2: #ffe0b3;\n",
       "  --sklearn-color-unfitted-level-3: chocolate;\n",
       "  /* Definition of color scheme for fitted estimators */\n",
       "  --sklearn-color-fitted-level-0: #f0f8ff;\n",
       "  --sklearn-color-fitted-level-1: #d4ebff;\n",
       "  --sklearn-color-fitted-level-2: #b3dbfd;\n",
       "  --sklearn-color-fitted-level-3: cornflowerblue;\n",
       "\n",
       "  /* Specific color for light theme */\n",
       "  --sklearn-color-text-on-default-background: var(--sg-text-color, var(--theme-code-foreground, var(--jp-content-font-color1, black)));\n",
       "  --sklearn-color-background: var(--sg-background-color, var(--theme-background, var(--jp-layout-color0, white)));\n",
       "  --sklearn-color-border-box: var(--sg-text-color, var(--theme-code-foreground, var(--jp-content-font-color1, black)));\n",
       "  --sklearn-color-icon: #696969;\n",
       "\n",
       "  @media (prefers-color-scheme: dark) {\n",
       "    /* Redefinition of color scheme for dark theme */\n",
       "    --sklearn-color-text-on-default-background: var(--sg-text-color, var(--theme-code-foreground, var(--jp-content-font-color1, white)));\n",
       "    --sklearn-color-background: var(--sg-background-color, var(--theme-background, var(--jp-layout-color0, #111)));\n",
       "    --sklearn-color-border-box: var(--sg-text-color, var(--theme-code-foreground, var(--jp-content-font-color1, white)));\n",
       "    --sklearn-color-icon: #878787;\n",
       "  }\n",
       "}\n",
       "\n",
       "#sk-container-id-3 {\n",
       "  color: var(--sklearn-color-text);\n",
       "}\n",
       "\n",
       "#sk-container-id-3 pre {\n",
       "  padding: 0;\n",
       "}\n",
       "\n",
       "#sk-container-id-3 input.sk-hidden--visually {\n",
       "  border: 0;\n",
       "  clip: rect(1px 1px 1px 1px);\n",
       "  clip: rect(1px, 1px, 1px, 1px);\n",
       "  height: 1px;\n",
       "  margin: -1px;\n",
       "  overflow: hidden;\n",
       "  padding: 0;\n",
       "  position: absolute;\n",
       "  width: 1px;\n",
       "}\n",
       "\n",
       "#sk-container-id-3 div.sk-dashed-wrapped {\n",
       "  border: 1px dashed var(--sklearn-color-line);\n",
       "  margin: 0 0.4em 0.5em 0.4em;\n",
       "  box-sizing: border-box;\n",
       "  padding-bottom: 0.4em;\n",
       "  background-color: var(--sklearn-color-background);\n",
       "}\n",
       "\n",
       "#sk-container-id-3 div.sk-container {\n",
       "  /* jupyter's `normalize.less` sets `[hidden] { display: none; }`\n",
       "     but bootstrap.min.css set `[hidden] { display: none !important; }`\n",
       "     so we also need the `!important` here to be able to override the\n",
       "     default hidden behavior on the sphinx rendered scikit-learn.org.\n",
       "     See: https://github.com/scikit-learn/scikit-learn/issues/21755 */\n",
       "  display: inline-block !important;\n",
       "  position: relative;\n",
       "}\n",
       "\n",
       "#sk-container-id-3 div.sk-text-repr-fallback {\n",
       "  display: none;\n",
       "}\n",
       "\n",
       "div.sk-parallel-item,\n",
       "div.sk-serial,\n",
       "div.sk-item {\n",
       "  /* draw centered vertical line to link estimators */\n",
       "  background-image: linear-gradient(var(--sklearn-color-text-on-default-background), var(--sklearn-color-text-on-default-background));\n",
       "  background-size: 2px 100%;\n",
       "  background-repeat: no-repeat;\n",
       "  background-position: center center;\n",
       "}\n",
       "\n",
       "/* Parallel-specific style estimator block */\n",
       "\n",
       "#sk-container-id-3 div.sk-parallel-item::after {\n",
       "  content: \"\";\n",
       "  width: 100%;\n",
       "  border-bottom: 2px solid var(--sklearn-color-text-on-default-background);\n",
       "  flex-grow: 1;\n",
       "}\n",
       "\n",
       "#sk-container-id-3 div.sk-parallel {\n",
       "  display: flex;\n",
       "  align-items: stretch;\n",
       "  justify-content: center;\n",
       "  background-color: var(--sklearn-color-background);\n",
       "  position: relative;\n",
       "}\n",
       "\n",
       "#sk-container-id-3 div.sk-parallel-item {\n",
       "  display: flex;\n",
       "  flex-direction: column;\n",
       "}\n",
       "\n",
       "#sk-container-id-3 div.sk-parallel-item:first-child::after {\n",
       "  align-self: flex-end;\n",
       "  width: 50%;\n",
       "}\n",
       "\n",
       "#sk-container-id-3 div.sk-parallel-item:last-child::after {\n",
       "  align-self: flex-start;\n",
       "  width: 50%;\n",
       "}\n",
       "\n",
       "#sk-container-id-3 div.sk-parallel-item:only-child::after {\n",
       "  width: 0;\n",
       "}\n",
       "\n",
       "/* Serial-specific style estimator block */\n",
       "\n",
       "#sk-container-id-3 div.sk-serial {\n",
       "  display: flex;\n",
       "  flex-direction: column;\n",
       "  align-items: center;\n",
       "  background-color: var(--sklearn-color-background);\n",
       "  padding-right: 1em;\n",
       "  padding-left: 1em;\n",
       "}\n",
       "\n",
       "\n",
       "/* Toggleable style: style used for estimator/Pipeline/ColumnTransformer box that is\n",
       "clickable and can be expanded/collapsed.\n",
       "- Pipeline and ColumnTransformer use this feature and define the default style\n",
       "- Estimators will overwrite some part of the style using the `sk-estimator` class\n",
       "*/\n",
       "\n",
       "/* Pipeline and ColumnTransformer style (default) */\n",
       "\n",
       "#sk-container-id-3 div.sk-toggleable {\n",
       "  /* Default theme specific background. It is overwritten whether we have a\n",
       "  specific estimator or a Pipeline/ColumnTransformer */\n",
       "  background-color: var(--sklearn-color-background);\n",
       "}\n",
       "\n",
       "/* Toggleable label */\n",
       "#sk-container-id-3 label.sk-toggleable__label {\n",
       "  cursor: pointer;\n",
       "  display: flex;\n",
       "  width: 100%;\n",
       "  margin-bottom: 0;\n",
       "  padding: 0.5em;\n",
       "  box-sizing: border-box;\n",
       "  text-align: center;\n",
       "  align-items: start;\n",
       "  justify-content: space-between;\n",
       "  gap: 0.5em;\n",
       "}\n",
       "\n",
       "#sk-container-id-3 label.sk-toggleable__label .caption {\n",
       "  font-size: 0.6rem;\n",
       "  font-weight: lighter;\n",
       "  color: var(--sklearn-color-text-muted);\n",
       "}\n",
       "\n",
       "#sk-container-id-3 label.sk-toggleable__label-arrow:before {\n",
       "  /* Arrow on the left of the label */\n",
       "  content: \"▸\";\n",
       "  float: left;\n",
       "  margin-right: 0.25em;\n",
       "  color: var(--sklearn-color-icon);\n",
       "}\n",
       "\n",
       "#sk-container-id-3 label.sk-toggleable__label-arrow:hover:before {\n",
       "  color: var(--sklearn-color-text);\n",
       "}\n",
       "\n",
       "/* Toggleable content - dropdown */\n",
       "\n",
       "#sk-container-id-3 div.sk-toggleable__content {\n",
       "  display: none;\n",
       "  text-align: left;\n",
       "  /* unfitted */\n",
       "  background-color: var(--sklearn-color-unfitted-level-0);\n",
       "}\n",
       "\n",
       "#sk-container-id-3 div.sk-toggleable__content.fitted {\n",
       "  /* fitted */\n",
       "  background-color: var(--sklearn-color-fitted-level-0);\n",
       "}\n",
       "\n",
       "#sk-container-id-3 div.sk-toggleable__content pre {\n",
       "  margin: 0.2em;\n",
       "  border-radius: 0.25em;\n",
       "  color: var(--sklearn-color-text);\n",
       "  /* unfitted */\n",
       "  background-color: var(--sklearn-color-unfitted-level-0);\n",
       "}\n",
       "\n",
       "#sk-container-id-3 div.sk-toggleable__content.fitted pre {\n",
       "  /* unfitted */\n",
       "  background-color: var(--sklearn-color-fitted-level-0);\n",
       "}\n",
       "\n",
       "#sk-container-id-3 input.sk-toggleable__control:checked~div.sk-toggleable__content {\n",
       "  /* Expand drop-down */\n",
       "  display: block;\n",
       "  width: 100%;\n",
       "  overflow: visible;\n",
       "}\n",
       "\n",
       "#sk-container-id-3 input.sk-toggleable__control:checked~label.sk-toggleable__label-arrow:before {\n",
       "  content: \"▾\";\n",
       "}\n",
       "\n",
       "/* Pipeline/ColumnTransformer-specific style */\n",
       "\n",
       "#sk-container-id-3 div.sk-label input.sk-toggleable__control:checked~label.sk-toggleable__label {\n",
       "  color: var(--sklearn-color-text);\n",
       "  background-color: var(--sklearn-color-unfitted-level-2);\n",
       "}\n",
       "\n",
       "#sk-container-id-3 div.sk-label.fitted input.sk-toggleable__control:checked~label.sk-toggleable__label {\n",
       "  background-color: var(--sklearn-color-fitted-level-2);\n",
       "}\n",
       "\n",
       "/* Estimator-specific style */\n",
       "\n",
       "/* Colorize estimator box */\n",
       "#sk-container-id-3 div.sk-estimator input.sk-toggleable__control:checked~label.sk-toggleable__label {\n",
       "  /* unfitted */\n",
       "  background-color: var(--sklearn-color-unfitted-level-2);\n",
       "}\n",
       "\n",
       "#sk-container-id-3 div.sk-estimator.fitted input.sk-toggleable__control:checked~label.sk-toggleable__label {\n",
       "  /* fitted */\n",
       "  background-color: var(--sklearn-color-fitted-level-2);\n",
       "}\n",
       "\n",
       "#sk-container-id-3 div.sk-label label.sk-toggleable__label,\n",
       "#sk-container-id-3 div.sk-label label {\n",
       "  /* The background is the default theme color */\n",
       "  color: var(--sklearn-color-text-on-default-background);\n",
       "}\n",
       "\n",
       "/* On hover, darken the color of the background */\n",
       "#sk-container-id-3 div.sk-label:hover label.sk-toggleable__label {\n",
       "  color: var(--sklearn-color-text);\n",
       "  background-color: var(--sklearn-color-unfitted-level-2);\n",
       "}\n",
       "\n",
       "/* Label box, darken color on hover, fitted */\n",
       "#sk-container-id-3 div.sk-label.fitted:hover label.sk-toggleable__label.fitted {\n",
       "  color: var(--sklearn-color-text);\n",
       "  background-color: var(--sklearn-color-fitted-level-2);\n",
       "}\n",
       "\n",
       "/* Estimator label */\n",
       "\n",
       "#sk-container-id-3 div.sk-label label {\n",
       "  font-family: monospace;\n",
       "  font-weight: bold;\n",
       "  display: inline-block;\n",
       "  line-height: 1.2em;\n",
       "}\n",
       "\n",
       "#sk-container-id-3 div.sk-label-container {\n",
       "  text-align: center;\n",
       "}\n",
       "\n",
       "/* Estimator-specific */\n",
       "#sk-container-id-3 div.sk-estimator {\n",
       "  font-family: monospace;\n",
       "  border: 1px dotted var(--sklearn-color-border-box);\n",
       "  border-radius: 0.25em;\n",
       "  box-sizing: border-box;\n",
       "  margin-bottom: 0.5em;\n",
       "  /* unfitted */\n",
       "  background-color: var(--sklearn-color-unfitted-level-0);\n",
       "}\n",
       "\n",
       "#sk-container-id-3 div.sk-estimator.fitted {\n",
       "  /* fitted */\n",
       "  background-color: var(--sklearn-color-fitted-level-0);\n",
       "}\n",
       "\n",
       "/* on hover */\n",
       "#sk-container-id-3 div.sk-estimator:hover {\n",
       "  /* unfitted */\n",
       "  background-color: var(--sklearn-color-unfitted-level-2);\n",
       "}\n",
       "\n",
       "#sk-container-id-3 div.sk-estimator.fitted:hover {\n",
       "  /* fitted */\n",
       "  background-color: var(--sklearn-color-fitted-level-2);\n",
       "}\n",
       "\n",
       "/* Specification for estimator info (e.g. \"i\" and \"?\") */\n",
       "\n",
       "/* Common style for \"i\" and \"?\" */\n",
       "\n",
       ".sk-estimator-doc-link,\n",
       "a:link.sk-estimator-doc-link,\n",
       "a:visited.sk-estimator-doc-link {\n",
       "  float: right;\n",
       "  font-size: smaller;\n",
       "  line-height: 1em;\n",
       "  font-family: monospace;\n",
       "  background-color: var(--sklearn-color-background);\n",
       "  border-radius: 1em;\n",
       "  height: 1em;\n",
       "  width: 1em;\n",
       "  text-decoration: none !important;\n",
       "  margin-left: 0.5em;\n",
       "  text-align: center;\n",
       "  /* unfitted */\n",
       "  border: var(--sklearn-color-unfitted-level-1) 1pt solid;\n",
       "  color: var(--sklearn-color-unfitted-level-1);\n",
       "}\n",
       "\n",
       ".sk-estimator-doc-link.fitted,\n",
       "a:link.sk-estimator-doc-link.fitted,\n",
       "a:visited.sk-estimator-doc-link.fitted {\n",
       "  /* fitted */\n",
       "  border: var(--sklearn-color-fitted-level-1) 1pt solid;\n",
       "  color: var(--sklearn-color-fitted-level-1);\n",
       "}\n",
       "\n",
       "/* On hover */\n",
       "div.sk-estimator:hover .sk-estimator-doc-link:hover,\n",
       ".sk-estimator-doc-link:hover,\n",
       "div.sk-label-container:hover .sk-estimator-doc-link:hover,\n",
       ".sk-estimator-doc-link:hover {\n",
       "  /* unfitted */\n",
       "  background-color: var(--sklearn-color-unfitted-level-3);\n",
       "  color: var(--sklearn-color-background);\n",
       "  text-decoration: none;\n",
       "}\n",
       "\n",
       "div.sk-estimator.fitted:hover .sk-estimator-doc-link.fitted:hover,\n",
       ".sk-estimator-doc-link.fitted:hover,\n",
       "div.sk-label-container:hover .sk-estimator-doc-link.fitted:hover,\n",
       ".sk-estimator-doc-link.fitted:hover {\n",
       "  /* fitted */\n",
       "  background-color: var(--sklearn-color-fitted-level-3);\n",
       "  color: var(--sklearn-color-background);\n",
       "  text-decoration: none;\n",
       "}\n",
       "\n",
       "/* Span, style for the box shown on hovering the info icon */\n",
       ".sk-estimator-doc-link span {\n",
       "  display: none;\n",
       "  z-index: 9999;\n",
       "  position: relative;\n",
       "  font-weight: normal;\n",
       "  right: .2ex;\n",
       "  padding: .5ex;\n",
       "  margin: .5ex;\n",
       "  width: min-content;\n",
       "  min-width: 20ex;\n",
       "  max-width: 50ex;\n",
       "  color: var(--sklearn-color-text);\n",
       "  box-shadow: 2pt 2pt 4pt #999;\n",
       "  /* unfitted */\n",
       "  background: var(--sklearn-color-unfitted-level-0);\n",
       "  border: .5pt solid var(--sklearn-color-unfitted-level-3);\n",
       "}\n",
       "\n",
       ".sk-estimator-doc-link.fitted span {\n",
       "  /* fitted */\n",
       "  background: var(--sklearn-color-fitted-level-0);\n",
       "  border: var(--sklearn-color-fitted-level-3);\n",
       "}\n",
       "\n",
       ".sk-estimator-doc-link:hover span {\n",
       "  display: block;\n",
       "}\n",
       "\n",
       "/* \"?\"-specific style due to the `<a>` HTML tag */\n",
       "\n",
       "#sk-container-id-3 a.estimator_doc_link {\n",
       "  float: right;\n",
       "  font-size: 1rem;\n",
       "  line-height: 1em;\n",
       "  font-family: monospace;\n",
       "  background-color: var(--sklearn-color-background);\n",
       "  border-radius: 1rem;\n",
       "  height: 1rem;\n",
       "  width: 1rem;\n",
       "  text-decoration: none;\n",
       "  /* unfitted */\n",
       "  color: var(--sklearn-color-unfitted-level-1);\n",
       "  border: var(--sklearn-color-unfitted-level-1) 1pt solid;\n",
       "}\n",
       "\n",
       "#sk-container-id-3 a.estimator_doc_link.fitted {\n",
       "  /* fitted */\n",
       "  border: var(--sklearn-color-fitted-level-1) 1pt solid;\n",
       "  color: var(--sklearn-color-fitted-level-1);\n",
       "}\n",
       "\n",
       "/* On hover */\n",
       "#sk-container-id-3 a.estimator_doc_link:hover {\n",
       "  /* unfitted */\n",
       "  background-color: var(--sklearn-color-unfitted-level-3);\n",
       "  color: var(--sklearn-color-background);\n",
       "  text-decoration: none;\n",
       "}\n",
       "\n",
       "#sk-container-id-3 a.estimator_doc_link.fitted:hover {\n",
       "  /* fitted */\n",
       "  background-color: var(--sklearn-color-fitted-level-3);\n",
       "}\n",
       "\n",
       ".estimator-table summary {\n",
       "    padding: .5rem;\n",
       "    font-family: monospace;\n",
       "    cursor: pointer;\n",
       "}\n",
       "\n",
       ".estimator-table details[open] {\n",
       "    padding-left: 0.1rem;\n",
       "    padding-right: 0.1rem;\n",
       "    padding-bottom: 0.3rem;\n",
       "}\n",
       "\n",
       ".estimator-table .parameters-table {\n",
       "    margin-left: auto !important;\n",
       "    margin-right: auto !important;\n",
       "}\n",
       "\n",
       ".estimator-table .parameters-table tr:nth-child(odd) {\n",
       "    background-color: #fff;\n",
       "}\n",
       "\n",
       ".estimator-table .parameters-table tr:nth-child(even) {\n",
       "    background-color: #f6f6f6;\n",
       "}\n",
       "\n",
       ".estimator-table .parameters-table tr:hover {\n",
       "    background-color: #e0e0e0;\n",
       "}\n",
       "\n",
       ".estimator-table table td {\n",
       "    border: 1px solid rgba(106, 105, 104, 0.232);\n",
       "}\n",
       "\n",
       ".user-set td {\n",
       "    color:rgb(255, 94, 0);\n",
       "    text-align: left;\n",
       "}\n",
       "\n",
       ".user-set td.value pre {\n",
       "    color:rgb(255, 94, 0) !important;\n",
       "    background-color: transparent !important;\n",
       "}\n",
       "\n",
       ".default td {\n",
       "    color: black;\n",
       "    text-align: left;\n",
       "}\n",
       "\n",
       ".user-set td i,\n",
       ".default td i {\n",
       "    color: black;\n",
       "}\n",
       "\n",
       ".copy-paste-icon {\n",
       "    background-image: url(data:image/svg+xml;base64,PHN2ZyB4bWxucz0iaHR0cDovL3d3dy53My5vcmcvMjAwMC9zdmciIHZpZXdCb3g9IjAgMCA0NDggNTEyIj48IS0tIUZvbnQgQXdlc29tZSBGcmVlIDYuNy4yIGJ5IEBmb250YXdlc29tZSAtIGh0dHBzOi8vZm9udGF3ZXNvbWUuY29tIExpY2Vuc2UgLSBodHRwczovL2ZvbnRhd2Vzb21lLmNvbS9saWNlbnNlL2ZyZWUgQ29weXJpZ2h0IDIwMjUgRm9udGljb25zLCBJbmMuLS0+PHBhdGggZD0iTTIwOCAwTDMzMi4xIDBjMTIuNyAwIDI0LjkgNS4xIDMzLjkgMTQuMWw2Ny45IDY3LjljOSA5IDE0LjEgMjEuMiAxNC4xIDMzLjlMNDQ4IDMzNmMwIDI2LjUtMjEuNSA0OC00OCA0OGwtMTkyIDBjLTI2LjUgMC00OC0yMS41LTQ4LTQ4bDAtMjg4YzAtMjYuNSAyMS41LTQ4IDQ4LTQ4ek00OCAxMjhsODAgMCAwIDY0LTY0IDAgMCAyNTYgMTkyIDAgMC0zMiA2NCAwIDAgNDhjMCAyNi41LTIxLjUgNDgtNDggNDhMNDggNTEyYy0yNi41IDAtNDgtMjEuNS00OC00OEwwIDE3NmMwLTI2LjUgMjEuNS00OCA0OC00OHoiLz48L3N2Zz4=);\n",
       "    background-repeat: no-repeat;\n",
       "    background-size: 14px 14px;\n",
       "    background-position: 0;\n",
       "    display: inline-block;\n",
       "    width: 14px;\n",
       "    height: 14px;\n",
       "    cursor: pointer;\n",
       "}\n",
       "</style><body><div id=\"sk-container-id-3\" class=\"sk-top-container\"><div class=\"sk-text-repr-fallback\"><pre>RandomForestClassifier()</pre><b>In a Jupyter environment, please rerun this cell to show the HTML representation or trust the notebook. <br />On GitHub, the HTML representation is unable to render, please try loading this page with nbviewer.org.</b></div><div class=\"sk-container\" hidden><div class=\"sk-item\"><div class=\"sk-estimator fitted sk-toggleable\"><input class=\"sk-toggleable__control sk-hidden--visually\" id=\"sk-estimator-id-3\" type=\"checkbox\" checked><label for=\"sk-estimator-id-3\" class=\"sk-toggleable__label fitted sk-toggleable__label-arrow\"><div><div>RandomForestClassifier</div></div><div><a class=\"sk-estimator-doc-link fitted\" rel=\"noreferrer\" target=\"_blank\" href=\"https://scikit-learn.org/1.7/modules/generated/sklearn.ensemble.RandomForestClassifier.html\">?<span>Documentation for RandomForestClassifier</span></a><span class=\"sk-estimator-doc-link fitted\">i<span>Fitted</span></span></div></label><div class=\"sk-toggleable__content fitted\" data-param-prefix=\"\">\n",
       "        <div class=\"estimator-table\">\n",
       "            <details>\n",
       "                <summary>Parameters</summary>\n",
       "                <table class=\"parameters-table\">\n",
       "                  <tbody>\n",
       "                    \n",
       "        <tr class=\"default\">\n",
       "            <td><i class=\"copy-paste-icon\"\n",
       "                 onclick=\"copyToClipboard('n_estimators',\n",
       "                          this.parentElement.nextElementSibling)\"\n",
       "            ></i></td>\n",
       "            <td class=\"param\">n_estimators&nbsp;</td>\n",
       "            <td class=\"value\">100</td>\n",
       "        </tr>\n",
       "    \n",
       "\n",
       "        <tr class=\"default\">\n",
       "            <td><i class=\"copy-paste-icon\"\n",
       "                 onclick=\"copyToClipboard('criterion',\n",
       "                          this.parentElement.nextElementSibling)\"\n",
       "            ></i></td>\n",
       "            <td class=\"param\">criterion&nbsp;</td>\n",
       "            <td class=\"value\">&#x27;gini&#x27;</td>\n",
       "        </tr>\n",
       "    \n",
       "\n",
       "        <tr class=\"default\">\n",
       "            <td><i class=\"copy-paste-icon\"\n",
       "                 onclick=\"copyToClipboard('max_depth',\n",
       "                          this.parentElement.nextElementSibling)\"\n",
       "            ></i></td>\n",
       "            <td class=\"param\">max_depth&nbsp;</td>\n",
       "            <td class=\"value\">None</td>\n",
       "        </tr>\n",
       "    \n",
       "\n",
       "        <tr class=\"default\">\n",
       "            <td><i class=\"copy-paste-icon\"\n",
       "                 onclick=\"copyToClipboard('min_samples_split',\n",
       "                          this.parentElement.nextElementSibling)\"\n",
       "            ></i></td>\n",
       "            <td class=\"param\">min_samples_split&nbsp;</td>\n",
       "            <td class=\"value\">2</td>\n",
       "        </tr>\n",
       "    \n",
       "\n",
       "        <tr class=\"default\">\n",
       "            <td><i class=\"copy-paste-icon\"\n",
       "                 onclick=\"copyToClipboard('min_samples_leaf',\n",
       "                          this.parentElement.nextElementSibling)\"\n",
       "            ></i></td>\n",
       "            <td class=\"param\">min_samples_leaf&nbsp;</td>\n",
       "            <td class=\"value\">1</td>\n",
       "        </tr>\n",
       "    \n",
       "\n",
       "        <tr class=\"default\">\n",
       "            <td><i class=\"copy-paste-icon\"\n",
       "                 onclick=\"copyToClipboard('min_weight_fraction_leaf',\n",
       "                          this.parentElement.nextElementSibling)\"\n",
       "            ></i></td>\n",
       "            <td class=\"param\">min_weight_fraction_leaf&nbsp;</td>\n",
       "            <td class=\"value\">0.0</td>\n",
       "        </tr>\n",
       "    \n",
       "\n",
       "        <tr class=\"default\">\n",
       "            <td><i class=\"copy-paste-icon\"\n",
       "                 onclick=\"copyToClipboard('max_features',\n",
       "                          this.parentElement.nextElementSibling)\"\n",
       "            ></i></td>\n",
       "            <td class=\"param\">max_features&nbsp;</td>\n",
       "            <td class=\"value\">&#x27;sqrt&#x27;</td>\n",
       "        </tr>\n",
       "    \n",
       "\n",
       "        <tr class=\"default\">\n",
       "            <td><i class=\"copy-paste-icon\"\n",
       "                 onclick=\"copyToClipboard('max_leaf_nodes',\n",
       "                          this.parentElement.nextElementSibling)\"\n",
       "            ></i></td>\n",
       "            <td class=\"param\">max_leaf_nodes&nbsp;</td>\n",
       "            <td class=\"value\">None</td>\n",
       "        </tr>\n",
       "    \n",
       "\n",
       "        <tr class=\"default\">\n",
       "            <td><i class=\"copy-paste-icon\"\n",
       "                 onclick=\"copyToClipboard('min_impurity_decrease',\n",
       "                          this.parentElement.nextElementSibling)\"\n",
       "            ></i></td>\n",
       "            <td class=\"param\">min_impurity_decrease&nbsp;</td>\n",
       "            <td class=\"value\">0.0</td>\n",
       "        </tr>\n",
       "    \n",
       "\n",
       "        <tr class=\"default\">\n",
       "            <td><i class=\"copy-paste-icon\"\n",
       "                 onclick=\"copyToClipboard('bootstrap',\n",
       "                          this.parentElement.nextElementSibling)\"\n",
       "            ></i></td>\n",
       "            <td class=\"param\">bootstrap&nbsp;</td>\n",
       "            <td class=\"value\">True</td>\n",
       "        </tr>\n",
       "    \n",
       "\n",
       "        <tr class=\"default\">\n",
       "            <td><i class=\"copy-paste-icon\"\n",
       "                 onclick=\"copyToClipboard('oob_score',\n",
       "                          this.parentElement.nextElementSibling)\"\n",
       "            ></i></td>\n",
       "            <td class=\"param\">oob_score&nbsp;</td>\n",
       "            <td class=\"value\">False</td>\n",
       "        </tr>\n",
       "    \n",
       "\n",
       "        <tr class=\"default\">\n",
       "            <td><i class=\"copy-paste-icon\"\n",
       "                 onclick=\"copyToClipboard('n_jobs',\n",
       "                          this.parentElement.nextElementSibling)\"\n",
       "            ></i></td>\n",
       "            <td class=\"param\">n_jobs&nbsp;</td>\n",
       "            <td class=\"value\">None</td>\n",
       "        </tr>\n",
       "    \n",
       "\n",
       "        <tr class=\"default\">\n",
       "            <td><i class=\"copy-paste-icon\"\n",
       "                 onclick=\"copyToClipboard('random_state',\n",
       "                          this.parentElement.nextElementSibling)\"\n",
       "            ></i></td>\n",
       "            <td class=\"param\">random_state&nbsp;</td>\n",
       "            <td class=\"value\">None</td>\n",
       "        </tr>\n",
       "    \n",
       "\n",
       "        <tr class=\"default\">\n",
       "            <td><i class=\"copy-paste-icon\"\n",
       "                 onclick=\"copyToClipboard('verbose',\n",
       "                          this.parentElement.nextElementSibling)\"\n",
       "            ></i></td>\n",
       "            <td class=\"param\">verbose&nbsp;</td>\n",
       "            <td class=\"value\">0</td>\n",
       "        </tr>\n",
       "    \n",
       "\n",
       "        <tr class=\"default\">\n",
       "            <td><i class=\"copy-paste-icon\"\n",
       "                 onclick=\"copyToClipboard('warm_start',\n",
       "                          this.parentElement.nextElementSibling)\"\n",
       "            ></i></td>\n",
       "            <td class=\"param\">warm_start&nbsp;</td>\n",
       "            <td class=\"value\">False</td>\n",
       "        </tr>\n",
       "    \n",
       "\n",
       "        <tr class=\"default\">\n",
       "            <td><i class=\"copy-paste-icon\"\n",
       "                 onclick=\"copyToClipboard('class_weight',\n",
       "                          this.parentElement.nextElementSibling)\"\n",
       "            ></i></td>\n",
       "            <td class=\"param\">class_weight&nbsp;</td>\n",
       "            <td class=\"value\">None</td>\n",
       "        </tr>\n",
       "    \n",
       "\n",
       "        <tr class=\"default\">\n",
       "            <td><i class=\"copy-paste-icon\"\n",
       "                 onclick=\"copyToClipboard('ccp_alpha',\n",
       "                          this.parentElement.nextElementSibling)\"\n",
       "            ></i></td>\n",
       "            <td class=\"param\">ccp_alpha&nbsp;</td>\n",
       "            <td class=\"value\">0.0</td>\n",
       "        </tr>\n",
       "    \n",
       "\n",
       "        <tr class=\"default\">\n",
       "            <td><i class=\"copy-paste-icon\"\n",
       "                 onclick=\"copyToClipboard('max_samples',\n",
       "                          this.parentElement.nextElementSibling)\"\n",
       "            ></i></td>\n",
       "            <td class=\"param\">max_samples&nbsp;</td>\n",
       "            <td class=\"value\">None</td>\n",
       "        </tr>\n",
       "    \n",
       "\n",
       "        <tr class=\"default\">\n",
       "            <td><i class=\"copy-paste-icon\"\n",
       "                 onclick=\"copyToClipboard('monotonic_cst',\n",
       "                          this.parentElement.nextElementSibling)\"\n",
       "            ></i></td>\n",
       "            <td class=\"param\">monotonic_cst&nbsp;</td>\n",
       "            <td class=\"value\">None</td>\n",
       "        </tr>\n",
       "    \n",
       "                  </tbody>\n",
       "                </table>\n",
       "            </details>\n",
       "        </div>\n",
       "    </div></div></div></div></div><script>function copyToClipboard(text, element) {\n",
       "    // Get the parameter prefix from the closest toggleable content\n",
       "    const toggleableContent = element.closest('.sk-toggleable__content');\n",
       "    const paramPrefix = toggleableContent ? toggleableContent.dataset.paramPrefix : '';\n",
       "    const fullParamName = paramPrefix ? `${paramPrefix}${text}` : text;\n",
       "\n",
       "    const originalStyle = element.style;\n",
       "    const computedStyle = window.getComputedStyle(element);\n",
       "    const originalWidth = computedStyle.width;\n",
       "    const originalHTML = element.innerHTML.replace('Copied!', '');\n",
       "\n",
       "    navigator.clipboard.writeText(fullParamName)\n",
       "        .then(() => {\n",
       "            element.style.width = originalWidth;\n",
       "            element.style.color = 'green';\n",
       "            element.innerHTML = \"Copied!\";\n",
       "\n",
       "            setTimeout(() => {\n",
       "                element.innerHTML = originalHTML;\n",
       "                element.style = originalStyle;\n",
       "            }, 2000);\n",
       "        })\n",
       "        .catch(err => {\n",
       "            console.error('Failed to copy:', err);\n",
       "            element.style.color = 'red';\n",
       "            element.innerHTML = \"Failed!\";\n",
       "            setTimeout(() => {\n",
       "                element.innerHTML = originalHTML;\n",
       "                element.style = originalStyle;\n",
       "            }, 2000);\n",
       "        });\n",
       "    return false;\n",
       "}\n",
       "\n",
       "document.querySelectorAll('.fa-regular.fa-copy').forEach(function(element) {\n",
       "    const toggleableContent = element.closest('.sk-toggleable__content');\n",
       "    const paramPrefix = toggleableContent ? toggleableContent.dataset.paramPrefix : '';\n",
       "    const paramName = element.parentElement.nextElementSibling.textContent.trim();\n",
       "    const fullParamName = paramPrefix ? `${paramPrefix}${paramName}` : paramName;\n",
       "\n",
       "    element.setAttribute('title', fullParamName);\n",
       "});\n",
       "</script></body>"
      ]
     },
     "execution_count": 134,
     "metadata": {},
     "output_type": "execute_result"
    }
   ],
   "execution_count": 134
  },
  {
   "metadata": {
    "ExecuteTime": {
     "end_time": "2025-06-15T17:50:42.608059Z",
     "start_time": "2025-06-15T17:50:42.546313Z"
    }
   },
   "cell_type": "code",
   "source": [
    "#predict the target variable\n",
    "predicted = model2.predict(X_test_scaled)"
   ],
   "id": "79c18ce76e31826e",
   "outputs": [],
   "execution_count": 135
  },
  {
   "metadata": {
    "ExecuteTime": {
     "end_time": "2025-06-15T17:50:45.837105Z",
     "start_time": "2025-06-15T17:50:45.798439Z"
    }
   },
   "cell_type": "code",
   "source": [
    "#evaluate the model\n",
    "from sklearn.metrics import accuracy_score\n",
    "\n",
    "accuracy = accuracy_score(y_test, predicted)\n",
    "print('Accuracy:', accuracy)"
   ],
   "id": "f1260bb815af05a7",
   "outputs": [
    {
     "name": "stdout",
     "output_type": "stream",
     "text": [
      "Accuracy: 0.8640350877192983\n"
     ]
    }
   ],
   "execution_count": 136
  },
  {
   "metadata": {
    "ExecuteTime": {
     "end_time": "2025-06-15T17:50:47.264169Z",
     "start_time": "2025-06-15T17:50:47.140339Z"
    }
   },
   "cell_type": "code",
   "source": [
    "#classification report\n",
    "from sklearn.metrics import classification_report\n",
    "print(classification_report(y_test, predicted))"
   ],
   "id": "29071f8f256b614d",
   "outputs": [
    {
     "name": "stdout",
     "output_type": "stream",
     "text": [
      "              precision    recall  f1-score   support\n",
      "\n",
      "           0       0.88      0.95      0.92       711\n",
      "           1       0.77      0.54      0.64       201\n",
      "\n",
      "    accuracy                           0.86       912\n",
      "   macro avg       0.83      0.75      0.78       912\n",
      "weighted avg       0.86      0.86      0.85       912\n",
      "\n"
     ]
    }
   ],
   "execution_count": 137
  },
  {
   "metadata": {
    "ExecuteTime": {
     "end_time": "2025-06-15T17:50:48.191737Z",
     "start_time": "2025-06-15T17:50:48.139183Z"
    }
   },
   "cell_type": "code",
   "source": [
    "# confusion matrix\n",
    "from sklearn.metrics import confusion_matrix\n",
    "confusion_matrix(y_test, predicted)"
   ],
   "id": "9eb804b55091b61",
   "outputs": [
    {
     "data": {
      "text/plain": [
       "array([[679,  32],\n",
       "       [ 92, 109]])"
      ]
     },
     "execution_count": 138,
     "metadata": {},
     "output_type": "execute_result"
    }
   ],
   "execution_count": 138
  },
  {
   "metadata": {
    "ExecuteTime": {
     "end_time": "2025-06-15T17:53:44.094769Z",
     "start_time": "2025-06-15T17:53:43.910414Z"
    }
   },
   "cell_type": "code",
   "source": [
    "#save the model\n",
    "\n",
    "jl.dump(model2, 'rain_model2.pkl')"
   ],
   "id": "fd2f246a01b34328",
   "outputs": [
    {
     "data": {
      "text/plain": [
       "['rain_model2.pkl']"
      ]
     },
     "execution_count": 140,
     "metadata": {},
     "output_type": "execute_result"
    }
   ],
   "execution_count": 140
  },
  {
   "metadata": {},
   "cell_type": "code",
   "outputs": [],
   "execution_count": null,
   "source": "",
   "id": "9dfe69332203c942"
  }
 ],
 "metadata": {
  "kernelspec": {
   "display_name": "Python 3",
   "language": "python",
   "name": "python3"
  },
  "language_info": {
   "codemirror_mode": {
    "name": "ipython",
    "version": 2
   },
   "file_extension": ".py",
   "mimetype": "text/x-python",
   "name": "python",
   "nbconvert_exporter": "python",
   "pygments_lexer": "ipython2",
   "version": "2.7.6"
  }
 },
 "nbformat": 4,
 "nbformat_minor": 5
}
